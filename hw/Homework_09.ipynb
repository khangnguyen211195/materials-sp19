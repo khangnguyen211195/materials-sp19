{
 "cells": [
  {
   "cell_type": "markdown",
   "metadata": {},
   "source": [
    "<table align=\"left\" style=\"border-style: hidden\" class=\"table\"> <tr><td class=\"col-md-2\"><img style=\"float\" src=\"http://prob140.org/assets/icon256.png\" alt=\"Prob140 Logo\" style=\"width: 120px;\"/></td><td><div align=\"left\"><h3 style=\"margin-top: 0;\">Probability for Data Science</h3><h4 style=\"margin-top: 20px;\">UC Berkeley, Spring 2019</h4><p>Ani Adhikari and Jim Pitman</p>CC BY-NC 4.0</div></td></tr></table><!-- not in pdf -->"
   ]
  },
  {
   "cell_type": "markdown",
   "metadata": {
    "#solution": false,
    "#staff": false,
    "#student": false
   },
   "source": [
    "# Homework 9"
   ]
  },
  {
   "cell_type": "markdown",
   "metadata": {
    "#solution": false,
    "#staff": false,
    "#student": false
   },
   "source": [
    "### Instructions\n",
    "\n",
    "Your homeworks have two components: a written portion and a portion that also involves code.  Written work should be completed on paper, and coding questions should be done in the notebook.  You are welcome to LaTeX your answers to the written portions, but staff will not be able to assist you with LaTeX related issues. It is your responsibility to ensure that both components of the homework are submitted completely and properly to Gradescope. Refer to the bottom of the notebook for submission instructions."
   ]
  },
  {
   "cell_type": "code",
   "execution_count": null,
   "metadata": {
    "#solution": false,
    "#staff": false,
    "#student": false
   },
   "outputs": [],
   "source": [
    "# HIDDEN\n",
    "from datascience import *\n",
    "from prob140 import *\n",
    "import numpy as np\n",
    "import matplotlib.pyplot as plt\n",
    "plt.style.use('fivethirtyeight')\n",
    "%matplotlib inline\n",
    "import math\n",
    "from scipy import stats"
   ]
  },
  {
   "cell_type": "markdown",
   "metadata": {
    "#solution": false,
    "#staff": false,
    "#student": false
   },
   "source": [
    "### 1. Peter Meets Paul ###\n",
    "Peter and Paul agree to meet at a restaurant at noon. Peter arrives at time normally distributed with mean 12:00 noon and SD 5 minutes. Paul arrives at a time normally distributed with mean 12:02 P.M. and SD 3 minutes. \n",
    "\n",
    "Find the chances below assuming that the two arrival times are independent. First, write a formula for the chance in terms of the standard normal cdf $\\Phi$. Then use a code cell to find the numerical value. You do not have to turn in any coding work for this question.\n",
    "\n",
    "\n",
    "**a)** $P(\\text{Peter arrives before Paul})$\n",
    "\n",
    "\n",
    "**b)** $P(\\text{both men arrive within 3 minutes of noon})$\n",
    "\n",
    "**c)** $P(\\text{the two men arrive within 3 minutes of each other})$\n"
   ]
  },
  {
   "cell_type": "code",
   "execution_count": null,
   "metadata": {
    "#solution": false,
    "#staff": false,
    "#student": true
   },
   "outputs": [],
   "source": [
    "# Calculation for 1a\n",
    "..."
   ]
  },
  {
   "cell_type": "code",
   "execution_count": null,
   "metadata": {
    "#solution": false,
    "#staff": false,
    "#student": true
   },
   "outputs": [],
   "source": [
    "# Calculation for 1b\n",
    "..."
   ]
  },
  {
   "cell_type": "code",
   "execution_count": null,
   "metadata": {
    "#solution": false,
    "#staff": false,
    "#student": true
   },
   "outputs": [],
   "source": [
    "# Calculation for 1c\n",
    "..."
   ]
  },
  {
   "cell_type": "markdown",
   "metadata": {
    "#solution": false,
    "#staff": false,
    "#student": false
   },
   "source": [
    "### 2. Slices of a Normal Cake ###\n",
    "Let $X$ and $Y$ be independent standard normal random variables.\n",
    "\n",
    "**a)** Find $P(X > 0, Y > 0)$. \n",
    "\n",
    "Yes, it's easy. But get a piece of paper and draw the event on the plane anyway. Imagine the joint density surface over the plane, and try to imagine the relevant volume under the joint density surface as a quadrant-shaped slice of a bell-shaped cake.\n",
    "\n",
    "**b)** Find $P(X > 0, Y > X)$.\n",
    "\n",
    "**c)** Find $P(X > 0, Y > \\sqrt{3}X)$."
   ]
  },
  {
   "cell_type": "markdown",
   "metadata": {
    "#solution": false,
    "#staff": false,
    "#student": false
   },
   "source": [
    "### 3.  Distance Between Two Normal Points ###\n",
    "Suppose two shots are fired at a target. Assume each shot hits with independent normally distributed coordinates, with the same means and equal unit variances. Let $D$ be the distance between the point where the two shots strike.\n",
    "\n",
    "**a)** Find $E(D)$. Your calculation will go faster if you remember that a normal $(0, \\sigma^2)$ variable can be written as $\\sigma Z$ where $Z$ is standard normal.\n",
    "\n",
    "**b)** Find $Var(D)$."
   ]
  },
  {
   "cell_type": "markdown",
   "metadata": {
    "#solution": false,
    "#staff": false,
    "#student": false
   },
   "source": [
    "### 4. Min and Max of IID Uniforms ###\n",
    "Let $U_1, U_2, \\ldots, U_n$ be i.i.d. uniform on $(0, 1)$. Let $U_{(1)}$ and $U_{(n)}$ be the minimum and maximum of $U_1, U_2, \\ldots, U_n$.\n",
    "\n",
    "**a)** Find the joint density of $U_{(1)}$ and $U_{(n)}$.\n",
    "\n",
    "**b)** Find the density of $U_{(1)}$.\n",
    "\n",
    "**c)** Fix $x \\in (0, 1)$ and find the conditional density of $U_{(n)}$ given $U_{(1)} = x$.\n",
    "\n",
    "**d)** For fixed $x \\in (0, 1)$, let $X_1, X_2, \\ldots, X_{n-1}$ be $n-1$ i.i.d. uniform $(x, 1)$ random variables. Find the density of $M = \\max\\{X_1, X_2, \\ldots, X_{n-1}\\}$ and compare it to your answer to Part **c**.\n",
    "\n",
    "**e)** The random variable $R_n = U_{(n)} - U_{(1)}$ is called the *range* of the sample $U_1, U_2, \\ldots, U_n$. Find $E(R_n)$."
   ]
  },
  {
   "cell_type": "markdown",
   "metadata": {
    "#solution": false,
    "#staff": false,
    "#student": false
   },
   "source": [
    "### 5. Poisson MGF ###\n",
    "Let $X$ have Poisson($\\mu$) distribution, and let $Y$ independent of $X$ have Poisson $(\\lambda)$ distribution.\n",
    "\n",
    "**a)** Find the mgf of $X$.\n",
    "\n",
    "**b)** Use the result of (a) to show that the distribution of $X+Y$ is Poisson."
   ]
  },
  {
   "cell_type": "markdown",
   "metadata": {
    "#solution": false,
    "#staff": false,
    "#student": false
   },
   "source": [
    "### 6. Gamma Tail Bound ###\n",
    "Let $X$ have the gamma $(r, \\lambda)$ distribution. \n",
    "\n",
    "**a)** Show that $P(X \\ge 2E(X)) \\le (2/e)^r$.\n",
    "\n",
    "[Remember that if $h$ is a positive function of $x$, then the value of $x$ that minimizes $h$ is the same as the value of $x$ that minimizes $\\log(h)$.]\n",
    "\n",
    "**b) [CODE]** Fix $\\lambda = 1$. Display overlaid plots of the following three graphs as functions of $r$, for $r$ in the interval (0.5, 15)$ :\n",
    "\n",
    "- $P(X \\ge 2E(X))$\n",
    "- $(2/e)^r$\n",
    "- Markov's bound on $P(X \\ge 2E(X))$\n",
    "\n",
    "The code uses `plt.plot` which is also used in Lab 9. The expression `stats.gamma.cdf(x, r, scale=1)` evaluates to the cdf of the gamma $(r, 1)$ distribution at the point $x$."
   ]
  },
  {
   "cell_type": "code",
   "execution_count": null,
   "metadata": {
    "#solution": false,
    "#staff": false,
    "#student": true
   },
   "outputs": [],
   "source": [
    "# Answer to 6b\n",
    "r = np.arange(0.05, 15, 0.1) \n",
    "\n",
    "markov_bound = ...\n",
    "\n",
    "part_a_bound = ...\n",
    "\n",
    "exact = ...\n",
    "...\n",
    "\n",
    "plt.plot(r, exact, lw=2, label='Exact Chance')\n",
    "plt.plot(r, part_a_bound, lw=2, label='Part (a) Bound')\n",
    "plt.plot(r, markov_bound, lw=2, label='Markov Bound')\n",
    "plt.legend()\n",
    "plt.xlim(0, 15);"
   ]
  },
  {
   "cell_type": "markdown",
   "metadata": {
    "#solution": false,
    "#staff": false,
    "#student": false
   },
   "source": [
    "**c)** For which values of $r$ is the bound in part (a) better than Markov's bound? Show the analytical calculation. Then use a code cell to find the numerical range and confirm that it is consistent with the graphs in (b)."
   ]
  },
  {
   "cell_type": "code",
   "execution_count": null,
   "metadata": {
    "#solution": false,
    "#staff": false,
    "#student": true
   },
   "outputs": [],
   "source": [
    "# Calculation for 6c\n",
    "..."
   ]
  },
  {
   "cell_type": "markdown",
   "metadata": {
    "#solution": false,
    "#staff": false,
    "#student": false
   },
   "source": [
    "## Submission Instructions ##\n",
    "\n",
    "Many assignments throughout the course will have a written portion and a code portion. Please follow the directions below to properly submit both portions.\n",
    "\n",
    "### Written Portion ###\n",
    "*  Scan all the pages into a PDF. You can use any scanner or a phone using applications such as CamScanner. Please **DO NOT** simply take pictures using your phone. \n",
    "* Please start a new page for each question. If you have already written multiple questions on the same page, you can crop the image in CamScanner or fold your page over (the old-fashioned way). This helps expedite grading.\n",
    "* It is your responsibility to check that all the work on all the scanned pages is legible.\n",
    "\n",
    "### Code Portion ###\n",
    "* **Save your notebook using File > Save and Checkpoint.**\n",
    "* Run the cell below to generate a PDF file.\n",
    "* Download the PDF file and confirm that none of your work is missing or cut off.  If the link leads you to a blank page, use [Command]+[S] or [Ctrl]+[S] to download your work.  \n",
    "\n",
    "### Submitting ###\n",
    "* Combine the PDFs from the written and code portions into one PDF.  [Here](https://smallpdf.com/merge-pdf) is a useful tool for doing so.  \n",
    "* Submit the assignment to Homework 9 on Gradescope.\n",
    "* **Make sure to assign each page of your pdf to the correct question.**\n",
    "\n",
    "\n",
    "### **We will not grade assignments which do not have pages selected for each question or were submitted after the deadline.** "
   ]
  },
  {
   "cell_type": "code",
   "execution_count": null,
   "metadata": {
    "#solution": false,
    "#staff": false,
    "#student": false
   },
   "outputs": [],
   "source": [
    "import gsExport\n",
    "gsExport.generateSubmission(\"Homework_09.ipynb\")"
   ]
  }
 ],
 "metadata": {
  "anaconda-cloud": {},
  "checksums": [
   "36d6125272e38841d377985b31e7a672",
   "7a0b0bd15911c0d2f5c2ec7bc5d5dc2f",
   "617e9d925b5fe2cd6a35fdd67bbdf752",
   "4d50926b8bbcb8a992cbd3666123e0dd",
   "09ac4aa69828646db6bb84e6402f60ef",
   "9ff6aebcc8146b47452c5d943df5ac3b",
   "62916d45e4328e56adf3f555e71e3bfb",
   "ff4f181f122a55e1b05f50467f6fb574",
   "99f9b1ff7c72678dd46ca5f9305fd1e6",
   "4792cfedb95c4f279ffee728c2555f8f",
   "f2cab27884e18878b84b45606f1b3da2",
   "43f9ba7417c70e713027bc35e52a5722",
   "ac922a6cf9874de5808a68bc8b4e1da5",
   "ba26e2a8819730f1681713a33139aeaf",
   "1c39fce9e127fcbe973ae53cbac8b775",
   "24f9c9a4908b9d4e41880a0be84f8b87",
   "17e9c534aab1aef1022390f11d4f4390",
   "360e5af452bf4ded51fb6e97bf7d1183"
  ],
  "kernelspec": {
   "display_name": "Python 3",
   "language": "python",
   "name": "python3"
  },
  "language_info": {
   "codemirror_mode": {
    "name": "ipython",
    "version": 3
   },
   "file_extension": ".py",
   "mimetype": "text/x-python",
   "name": "python",
   "nbconvert_exporter": "python",
   "pygments_lexer": "ipython3",
   "version": "3.6.0"
  },
  "number_of_pagebreaks": 0
 },
 "nbformat": 4,
 "nbformat_minor": 2
}
