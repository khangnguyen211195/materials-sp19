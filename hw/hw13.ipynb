{
 "cells": [
  {
   "cell_type": "markdown",
   "metadata": {},
   "source": [
    "<table align=\"left\" style=\"border-style: hidden\" class=\"table\"> <tr><td class=\"col-md-2\"><img style=\"float\" src=\"http://prob140.org/assets/icon256.png\" alt=\"Prob140 Logo\" style=\"width: 120px;\"/></td><td><div align=\"left\"><h3 style=\"margin-top: 0;\">Probability for Data Science</h3><h4 style=\"margin-top: 20px;\">UC Berkeley, Fall 2018</h4><p>Ani Adhikari and Jim Pitman</p>CC BY-NC 4.0</div></td></tr></table><!-- not in pdf -->"
   ]
  },
  {
   "cell_type": "code",
   "execution_count": null,
   "metadata": {
    "#solution": false,
    "#staff": false,
    "#student": false
   },
   "outputs": [],
   "source": [
    "# HIDDEN\n",
    "from datascience import *\n",
    "from prob140 import *\n",
    "import numpy as np\n",
    "import matplotlib.pyplot as plt\n",
    "plt.style.use('fivethirtyeight')\n",
    "%matplotlib notebook\n",
    "from scipy import stats"
   ]
  },
  {
   "cell_type": "markdown",
   "metadata": {
    "#solution": false,
    "#staff": false,
    "#student": false
   },
   "source": [
    "# Homework 13 #\n",
    "\n",
    "Your homework has two components: A (written work only) and B (also involving code). Each question or subpart is labeled accordingly. Written work should be completed on paper, and coding questions should be done in the notebook. It is your responsibility to ensure that your homework is submitted completely and properly to Gradescope. Refer to the bottom of the notebook for submission instructions.\n",
    "\n",
    "#### Rules for Written Homework ####\n",
    "\n",
    "- Every answer should contain a calculation or reasoning. For example, a calculation such as $(1/3)(0.8) + (2/3)(0.7)$ is fine without further explanation or simplification. If we want you to simplify, we'll ask you to. But just ${5 \\choose 2}$ is not fine; write \"we need 2 out of the 5 frogs and they can appear in any order\" or whatever reasoning you used. Reasoning can be brief and abbreviated, e.g. \"product rule\" or \"not mut. excl.\"\n",
    "- You may consult others but you must write up your own answers using your own words, notation, and sequence of steps.\n",
    "- In the interest of saving trees, you do not need to *solve* each question on a new piece of paper. Folding the paper to show just the relevant problem will suffice. To ensure the correct page size, we recommend placing the folded part on a blank page before scanning, or adjusting the page settings on your phone scanning app.\n",
    "- You will submit a scanned PDF to Gradescope. **Each question should *start* on a new PDF page. No page should contain two questions.**\n",
    "\n",
    "#### Rules for Coding ####\n",
    "\n",
    "- Do not share, copy, or allow others to copy your code. You may discuss your approach and relevant methods or functions to use.\n",
    "- A code cell (which may contain starter code) is provided for each question or subpart that requires coding. You are free to add additional cells as needed.\n",
    "- You will submit a PDF to Gradescope. See the bottom of the notebook for more instructions.\n",
    "- Here is the Prob140 documentation [guide](https://probability.gitlab.io/prob140/index.html) for your reference."
   ]
  },
  {
   "cell_type": "markdown",
   "metadata": {
    "#solution": false,
    "#staff": false,
    "#student": false
   },
   "source": [
    "### Probability Questions in Quant Interviews ###\n",
    "This homework is intended as a review of material from Chapters 19-22, and also as a way for you to try your hand at questions that are known to have been asked in \"quant\" interviews at tech and finance companies. \n",
    "\n",
    "If a question is labeled QI then at least one of its parts was asked in at least one quant interview. \n",
    "\n",
    "All the problems below are from [Further Review Exercises](http://prob140.org/textbook/chapters/Chapter_25/04_Further_Review_Exercises) at the end of the textbook. Assigning them a homework is a way of giving you credit for doing them. After the Thanksgiving break there will be plenty of other problems for practice, including past final exams."
   ]
  },
  {
   "cell_type": "markdown",
   "metadata": {
    "#solution": false,
    "#staff": false,
    "#student": false
   },
   "source": [
    "### 1. MLE of Uniform Range ###\n",
    "(Further Rev Ex 3)\n",
    "\n",
    "Let $X_1, X_2, \\ldots, X_n$ be i.i.d. uniform on $(0, \\theta)$. \n",
    "\n",
    "**a)** Find the MLE of $\\theta$. [Don't leap into a calculation. Sketch a graph of the function you are trying to maximize, and be careful about its domain. You could start with a specific example, such as $n=3$ and observations 1.4, 17.8, and 12.3.]\n",
    "\n",
    "**b)** Is the MLE unbiased? If not, use the MLE to construct an unbiased estimate of $\\theta$."
   ]
  },
  {
   "cell_type": "markdown",
   "metadata": {
    "#solution": false,
    "#staff": false,
    "#student": false
   },
   "source": [
    "### 2. Recognizing Distributions [QI] ###\n",
    "\n",
    "(Further Rev Ex 4)\n",
    " \n",
    "Recognizing distributions saves a lot of work. See if you can do the following without explicit integration or differentation.\n",
    "\n",
    "**a)** $W$ is a normal $(0, \\sigma^2)$ random variable. For $n = 0, 1, 2, 3$, and $4$, find $E(W^n)$. \n",
    "\n",
    "**b)** $X$ and $Y$ are i.i.d. with moment generating function $M(t) = e^{t + t^2}$, $-\\infty < t < \\infty$. What is the distribution of $(X-Y)^2$?"
   ]
  },
  {
   "cell_type": "markdown",
   "metadata": {
    "#solution": false,
    "#staff": false,
    "#student": false
   },
   "source": [
    "### 3. Two Random Coins [QI] ###\n",
    "(Further Rev Ex 9)\n",
    "\n",
    "Person A creates a coin by picking its chance of heads uniformly on $(0, 1)$. In three tosses of that coin, Person A gets two heads.\n",
    "\n",
    "Independently of Person A, Person B creates a coin by picking its chance of heads uniformly on $(0, 1)$. In three tosses of that coin, Person B gets one head.\n",
    "\n",
    "**a)** Given the data, what is the distribution of the chance of heads of Person A's coin?\n",
    "\n",
    "**b)** Given the data, what is the distribution of the chance of heads of Person B's coin?\n",
    "\n",
    "**c)** Given the data, what is the probability that Person A's coin has a higher chance of heads than Person B's coin?"
   ]
  },
  {
   "cell_type": "markdown",
   "metadata": {
    "#solution": false,
    "#staff": false,
    "#student": false
   },
   "source": [
    "### 4. Waiting Till HH [QI] ###\n",
    "(Further Rev Ex 15)\n",
    "\n",
    "A $p$-coin is tossed repeatedly. Let $W_{H}$ be the number of tosses till the first head appears, and $W_{HH}$ the number of tosses till two consecutive heads appear.\n",
    "\n",
    "**a)** Describe a random variable $X$ that  depends only on the tosses after $W_H$ and satisfies $W_{HH} = W_H + X$.\n",
    "\n",
    "**b)** Use Part (a) to find $E(W_{HH})$. What is its value when $p = 1/2$?\n",
    "\n",
    "**c)** Use Parts (a) and (b) to find $Var(W_{HH})$. What is the value of $SD(W_{HH})$ when $p = 1/2$?"
   ]
  },
  {
   "cell_type": "markdown",
   "metadata": {
    "#solution": false,
    "#staff": false,
    "#student": false
   },
   "source": [
    "### 5. Mixing Normals [QI] ###\n",
    "(Further Rev Ex 19(a)-(d). Part (e) will be a one-liner after we have covered the bivariate normal.)\n",
    "\n",
    "Let $X$ be standard normal. Construct a random variable $Y$ as follows:\n",
    "\n",
    "- Toss a fair coin.\n",
    "- If the coin lands heads, let $Y = X$.\n",
    "- If the coin lands tails, let $Y = -X$.\n",
    "\n",
    "**a)** Find the cdf of $Y$. \n",
    "\n",
    "**b)** Find $E(XY)$ by conditioning on the result of the toss.\n",
    "\n",
    "**c)** Are $X$ and $Y$ uncorrelated? \n",
    "\n",
    "**d)** Are $X$ and $Y$ independent?"
   ]
  },
  {
   "cell_type": "markdown",
   "metadata": {
    "#solution": false,
    "#staff": false,
    "#student": false
   },
   "source": [
    "### 6. Sums of Uniforms [QI] ###\n",
    "(Further Rev Ex 23)\n",
    "\n",
    "Let $U_1, U_2, U_3, \\ldots $ be i.i.d. uniform on $(0, 1)$. For $n \\ge 1$, let $S_n = \\sum_{i=1}^n U_i$. \n",
    "\n",
    "Let $f_{S_n}$ be the density of $S_n$. The formula for $f_{S_n}$ is piecewise polynomial on the possible values $(0, n)$. In this problem we will just focus on the density on the interval $(0, 1)$ and discover a nice consequence.\n",
    "\n",
    "**a)** For $0 < x < 1$, find $f_{S_2}(x)$. \n",
    "\n",
    "**b)** Use Part (a) and the convolution formula to find $f_{S_3}(x)$ for $0 < x < 1$.\n",
    "\n",
    "**c)** Guess a formula for $f_{S_n}(x)$ for $0 < x < 1$ and prove it by induction.\n",
    "\n",
    "**d)** Find $P(S_n < 1)$.\n",
    "\n",
    "**e)** Let $N = \\min\\{n: S_n > 1\\}$. Use Part (d) to find $E(N)$.\n"
   ]
  },
  {
   "cell_type": "markdown",
   "metadata": {
    "#solution": false,
    "#staff": false,
    "#student": false
   },
   "source": [
    "## Submission Instructions\n",
    "\n",
    "\n",
    "#### Logistics \n",
    "\n",
    "1. Use a scanner or scanning app (such as CamScanner) to digitize your written assignments. Do not take pictures using your phone's camera app.\n",
    "2. For code portions, examine the generated pdf before uploading to make sure that it contains all of your work.\n",
    "3. When submitting to Gradescope, select the pages of your upload corresponding to each question. \n",
    "4. If you encounter any difficulties when submitting or exporting your assignment, please make a private Piazza post **before the deadline**. \n",
    "\n",
    "### **We will not grade assignments which do not have pages selected for each question, are illegibly scanned, or are submitted after 8PM.** \n",
    "\n",
    "\n",
    "#### Part A (Written)\n",
    "- Make sure you have at least 6 pages of homework. Each problem should start on a new page; for example,  Problem 1 on page 1, Problem 2 on page 2, etc.\n",
    "- Scan all the pages into a PDF. **Make sure the PDF page size is 8.5 x 11 inches**. It is your responsibility to check that all the work on the scanned pages is legible. You can use any scanner or a phone using applications such as CamScanner. Save the PDF.\n",
    "- Upload the scanned PDF of your work onto Gradescope for the assignment \"HW_13A (Written)\". \n",
    "Refer to [this guide](http://gradescope-static-assets.s3-us-west-2.amazonaws.com/help/submitting_hw_guide.pdf) for detailed instructions about scanning and submitting, or consult course staff.\n",
    "\n",
    "#### Part B (Code)\n",
    "\n",
    "1. **Save your notebook using File > Save and Checkpoint.**\n",
    "2. Run the cell below to generate a pdf file.\n",
    "3. Download the pdf file and confirm that none of your work is missing or cut off.\n",
    "4. Submit the assignment to \"HW_13B (Code)\" on Gradescope. Use the entry code \"9GEKKD\" if you haven't already joined the class."
   ]
  },
  {
   "cell_type": "code",
   "execution_count": null,
   "metadata": {
    "#solution": false,
    "#staff": false,
    "#student": false
   },
   "outputs": [],
   "source": [
    "import gsExport\n",
    "gsExport.generateSubmission(\"hw13.ipynb\")"
   ]
  }
 ],
 "metadata": {
  "anaconda-cloud": {},
  "checksums": [
   "41e5cd3e7433650be1eb792ff2fd6228",
   "9c738b64048153f6ffb81a557a63c9ad",
   "c50c63b89b65ab877a8f21775164a02f",
   "ca66a56f701b44018515ef0d7b7e618e",
   "5e1f80d5fc1bf99d8d64a96e462a81c9",
   "63620a9a490e0071d068901cd815dcf8",
   "dd1ccab78ebb233db439217627eef9f3",
   "301bb898378805201a7b66a0790fe251",
   "762e8c09a803375d5260bce55fd850d7",
   "08a36054cdd730d312e36bd0ecf68d10",
   "3e59b5eda1b063f1d820368675e2e413",
   "f5570033f54a484091cbce052d7cbfeb"
  ],
  "kernelspec": {
   "display_name": "Python [default]",
   "language": "python",
   "name": "python3"
  },
  "language_info": {
   "codemirror_mode": {
    "name": "ipython",
    "version": 3
   },
   "file_extension": ".py",
   "mimetype": "text/x-python",
   "name": "python",
   "nbconvert_exporter": "python",
   "pygments_lexer": "ipython3",
   "version": "3.5.4"
  },
  "number_of_pagebreaks": 0
 },
 "nbformat": 4,
 "nbformat_minor": 2
}
