{
 "cells": [
  {
   "cell_type": "markdown",
   "metadata": {},
   "source": [
    "<table align=\"left\" style=\"border-style: hidden\" class=\"table\"> <tr><td class=\"col-md-2\"><img style=\"float\" src=\"http://prob140.org/assets/icon256.png\" alt=\"Prob140 Logo\" style=\"width: 120px;\"/></td><td><div align=\"left\"><h3 style=\"margin-top: 0;\">Probability for Data Science</h3><h4 style=\"margin-top: 20px;\">UC Berkeley, Fall 2018</h4><p>Ani Adhikari and Jim Pitman</p>CC BY-NC 4.0</div></td></tr></table><!-- not in pdf -->"
   ]
  },
  {
   "cell_type": "code",
   "execution_count": null,
   "metadata": {
    "#solution": false,
    "#staff": false,
    "#student": false
   },
   "outputs": [],
   "source": [
    "from datascience import *\n",
    "from prob140 import *\n",
    "import matplotlib.pyplot as plt\n",
    "plt.style.use(\"fivethirtyeight\")\n",
    "%matplotlib inline\n",
    "import numpy as np\n",
    "from scipy import stats\n",
    "import ipywidgets as widgets\n",
    "from ipywidgets import interact"
   ]
  },
  {
   "cell_type": "markdown",
   "metadata": {
    "#solution": false,
    "#staff": false,
    "#student": false
   },
   "source": [
    "# Lab 10: Chinese Restaurant Process, Part I #"
   ]
  },
  {
   "cell_type": "markdown",
   "metadata": {
    "#solution": false,
    "#staff": false,
    "#student": false
   },
   "source": [
    "In this lab you will analyze a stochastic model for *clustering*, which is a process of visualizing and organizing data based on similarities between sampled individuals. Methods of identifying clusters have applications in a wide variety of areas. Here are just a few examples.\n",
    "\n",
    "- Criminology: locations where a type of crime occurs\n",
    "- Marketing: customers who share preferences\n",
    "- Biology: populations segmented by patterns in genes\n",
    "- Natural Language Processing: words grouped by similarity of meaning or grammatical properties\n",
    "\n",
    "One commonly used model is *k-means clustering*, which assumes that the data are continuous numerical variables and that the number of clusters in the population is known to be $k$. By contrast, the *Chinese Restuarant Process* is a discrete time stochastic process that can be used as a model for clustering and does not assume a fixed number of clusters. Instead, the clusters evolve randomly as individuals enter, according to a specified probabilistic structure. The data could be categorical or numerical.\n",
    "\n",
    "The Chinese Restaurant Process is an example of a *generative Bayesian model* which specifies the probabilstic rules by which the process evolves and in which the representation itself evolves as more data come in.\n",
    "\n",
    "**History:** The process has its origins in the work of [Warren Ewens](https://en.wikipedia.org/wiki/Warren_Ewens) in the early 1970's, in particular the [Ewens Sampling Formula](https://en.wikipedia.org/wiki/Ewens%27s_sampling_formula) of population genetics. Since then, the development of the theory of the stochastic process and its use in machine learning has been very much a Berkeley enterprise: Jim Pitman, David Aldous, and Mike Jordan are among the people involved. The restaurant analogy is due to Jim Pitman and our late colleague Lester Dubins, during one of their regular cafe meetings decades ago. Though there is a popular story that they came up with it while eating at a Chinese restaurant, in fact they were at the Strada on Bancroft and College. "
   ]
  },
  {
   "cell_type": "markdown",
   "metadata": {
    "#solution": false,
    "#staff": false,
    "#student": false
   },
   "source": [
    "**What you will learn:**\n",
    "We have distributed the analysis across two labs so that you can reasonably complete it and have time to think about the ideas. In each lab, part of the analysis will be by simulation and part by probability calculations. The first lab involves only discrete distributions. The second lab will contain long run analysis involving connections made in class between the beta and binomial distributions.\n",
    "\n",
    "In Prob 140 we will focus on understanding the probability model. You can then go on to other classes that discuss how to fit the model to data.\n",
    "\n",
    "This lab is about the distribution of the total number of clusters observed in a fixed amount of time. This theory helps answer questions like these, about $n$ observations:\n",
    "- How many different animal species do you expect to see?\n",
    "- What is the distribution of the number of different types of documents that you will have?\n",
    "- What is the chance that everybody is retweeting the same tweet?\n",
    "\n",
    "The \"restaurant\" image is that each person entering the restaurant chooses a table to join. Thus each table becomes a cluster. The model allows for an infinite number of tables, each of infinite size, though of course if you make $n$ observations then the observed number of occupied tables will be finite. That's the number of different clusters observed.\n",
    "\n",
    "In this lab you will study the random number of observed clusters. You will simulate a Chinese Restaurant process and find the empirical distribution of the number of occupied tables. You will also find the mean and SD of the number of occupied tables, both empirically and analytically."
   ]
  },
  {
   "cell_type": "markdown",
   "metadata": {
    "#solution": false,
    "#staff": false,
    "#student": false
   },
   "source": [
    "## The Process ##\n",
    "In keeping with the Chinese Restaurant analogy, think of clusters as groups of people sitting at the same table. We will only consider occupied tables, so the number of tables is equal to the number of clusters. \n",
    "\n",
    "The process evolves according to the following rules.\n",
    "- There is a positive parameter $\\theta$.\n",
    "- People enter the restaurant one at a time.\n",
    "- Person 1 enters and sits at a table which we will call Table 1.\n",
    "- Each subsequent person \n",
    "    - either joins an existing table with probability proportional to the number of people already at that table, or\n",
    "    - starts a new table with probability proportional to $\\theta$.\n",
    "- People choose tables independently of each other.\n",
    "\n",
    "Don't worry about running out of room. The restaurant has infinite capacity and each table is infinitely large. You can imagine infinitely many such tables at the start, or imagine new tables appearing magically each time a person's random choice is to start a new table. We prefer the second image because it consists only of the occupied tables.\n",
    "\n",
    "Note that the tables are not numbered at the start. We number them according to their order of formation. Thus Table 1 is the table at which Person 1 sits. Table 2 is the next new table to be formed. We can't say exactly who starts it, because that's random. Table 3 is the third new table to be formed. And so on.\n",
    "\n",
    "To visualiaze the process, run the cell below. It simulates 100 people arriving according to a Chinese Restaurant process with some value of $\\theta$. Move the slider slowly at first, so that you can see the people coming in one at a time. \n",
    "\n",
    "Run the cell several times. The value of $\\theta$ changes each time, and you will see quite a bit of variation in the results. This indicates that you might be able to use this model in varied applications, by setting the parameter appropriately."
   ]
  },
  {
   "cell_type": "code",
   "execution_count": null,
   "metadata": {
    "#solution": false,
    "#staff": false,
    "#student": false
   },
   "outputs": [],
   "source": [
    "visualize_cr()"
   ]
  },
  {
   "cell_type": "markdown",
   "metadata": {
    "#solution": false,
    "#staff": false,
    "#student": false
   },
   "source": [
    "In Parts 1 and 2 below, you will write the code to simulate the Chinese Restaurant process. In Parts 3 through 5 you will study the distribution of the total number of occupied tables after $N$ people have been seated. In other words, you will study the distribution of the number of clusters produced by this process when it has run for $N$ steps."
   ]
  },
  {
   "cell_type": "markdown",
   "metadata": {
    "#solution": false,
    "#staff": false,
    "#student": false
   },
   "source": [
    "#newpage\n",
    "\n",
    "## Part 1: Steps towards Simulation ##\n",
    "Start by running the cell below to set the parameter $\\theta$."
   ]
  },
  {
   "cell_type": "code",
   "execution_count": null,
   "metadata": {
    "#solution": false,
    "#staff": false,
    "#student": false
   },
   "outputs": [],
   "source": [
    "theta = 1"
   ]
  },
  {
   "cell_type": "markdown",
   "metadata": {
    "#solution": false,
    "#staff": false,
    "#student": false
   },
   "source": [
    "The goal is to create an array `people` that shows the number of people at each table. If there are 10 people, of whom 6 are at Table 1, 3 at Table 2, and 1 at Table 3, then the array created should be [6, 3, 1]. \n",
    "\n",
    "All entries in the array must be positive. The length of the array will be the total number of tables formed, which is random.\n",
    "\n",
    "The cell below starts off the array `people` when the first person enters at sits at Table 1. Run the cell. "
   ]
  },
  {
   "cell_type": "code",
   "execution_count": null,
   "metadata": {
    "#solution": false,
    "#staff": false,
    "#student": false
   },
   "outputs": [],
   "source": [
    "people = make_array(1)"
   ]
  },
  {
   "cell_type": "markdown",
   "metadata": {
    "#solution": false,
    "#staff": false,
    "#student": false
   },
   "source": [
    "To help code the selection of the next person who enters, we will also keep track of the labels of the tables formed, in the array `tables`. That will be an array of consecutive integers starting at 1. If `people` is [6, 3, 1] then `tables` is [1, 2, 3]. If `people` is [10] then `tables` is [1]. \n",
    "\n",
    "Run the cell below to create `tables` when just one person is in the system."
   ]
  },
  {
   "cell_type": "code",
   "execution_count": null,
   "metadata": {
    "#solution": false,
    "#staff": false,
    "#student": false
   },
   "outputs": [],
   "source": [
    "tables = make_array(1)"
   ]
  },
  {
   "cell_type": "markdown",
   "metadata": {
    "#solution": false,
    "#staff": false,
    "#student": false
   },
   "source": [
    "To write the code below it might help you to keep the array [6, 3, 1] in mind as an example of what `people` might look like after 10 people are seated."
   ]
  },
  {
   "cell_type": "markdown",
   "metadata": {
    "#solution": false,
    "#staff": false,
    "#student": false
   },
   "source": [
    "### a) ###\n",
    "How can you use `people` to determine how many people are already seated when a new person comes in? Assign this to `n` in the cell below. Your code should work not just for the \"starter\" array `people` created above, but for any `people` array that shows the number of people at each table."
   ]
  },
  {
   "cell_type": "code",
   "execution_count": null,
   "metadata": {
    "#solution": false,
    "#staff": false,
    "#student": true
   },
   "outputs": [],
   "source": [
    "\n",
    "# The expression should involve the array named people\n",
    "\n",
    "n = ..."
   ]
  },
  {
   "cell_type": "markdown",
   "metadata": {
    "#solution": false,
    "#staff": false,
    "#student": false
   },
   "source": [
    "Your process hasn't started evolving yet so at this stage what should the value of `n` be? Run the cell below to check that it gives the right answer. If it doesn't, start by resetting `tables` and `people` above and then fix your calculation of `n`. "
   ]
  },
  {
   "cell_type": "code",
   "execution_count": null,
   "metadata": {
    "#solution": false,
    "#staff": false,
    "#student": false
   },
   "outputs": [],
   "source": [
    "n"
   ]
  },
  {
   "cell_type": "markdown",
   "metadata": {
    "#solution": false,
    "#staff": false,
    "#student": false
   },
   "source": [
    "### b) ###\n",
    "Use `tables` to create an array that contains the choices of tables that the next newly entering person will have, by filling out the cell below. There are no probabilities involved, yet. Just create an array of choices, that is, all the possible tables at which the new person could sit."
   ]
  },
  {
   "cell_type": "code",
   "execution_count": null,
   "metadata": {
    "#solution": false,
    "#staff": false,
    "#student": true
   },
   "outputs": [],
   "source": [
    "# The label of the new table, if this person starts a new table\n",
    "new_table = ...\n",
    "\n",
    "# Array of all possible table choices that this new person has:\n",
    "tbl_choices = ..."
   ]
  },
  {
   "cell_type": "markdown",
   "metadata": {
    "#solution": false,
    "#staff": false,
    "#student": false
   },
   "source": [
    "### c) ###\n",
    "The array `tbl_choices` contains all the possible tables the new person can select. Create an array `tbl_probs` containing the corresponding probabilities of selection. That is, the $i$th element of `tbl_probs` should be the probability that the new person selects the $i$th element of tbl_choices.\n",
    "\n",
    "To figure out what to calculate, you will need to scroll back to the description of the model and work out the probabilities by hand on scratch paper."
   ]
  },
  {
   "cell_type": "code",
   "execution_count": null,
   "metadata": {
    "#solution": false,
    "#staff": false,
    "#student": true
   },
   "outputs": [],
   "source": [
    "# Array of probabilities of selecting the different tables\n",
    "tbl_probs = ..."
   ]
  },
  {
   "cell_type": "markdown",
   "metadata": {
    "#solution": false,
    "#staff": false,
    "#student": false
   },
   "source": [
    "Check that `tbl_probs` is a probability distribution, by running the cell below."
   ]
  },
  {
   "cell_type": "code",
   "execution_count": null,
   "metadata": {
    "#solution": false,
    "#staff": false,
    "#student": false
   },
   "outputs": [],
   "source": [
    "sum(tbl_probs)"
   ]
  },
  {
   "cell_type": "markdown",
   "metadata": {
    "#solution": false,
    "#staff": false,
    "#student": false
   },
   "source": [
    "### d) ###\n",
    "Now make the new person's choice of table, and assign it to the name `choice`. Use `np.random.choice` to do so. The call `np.random.choice(values, p=probabilities)` makes one random draw from the distribution that has possible values in the array `values` and the corresponding probabilities in the array `probabilities`.\n",
    "\n",
    "One technicality: You have to force the choice to be of the `int` type, because later you will have to use it as an array index."
   ]
  },
  {
   "cell_type": "code",
   "execution_count": null,
   "metadata": {
    "#solution": false,
    "#staff": false,
    "#student": true
   },
   "outputs": [],
   "source": [
    "# The random choice made by the new person\n",
    "\n",
    "choice = int(...)"
   ]
  },
  {
   "cell_type": "markdown",
   "metadata": {
    "#solution": false,
    "#staff": false,
    "#student": false
   },
   "source": [
    "At this stage, your process is just beginning to evolve: you started with one person, and now a new person has made their choice. What could the possible values of `choice` be at this stage? \n",
    "\n",
    "Run the cell below to confirm that `choice` is one of these possible values."
   ]
  },
  {
   "cell_type": "code",
   "execution_count": null,
   "metadata": {
    "#solution": false,
    "#staff": false,
    "#student": false
   },
   "outputs": [],
   "source": [
    "choice"
   ]
  },
  {
   "cell_type": "markdown",
   "metadata": {
    "#solution": false,
    "#staff": false,
    "#student": false
   },
   "source": [
    "### e) ###\n",
    "Write code (as many lines as you need) that updates the arrays `tables` and `people` appropriately based on the random choice made by the new person in Part (d). Your code should work for a new person entering at any stage.\n",
    "\n",
    "Ask yourself the following questions before writing your code:\n",
    "- Under what circumstances should `tables` be updated, and how should it be updated?\n",
    "- Under what circumstances should `people` be updated, and how should it be updated?\n",
    "\n",
    "Your code can use any of the quantities calculated in earlier cells: `theta`, `people`, `tables`, `new_table`, `tbl_choices`, `tbl_probs`, `choice`.\n",
    "\n",
    "If you need to change the element at index `k` of an array `my_array`, say by multiplying the original element by 2, you can use `my_array[k] = my_array[k] * 2`.\n",
    "\n",
    "After you run the cell, both `tables` and `people` should be consistent with `choice`. If you need to trouble-shoot, remember to Run All Above first, so that all the variables get reset."
   ]
  },
  {
   "cell_type": "code",
   "execution_count": null,
   "metadata": {
    "#solution": false,
    "#staff": false,
    "#student": true
   },
   "outputs": [],
   "source": []
  },
  {
   "cell_type": "markdown",
   "metadata": {
    "#solution": false,
    "#staff": false,
    "#student": false
   },
   "source": [
    "Run the cell below to check that your code gives consistent answers for the choice made by Person 2 in Part **d**.\n",
    "\n",
    "If it doesn't, remember to Run All Above to reset before you fix your calculation."
   ]
  },
  {
   "cell_type": "code",
   "execution_count": null,
   "metadata": {
    "#solution": false,
    "#staff": false,
    "#student": false
   },
   "outputs": [],
   "source": [
    "# Person 2's choice of table\n",
    "\n",
    "choice, tables, people"
   ]
  },
  {
   "cell_type": "markdown",
   "metadata": {
    "#solution": false,
    "#staff": false,
    "#student": false
   },
   "source": [
    "#newpage\n",
    "\n",
    "## Part 2: Code the Simulation ##"
   ]
  },
  {
   "cell_type": "markdown",
   "metadata": {
    "#solution": false,
    "#staff": false,
    "#student": false
   },
   "source": [
    "### a) ###\n",
    "Collect the code in Part 1 and use it to define a function `cr` that takes `N` and `theta` as its arguments, runs the Chinese Restaurant Process till `N` people have been seated, and returns an array of the number of people at each table in the order of table formation.\n",
    "\n",
    "- If you call your function with the arguments 1 and any positive $\\theta$, it should return the array [1]. That represents the one person seated at Table 1.\n",
    "- If you call your function with the arguments 2 and any positive $\\theta$, it should return either the array [2] if both people sit at Table 1, or [1, 1] if Person 2 starts a new table.\n",
    "- If you call your function with the arguments 3 and any positive $\\theta$, then it should return one of the following arrays: [3], [2, 1], [1, 2], [1, 1, 1].\n",
    "- And so on."
   ]
  },
  {
   "cell_type": "code",
   "execution_count": null,
   "metadata": {
    "#solution": false,
    "#staff": false,
    "#student": true
   },
   "outputs": [],
   "source": []
  },
  {
   "cell_type": "markdown",
   "metadata": {
    "#solution": false,
    "#staff": false,
    "#student": false
   },
   "source": [
    "### b) ###\n",
    "Perform a basic ballpark check that your function is working right: run the cell below and confirm that the expression is evaluating to the right answer."
   ]
  },
  {
   "cell_type": "code",
   "execution_count": null,
   "metadata": {
    "#solution": false,
    "#staff": false,
    "#student": false
   },
   "outputs": [],
   "source": [
    "sum(cr(1000, 1))"
   ]
  },
  {
   "cell_type": "markdown",
   "metadata": {
    "#solution": false,
    "#staff": false,
    "#student": false
   },
   "source": [
    "#newpage\n",
    "\n",
    "## Part 3: Run the Process ##"
   ]
  },
  {
   "cell_type": "markdown",
   "metadata": {
    "#solution": false,
    "#staff": false,
    "#student": false
   },
   "source": [
    "### a) ###\n",
    "Run the process with $\\theta = 1$ and 100 people. Display the simulated results a table that has two columns:\n",
    "- `Table`: The labels of the occupied tables, in order of formation, so that the first entry is 1 and the last entry is the number of tables at the end of the run.\n",
    "- `People at Table`: The number of people seated at the corresponding table.\n",
    "\n",
    "Run the cell several times to get a sense of the variability of the results."
   ]
  },
  {
   "cell_type": "code",
   "execution_count": null,
   "metadata": {
    "#solution": false,
    "#staff": false,
    "#student": true
   },
   "outputs": [],
   "source": [
    "N = 100\n",
    "theta = 1\n",
    "\n",
    "...\n",
    "...\n",
    "simulated_process = Table().with_column(\n",
    "    'Table', ...,\n",
    "    'People at Table', ...\n",
    ")\n",
    "\n",
    "simulated_process.show()"
   ]
  },
  {
   "cell_type": "markdown",
   "metadata": {
    "#solution": false,
    "#staff": false,
    "#student": false
   },
   "source": [
    "### b) ### \n",
    "\n",
    "Now, pass your results into `visualize_cr` to visualize the process."
   ]
  },
  {
   "cell_type": "code",
   "execution_count": null,
   "metadata": {
    "#solution": false,
    "#staff": false,
    "#student": true
   },
   "outputs": [],
   "source": [
    "visualize_cr(cr(N, theta))"
   ]
  },
  {
   "cell_type": "markdown",
   "metadata": {
    "#solution": false,
    "#staff": false,
    "#student": false
   },
   "source": [
    "### c) ###\n",
    "Repeat Part (b) for varying values of $N$ and $\\theta$. Be sure to try $N = 100, 1000$, and $10000$ with $\\theta = 0.5, 1,$ and $2$. Keep your eye on the number of tables as well as the distribution of people across tables."
   ]
  },
  {
   "cell_type": "code",
   "execution_count": null,
   "metadata": {
    "#solution": false,
    "#staff": false,
    "#student": true
   },
   "outputs": [],
   "source": []
  },
  {
   "cell_type": "markdown",
   "metadata": {
    "#solution": false,
    "#staff": false,
    "#student": false
   },
   "source": [
    "### d) ###\n",
    "Give a brief qualitative description of what you have seen in the simulations for $N = 100$ and $\\theta = 0.5, 1$, and $2$. Address questions such as:\n",
    "- Are there lots of tables, not many, or is it not possible to tell?\n",
    "- Is the distribution of the number of people pretty uniform across the tables? If not, describe what you see about the number of big and small clusters.\n",
    "- In what way does $\\theta$ make a difference? Or is it not possible to tell?"
   ]
  },
  {
   "cell_type": "markdown",
   "metadata": {
    "#solution": false,
    "#staff": false,
    "#student": true
   },
   "source": [
    "\n",
    "**Type your answer here**"
   ]
  },
  {
   "cell_type": "markdown",
   "metadata": {
    "#solution": false,
    "#staff": false,
    "#student": false
   },
   "source": [
    "#newpage\n",
    "\n",
    "## Part 4: Empirical Distribution of the Number of Tables ##"
   ]
  },
  {
   "cell_type": "markdown",
   "metadata": {
    "#solution": false,
    "#staff": false,
    "#student": false
   },
   "source": [
    "### a) ###\n",
    "\n",
    "Define a function `num_tables` that takes `N`, `theta`, and `repetitions` (the number of times to simulate the process) as its arguments. In each repetition, the function runs the Chinese Restaurant Process with `N` people and counts the number of tables occupied by those people once they are all seated. The function should return an array of length `repetitions` consisting of the simulated table counts."
   ]
  },
  {
   "cell_type": "code",
   "execution_count": null,
   "metadata": {
    "#solution": false,
    "#staff": false,
    "#student": true
   },
   "outputs": [],
   "source": [
    "\n",
    "def num_tables(N, theta, repetitions):\n",
    "    ...\n",
    "    ...\n",
    "    return tbls"
   ]
  },
  {
   "cell_type": "markdown",
   "metadata": {
    "#solution": false,
    "#staff": false,
    "#student": false
   },
   "source": [
    "### b) ###\n",
    "Draw the empirical histogram of the number of tables, in the case $N = 100$ and $\\theta = 1$, based on 2000 repetitions. Be prepared to wait as the simulation chugs.\n",
    "\n",
    "The code below uses the `prob140` method `emp_dist`, which takes an array of integer data and plots its histogram. It saves you the trouble of turning the array into a table and calling `hist` with the appropriate bins."
   ]
  },
  {
   "cell_type": "code",
   "execution_count": null,
   "metadata": {
    "#solution": false,
    "#staff": false,
    "#student": true
   },
   "outputs": [],
   "source": [
    "\n",
    "N = 100\n",
    "theta = 1\n",
    "...\n",
    "Plot(emp_dist(simulated_table_counts))\n",
    "plt.xlabel('Number of Tables');"
   ]
  },
  {
   "cell_type": "markdown",
   "metadata": {
    "#solution": false,
    "#staff": false,
    "#student": false
   },
   "source": [
    "###  c) ###\n",
    "Draw the empirical histogram of the number of tables in the case $N = 100$ and $\\theta = 0.5$, based on 2000 repetitions. "
   ]
  },
  {
   "cell_type": "code",
   "execution_count": null,
   "metadata": {
    "#solution": false,
    "#staff": false,
    "#student": true
   },
   "outputs": [],
   "source": [
    "\n",
    "...\n",
    "plt.xlabel('Number of Tables');"
   ]
  },
  {
   "cell_type": "markdown",
   "metadata": {
    "#solution": false,
    "#staff": false,
    "#student": false
   },
   "source": [
    "### d) ###\n",
    "Draw the empirical histogram of the number of tables in the case $N = 100$ and $\\theta = 2$, based on 2000 repetitions. **Save the array of simulated values because you will need it in Part 5.** Give it a special name if you need to."
   ]
  },
  {
   "cell_type": "code",
   "execution_count": null,
   "metadata": {
    "#solution": false,
    "#staff": false,
    "#student": true
   },
   "outputs": [],
   "source": []
  },
  {
   "cell_type": "markdown",
   "metadata": {
    "#solution": false,
    "#staff": false,
    "#student": false
   },
   "source": [
    "### e) ###\n",
    "Are the empirical histograms above consistent with the your answers to Part 3(d)? "
   ]
  },
  {
   "cell_type": "markdown",
   "metadata": {
    "#solution": false,
    "#staff": false,
    "#student": true
   },
   "source": [
    "\n",
    "**Type your answer here**"
   ]
  },
  {
   "cell_type": "markdown",
   "metadata": {
    "#solution": false,
    "#staff": false,
    "#student": false,
    "collapsed": true
   },
   "source": [
    "#newpage\n",
    "\n",
    "## Part 5: Expectation and SD of the Number of Tables ##"
   ]
  },
  {
   "cell_type": "markdown",
   "metadata": {
    "#solution": false,
    "#staff": false,
    "#student": false
   },
   "source": [
    "### a) [ON PAPER]###\n",
    "Fix a positive integer $N$ and suppose the process is run till $N$ people have been seated. Let $T_N$ be the number of tables. Find $E(T_N)$.\n",
    "\n",
    "[It is helpful to note that the number of tables is equal to the number of people who started new tables.]"
   ]
  },
  {
   "cell_type": "markdown",
   "metadata": {
    "#solution": false,
    "#staff": false,
    "#student": false
   },
   "source": [
    "### b) [BACK TO CODE] ###\n",
    "Use the code cell below to calculate your answer in Part (a) in the case $\\theta = 2$ and $N = 100$ as well as the mean of the simulated values in Part 4(d).\n",
    "\n",
    "Use the subsequent cell to compare the two resulting values."
   ]
  },
  {
   "cell_type": "code",
   "execution_count": null,
   "metadata": {
    "#solution": false,
    "#staff": false,
    "#student": true
   },
   "outputs": [],
   "source": [
    "\n",
    "simulated_mean = ...\n",
    "\n",
    "def expected_T_N(N, theta):\n",
    "    ...\n",
    "    return e_T_N\n",
    "\n",
    "simulated_mean, expected_T_N(100, 2)"
   ]
  },
  {
   "cell_type": "markdown",
   "metadata": {
    "#solution": false,
    "#staff": false,
    "#student": true
   },
   "source": [
    "\n",
    "**Type your answer here**"
   ]
  },
  {
   "cell_type": "markdown",
   "metadata": {
    "#solution": false,
    "#staff": false,
    "#student": false
   },
   "source": [
    "### c) ###\n",
    "The sum $\\sum_{i=1}^k \\frac{1}{i}$ grows slowly with $k$, and is roughly $\\log(k)$ for large $k$. Set $\\theta = 2$. On the same axes, plot as a function of $N$ in the range 100 to 5000:\n",
    "\n",
    "- Your answer to Part (a).\n",
    "- $\\theta \\log(N)$.\n",
    "\n",
    "The code uses `plt.plot` to draw the plots. The required first two arguments are an array of the values on the horizontal axis and an array of the values on the vertical axis. Your job is to create `array_N`, `theta_log_N`, and `expected_values` appropriately."
   ]
  },
  {
   "cell_type": "code",
   "execution_count": null,
   "metadata": {
    "#solution": false,
    "#staff": false,
    "#student": true
   },
   "outputs": [],
   "source": [
    "\n",
    "theta = 2\n",
    "\n",
    "array_N = ...\n",
    "\n",
    "theta_log_N = ...\n",
    "\n",
    "expected_values = ...\n",
    "...\n",
    "\n",
    "plt.plot(n, theta_log_n, lw=2, label='$\\\\theta\\log(N)$')\n",
    "plt.plot(n, expected_values, lw=2, label='$E(T_N)$')\n",
    "plt.xlabel('$N$')\n",
    "plt.legend();"
   ]
  },
  {
   "cell_type": "markdown",
   "metadata": {
    "#solution": false,
    "#staff": false,
    "#student": false
   },
   "source": [
    "The graphs should justify the statement, \"The number of tables grows like $\\theta \\log(N)$.\""
   ]
  },
  {
   "cell_type": "markdown",
   "metadata": {
    "#solution": false,
    "#staff": false,
    "#student": false
   },
   "source": [
    "### d) [ON PAPER]###\n",
    "\n",
    "For $N$ any positive integer and $\\theta > 0$, find $SD(T_N)$. "
   ]
  },
  {
   "cell_type": "markdown",
   "metadata": {
    "#solution": false,
    "#staff": false,
    "#student": false
   },
   "source": [
    "### e) ###\n",
    "In the first cell below, calculate your answer in Part **d** in the case $\\theta = 2$ and $N = 100$ as well as the SD of the simulated values in Part 4(d).\n",
    "\n",
    "In the subsequent cell, compare the resulting values."
   ]
  },
  {
   "cell_type": "code",
   "execution_count": null,
   "metadata": {
    "#solution": false,
    "#staff": false,
    "#student": true
   },
   "outputs": [],
   "source": [
    "\n",
    "...\n",
    "\n",
    "simulated_sd, sd_T_N(100, 2)"
   ]
  },
  {
   "cell_type": "markdown",
   "metadata": {
    "#solution": false,
    "#staff": false,
    "#student": true
   },
   "source": [
    "\n",
    "**Type your answer here**"
   ]
  },
  {
   "cell_type": "markdown",
   "metadata": {
    "#solution": false,
    "#staff": false,
    "#student": false,
    "collapsed": true
   },
   "source": [
    "$T_n$ is said to have a [Poisson Binomial](https://en.wikipedia.org/wiki/Poisson_binomial_distribution) distribution. The shapes of the histograms should remind you of both the binomial and the Poisson histograms."
   ]
  },
  {
   "cell_type": "markdown",
   "metadata": {
    "#solution": false,
    "#staff": false,
    "#student": false
   },
   "source": [
    "## Conclusion ##\n",
    "What you have learned:\n",
    "- The assumptions of a clustering model in which individuals aren't labeled by type ahead of time and the number of clusters is unknown\n",
    "- How to simulate data under this model\n",
    "- An empirical approximation to the distribution of the total number of clusters\n",
    "- Exact values of the mean and SD of the number of clusters, and the rate at which the mean grows"
   ]
  },
  {
   "cell_type": "code",
   "execution_count": null,
   "metadata": {
    "#solution": false,
    "#staff": false,
    "#student": false
   },
   "outputs": [],
   "source": [
    "import gsExport\n",
    "gsExport.generateSubmission(\"Lab10.ipynb\")"
   ]
  }
 ],
 "metadata": {
  "anaconda-cloud": {},
  "checksums": [
   "41e5cd3e7433650be1eb792ff2fd6228",
   "9affefe8ae3c7314d1edab81dbb1b9b4",
   "d8fba4fc096485197c723c15dd8ddb84",
   "9268307fe88bccecf76ba78028f9ff79",
   "596593ed8c89b6ada2ef9f1a30cd7f53",
   "93e80828f119cca81418599ad9a5e9f5",
   "f2de394ebc27de88aaf38cbeab20d682",
   "bea9c288dd85cd4535dff62383a48da2",
   "2e1610d83f3142a78ad4f96a7ce7ed8a",
   "cb497f787498d4ad968d6ebb655c13b5",
   "02a3e2adadbcd4d605799b47eb0de789",
   "c713e997e3291f0f609542a53ed864e7",
   "009c86fdd909adeaf82b24eb615969c6",
   "2966e15d007e6648109a989b66000024",
   "58d03dc146031aeba216cfc829af77f8",
   "55f03ff4a4a7c96740e59ba4d079ef61",
   "e08555c458c6001450b850210d9613ca",
   "b755a9d35eef4f0bb86664eba0489e1e",
   "7b8b965ad4bca0e41ab51de7b31363a1",
   "fcf6bd598c90f3ba9a9c7ce536004465",
   "41fd7f8e485e69d52bc3d5521fafe988",
   "b583b0de60d50227b92ecb2180f5bab1",
   "34066d3809ebf76dbc14b94690eeaec5",
   "97805c6479a4ecd21e42ab73115922b6",
   "493bd6ca29e968453825cebbcd1080d4",
   "a81164b316b31bb2cefc64127553ce28",
   "922d72801955e8124f8af66d79bb87e4",
   "a46f505b02eb8b0eb38ea3b8ed1ce39c",
   "0162cefc4952304026cb1f5dab2419d2",
   "50ef2d7369c6c25d0f74442d3a5ccae0",
   "d41d8cd98f00b204e9800998ecf8427e",
   "9f10ed23e65276ce7aefb55432b56049",
   "070a8af2aec68b49481197279bb9b0d9",
   "ecbb68bb85dec014e955186977b4b231",
   "6babceb32429344efbd26c87bdd9d8be",
   "d41d8cd98f00b204e9800998ecf8427e",
   "3b7702acbca6c04accc3e8b3b9de9329",
   "308fe69f2f7085d2fcf54f138b58ff19",
   "660c184b7279873c25f83b88adb1623f",
   "231732f0ff8f01895bab3e2dd4d0ba85",
   "19c4e7cba8a6c82896e45d7aa7695991",
   "9872fe796464d0c17130adf41a486f21",
   "528756151ffb4a68c3fd61299cd61927",
   "61d71b7ea432daa0400d0515faa17ecc",
   "d41d8cd98f00b204e9800998ecf8427e",
   "19b635df82bf2cf3203827f2c3b80b1e",
   "f0a24ca68edd689b85506f194461f018",
   "b7bd098c7849940ce845ba07bcfac3bc",
   "d154b8d0c58d14f906f000e6107018af",
   "eb1e6c42c3f7db68917c54ab13e088e7",
   "4ed05e0523bdd8f6254f3327ca19dc57",
   "4146cf0488daa1d5ea79713285d46e02",
   "d72da9bb8aeb2136f9ded8b06f126690",
   "6583d8efcbfb4f395b48fa6df8286399",
   "f063a38f7f7f377846674634ffc427fb",
   "d41d8cd98f00b204e9800998ecf8427e",
   "1d82d5ba260d7a02f0e30f84aafb1222",
   "f0a24ca68edd689b85506f194461f018",
   "9dc74b9d72bdfe6e2cb6f13490fed73c",
   "291babc02ab80fe20eb6030f956d330a",
   "00957ee1138e001b70f6b1d1cbcd6d78",
   "6cfa97330ac160c6d59a4985ed3e50de",
   "f0a24ca68edd689b85506f194461f018",
   "cd2547a166bd239eb0f414fe1f59be18",
   "f7d85a1e3c0166ec3d43b1e308582bba",
   "0108c7bd7c60e55cf4aa6fa5bb21e057",
   "8837924945266e1a0ef2c688b518ead1",
   "32490779f75126c64f7d18475ab6f0d3",
   "aec4b6b633d9473bf5ab9432541a53fe",
   "f0a24ca68edd689b85506f194461f018",
   "129ac3cbae08c7164ae6d447f22a53cf",
   "c94e986794650559a180c18bd0e79c39",
   "4f0fb0f1c7361bd5f6850c0e5fa48dbb"
  ],
  "kernelspec": {
   "display_name": "Python 3",
   "language": "python",
   "name": "python3"
  },
  "language_info": {
   "codemirror_mode": {
    "name": "ipython",
    "version": 3
   },
   "file_extension": ".py",
   "mimetype": "text/x-python",
   "name": "python",
   "nbconvert_exporter": "python",
   "pygments_lexer": "ipython3",
   "version": "3.6.6"
  },
  "number_of_pagebreaks": 5
 },
 "nbformat": 4,
 "nbformat_minor": 1
}
