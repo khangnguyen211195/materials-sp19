{
 "cells": [
  {
   "cell_type": "markdown",
   "metadata": {},
   "source": [
    "<table align=\"left\" style=\"border-style: hidden\" class=\"table\"> <tr><td class=\"col-md-2\"><img style=\"float\" src=\"http://prob140.org/assets/icon256.png\" alt=\"Prob140 Logo\" style=\"width: 120px;\"/></td><td><div align=\"left\"><h3 style=\"margin-top: 0;\">Probability for Data Science</h3><h4 style=\"margin-top: 20px;\">UC Berkeley, Fall 2018</h4><p>Ani Adhikari and Jim Pitman</p>CC BY-NC 4.0</div></td></tr></table><!-- not in pdf -->"
   ]
  },
  {
   "cell_type": "code",
   "execution_count": null,
   "metadata": {
    "#solution": false,
    "#staff": false,
    "#student": false
   },
   "outputs": [],
   "source": [
    "# SETUP\n",
    "\n",
    "import itertools\n",
    "import numpy as np\n",
    "from datascience import *\n",
    "from prob140 import *\n",
    "\n",
    "# These lines do some fancy plotting magic\n",
    "import matplotlib\n",
    "%matplotlib inline\n",
    "import matplotlib.pyplot as plt\n",
    "plt.style.use('fivethirtyeight')\n",
    "\n",
    "# These lines make warnings look nicer\n",
    "import warnings\n",
    "warnings.simplefilter('ignore', FutureWarning)\n",
    "\n",
    "# Useful for probability calculations\n",
    "from scipy import stats\n",
    "from scipy import misc"
   ]
  },
  {
   "cell_type": "code",
   "execution_count": null,
   "metadata": {
    "#solution": false,
    "#staff": false,
    "#student": false
   },
   "outputs": [],
   "source": [
    "def _remove_gaps(domain, prob):\n",
    "    \"\"\"\n",
    "    domain must be sorted\n",
    "    \"\"\"\n",
    "    new_probs = []\n",
    "    index = 0\n",
    "    max_value = max(domain)\n",
    "    for i in range(max_value + 1):\n",
    "        if i < domain[index]:\n",
    "            new_probs.append(0)\n",
    "        else:\n",
    "            new_probs.append(prob[index])\n",
    "            index += 1\n",
    "    return np.array(new_probs)"
   ]
  },
  {
   "cell_type": "code",
   "execution_count": null,
   "metadata": {
    "#solution": false,
    "#staff": false,
    "#student": false
   },
   "outputs": [],
   "source": [
    "def plot_sample(p_array, s, m):\n",
    "    \"\"\"\n",
    "    Plots a dot plot sampled s times from p_array.\n",
    "    \n",
    "    Parameters\n",
    "    ----------\n",
    "    p_array : array\n",
    "        An array of probabilities corresponding to p_0, ..., p_n.\n",
    "    s : int\n",
    "        Sample size.\n",
    "    m : int\n",
    "        Highlighted value.\n",
    "    \"\"\"\n",
    "    assert s % 2 == 1, 's must be odd.'\n",
    "    n = len(p_array)\n",
    "    samples = sorted(np.random.choice(np.array(n), size=s, p=p_array))\n",
    "    counts = _remove_gaps(*np.unique(samples, return_counts=True))\n",
    "    for i in range(n):\n",
    "        if i < len(counts):\n",
    "            x = [i] * counts[i]\n",
    "            y = np.arange(counts[i])\n",
    "            if i == m:\n",
    "                color = 'k'\n",
    "                plt.vlines(i, -1, max(10, max(counts)), linewidth=1,\n",
    "                           color='blue',lw=2, label='m')\n",
    "            else:\n",
    "                color = 'k'\n",
    "            plt.scatter(x, y, color=color, s=40)\n",
    "    median_value = samples[s // 2]\n",
    "    # If there multiple instance of the median value, want to know which\n",
    "    # one is the real median.\n",
    "    median_index = s // 2 - samples.index(median_value)\n",
    "    plt.scatter(median_value, median_index, color='r', s=40,\n",
    "                label='median')\n",
    "    plt.axhline(-1, color='k')\n",
    "    plt.xlim(-0.5, n - 0.5)\n",
    "    ax = plt.gca()\n",
    "    ax.set_xticks(np.arange(n))\n",
    "    ax.set_yticks([])\n",
    "    ax.grid(False)\n",
    "    plt.ylim(-1, max(10, max(counts)))\n",
    "    plt.legend()\n",
    "    if median_value > m:\n",
    "        print('Sample median is greater than m.')\n",
    "    else:\n",
    "        print('Sample median is not greater than m.')\n",
    "    plt.title('Sample Median')\n"
   ]
  },
  {
   "cell_type": "markdown",
   "metadata": {
    "#solution": false,
    "#staff": false,
    "#student": false
   },
   "source": [
    "## Lab Resources\n",
    "\n",
    "* [`prob 140` Library Documentation](http://prob140.org/prob140/)\n",
    "* [Data 8 Python Reference](http://data8.org/fa18/python-reference.html)\n",
    "* [Prob 140 Code Reference Sheet](http://prob140.org/assets/prob140_code_reference.pdf)\n",
    "* [`scipy.stats` Documentation](https://docs.scipy.org/doc/scipy/reference/stats.html)"
   ]
  },
  {
   "cell_type": "markdown",
   "metadata": {
    "#solution": false,
    "#staff": false,
    "#student": false,
    "collapsed": true
   },
   "source": [
    "# Lab 4: Expectations of Discrete Order Statistics #\n",
    "Additivity is a powerful property of expectation: you have seen several examples in which writing a random variable as a sum of simpler variables has led to a simple calculation of its expected value. But other methods are needed for finding the expectations of random variables that can't easily be written as sums. \n",
    "\n",
    "Using the basic definition of expectation is one such method, and it works well when you can easily write down the distribution of the random variable and have the computational tools to work out the resulting sum. However, distributions aren't always straightforward to write down.\n",
    "\n",
    "This lab is about expectations of a class of random variables that don't have natural representations as sums of simpler variables. These variables, called *order statistics*, can be thought of as the elements of a random sample arranged in increasing order. We will work with just two of them:\n",
    "- the minimum\n",
    "- the median\n",
    "\n",
    "You have used the sample median as a statistic in Data 8. How big is a random sample median expected to be? By the end of this lab you will have an answer to this question. \n",
    "\n",
    "The corresponding question for the sample mean has an easy answer by additivity: the expectation of a random sample mean is the population mean. But additivity isn't very helpful for medians as medians aren't easy to think of as sums. A different approach is needed. \n",
    "\n",
    "What you will learn in this lab:\n",
    "- How to compute expectations using the tail sum formula\n",
    "- How to find the expected minimum value in a random sample\n",
    "- How to calculate tail probabilities for a random sample median\n",
    "- How to find the expectation of a random sample median\n",
    "- How random sample medians behave as the sample size gets large\n",
    "\n",
    "Let's start by reviewing a clever way of finding the expectation of a non-negative integer valued random variable."
   ]
  },
  {
   "cell_type": "markdown",
   "metadata": {
    "#solution": false,
    "#staff": false,
    "#student": false
   },
   "source": [
    "## Part 1: Tail Sum Formula for Expectation ##\n",
    "Let $X$ be a random variable with values $0, 1, 2, 3, \\ldots, N$ for some fixed integer $N$. As you know, the cumulative distribution function (cdf) of $X$ is the function $F$ defined by\n",
    "$$\n",
    "F(x) ~ = ~ P(X \\le x) \n",
    "$$\n",
    "for all $x$.\n",
    "\n",
    "The *tail probability function* $T$ is defined by\n",
    "\n",
    "$$\n",
    "T(x) ~ = ~ P(X > x) ~ = ~ 1 - F(x)\n",
    "$$\n",
    "for all $x$.\n",
    "\n",
    "Here is the probability histogram of a random variable with distribution `example_dist`. The gold area is equal to $F(4)$ and the blue area is $T(4)$."
   ]
  },
  {
   "cell_type": "code",
   "execution_count": null,
   "metadata": {
    "#solution": false,
    "#staff": false,
    "#student": false
   },
   "outputs": [],
   "source": [
    "example_vals = np.arange(8)\n",
    "example_probs = make_array(0.05, 0.1, 0.2, 0.25, 0.15, 0.12, 0.08, 0.05)\n",
    "\n",
    "example_dist = Table().values(example_vals).probability(example_probs)\n",
    "\n",
    "Plot(example_dist, event = np.arange(5))\n",
    "\n",
    "plt.title('Gold Area = $F(4)$, Blue Area = $T(4)$');"
   ]
  },
  {
   "cell_type": "markdown",
   "metadata": {
    "#solution": false,
    "#staff": false,
    "#student": false
   },
   "source": [
    "### Tail Sum Formula ###\n",
    "\n",
    "For simplicty of notation, define $p_i = P(X = i)$ for $0 \\le i \\le N$. Then $p_i \\ge 0$ for all $i$ and $\\sum_{i=0}^N p_i = 1$.\n",
    "\n",
    "The definition of the expectation of $X$ is\n",
    "\n",
    "$$\n",
    "E(X) ~ = ~ p_1 + 2p_2 + 3p_3 + \\cdots + Np_N\n",
    "$$\n",
    "\n",
    "As you have seen, the *tail sum formula* allows you to calculate the expectation of a non-negative integer valued random variable based on the tail probabilities alone:\n",
    "\n",
    "$$\n",
    "E(X) = T(0) + T(1) + \\cdots + T(N-1) + T(N)\n",
    "$$\n",
    "\n",
    "In the sum above, the last term $T(N)$ is 0. So you can stop the sum at $T(N-1)$, but it doesn't hurt to include $T(N)$."
   ]
  },
  {
   "cell_type": "markdown",
   "metadata": {
    "#solution": false,
    "#staff": false,
    "#student": false
   },
   "source": [
    "### 1a) Computing Tail Probabilities ###\n",
    "For a random variable $X$ with possible values $0, 1, 2, \\ldots, N$ as above, we will use the term \"probability array\" for an array consisting of the sequence $p_0, p_1, \\ldots, p_N$. \n",
    "\n",
    "Define a function `tails` that takes the probability array as its argument and returns an array of all the tail probabilities. Remember the word \"cumulative\" in cdf, and use `np.cumsum` appropriately."
   ]
  },
  {
   "cell_type": "code",
   "execution_count": null,
   "metadata": {
    "#solution": false,
    "#staff": false,
    "#student": true
   },
   "outputs": [],
   "source": [
    "\n",
    "def tails(prob_array):\n",
    "    return ..."
   ]
  },
  {
   "cell_type": "markdown",
   "metadata": {
    "#solution": false,
    "#staff": false,
    "#student": false
   },
   "source": [
    "Suppose $p_0 = 0.3$, $p_1 = 0.5$, and $p_2 = 0.2$, and let `probs` be the array [0.3, 0.5, 0.2].\n",
    "\n",
    "What should `tails(probs).item(0)` and `tails(probs).item(2)` evaluate to? Check that they work out as they should."
   ]
  },
  {
   "cell_type": "code",
   "execution_count": null,
   "metadata": {
    "#solution": false,
    "#staff": false,
    "#student": false
   },
   "outputs": [],
   "source": [
    "probs = make_array(0.3, 0.5, 0.2)\n",
    "\n",
    "tails(probs).item(0), tails(probs).item(2)"
   ]
  },
  {
   "cell_type": "markdown",
   "metadata": {
    "#solution": false,
    "#staff": false,
    "#student": false
   },
   "source": [
    "### 1b) Expectation by the Definition ###\n",
    "Here is the distribution of a random variable $X$."
   ]
  },
  {
   "cell_type": "code",
   "execution_count": null,
   "metadata": {
    "#solution": false,
    "#staff": false,
    "#student": false
   },
   "outputs": [],
   "source": [
    "values_X = np.arange(5)\n",
    "probs_X = make_array(0.3, 0.35, 0.2, 0.1, 0.05)\n",
    "dist_X = Table().values(values_X).probability(probs_X)\n",
    "dist_X"
   ]
  },
  {
   "cell_type": "markdown",
   "metadata": {
    "#solution": false,
    "#staff": false,
    "#student": false
   },
   "source": [
    "Use array operations and the arrays defined above to find $E(X)$. The last line of code should evaluate to $E(X)$."
   ]
  },
  {
   "cell_type": "code",
   "execution_count": null,
   "metadata": {
    "#solution": false,
    "#staff": false,
    "#student": true
   },
   "outputs": [],
   "source": [
    "\n",
    "..."
   ]
  },
  {
   "cell_type": "markdown",
   "metadata": {
    "#solution": false,
    "#staff": false,
    "#student": false
   },
   "source": [
    "The `prob140` method `ev` operates on a Distribution object and returns the expectation. Run the cell to check if your calculation above is correct."
   ]
  },
  {
   "cell_type": "code",
   "execution_count": null,
   "metadata": {
    "#solution": false,
    "#staff": false,
    "#student": false
   },
   "outputs": [],
   "source": [
    "dist_X.ev()"
   ]
  },
  {
   "cell_type": "markdown",
   "metadata": {
    "#solution": false,
    "#staff": false,
    "#student": false
   },
   "source": [
    "### 1c) Expectation by the Tail Sum Formula ###\n",
    "The values of $X$ are non-negative integers, so the tail sum formula can be used to find $E(X)$. Write one line of code that uses the function `tails` from part **a** and evaluates to $E(X)$ by applying the tail sum formula."
   ]
  },
  {
   "cell_type": "code",
   "execution_count": null,
   "metadata": {
    "#solution": false,
    "#staff": false,
    "#student": true
   },
   "outputs": [],
   "source": [
    "\n",
    "..."
   ]
  },
  {
   "cell_type": "markdown",
   "metadata": {
    "#solution": false,
    "#staff": false,
    "#student": false
   },
   "source": [
    "#newpage\n",
    "\n",
    "## Part 2: Sample Minimum ##\n",
    "Let $X_1, X_2, \\ldots, X_n$ be i.i.d., each with possible values $0, 1, 2 \\ldots N$. Let $Y$ be the smallest of the $n$ sampled values, that is,\n",
    "\n",
    "$$\n",
    "Y ~ = ~ \\min\\{X_1, X_2, \\ldots , X_n\\}\n",
    "$$"
   ]
  },
  {
   "cell_type": "markdown",
   "metadata": {
    "#solution": false,
    "#staff": false,
    "#student": false
   },
   "source": [
    "### 2a) [On Paper] Expectation of the Sample Minimum ###\n",
    "\n",
    "Let $T_Y$ be the tail probability function of $Y$, that is, for all $k$ let $T_Y(k) = P(Y > k)$. Let $T_X$ be the tail probability function of $X_1$. For each $k$, find a formula for $T_Y(k)$ in terms of $T_X(k)$, and hence find a formula for $E(Y)$ in terms of $T_X$. Your formulas can involve $N$ and $n$."
   ]
  },
  {
   "cell_type": "markdown",
   "metadata": {
    "#solution": false,
    "#staff": false,
    "#student": false
   },
   "source": [
    "### 2b) Computing the Expected Sample Minimum ###\n",
    "Now implement the result you found in part **a**. Define a function `expected_sample_min` that takes the probability array of $X_1$ as the first argument and $n$ as the second, and returns $E(Y)$. Use the function `tails` that you defined in Part 1."
   ]
  },
  {
   "cell_type": "code",
   "execution_count": null,
   "metadata": {
    "#solution": false,
    "#staff": false,
    "#student": true
   },
   "outputs": [],
   "source": [
    "\n",
    "def expected_sample_min(prob_array, n):\n",
    "    ..."
   ]
  },
  {
   "cell_type": "markdown",
   "metadata": {
    "#solution": false,
    "#staff": false,
    "#student": false
   },
   "source": [
    "### 2c) Checking that Your Function Works ###\n",
    "\n",
    "Let $X_1$ and $X_2$ be i.i.d. uniform on 0, 1, and 2, and let $Y = \\min(X_1, X_2)$. Use the lines of the cell below to compute the distribution of $Y$ (without using tails; just enumerate the outcomes) and hence $E(Y)$ (by applying the definition). The last line of code should evaluate to $E(Y)$."
   ]
  },
  {
   "cell_type": "code",
   "execution_count": null,
   "metadata": {
    "#solution": false,
    "#staff": false,
    "#student": true
   },
   "outputs": [],
   "source": [
    "\n",
    "# P(Y = 0)\n",
    "p_y_0 = ...\n",
    "\n",
    "# P(Y = 1)\n",
    "p_y_1 = ...\n",
    "\n",
    "# P(Y = 2)\n",
    "p_y_2 = ...\n",
    "\n",
    "# E(Y)\n",
    "..."
   ]
  },
  {
   "cell_type": "markdown",
   "metadata": {
    "#solution": false,
    "#staff": false,
    "#student": false
   },
   "source": [
    "Now check that your function works. Start by defining the probability array you need as the first argument. The last line of code should evaluate to the answer you got above."
   ]
  },
  {
   "cell_type": "code",
   "execution_count": null,
   "metadata": {
    "#solution": false,
    "#staff": false,
    "#student": true
   },
   "outputs": [],
   "source": [
    "\n",
    "probs = ...\n",
    "expected_sample_min(probs, 2)"
   ]
  },
  {
   "cell_type": "markdown",
   "metadata": {
    "#solution": false,
    "#staff": false,
    "#student": false
   },
   "source": [
    "### 2d) Expected Minimum of Rolls of a Die ###\n",
    "The expectation of the minimum of two rolls of a die is about 2.528, as you should check by hand when you get a chance. To check this by using your function `expected_sample_min`, what probability array should you use? Be careful ...\n",
    "\n",
    "Fill in the comment with your reasoning. Assign `fair_die_prob_array` to the probability array, and run the cell. The last line should evaluate to approximately 2.528. "
   ]
  },
  {
   "cell_type": "code",
   "execution_count": null,
   "metadata": {
    "#solution": false,
    "#staff": false,
    "#student": true
   },
   "outputs": [],
   "source": [
    "\"\"\"\n",
    "The array needs to include p_0 which is the chance of ...\n",
    "p_0 = ...\n",
    "\"\"\"\n",
    "\n",
    "fair_die_prob_array = ...\n",
    "expected_sample_min(fair_die_prob_array, 2)"
   ]
  },
  {
   "cell_type": "markdown",
   "metadata": {
    "#solution": false,
    "#staff": false,
    "#student": false
   },
   "source": [
    "Write one line of code that evaluates to the expected minimum of 10 rolls of a die."
   ]
  },
  {
   "cell_type": "code",
   "execution_count": null,
   "metadata": {
    "#solution": false,
    "#staff": false,
    "#student": true
   },
   "outputs": [],
   "source": [
    "\n",
    "..."
   ]
  },
  {
   "cell_type": "markdown",
   "metadata": {
    "#solution": false,
    "#staff": false,
    "#student": false
   },
   "source": [
    "Explain why this answer is less than the expected minimum of two rolls of a die."
   ]
  },
  {
   "cell_type": "markdown",
   "metadata": {
    "#solution": false,
    "#staff": false,
    "#student": true
   },
   "source": [
    "\n",
    "**Your answer here.**"
   ]
  },
  {
   "cell_type": "markdown",
   "metadata": {
    "#solution": false,
    "#staff": false,
    "#student": false
   },
   "source": [
    "### 2e) Sample Minimum Household Size ###\n",
    "The website Statista provides the [distributions of household sizes](https://www.statista.com/statistics/242189/disitribution-of-households-in-the-us-by-household-size/) in the United States, for various years. Go to the website and notice their choice of stacked bars representing the proportions of households of different sizes. If you hover your cursor over one of the stacks, you can see the percents in that stack. Notice also:\n",
    "- No household has 0 members, so the bottom bar (blue) represents households with one member.\n",
    "- The distributions have been *truncated* at 7. That is, the last category of sizes is \"7 or more\". This truncation could markedly affect the calculation of average household size, so we won't do that. However, it will have little effect on the minimum household size in the sample and on the sample median. \n",
    "\n",
    "Let's start with the 2017 distribution. We'll call the final category \"7 persons\", not \"7 or more\". So everything we do using these proportions will be an approximation, not an exact value.\n",
    "\n",
    "First, run the cell below for some cleanup to compensate for the fact that the proportions provided don't quite add up to 1. The array `hh_size_2017` is the household size probability array for 2017: there are no households with 0 members, roughly 28% with 1 member, and so on. We have just normalized Statista's proportions by the total and rounded the results."
   ]
  },
  {
   "cell_type": "code",
   "execution_count": null,
   "metadata": {
    "#solution": false,
    "#staff": false,
    "#student": false
   },
   "outputs": [],
   "source": [
    "statista = make_array(0.2792, 0.3447, 0.1546, 0.1284, 0.058, 0.0221, 0.0128)\n",
    "hh_size_2017 = np.append(0, statista)\n",
    "hh_size_2017 = np.round(hh_size_2017/sum(hh_size_2017), 4)\n",
    "hh_size_2017"
   ]
  },
  {
   "cell_type": "markdown",
   "metadata": {
    "#solution": false,
    "#staff": false,
    "#student": false
   },
   "source": [
    "Use your function `expected_sample_min` to write one line of code that evaluates to the expected minimum household size in a random sample of 100 households from 2017."
   ]
  },
  {
   "cell_type": "code",
   "execution_count": null,
   "metadata": {
    "#solution": false,
    "#staff": false,
    "#student": true
   },
   "outputs": [],
   "source": [
    "\n",
    "..."
   ]
  },
  {
   "cell_type": "markdown",
   "metadata": {
    "#solution": false,
    "#staff": false,
    "#student": false
   },
   "source": [
    "Does the answer agree with your intuition? Explain"
   ]
  },
  {
   "cell_type": "markdown",
   "metadata": {
    "#solution": false,
    "#staff": false,
    "#student": true
   },
   "source": [
    "\n",
    "**Your answer here.**"
   ]
  },
  {
   "cell_type": "markdown",
   "metadata": {
    "#solution": false,
    "#staff": false,
    "#student": false
   },
   "source": [
    "Now do the same using the 1970 distribution. We have set up the 1970 household size probability array."
   ]
  },
  {
   "cell_type": "code",
   "execution_count": null,
   "metadata": {
    "#solution": false,
    "#staff": false,
    "#student": false
   },
   "outputs": [],
   "source": [
    "hh_size_1970 = np.append(0, make_array(.17, .29, .17, .16, .1, .06, .05))"
   ]
  },
  {
   "cell_type": "code",
   "execution_count": null,
   "metadata": {
    "#solution": false,
    "#staff": false,
    "#student": true
   },
   "outputs": [],
   "source": [
    "\n",
    "..."
   ]
  },
  {
   "cell_type": "markdown",
   "metadata": {
    "#solution": false,
    "#staff": false,
    "#student": false
   },
   "source": [
    "#newpage\n",
    "\n",
    "## Part 3: Tail Probabilities of the Sample Median ##\n",
    "We will analyze the sample median in the straightforward case where the sample size $s = 2n+1$ is odd and \"the median\" is defined as the $(n+1)$st value when the sample is sorted in ascending order. The $(n+1)$st is the right item to pick out, because $2n+1 = n + 1 + n$.\n",
    "\n",
    "This sample median is formally known as the *$(n+1)$st order statistic* of the sample.\n",
    "\n",
    "The example below will help clarify the definition."
   ]
  },
  {
   "cell_type": "code",
   "execution_count": null,
   "metadata": {
    "#solution": false,
    "#staff": false,
    "#student": false
   },
   "outputs": [],
   "source": [
    "# 7 = 2*3 + 1\n",
    "\n",
    "sample_7 = make_array(23, 81, 34, 13, 56, 27, 26)\n",
    "sample_7_median = np.sort(sample_7).item(3)       # item(3) is the 4th item\n",
    "sample_7_median"
   ]
  },
  {
   "cell_type": "markdown",
   "metadata": {
    "#solution": false,
    "#staff": false,
    "#student": false
   },
   "source": [
    "### 3a) The Event \"Sample Median $ > m$\" ###\n",
    "Start by visualizing what has to happen for the sample median to be larger than a given value. The function `plot_sample` takes three arguments:\n",
    "- a probability array of our usual form $[p_0, p_1, \\ldots, p_N]$\n",
    "- an odd numbered sample size $s = 2n+1$ for some non-negative integer $n$\n",
    "- a value of $m$\n",
    "\n",
    "It displays a dot plot of an i.i.d. sample of size $s$ drawn from the probability array (remember that the possible values are $0, 1, \\ldots, N$). The vertical blue line is at $m$. The statement above the plot says whether or not the sample median is greater than $m$.\n",
    "\n",
    "Run the cell below many times just as written. Each time, count how many dots are on the right of the vertical line, and note whether or not the median is bigger than $m$. Then change $m$ and $s$ and run it again a few times, but don't go too crazy with the changes."
   ]
  },
  {
   "cell_type": "code",
   "execution_count": null,
   "metadata": {
    "#solution": false,
    "#staff": false,
    "#student": false
   },
   "outputs": [],
   "source": [
    "plot_sample(hh_size_1970, 7, 2)"
   ]
  },
  {
   "cell_type": "markdown",
   "metadata": {
    "#solution": false,
    "#staff": false,
    "#student": false
   },
   "source": [
    "Fill in the blank with the appropriate phrase:\n",
    "\n",
    "The median of a sample of size $2n+1$ is bigger than $m$ if and only if $\\underline{~~~~~~~~~~~~~~~~}$ of the sampled elements are bigger than $m$."
   ]
  },
  {
   "cell_type": "markdown",
   "metadata": {
    "#solution": false,
    "#staff": false,
    "#student": true
   },
   "source": [
    "\n",
    "**Your answer here.**"
   ]
  },
  {
   "cell_type": "markdown",
   "metadata": {
    "#solution": false,
    "#staff": false,
    "#student": false
   },
   "source": [
    "### 3b) [On Paper] Tails of the Sample Median ###\n",
    "Let $s = 2n+1$. Let $X_1, X_2, \\ldots , X_s$ be i.i.d., each with possible values $0, 1, 2, \\ldots, N$ and tail probability function $T_X$. \n",
    "\n",
    "Let $M$ be the median of $X_1, X_2, \\ldots, X_s$, as defined above. \n",
    "\n",
    "Fill in the first blank below with the name of a famous distribution and the appropriate parameters. Fill in the second blank with an integer expressed in terms of $s$. **Explain your choices.**\n",
    "\n",
    "For an integer $m$ in the range 0 through $N$, $P(M > m)$ is equal to the probability that a random variable with $\\underline{~~~~~~~~~~~~~~~~~~~~~}$ distribution is greater than $\\underline{~~~~~~~~~~~~}$.\n",
    "\n",
    "[Hint: Think about what you counted in part **a**. Define the $X$'s as trials and figure out how to define \"success\".]"
   ]
  },
  {
   "cell_type": "markdown",
   "metadata": {
    "#solution": false,
    "#staff": false,
    "#student": false
   },
   "source": [
    "#newpage\n",
    "\n",
    "## Part 4. Computing the Expected Sample Median ##"
   ]
  },
  {
   "cell_type": "markdown",
   "metadata": {
    "#solution": false,
    "#staff": false,
    "#student": false
   },
   "source": [
    "The goal of this part is to write a function that computes the expectation of a random sample median using the formula you derived in Part 3. \n",
    "\n",
    "For this, it will help to have two computational preliminaries."
   ]
  },
  {
   "cell_type": "markdown",
   "metadata": {
    "#solution": false,
    "#staff": false,
    "#student": false
   },
   "source": [
    "### 4a) Odd or Even? ###\n",
    "The Python operator `%` operates on two numbers `a` and `b` where `b` is non-zero, and returns the remainder after `a` is divided by `b`. The expression\n",
    "\n",
    "`a % b`\n",
    "\n",
    "evaluates to the remainder of `a` divided by `b`.\n",
    "\n",
    "For example, the remainder of 14 divided by 4 is 2, because $14 = (4*3) + 2$."
   ]
  },
  {
   "cell_type": "code",
   "execution_count": null,
   "metadata": {
    "#solution": false,
    "#staff": false,
    "#student": false
   },
   "outputs": [],
   "source": [
    "14 % 4"
   ]
  },
  {
   "cell_type": "markdown",
   "metadata": {
    "#solution": false,
    "#staff": false,
    "#student": false
   },
   "source": [
    "Use `%` to define a function `is_odd` that takes non-negative integer as its argument and returns `True` if the argument is odd and `False` otherwise."
   ]
  },
  {
   "cell_type": "code",
   "execution_count": null,
   "metadata": {
    "#solution": false,
    "#staff": false,
    "#student": true
   },
   "outputs": [],
   "source": [
    "\n",
    "def is_odd(n):\n",
    "    ..."
   ]
  },
  {
   "cell_type": "markdown",
   "metadata": {
    "#solution": false,
    "#staff": false,
    "#student": false
   },
   "source": [
    "### 4b) Binomial CDF and Tails ###\n",
    "Let $n$ and $k$ be integers such that $0 \\le k \\le n$, and let $p \\in (0, 1)$.\n",
    "\n",
    "You know that `stats.binom.pmf(k, n, p)` evaluates to $\\binom{n}{k} p^k (1-p)^{n-k}$, the probability mass of the binomial $(n, p)$ distribution at the value $k$.\n",
    "\n",
    "Also, `stats.binom.cdf(k, n, p)` evaluates to the cumulative distribution function (cdf) of the binomial $(n, p)$ distribution, evaluated at $k$. That is, it evaluates to $P(W \\le k)$ where $W$ has the binomial $(n, p)$ distribution.\n",
    "\n",
    "As a numerical example, let $W$ have the binomial $(100, 0.7)$ distribution. Use `stats.binom.cdf` to write an expression that evaluates to the tail probability $P(W > 75)$."
   ]
  },
  {
   "cell_type": "code",
   "execution_count": null,
   "metadata": {
    "#solution": false,
    "#staff": false,
    "#student": true
   },
   "outputs": [],
   "source": [
    "\n",
    "..."
   ]
  },
  {
   "cell_type": "markdown",
   "metadata": {
    "#solution": false,
    "#staff": false,
    "#student": false
   },
   "source": [
    "To get the cdf of the binomial $(n, p)$ distribution at an array `x` of possible values, use `stats.binom.cdf(x, n, p)`.\n",
    "\n",
    "For example, here is the cdf of the binomial (100, 0.5) distribution evaluated at the points 45, 50, and 55."
   ]
  },
  {
   "cell_type": "code",
   "execution_count": null,
   "metadata": {
    "#solution": false,
    "#staff": false,
    "#student": false
   },
   "outputs": [],
   "source": [
    "stats.binom.cdf(make_array(45, 50, 55), 100, 0.5)"
   ]
  },
  {
   "cell_type": "markdown",
   "metadata": {
    "#solution": false,
    "#staff": false,
    "#student": false
   },
   "source": [
    "When you use `stats.binom` methods, you can replace other arguments by arrays too. For example, suppose you have three biased coins that land heads with chance 0.2, 0.3, and 0.4, and for each of them you want the chance of getting 4 heads in 7 tosses. The expression in the cell below evaluates to an array containing the three chances."
   ]
  },
  {
   "cell_type": "code",
   "execution_count": null,
   "metadata": {
    "#solution": false,
    "#staff": false,
    "#student": false
   },
   "outputs": [],
   "source": [
    "stats.binom.pmf(4, 7, make_array(0.2, 0.3, 0.4))"
   ]
  },
  {
   "cell_type": "markdown",
   "metadata": {
    "#solution": false,
    "#staff": false,
    "#student": false
   },
   "source": [
    "I have 9 coins. For each $i$ in the range 1 through 9, Coin $i$ lands heads with chance $p_i = i/10$. Write an expression that evaluates to an array consisting of the following tail probabilities:\n",
    "\n",
    "$$\n",
    "P(\\text{more than 3 heads in 8 tosses of Coin } i), ~~~ i = 1, 2, 3, \\ldots, 9\n",
    "$$"
   ]
  },
  {
   "cell_type": "code",
   "execution_count": null,
   "metadata": {
    "#solution": false,
    "#staff": false,
    "#student": true
   },
   "outputs": [],
   "source": [
    "\n",
    "..."
   ]
  },
  {
   "cell_type": "markdown",
   "metadata": {
    "#solution": false,
    "#staff": false,
    "#student": false
   },
   "source": [
    "### 4c) Expectation of the Sample Median ###\n",
    "You are now ready to compute the expectation of a random sample median.\n",
    "\n",
    "Define a function `expected_sample_median` that takes as its arguments a probability array of the form $[p_0, p_1, \\ldots, p_N]$ and a sample size, and returns:\n",
    "- the string `'For this calculation, the sample size has to be an odd number.'` if the sample size is even\n",
    "- the expectation of the median of an i.i.d. sample of the given size from the given array, if the sample size is odd\n",
    "\n",
    "You will need:\n",
    "\n",
    "- The tail sum formula\n",
    "- Your answer to **3b**\n",
    "- The computing preliminaries **4a** and **4b**"
   ]
  },
  {
   "cell_type": "code",
   "execution_count": null,
   "metadata": {
    "#solution": false,
    "#staff": false,
    "#student": true
   },
   "outputs": [],
   "source": [
    "\n",
    "def expected_sample_median(prob_array, s):\n",
    "    ..."
   ]
  },
  {
   "cell_type": "markdown",
   "metadata": {
    "#solution": false,
    "#staff": false,
    "#student": false
   },
   "source": [
    "Run the cell below to confirm that your function is doing the right thing. It uses the probability array `probs_X` from **1b**."
   ]
  },
  {
   "cell_type": "code",
   "execution_count": null,
   "metadata": {
    "#solution": false,
    "#staff": false,
    "#student": false
   },
   "outputs": [],
   "source": [
    "expected_sample_median(probs_X, 10)"
   ]
  },
  {
   "cell_type": "markdown",
   "metadata": {
    "#solution": false,
    "#staff": false,
    "#student": false
   },
   "source": [
    "If the sample size is 1, then there's just one element $X_1$ in the sample, and that's the median. So if the sample size is 1 then $M = X_1$ and hence $E(M) = E(X_1)$. \n",
    "\n",
    "The cell below uses the probability array `probs_X` from **1b**. Check that your function does the right thing in the cell below. The value you should get is in **1b**."
   ]
  },
  {
   "cell_type": "code",
   "execution_count": null,
   "metadata": {
    "#solution": false,
    "#staff": false,
    "#student": false
   },
   "outputs": [],
   "source": [
    "expected_sample_median(probs_X, 1)"
   ]
  },
  {
   "cell_type": "markdown",
   "metadata": {
    "#solution": false,
    "#staff": false,
    "#student": false
   },
   "source": [
    "### 4d) Sample Median Household Size ###"
   ]
  },
  {
   "cell_type": "markdown",
   "metadata": {
    "#solution": false,
    "#staff": false,
    "#student": false
   },
   "source": [
    "Find the expectation of the median household size in a random sample of 25 households taken in 1970."
   ]
  },
  {
   "cell_type": "code",
   "execution_count": null,
   "metadata": {
    "#solution": false,
    "#staff": false,
    "#student": true
   },
   "outputs": [],
   "source": [
    "\n",
    "..."
   ]
  },
  {
   "cell_type": "markdown",
   "metadata": {
    "#solution": false,
    "#staff": false,
    "#student": false
   },
   "source": [
    "Do the same for a random sample of 25 households in 2017."
   ]
  },
  {
   "cell_type": "code",
   "execution_count": null,
   "metadata": {
    "#solution": false,
    "#staff": false,
    "#student": true
   },
   "outputs": [],
   "source": [
    "\n",
    "..."
   ]
  },
  {
   "cell_type": "markdown",
   "metadata": {
    "#solution": false,
    "#staff": false,
    "#student": false
   },
   "source": [
    "### 4e) Change Over Time ###\n",
    "Look at [the graphs](https://www.statista.com/statistics/242189/disitribution-of-households-in-the-us-by-household-size/) again. The distribution of household size in the US has been changing over the decades.\n",
    "\n",
    "Fill in the blanks with numbers, and explain your reasoning:\n",
    "\n",
    "As the sample size increases, the expected median household size in the sample from 1970 will get closer to $\\underline{~~~~~~~~~~~~~~~~~~}$ and the expected median household size in the sample from 2017 will get closer to $\\underline{~~~~~~~~~~~~~~~~~~}$."
   ]
  },
  {
   "cell_type": "markdown",
   "metadata": {
    "#solution": false,
    "#staff": false,
    "#student": true
   },
   "source": [
    "\n",
    "**Your answer here.**"
   ]
  },
  {
   "cell_type": "markdown",
   "metadata": {
    "#solution": false,
    "#staff": false,
    "#student": false
   },
   "source": [
    "Check that your answers above are consistent with the computed expected sample medians. In the cell below, enter two expressions. The first should evaluate to the expected median household size in a random sample of size 1001 in 1970, and the second should evaluate to the expected median household size in a random sample of size 1001 in 2017."
   ]
  },
  {
   "cell_type": "code",
   "execution_count": null,
   "metadata": {
    "#solution": false,
    "#staff": false,
    "#student": true
   },
   "outputs": [],
   "source": [
    "\n",
    "... , ..."
   ]
  },
  {
   "cell_type": "markdown",
   "metadata": {
    "#solution": false,
    "#staff": false,
    "#student": false
   },
   "source": [
    "## Conclusion ##\n",
    "What you have learned in this lab:\n",
    "\n",
    "- The use of the tail sum formula in finding the expectations of non-negative integer valued random variables\n",
    "- Some properties of *discrete order statistics*, that is, sorted values in random samples\n",
    "- How to find the expectation of the minimum of an i.i.d. sample from a population of non-negative integers\n",
    "- A duality between the tail of the median of an i.i.d. sample and the tail of a well known distribution\n",
    "- The use of this duality and the tail sum formula in finding the expectation of the median of an i.i.d. sample\n",
    "\n",
    "That's pretty impressive! Congratulations."
   ]
  },
  {
   "cell_type": "markdown",
   "metadata": {
    "#solution": false,
    "#staff": false,
    "#student": false
   },
   "source": [
    "## Submission Instructions\n",
    "\n",
    "1. **Save your notebook using File > Save and Checkpoint.**\n",
    "2. Run the cell below to generate a pdf file.\n",
    "3. Download the pdf file and confirm that none of your work is missing or cut off.\n",
    "4. Submit the written component to **Lab04a** and the code component to **Lab04b** on Gradescope.\n",
    "\n",
    "Written questions:\n",
    "* 2a\n",
    "* 3b\n",
    "\n",
    "Code questions:\n",
    "* 1a-c\n",
    "* 2b-e\n",
    "* 3a\n",
    "* 4a-e\n",
    "\n",
    "#### Logistics \n",
    "\n",
    "1. Examine the generated pdf before uploading to make sure that it contains all of your work.\n",
    "2. When submitting to Gradescope, select the pages of your upload corresponding to each question. \n",
    "3. If you encounter any difficulties when submitting or exporting your assignment, please make a private Piazza post **before the deadline**. \n",
    "\n",
    "### **We will not grade assignments which do not have pages selected for each question or were submitted after the deadline.** "
   ]
  },
  {
   "cell_type": "code",
   "execution_count": null,
   "metadata": {
    "#solution": false,
    "#staff": false,
    "#student": false
   },
   "outputs": [],
   "source": [
    "import gsExport\n",
    "gsExport.generateSubmission(\"Lab04.ipynb\")"
   ]
  }
 ],
 "metadata": {
  "anaconda-cloud": {},
  "checksums": [
   "41e5cd3e7433650be1eb792ff2fd6228",
   "e645bec84a534ee95b29827822b4cc13",
   "37c843d8f59f4eaf13adb53f3b3bef71",
   "3a4ab55a15133fdfce700c9ecae1d178",
   "1bf270d812ba10f34a34dc2021a3b93e",
   "6335074f87ea5bd8f30219fc4a72f529",
   "3ffbee96f911587aefd49df7b7b6a84b",
   "f076d2e7bd3e4fbf0c2ac770568447e6",
   "42a9644858e11550af0abbe8c7cc1804",
   "3ca5f3eadb5540b1e797421df8994c55",
   "6362fc532ed0742cad01fbcc8230c408",
   "39c31928ab6022aabda8f545731d86b9",
   "dd5f60afd48a3601faf95757dbb81b8f",
   "2e4527695947b264a6ba05b4d195198e",
   "ed2c78c9814ec81185ca9fbfe9238fc1",
   "8c0cdad6bf5502a6dd4bc0f608559ae3",
   "2f43b42fd833d1e77420a8dae7419000",
   "6803329a9b5452feabbcd44275838a5b",
   "9215abdba1924e5e8cca7b2601106877",
   "4ba3abf905732aff18249bd49ee96c74",
   "2f43b42fd833d1e77420a8dae7419000",
   "9c124d1f37fa09d0972565594292ae85",
   "1f4db91714e01e0168b590c572ce5010",
   "c88bbbcd39841a480a0e086f6ad46659",
   "4eacd7b1cfc87d1c3066f79922444ddc",
   "c14cb22764a93ea8c8db0ef70faebb76",
   "d208083ecbd8926bac08830cce2e00e8",
   "399d8193a90bcce497410c578bed1d91",
   "4e3ae047d7411f2e9449ed68493ba926",
   "88675c608f908f9cfad48f8bfe74cfa5",
   "df15d9a381b5f35ae5976ff242bef879",
   "c8c37d2a7dd03cae60dce10e5cf59f25",
   "2f43b42fd833d1e77420a8dae7419000",
   "06598c225219325d24652d508ca5fd2a",
   "3a76d7cce4e9ecdb4fe70737e7879960",
   "903d263e93a0bf770aba887778a629d1",
   "28adee22408a6eb07eb418ccbbafd322",
   "6fdbda61e6f0603756ab3c3acc01747f",
   "2f43b42fd833d1e77420a8dae7419000",
   "3b6b8def4ccd7dd294c76ca07a1d2368",
   "3a76d7cce4e9ecdb4fe70737e7879960",
   "d7f96b55b817083e122da9c2a1953748",
   "4055baeb9be3af626e71b30869a6a678",
   "2f43b42fd833d1e77420a8dae7419000",
   "0ce4aacfd88403fa77a89a6b64d6f31f",
   "64dc5c3b4a0fd0333462b63ffa295958",
   "3e8b99bbc3e2d16e0e94915ff25f7076",
   "bdc5e1527aa7e571b3ca099a2666c3c4",
   "502d5e6f0ba098fe3799e3f8d9fe0e6c",
   "3a76d7cce4e9ecdb4fe70737e7879960",
   "ce11dd5ac1a057575e7059caa59fc1a0",
   "69c49a1f45aef736dba66c4017f981df",
   "8b4fec5a5f7793e6f4312a4746e7fe55",
   "8943a0d76fa37ef5489359dbbe2e1dd0",
   "6f79dd8d0e07950362cff1aa0d2e0f34",
   "e3b4632507a480b52d8f9010509f9eee",
   "bf4a2fd2f2eed51537915be382506401",
   "8efcd43677c772c8e22a25eea45f1113",
   "2f43b42fd833d1e77420a8dae7419000",
   "da2793bdb400bf2d3bffb09b0df55ecb",
   "29a2276ddee329893a0d14fc6824f719",
   "772dd843913c7046572bef0752ea8d6c",
   "f2280a0712cbd476e5f900bba7958df0",
   "3bb83a66d94a2ee73ee9cd805a12bcf0",
   "2f43b42fd833d1e77420a8dae7419000",
   "ed9e2554380036b2637826b5104e3106",
   "ebb176b8681219f6e6f1fac3ece6a9ac",
   "afc242627e1b0c8faf0f30a862986633",
   "a72a5f221fca6d075ff7bf33efa8d7d7",
   "0bb39a4f2bf0f8456938b99d9939b0c1",
   "bb1116b8ec987320dc543764ce0ea5f9",
   "f1e2a408a86f0c78ef6962503cdf5fe3",
   "fef914b7e6c0640044d070b9318dba56",
   "2f43b42fd833d1e77420a8dae7419000",
   "f66a965ccf139c5ef56691dd93646643",
   "2f43b42fd833d1e77420a8dae7419000",
   "fde92e5b62c3c32f8c4e1a3c5aeb49fd",
   "3a76d7cce4e9ecdb4fe70737e7879960",
   "60d18fbdb094cb3842c8c7aa449e1b05",
   "71820c7fcbe0d184734ab39d9453e36a",
   "8d5ec51124645be952ab7c7041555edb",
   "df03de0db0f9b246b60ad3358f74290a",
   "4ea0c490ef5d6573a99ab5a830b39754"
  ],
  "kernelspec": {
   "display_name": "Python 3",
   "language": "python",
   "name": "python3"
  },
  "language_info": {
   "codemirror_mode": {
    "name": "ipython",
    "version": 3
   },
   "file_extension": ".py",
   "mimetype": "text/x-python",
   "name": "python",
   "nbconvert_exporter": "python",
   "pygments_lexer": "ipython3",
   "version": "3.5.2"
  },
  "number_of_pagebreaks": 3
 },
 "nbformat": 4,
 "nbformat_minor": 1
}
