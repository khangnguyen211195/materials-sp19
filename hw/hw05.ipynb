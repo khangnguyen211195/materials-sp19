{
 "cells": [
  {
   "cell_type": "markdown",
   "metadata": {},
   "source": [
    "<table align=\"left\" style=\"border-style: hidden\" class=\"table\"> <tr><td class=\"col-md-2\"><img style=\"float\" src=\"http://prob140.org/assets/icon256.png\" alt=\"Prob140 Logo\" style=\"width: 120px;\"/></td><td><div align=\"left\"><h3 style=\"margin-top: 0;\">Probability for Data Science</h3><h4 style=\"margin-top: 20px;\">UC Berkeley, Fall 2018</h4><p>Ani Adhikari and Jim Pitman</p>CC BY-NC 4.0</div></td></tr></table><!-- not in pdf -->"
   ]
  },
  {
   "cell_type": "markdown",
   "metadata": {
    "#solution": false,
    "#staff": false,
    "#student": false
   },
   "source": [
    "# Homework 5 #"
   ]
  },
  {
   "cell_type": "markdown",
   "metadata": {
    "#solution": false,
    "#staff": false,
    "#student": false
   },
   "source": [
    "#### Rules for Written Homework ####\n",
    "\n",
    "- Every answer should contain a calculation or reasoning. For example, a calculation such as $(1/3)(0.8) + (2/3)(0.7)$ is fine without further explanation or simplification. If we want you to simplify, we'll ask you to. But just ${5 \\choose 2}$ is not fine; write \"we need 2 out of the 5 frogs and they can appear in any order\" or whatever reasoning you used. Reasoning can be brief and abbreviated, e.g. \"product rule\" or \"not mut. excl.\"\n",
    "- Unless otherwise specified, all infinite sums have to be simplified. Finite sums may be left in summation notation.\n",
    "- You may consult others but you must write up your own answers using your own words, notation, and sequence of steps.\n",
    "- In the interest of saving trees, you do not need to *solve* each question on a new piece of paper. Folding the paper to show just the relevant problem will suffice. To ensure the correct page size, we recommend placing the folded part on a blank page before scanning, or adjusting the page settings on your phone scanning app.\n",
    "- Simplify all infinite sums\n",
    "- You will submit a scanned PDF to Gradescope. **Each question should *start* on a new PDF page. No page should contain two questions.**\n",
    "\n",
    "#### Rules for Coding ####\n",
    "\n",
    "- Do not share, copy, or allow others to copy your code. You may discuss your approach and relevant methods or functions to use.\n",
    "- A code cell (which may contain starter code) is provided for each question or subpart that requires coding. You are free to add additional cells as needed.\n",
    "- You will submit a PDF to Gradescope. See the bottom of the notebook for more instructions.\n",
    "- Here are some code references:\n",
    "    - [Prob 140 Code Reference Sheet](http://prob140.org/assets/prob140_code_reference.pdf)\n",
    "    - [Data 8 Python Reference](http://data8.org/fa18/python-reference.html)\n",
    "    - [`scipy.stats` Documentation](https://docs.scipy.org/doc/scipy/reference/stats.html)"
   ]
  },
  {
   "cell_type": "code",
   "execution_count": null,
   "metadata": {
    "#solution": false,
    "#staff": false,
    "#student": false
   },
   "outputs": [],
   "source": [
    "# Run this cell to set up your notebook\n",
    "\n",
    "import numpy as np\n",
    "from scipy import stats\n",
    "from datascience import *\n",
    "from prob140 import *\n",
    "\n",
    "# These lines do some fancy plotting magic\n",
    "import matplotlib\n",
    "%matplotlib inline\n",
    "import matplotlib.pyplot as plt\n",
    "plt.style.use('fivethirtyeight')\n",
    "\n",
    "# These lines make warnings look nicer\n",
    "import warnings\n",
    "warnings.simplefilter('ignore', FutureWarning)"
   ]
  },
  {
   "cell_type": "markdown",
   "metadata": {
    "#solution": false,
    "#staff": false,
    "#student": false
   },
   "source": [
    "### 1. Random Numbers of Trials ###\n",
    "As in lecture and the textbook, we will use \"$p$-coin\" to mean a coin that lands heads with probability $p$.  \n",
    "\n",
    "**a) [WRITTEN]** In a randomized controlled experiment, it costs researchers $t$ dollars to study each subject in the treatment group and $c$ dollars to study each subject in the control group. Suppose each of $n$ subjects is randomized into one of the two groups according to whether a $p$-coin lands heads (treatment) or tails (control). Find the expected total cost to study all $n$ subjects.\n",
    "\n",
    "**b) [WRITTEN]** I toss $n$ $p$-coins. Those that land tails I toss again, and then I stop. Find the expected total number of heads.\n",
    "\n",
    "**c) [WRITTEN]** I have one 0.25-coin, one fair coin, and three 0.75-coins. I pick one of the five coins at random and toss it till I get 10 heads. Find the numerical value of the expected number of tosses."
   ]
  },
  {
   "cell_type": "markdown",
   "metadata": {
    "#solution": false,
    "#staff": false,
    "#student": false
   },
   "source": [
    "### 2. Comparing Waiting Times ###\n",
    "A $p$-coin is tossed repeatedly. Let $W_H$ be the number of tosses till the first H, $W_{HH}$ the number of tosses till the first time the pattern HH appears, and $W_{HT}$ the number of tosses till the first time the pattern HT appears. Read the derivation of $E(W_{HH})$ in [Section 9.3](http://prob140.org/textbook/chapters/Chapter_09/03_Expected_Waiting_Times).\n",
    "\n",
    "**a) [WRITTEN]** Let $p = 1/2$. Explain *without calculation* why $E(W_{HH})$ must be different from $E(W_{HT})$, and say which of the two values is smaller. [Think about what happens when the pattern is *not* completed on the toss following $W_H$.]\n",
    "\n",
    "**b) [WRITTEN]** Now let $p \\in (0, 1)$. By conditioning appropriately, find $E(W_{HT})$ in terms of $p$."
   ]
  },
  {
   "cell_type": "markdown",
   "metadata": {
    "#solution": false,
    "#staff": false,
    "#student": false
   },
   "source": [
    "### 3. Patterns in Waiting for Patterns ###\n",
    "This continues Exercise 2. Assume you are tossing a $p$-coin where $p \\in (0, 1)$.\n",
    "\n",
    "**a) [WRITTEN]** To see how the expected waiting times depend on the pattern, write $E(W_{HT})$ and $E(W_{HH})$ in terms of $1/p$, $1/p^2$, and $1/pq$ where $q = 1-p$. You will see that the expected waiting time for each pattern depends in a very simple way on the chance of the pattern and also on whether the end of the pattern is the same as the start of the pattern.\n",
    "\n",
    "**b) [WRITTEN]** Use part **a** to guess the value of $E(W_{HTH})$. Then prove your guess by using your answer in Exercise 2 and thinking about what can happen on the toss after $W_{HT}$.\n",
    "\n",
    "**c) [WRITTEN]** It's a little harder to guess the value of $E(W_{HHH})$, because in this case there are two ways in which the \"end\" of the pattern is the same as the \"start\". But try to guess it anyway. Whether or not you can guess it, find $E(W_{HHH})$ by using the approach of part **b** and write your answer in terms of $1/p$, $1/p^2$, and $1/p^3$.\n",
    "\n",
    "**d) [WRITTEN]** Use your observations above to write down all of the following without any calculation. You don't have to prove your answers, though you should be able to see that the proofs will be straightforward if laborious extensions of what you did in parts **b** and **c**.\n",
    "\n",
    "(i) $E(W_{HHTT})$ $~~~~~$ (ii) $E(W_{HTHT})$ $~~~~~$ (iii) $E(W_{HHTHH})$\n",
    "\n",
    "[**Note:** For every pattern, the expected number of trials till the pattern appears depends on the pattern in exactly the way you have discovered above, regardless of the size of the alphabet (e.g. A through Z instead of just H and T) and the length of the pattern. The most illuminating proof of this uses a powerful class of processes called *martingales*. Take Stat 150 to see how. Just for fun, accept the result and write down the expected time a monkey will take to type out ABRACADABRA if the monkey keeps hitting the 26 letter keys of a typewriter independently at random. You don't have to turn in your answer.]"
   ]
  },
  {
   "cell_type": "markdown",
   "metadata": {
    "#solution": false,
    "#staff": false,
    "#student": false
   },
   "source": [
    "### 4. Panda's Problem ###\n",
    "Every day, Panda the black-and-white cat comes to our house for food.\n",
    "Assume that every day:\n",
    "\n",
    "- We put the food out at the front door or at the back door, according to whether a $p$-coin lands heads or tails.\n",
    "\n",
    "- Panda arrives at the door at which it found the food the previous day; if the food is not there, Panda is disappointed and trudges to the other door to eat.\n",
    "\n",
    "**a) [WRITTEN]** Set up a four-state Markov Chain and find the long run expected proportion of days when Panda is disappointed.\n",
    "\n",
    "**b) [WRITTEN]** Suppose that yesterday Panda arrived at the front door and was not disappointed. What is the chance of the same thing happening today? What is your best guess for the chance of the same thing happening (Panda arriving at the front door and not being disappointed) one year from now, assuming that the process continues as described?\n",
    "\n",
    "**c) [WRITTEN]** Panda's strategy is to remember where the food was the previous day, and go to that door. Here are three other strategies that Panda might use:\n",
    "\n",
    "- Always go to the front door.\n",
    "\n",
    "- Always go to the back door.\n",
    "\n",
    "- Remember where the food was the previous day, and go to the other door.\n",
    "\n",
    "Compare each of these strategies to the strategy Panda uses: for what values of $p$ do these result in a lower expected proportion of days of disappointment?"
   ]
  },
  {
   "cell_type": "markdown",
   "metadata": {
    "#solution": false,
    "#staff": false,
    "#student": false
   },
   "source": [
    "### 5. Jump Up, Fall Down ###\n",
    "Consider a Markov Chain with state space $0, 1, 2, \\ldots, 12$ and transition behavior given by:\n",
    "- For $0 \\le i \\le 11$, the distribution of $X_{n+1}$ given $X_n = i$ is uniform on $i+1, i+2, \\ldots , 12$.\n",
    "- $P(12, 0) = 1$.\n",
    "\n",
    "**a) [CODE]** Complete the cell below to construct the transition matrix of this chain and assign it to the name `jump_fall`."
   ]
  },
  {
   "cell_type": "code",
   "execution_count": null,
   "metadata": {
    "#solution": false,
    "#staff": false,
    "#student": true
   },
   "outputs": [],
   "source": [
    "#Answer to 5a\n",
    "\n",
    "s = np.arange(...)\n",
    "def transition_probs(i, j):\n",
    "    ...\n",
    "jump_fall_tbl = MarkovChain....\n",
    "jump_fall"
   ]
  },
  {
   "cell_type": "markdown",
   "metadata": {
    "#solution": false,
    "#staff": false,
    "#student": false
   },
   "source": [
    "**b) [WRITTEN]** Explain why this chain is irreducible and aperiodic.\n"
   ]
  },
  {
   "cell_type": "markdown",
   "metadata": {
    "#solution": false,
    "#staff": false,
    "#student": false
   },
   "source": [
    "**c) [CODE]** Write code that uses `jump_fall` and `prob140` methods so that the final line evaluates to the expected long run proportion of time the chain spends at 0."
   ]
  },
  {
   "cell_type": "code",
   "execution_count": null,
   "metadata": {
    "#solution": false,
    "#staff": false,
    "#student": true
   },
   "outputs": [],
   "source": [
    "#Answer to 5c\n",
    "..."
   ]
  },
  {
   "cell_type": "markdown",
   "metadata": {
    "#solution": false,
    "#staff": false,
    "#student": false
   },
   "source": [
    "### 6. Switching Chain ###\n",
    "Consider a Markov Chain $X_0, X_1, \\ldots $ with the transition matrix given below, for some $0 < p < 1$ and $q = 1-p$.\n",
    "\n",
    "|    -| $~~0~~$ | $~~1~~$ |\n",
    "|-----|-----|-----|\n",
    "| $~~0~~$ | $~~p~~$ | $~~q~~$ |\n",
    "| $~~1~~$ | $~~q~~$ | $~~p~~$ |\n",
    "\n",
    "**a) [WRITTEN]** For $n \\ge 1$, let $C_n$ be the number of *switches* up to time $n$. That is, $C_n$ is the number of times the chain changes state up to and including time $n$. For example, if the path is 0 0 0 1 0 0 0 1 1, then $C_8 = 3$ (remember that the path starts at $X_0$). What is the distribution of $C_n$, and why?\n",
    "\n",
    "**b) [WRITTEN]** Fill in the blank with a word:\n",
    "\n",
    "For $n \\ge 1$, \n",
    "$$\n",
    "P_n(0, 0) ~ = ~ P(C_n \\text{ is } \\underline{ ~~~~~~~~~~~~~~~ })\n",
    "$$\n",
    "\n",
    "**c) [WRITTEN]** Now find $P_n(0, 0)$ using Part **b**. [Hint: Compare the expansions of $(p+q)^n$ and $(p-q)^n$. How can you use both of them to get just the terms that you need?] \n",
    "\n",
    "**d) [WRITTEN]** Use Part **c** (not the balance equations) to find the stationary distribution of the chain."
   ]
  },
  {
   "cell_type": "markdown",
   "metadata": {
    "#solution": false,
    "#staff": false,
    "#student": false
   },
   "source": [
    "## Checklist\n",
    "\n",
    "Your submission should have the following parts:\n",
    "\n",
    "#### Part A (Written)\n",
    "\n",
    "- 1a, 1b, 1c\n",
    "- 2a, 2b\n",
    "- 3a, 3b, 3c, 3d\n",
    "- 4a, 4b, 4c\n",
    "- 5b\n",
    "- 6a, 6b, 6c, 6d\n",
    "\n",
    "#### Part B (Code)\n",
    "\n",
    "- 5a, 5c\n"
   ]
  },
  {
   "cell_type": "markdown",
   "metadata": {
    "#solution": false,
    "#staff": false,
    "#student": false
   },
   "source": [
    "## Submission Instructions\n",
    "\n",
    "#### Part A (Written)\n",
    "- Make sure you have at least 6 pages of homework. Each problem should start on a new page; for example,  Problem 1 on page 1, Problem 2 on page 2, etc.\n",
    "- Scan all the pages into a PDF. It is your responsibility to check that all the work on the scanned pages is legible. You can use any scanner or a phone using applications such as CamScanner. Save the PDF.\n",
    "- Upload the scanned PDF of your work onto Gradescope for the assignment \"HW05a (Written)\". \n",
    "Refer to [this guide](http://gradescope-static-assets.s3-us-west-2.amazonaws.com/help/submitting_hw_guide.pdf) for detailed instructions about scanning and submitting, or consult course staff.\n",
    "\n",
    "#### Part B (Code)\n",
    "\n",
    "1. **Save your notebook using File > Save and Checkpoint.**\n",
    "2. Run the cell below to generate a pdf file.\n",
    "3. Download the pdf file and confirm that none of your work is missing or cut off.\n",
    "4. Submit the assignment to \"HW05b (Code)\" on Gradescope."
   ]
  },
  {
   "cell_type": "code",
   "execution_count": null,
   "metadata": {
    "#solution": false,
    "#staff": false,
    "#student": false
   },
   "outputs": [],
   "source": [
    "import gsExport\n",
    "gsExport.generateSubmission(\"hw05.ipynb\")"
   ]
  }
 ],
 "metadata": {
  "anaconda-cloud": {},
  "checksums": [
   "41e5cd3e7433650be1eb792ff2fd6228",
   "54d2b808529b8f055694b8ea1e601f78",
   "5ae1451f8bb0f9d1f2a44d629ded3eb5",
   "3da88da364b1e30d4f83fb0c28a12c1f",
   "bc6ac2dc1131ebf3d8970593d7fa3045",
   "a0c32695d31e7c1107b5709b4a5c94be",
   "20dff9bc95fe5818fd7a94d09c99578a",
   "115a8ce0c62c5e2b07bf4fb71fee4832",
   "3499bdba31099b4f735665a068bc365c",
   "52415b426b39e2d345fdfea1f1d9d42e",
   "aa8e29baa923aac5527b47cefdabf998",
   "1329740154f00fdef33336e93355e562",
   "8eeb611c8162902c0ea4a02a6d19162c",
   "a6d8370cc70793e23646f2ca0f7406e7",
   "bcb904cd46819ea4dc2e56c2c643327d",
   "8403b8fad4a1d5b88d1c1161253fed4d",
   "cb7a3e62918cdbb5800158c56a47fb7d"
  ],
  "kernelspec": {
   "display_name": "Python [default]",
   "language": "python",
   "name": "python3"
  },
  "language_info": {
   "codemirror_mode": {
    "name": "ipython",
    "version": 3
   },
   "file_extension": ".py",
   "mimetype": "text/x-python",
   "name": "python",
   "nbconvert_exporter": "python",
   "pygments_lexer": "ipython3",
   "version": "3.5.4"
  },
  "number_of_pagebreaks": 0
 },
 "nbformat": 4,
 "nbformat_minor": 1
}
