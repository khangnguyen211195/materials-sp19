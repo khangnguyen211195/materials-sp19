{
 "cells": [
  {
   "cell_type": "code",
   "execution_count": 1,
   "metadata": {},
   "outputs": [],
   "source": [
    "from datascience import *\n",
    "from prob140 import *\n",
    "import numpy as np\n",
    "%matplotlib inline\n",
    "import matplotlib.pyplot as plt\n",
    "plt.style.use('fivethirtyeight')"
   ]
  },
  {
   "cell_type": "markdown",
   "metadata": {},
   "source": [
    "# Lab 9: Densities and `SymPy` #\n",
    "When you work with densities there is often some calculus involved. Sometimes, recognizing integrals as probabilistic quantities (probabilities, expectations, and so on) can help reduce the calculus. \n",
    "\n",
    "But sometimes you just have to crank out the calculus. This can occasionally be messy. It would be nice to have some help. Fortunately, Python can help.\n",
    "\n",
    "The `SymPy` library is a set of tools that help you do symbolic math on the computer. To see what this means, let's start with a simple numerical calculation of a familiar sort."
   ]
  },
  {
   "cell_type": "code",
   "execution_count": 2,
   "metadata": {},
   "outputs": [
    {
     "data": {
      "text/plain": [
       "49"
      ]
     },
     "execution_count": 2,
     "metadata": {},
     "output_type": "execute_result"
    }
   ],
   "source": [
    "x = 3\n",
    "(2 * x + 1) ** 2"
   ]
  },
  {
   "cell_type": "markdown",
   "metadata": {},
   "source": [
    "What you can do in `SymPy`, assuming that you have explained to `SymPy` that $x$ is a symbol, is to have `(2*x + 1) ** 2` appear as $(2x + 1)^2$. You can then expand it to get $4x^2 + 4x + 1$. `SymPy` does the math that you did long ago in algebra class, and renders the math in symbols. It gives you an exact symbolic answer, instead of numerical answer (that is often an approximation) in a particular case.\n",
    "\n",
    "`SymPy` contains a large number of mathematical functions and operations, including integration and differentiation. This can be very handy when working with densities.\n",
    "\n",
    "What you will learn in this lab:\n",
    "\n",
    "- How to use `SymPy`\n",
    "- How `SymPy` can help you understand properties of random variables that have densities\n",
    "- How to implement the theory of densities (Parts 1-3) including change of variable\n",
    "- How to implement the theory of joint densities (Parts 4-5) including conditioning on continuous variables\n",
    "\n",
    "This lab is intended not only to guide you through symbolic math on `SymPy` but also to develop your skills for working with densities. Pay close attention to each of the questions in Parts 2-5 as they will help you grasp the theory of continuous random variables."
   ]
  },
  {
   "cell_type": "markdown",
   "metadata": {},
   "source": [
    "### Getting Started ###\n",
    "We must import the library and add a line of code that makes the math appear in the way that it appears in the Prob 140 [textbook](http://prob140.org/textbook/chapters/README)."
   ]
  },
  {
   "cell_type": "code",
   "execution_count": 2,
   "metadata": {},
   "outputs": [],
   "source": [
    "from sympy import *\n",
    "init_printing()"
   ]
  },
  {
   "cell_type": "markdown",
   "metadata": {},
   "source": [
    "Before you begin, it is **strongly recommended** that you skim [Section 15.5](http://prob140.org/textbook/chapters/Chapter_15/05_Calculus_in_SymPy) (Calculus in SymPy) of the textbook. It will give you a good sense of what you will do in the lab, and might help you answer some of the questions."
   ]
  },
  {
   "cell_type": "markdown",
   "metadata": {},
   "source": [
    "#newpage \n",
    "\n",
    "## Part 1: The Operations ##\n",
    "We will start with simple examples of the basic operations and syntax. For more, take a look at the [SymPy Tutorial](https://docs.sympy.org/latest/tutorial/index.html)."
   ]
  },
  {
   "cell_type": "markdown",
   "metadata": {},
   "source": [
    "### 1a) Creating a Symbolic Variable ###\n",
    "\n",
    "You are used to assigning names to numbers, arrays, and so on. In `SymPy`, we create a symbol using `Symbol`. Its required argument is a string that contains the symbol we want to use. We can assign that to a name, just as we have done before."
   ]
  },
  {
   "cell_type": "code",
   "execution_count": 8,
   "metadata": {},
   "outputs": [
    {
     "data": {
      "text/latex": [
       "$$x$$"
      ],
      "text/plain": [
       "x"
      ]
     },
     "execution_count": 8,
     "metadata": {},
     "output_type": "execute_result"
    }
   ],
   "source": [
    "# Create a symbol\n",
    "\n",
    "x = Symbol('x')\n",
    "x"
   ]
  },
  {
   "cell_type": "markdown",
   "metadata": {},
   "source": [
    "### 1b) Constructing a Symbolic Expression ###\n",
    "\n",
    "Consider the math function $f(x) ~ = ~ 2x + 1$. We can create a `SymPy` expression equal to the right hand side, as follows."
   ]
  },
  {
   "cell_type": "code",
   "execution_count": 10,
   "metadata": {},
   "outputs": [
    {
     "data": {
      "image/png": "[encoded data removed]",
      "text/latex": [
       "$$2 x + 1$$"
      ],
      "text/plain": [
       "2⋅x + 1"
      ]
     },
     "execution_count": 10,
     "metadata": {},
     "output_type": "execute_result"
    }
   ],
   "source": [
    "# An expression that is the right hand side\n",
    "# of the definition of f(x)\n",
    "\n",
    "2*x + 1"
   ]
  },
  {
   "cell_type": "code",
   "execution_count": 11,
   "metadata": {},
   "outputs": [
    {
     "data": {
      "image/png": "[encoded data removed]",
      "text/latex": [
       "$$2 x + 1$$"
      ],
      "text/plain": [
       "2⋅x + 1"
      ]
     },
     "execution_count": 11,
     "metadata": {},
     "output_type": "execute_result"
    }
   ],
   "source": [
    "# Name the expression and display it\n",
    "\n",
    "f = 2*x + 1\n",
    "f"
   ]
  },
  {
   "cell_type": "markdown",
   "metadata": {},
   "source": [
    "It is important to make a distinction between the math function $f$ and the `SymPy` expression `f`. Though `f` doesn't have an $x$ in the name, it is equal to $f(x)$, the math function $f$ evaluated at the point $x$.\n",
    "\n",
    "You can create new expressions by using math operations."
   ]
  },
  {
   "cell_type": "code",
   "execution_count": 13,
   "metadata": {},
   "outputs": [
    {
     "data": {
      "image/png": "[encoded data removed]",
      "text/latex": [
       "$$\\left(2 x + 1\\right)^{2}$$"
      ],
      "text/plain": [
       "         2\n",
       "(2⋅x + 1) "
      ]
     },
     "execution_count": 13,
     "metadata": {},
     "output_type": "execute_result"
    }
   ],
   "source": [
    "f ** 2"
   ]
  },
  {
   "cell_type": "markdown",
   "metadata": {},
   "source": [
    "You can ask `SymPy` to expand the square, to get an equivalent expression."
   ]
  },
  {
   "cell_type": "code",
   "execution_count": 14,
   "metadata": {},
   "outputs": [
    {
     "data": {
      "image/png": "[encoded data removed]",
      "text/latex": [
       "$$4 x^{2} + 4 x + 1$$"
      ],
      "text/plain": [
       "   2          \n",
       "4⋅x  + 4⋅x + 1"
      ]
     },
     "execution_count": 14,
     "metadata": {},
     "output_type": "execute_result"
    }
   ],
   "source": [
    "expand(f ** 2)"
   ]
  },
  {
   "cell_type": "markdown",
   "metadata": {},
   "source": [
    "### 1c) Evaluating an Expression at a Point ###\n",
    "\n",
    "To evaluate $f(5)$ in math, we have take the expression $2x + 1$ and substitute the generic $x$ with the specific value $5$. So also in `SymPy`, we evaluate the symbolic expression `f` at the point 5 by using substitution."
   ]
  },
  {
   "cell_type": "code",
   "execution_count": 15,
   "metadata": {},
   "outputs": [
    {
     "data": {
      "image/png": "[encoded data removed]",
      "text/latex": [
       "$$11$$"
      ],
      "text/plain": [
       "11"
      ]
     },
     "execution_count": 15,
     "metadata": {},
     "output_type": "execute_result"
    }
   ],
   "source": [
    "# Evaluate the expression at the point x = 5\n",
    "\n",
    "f.subs(x, 5)"
   ]
  },
  {
   "cell_type": "markdown",
   "metadata": {},
   "source": [
    "Points themselves can be symbols. For example, `SymPy` recognizes `pi` as $\\pi$. So we can evaluate the function $f$ at $\\pi$:"
   ]
  },
  {
   "cell_type": "code",
   "execution_count": 16,
   "metadata": {},
   "outputs": [
    {
     "data": {
      "image/png": "[encoded data removed]",
      "text/latex": [
       "$$1 + 2 \\pi$$"
      ],
      "text/plain": [
       "1 + 2⋅π"
      ]
     },
     "execution_count": 16,
     "metadata": {},
     "output_type": "execute_result"
    }
   ],
   "source": [
    "f.subs(x, pi)"
   ]
  },
  {
   "cell_type": "markdown",
   "metadata": {},
   "source": [
    "You can see that `SymPy` makes choices about exactly how to display expressions. All symbolic math systems make such decisions, but not always in the same way. \n",
    "\n",
    "It is important to notice the difference between symbolic and numeric calculations such as those you perform using `NumPy`. For example, recall that `np.pi` is the `NumPy` expression for $\\pi$, and run the cell below. "
   ]
  },
  {
   "cell_type": "code",
   "execution_count": 17,
   "metadata": {},
   "outputs": [
    {
     "data": {
      "image/png": "[encoded data removed]",
      "text/latex": [
       "$$\\left ( 1 + 2 \\pi, \\quad 7.28318530717959\\right )$$"
      ],
      "text/plain": [
       "(1 + 2⋅π, 7.28318530717959)"
      ]
     },
     "execution_count": 17,
     "metadata": {},
     "output_type": "execute_result"
    }
   ],
   "source": [
    "f.subs(x, pi), f.subs(x, np.pi)"
   ]
  },
  {
   "cell_type": "markdown",
   "metadata": {},
   "source": [
    "An important aspect of the distinction is that the first expression is exact while the numerical calculation results in an approximate value."
   ]
  },
  {
   "cell_type": "markdown",
   "metadata": {},
   "source": [
    "### 1d) Integration ###\n",
    "Integration is one of the most important operations in probability. If a random variable $X$ has a density $f_X$, then $P(a < X < b) = \\int_a^bf_X(x)dx$, $E(X) = \\int_{-\\infty}^\\infty xf_X(x)dx$, and so on.\n",
    "\n",
    "Let's learn how to integrate functions using `SymPy`.\n",
    "\n",
    "The indefinite integral $\\int f(x)dx$ can be displayed using `Integral(f)`."
   ]
  },
  {
   "cell_type": "code",
   "execution_count": 18,
   "metadata": {},
   "outputs": [
    {
     "data": {
      "image/png": "[encoded data removed]",
      "text/latex": [
       "$$\\int \\left(2 x + 1\\right)\\, dx$$"
      ],
      "text/plain": [
       "⌠             \n",
       "⎮ (2⋅x + 1) dx\n",
       "⌡             "
      ]
     },
     "execution_count": 18,
     "metadata": {},
     "output_type": "execute_result"
    }
   ],
   "source": [
    "# Display the indefinite integral\n",
    "\n",
    "Integral(f)"
   ]
  },
  {
   "cell_type": "markdown",
   "metadata": {},
   "source": [
    "That's nice, but it would be even nicer if `SymPy` could actually do the integral, not just show it to us.\n",
    "\n",
    "To make this happen, we are going to be a bit rude. We are going to tell `SymPy` to just `doit()`."
   ]
  },
  {
   "cell_type": "code",
   "execution_count": 19,
   "metadata": {},
   "outputs": [
    {
     "data": {
      "image/png": "[encoded data removed]",
      "text/latex": [
       "$$x^{2} + x$$"
      ],
      "text/plain": [
       " 2    \n",
       "x  + x"
      ]
     },
     "execution_count": 19,
     "metadata": {},
     "output_type": "execute_result"
    }
   ],
   "source": [
    "# Evaluate the indefinite integral\n",
    "\n",
    "Integral(f).doit()"
   ]
  },
  {
   "cell_type": "markdown",
   "metadata": {},
   "source": [
    "This creates a new `SymPy` expression, which you can assign to a name as usual."
   ]
  },
  {
   "cell_type": "code",
   "execution_count": 20,
   "metadata": {},
   "outputs": [
    {
     "data": {
      "image/png": "[encoded data removed]",
      "text/latex": [
       "$$x^{2} + x$$"
      ],
      "text/plain": [
       " 2    \n",
       "x  + x"
      ]
     },
     "execution_count": 20,
     "metadata": {},
     "output_type": "execute_result"
    }
   ],
   "source": [
    "F = Integral(f).doit()\n",
    "F"
   ]
  },
  {
   "cell_type": "markdown",
   "metadata": {},
   "source": [
    "Definite integrals can be calculated in two ways, corresponding to the left and right hand sides of the example below.\n",
    "\n",
    "$$\n",
    "\\int_3^7 f(x)dx ~ = ~ F(7) - F(3)\n",
    "$$\n",
    "\n",
    "You already know how to compute the right hand side using substitution and the expression representing the indefinite integral."
   ]
  },
  {
   "cell_type": "code",
   "execution_count": 21,
   "metadata": {},
   "outputs": [
    {
     "data": {
      "image/png": "[encoded data removed]",
      "text/latex": [
       "$$44$$"
      ],
      "text/plain": [
       "44"
      ]
     },
     "execution_count": 21,
     "metadata": {},
     "output_type": "execute_result"
    }
   ],
   "source": [
    "# right hand side\n",
    "\n",
    "F.subs(x, 7) - F.subs(x, 3)"
   ]
  },
  {
   "cell_type": "markdown",
   "metadata": {},
   "source": [
    "To display a definite integral, `Integral` requires an additional argument that specifies the variable being integrated and the two limits of integration: \n",
    "\n",
    "- (variable_name, lower_limit, upper_limit)\n",
    "\n",
    "At the moment we are working with a function of just one variable, so it seems unnecessary to provide the name of the variable. But the name will become important as soon as we start double integration."
   ]
  },
  {
   "cell_type": "code",
   "execution_count": 22,
   "metadata": {},
   "outputs": [
    {
     "data": {
      "image/png": "[encoded data removed]",
      "text/latex": [
       "$$\\int_{3}^{7} \\left(2 x + 1\\right)\\, dx$$"
      ],
      "text/plain": [
       "7             \n",
       "⌠             \n",
       "⎮ (2⋅x + 1) dx\n",
       "⌡             \n",
       "3             "
      ]
     },
     "execution_count": 22,
     "metadata": {},
     "output_type": "execute_result"
    }
   ],
   "source": [
    "# left hand side\n",
    "# Display the definite integral\n",
    "\n",
    "Integral(f, (x, 3, 7))"
   ]
  },
  {
   "cell_type": "markdown",
   "metadata": {},
   "source": [
    "To evaluate the integral, use `doit()` as before. You will get the same answer as you did earlier."
   ]
  },
  {
   "cell_type": "code",
   "execution_count": 23,
   "metadata": {},
   "outputs": [
    {
     "data": {
      "image/png": "[encoded data removed]",
      "text/latex": [
       "$$44$$"
      ],
      "text/plain": [
       "44"
      ]
     },
     "execution_count": 23,
     "metadata": {},
     "output_type": "execute_result"
    }
   ],
   "source": [
    "# Evaluate the definite integral\n",
    "\n",
    "Integral(f, (x, 3, 7)).doit()"
   ]
  },
  {
   "cell_type": "markdown",
   "metadata": {},
   "source": [
    "The standard operations on integrals can be performed just as you would expect. At each cell below, pause and read the expression carefully. Then run the cell and examine the output just as carefully."
   ]
  },
  {
   "cell_type": "code",
   "execution_count": 24,
   "metadata": {},
   "outputs": [
    {
     "data": {
      "image/png": "[encoded data removed]",
      "text/latex": [
       "$$\\int_{3}^{4} \\left(2 x + 1\\right)\\, dx + \\int_{4}^{7} \\left(2 x + 1\\right)\\, dx$$"
      ],
      "text/plain": [
       "4                7             \n",
       "⌠                ⌠             \n",
       "⎮ (2⋅x + 1) dx + ⎮ (2⋅x + 1) dx\n",
       "⌡                ⌡             \n",
       "3                4             "
      ]
     },
     "execution_count": 24,
     "metadata": {},
     "output_type": "execute_result"
    }
   ],
   "source": [
    "# Display a sum of integrals\n",
    "\n",
    "Integral(f, (x, 3, 4)) + Integral(f, (x, 4, 7))"
   ]
  },
  {
   "cell_type": "code",
   "execution_count": 25,
   "metadata": {},
   "outputs": [
    {
     "data": {
      "image/png": "[encoded data removed]",
      "text/latex": [
       "$$44$$"
      ],
      "text/plain": [
       "44"
      ]
     },
     "execution_count": 25,
     "metadata": {},
     "output_type": "execute_result"
    }
   ],
   "source": [
    "# Evaluate it\n",
    "\n",
    "( Integral(f, (x, 3, 4)) + Integral(f, (x, 4, 7)) ).doit()"
   ]
  },
  {
   "cell_type": "code",
   "execution_count": 26,
   "metadata": {},
   "outputs": [
    {
     "data": {
      "image/png": "[encoded data removed]",
      "text/latex": [
       "$$\\int_{2}^{10} \\left(x - 7\\right) \\left(2 x + 1\\right)\\, dx$$"
      ],
      "text/plain": [
       "10                     \n",
       "⌠                      \n",
       "⎮  (x - 7)⋅(2⋅x + 1) dx\n",
       "⌡                      \n",
       "2                      "
      ]
     },
     "execution_count": 26,
     "metadata": {},
     "output_type": "execute_result"
    }
   ],
   "source": [
    "# Display the integral of a new function of x\n",
    "\n",
    "Integral((x-7)*f, (x, 2, 10))"
   ]
  },
  {
   "cell_type": "code",
   "execution_count": 27,
   "metadata": {},
   "outputs": [
    {
     "data": {
      "image/png": "[encoded data removed]",
      "text/latex": [
       "$$- \\frac{56}{3}$$"
      ],
      "text/plain": [
       "-56/3"
      ]
     },
     "execution_count": 27,
     "metadata": {},
     "output_type": "execute_result"
    }
   ],
   "source": [
    "# Evaluate the integral\n",
    "\n",
    "Integral((x-7)*f, (x, 2, 10)).doit()"
   ]
  },
  {
   "cell_type": "markdown",
   "metadata": {},
   "source": [
    "You could have evaluated each of these integrals without displaying it first. But it is strongly recommended that you do display the integral first, so that you are confident that the right quantity is being calculated."
   ]
  },
  {
   "cell_type": "markdown",
   "metadata": {},
   "source": [
    "### 1e) Differentiation ###\n",
    "We started with $f(x) = 2x+1$:"
   ]
  },
  {
   "cell_type": "code",
   "execution_count": 28,
   "metadata": {},
   "outputs": [
    {
     "data": {
      "image/png": "[encoded data removed]",
      "text/latex": [
       "$$2 x + 1$$"
      ],
      "text/plain": [
       "2⋅x + 1"
      ]
     },
     "execution_count": 28,
     "metadata": {},
     "output_type": "execute_result"
    }
   ],
   "source": [
    "f"
   ]
  },
  {
   "cell_type": "markdown",
   "metadata": {},
   "source": [
    "So\n",
    "$$\n",
    "\\frac{d}{dx} f(x) ~ = ~ 2\n",
    "$$\n",
    "\n",
    "To get the derivative in `SymPy`, use `diff`."
   ]
  },
  {
   "cell_type": "code",
   "execution_count": 29,
   "metadata": {},
   "outputs": [
    {
     "data": {
      "image/png": "[encoded data removed]",
      "text/latex": [
       "$$2$$"
      ],
      "text/plain": [
       "2"
      ]
     },
     "execution_count": 29,
     "metadata": {},
     "output_type": "execute_result"
    }
   ],
   "source": [
    "diff(f)"
   ]
  },
  {
   "cell_type": "markdown",
   "metadata": {},
   "source": [
    "Since we defined $F$ as the integral of $f$, the Fundamental Theorem of Calculus says that\n",
    "\n",
    "$$\n",
    "f(x) ~ = ~ \\frac{d}{dx} F(x)\n",
    "$$"
   ]
  },
  {
   "cell_type": "code",
   "execution_count": 30,
   "metadata": {},
   "outputs": [
    {
     "data": {
      "image/png": "[encoded data removed]",
      "text/latex": [
       "$$2 x + 1$$"
      ],
      "text/plain": [
       "2⋅x + 1"
      ]
     },
     "execution_count": 30,
     "metadata": {},
     "output_type": "execute_result"
    }
   ],
   "source": [
    "# Differentiate F to get back f\n",
    "\n",
    "diff(F)"
   ]
  },
  {
   "cell_type": "code",
   "execution_count": 31,
   "metadata": {},
   "outputs": [
    {
     "data": {
      "image/png": "[encoded data removed]",
      "text/latex": [
       "$$2$$"
      ],
      "text/plain": [
       "2"
      ]
     },
     "execution_count": 31,
     "metadata": {},
     "output_type": "execute_result"
    }
   ],
   "source": [
    "# You can differentiate F twice, just for fun\n",
    "# That's the same as differentiating f\n",
    "\n",
    "diff(diff(F))"
   ]
  },
  {
   "cell_type": "markdown",
   "metadata": {},
   "source": [
    "### 1f) Solving an Equation ###\n",
    "Equations can have numerous different forms, so symbolic math systems require consistent ways of specifying the equations to be solved. That way they don't have to have separate functions for solving all the different kinds of equations. Let's see how to solve equations in `SymPy`.\n",
    "\n",
    "We will restrict ourselves to equations involving a single unknown. For a sense of the variety of the equations that `SymPy` can solve, see the [`Solver` module reference](https://docs.sympy.org/latest/modules/solvers/solvers.html).\n",
    "\n",
    "The general form of an equation in $x$ is \n",
    "\n",
    "$$\n",
    "h(x) ~ = ~ g(x)\n",
    "$$\n",
    "\n",
    "for two functions $h$ and $g$. Solving this equation is the same as solving the equation\n",
    "\n",
    "$$\n",
    "h(x) - g(x) ~ = ~ 0\n",
    "$$\n",
    "\n",
    "which can be written as $d(x) = 0$ for $d = h - g$.\n",
    "\n",
    "So every equation can be written with 0 as the right hand side. This helps simplify syntax. That is why `Solver` in `SymPy` requires 0 as the right hand side of the equation. That is, the equation should be in the form $d(x) = 0$. \n",
    "\n",
    "The call is `solve(d, x)` where `d` is the expression on the left hand side and involves the symbol `x`.\n",
    "\n",
    "Solving $d(x) = 0$ means finding the value of $x$ for which the value of $d(x)$ is 0. The instruction `solve(d, x)` tells the computer to find the value of `x` for which the value of the expression `d` is 0. \n",
    "\n",
    "For example, to solve $5x = 15$, `SymPy` finds the value of $x$ that solves the equation $5x - 15 = 0$. "
   ]
  },
  {
   "cell_type": "code",
   "execution_count": 32,
   "metadata": {},
   "outputs": [
    {
     "data": {
      "image/png": "[encoded data removed]",
      "text/latex": [
       "$$\\left [ 3\\right ]$$"
      ],
      "text/plain": [
       "[3]"
      ]
     },
     "execution_count": 32,
     "metadata": {},
     "output_type": "execute_result"
    }
   ],
   "source": [
    "solve(5*x - 15, x)"
   ]
  },
  {
   "cell_type": "markdown",
   "metadata": {},
   "source": [
    "Some equations have multiple solutions, so the output is a list of all the solutions. In the case of the equation $5x - 15 = 0$, the list contains just one element, 3.\n",
    "\n",
    "When you want to work with the element, you can access it by specifying its index."
   ]
  },
  {
   "cell_type": "code",
   "execution_count": 33,
   "metadata": {},
   "outputs": [
    {
     "data": {
      "image/png": "[encoded data removed]",
      "text/latex": [
       "$$3$$"
      ],
      "text/plain": [
       "3"
      ]
     },
     "execution_count": 33,
     "metadata": {},
     "output_type": "execute_result"
    }
   ],
   "source": [
    "solve(5*x - 15, x)[0]"
   ]
  },
  {
   "cell_type": "markdown",
   "metadata": {},
   "source": [
    "Here are the solutions to the equation $x^2 + 5x + 6 = 0$. In an algebra class you will have learned to factor the left hand side to get $(x+2)(x+3) = 0$ and hence the two solutions $x = -3$ and $x = -2$."
   ]
  },
  {
   "cell_type": "code",
   "execution_count": 34,
   "metadata": {},
   "outputs": [
    {
     "data": {
      "image/png": "[encoded data removed]",
      "text/latex": [
       "$$\\left [ -3, \\quad -2\\right ]$$"
      ],
      "text/plain": [
       "[-3, -2]"
      ]
     },
     "execution_count": 34,
     "metadata": {},
     "output_type": "execute_result"
    }
   ],
   "source": [
    "solve(x**2 + 5*x + 6, x)"
   ]
  },
  {
   "cell_type": "markdown",
   "metadata": {},
   "source": [
    "You can use previously defined expressions as part of the expression in `solve`. For example, we previously defined `f` as the right hand side of $f(x) = 2x+1$. We can solve the equation $f(x) = 9$ as follows."
   ]
  },
  {
   "cell_type": "code",
   "execution_count": 35,
   "metadata": {},
   "outputs": [
    {
     "data": {
      "image/png": "[encoded data removed]",
      "text/latex": [
       "$$\\left [ 4\\right ]$$"
      ],
      "text/plain": [
       "[4]"
      ]
     },
     "execution_count": 35,
     "metadata": {},
     "output_type": "execute_result"
    }
   ],
   "source": [
    "solve(f - 9, x)"
   ]
  },
  {
   "cell_type": "markdown",
   "metadata": {},
   "source": [
    "### 1g) Inverse ###\n",
    "\n",
    "Finding the inverse of a function $f$ at a point $y$ means finding the value of $x$ such that $f(x) = y$. \n",
    "\n",
    "This just means writing $x$ in terms of $y$. The formal math move is to solve for $x$ in the equation $f(x) = y$.\n",
    "\n",
    "Because we are going to solve the equation using `SymPy`, we will solve for $x$ in the equation $f(x) - y = 0$.\n",
    "\n",
    "To execute this plan in `SymPy`, we will first have to declare `y` as a symbol, and then solve the equation."
   ]
  },
  {
   "cell_type": "code",
   "execution_count": 36,
   "metadata": {},
   "outputs": [
    {
     "data": {
      "image/png": "[encoded data removed]",
      "text/latex": [
       "$$\\left [ \\frac{y}{2} - \\frac{1}{2}\\right ]$$"
      ],
      "text/plain": [
       "⎡y   1⎤\n",
       "⎢─ - ─⎥\n",
       "⎣2   2⎦"
      ]
     },
     "execution_count": 36,
     "metadata": {},
     "output_type": "execute_result"
    }
   ],
   "source": [
    "y = Symbol('y')\n",
    "solve(f - y, x)"
   ]
  },
  {
   "cell_type": "markdown",
   "metadata": {},
   "source": [
    "Does the answer make sense? Remember that $f(x) = 2x + 1$ and solve the equation the old-fashioned way.\n",
    "\n",
    "$$\n",
    "y = 2x + 1 ~ \\iff ~ y - 1 = 2x ~ \\iff ~ x = \\frac{y-1}{2} ~ = ~ \\frac{y}{2} - \\frac{1}{2}\n",
    "$$"
   ]
  },
  {
   "cell_type": "markdown",
   "metadata": {},
   "source": [
    "It works. As before, you can access the inverse by specifying its index in the list."
   ]
  },
  {
   "cell_type": "code",
   "execution_count": 37,
   "metadata": {},
   "outputs": [
    {
     "data": {
      "image/png": "[encoded data removed]",
      "text/latex": [
       "$$\\frac{y}{2} - \\frac{1}{2}$$"
      ],
      "text/plain": [
       "y   1\n",
       "─ - ─\n",
       "2   2"
      ]
     },
     "execution_count": 37,
     "metadata": {},
     "output_type": "execute_result"
    }
   ],
   "source": [
    "f_inverse = solve(f-y, x)[0]\n",
    "f_inverse"
   ]
  },
  {
   "cell_type": "markdown",
   "metadata": {},
   "source": [
    "#newpage\n",
    "\n",
    "## Part 2: Working with Densities ###\n",
    "Now that you have an idea of what you can do with `SymPy`, it's time for some probability theory.\n",
    "\n",
    "In Prob 140, calculus is used almost exclusively when working with densities. Later in the course it will be used for some optimization as well, but density calculations are its main use.\n",
    "\n",
    "In this part of the lab, you will use `SymPy` to work with a very simple density. That way, you will be able to check by hand that `SymPy` is getting the right answers. In subsequent parts of the lab, the densities will get more complicated. Treat this part of the lab as a warm-up."
   ]
  },
  {
   "cell_type": "markdown",
   "metadata": {},
   "source": [
    "### 2a) A Density on the Unit Interval ###\n",
    "Let $X$ have density $f_X(x) = 6x^5$ for $0 < x < 1$.\n",
    "\n",
    "To work with this density, you have to start by creating a symbol representing $x$. Notice that `Symbol` takes an optional argument that allows you to specify that a variable is positive. This can be useful, as you will see below. \n",
    "\n",
    "Complete the cell by using `x` to construct an expression `f_X` that is equal to $f_X(x)$."
   ]
  },
  {
   "cell_type": "code",
   "execution_count": null,
   "metadata": {},
   "outputs": [],
   "source": [
    "#student\n",
    "\n",
    "x = Symbol('x', positive=True)\n",
    "f_X = ...\n",
    "f_X"
   ]
  },
  {
   "cell_type": "code",
   "execution_count": 38,
   "metadata": {},
   "outputs": [
    {
     "data": {
      "image/png": "[encoded data removed]",
      "text/latex": [
       "$$6 x^{5}$$"
      ],
      "text/plain": [
       "   5\n",
       "6⋅x "
      ]
     },
     "execution_count": 38,
     "metadata": {},
     "output_type": "execute_result"
    }
   ],
   "source": [
    "#solution\n",
    "\n",
    "x = Symbol('x', positive=True)\n",
    "f_X = 6 * (x ** 5)\n",
    "f_X"
   ]
  },
  {
   "cell_type": "markdown",
   "metadata": {},
   "source": [
    "Is the function $f_X$ in fact a density? \n",
    "\n",
    "What do you need to check to answer this? Explain in the cell below and use the cell below that for calculation."
   ]
  },
  {
   "cell_type": "markdown",
   "metadata": {},
   "source": [
    "#student\n",
    "\n",
    "**Your answer here**"
   ]
  },
  {
   "cell_type": "markdown",
   "metadata": {},
   "source": [
    "#solution\n",
    "\n",
    "We have to check f is non-negative, which it is by definition. We also have to check that it integrates to 1 over (0, 1)."
   ]
  },
  {
   "cell_type": "code",
   "execution_count": null,
   "metadata": {},
   "outputs": [],
   "source": [
    "#student\n",
    "\n",
    "..."
   ]
  },
  {
   "cell_type": "code",
   "execution_count": 39,
   "metadata": {},
   "outputs": [
    {
     "data": {
      "image/png": "[encoded data removed]",
      "text/latex": [
       "$$1$$"
      ],
      "text/plain": [
       "1"
      ]
     },
     "execution_count": 39,
     "metadata": {},
     "output_type": "execute_result"
    }
   ],
   "source": [
    "#solution\n",
    "\n",
    "Integral(f_X, (x, 0, 1)).doit()"
   ]
  },
  {
   "cell_type": "markdown",
   "metadata": {},
   "source": [
    "The `prob140` library includes a plotting function `Plot_continuous` that plots a line graph of a probability density. The arguments are a list containing the endpoints of the interval over which to draw the graph, and a probability density which can be specified by a `SymPy` expression.\n",
    "\n",
    "Run the cell below to plot the graph of $f_X$ on the unit interval."
   ]
  },
  {
   "cell_type": "code",
   "execution_count": 40,
   "metadata": {},
   "outputs": [
    {
     "data": {
      "image/png": "[encoded data removed]",
      "text/plain": [
       "<Figure size 432x288 with 1 Axes>"
      ]
     },
     "metadata": {},
     "output_type": "display_data"
    }
   ],
   "source": [
    "Plot_continuous([0, 1], f_X)"
   ]
  },
  {
   "cell_type": "markdown",
   "metadata": {},
   "source": [
    "Before you go further, please review Part **1d** on Integration very carefully."
   ]
  },
  {
   "cell_type": "markdown",
   "metadata": {},
   "source": [
    "### 2b) Finding Probabilities ###\n",
    "\n",
    "Find $P(X > 0.75)$ by integrating the density appropriately. The code in the first cell below should display the integral and in the next cell you will evaluate that integral."
   ]
  },
  {
   "cell_type": "code",
   "execution_count": null,
   "metadata": {},
   "outputs": [],
   "source": [
    "#student\n",
    "# Display the integral for P(X > 0.75)\n",
    "\n",
    "Integral(...)"
   ]
  },
  {
   "cell_type": "code",
   "execution_count": 41,
   "metadata": {},
   "outputs": [
    {
     "data": {
      "image/png": "[encoded data removed]",
      "text/latex": [
       "$$\\int_{0.75}^{1} 6 x^{5}\\, dx$$"
      ],
      "text/plain": [
       " 1          \n",
       " ⌠          \n",
       " ⎮      5   \n",
       " ⎮   6⋅x  dx\n",
       " ⌡          \n",
       "0.75        "
      ]
     },
     "execution_count": 41,
     "metadata": {},
     "output_type": "execute_result"
    }
   ],
   "source": [
    "#solution\n",
    "# Display the integral for P(X > 0.75)\n",
    "\n",
    "Integral(f_X, (x, 0.75, 1))"
   ]
  },
  {
   "cell_type": "code",
   "execution_count": null,
   "metadata": {},
   "outputs": [],
   "source": [
    "#student\n",
    "# Evaluate P(X > 0.75)\n",
    "\n",
    "..."
   ]
  },
  {
   "cell_type": "code",
   "execution_count": 42,
   "metadata": {},
   "outputs": [
    {
     "data": {
      "image/png": "[encoded data removed]",
      "text/latex": [
       "$$0.822021484375$$"
      ],
      "text/plain": [
       "0.822021484375000"
      ]
     },
     "execution_count": 42,
     "metadata": {},
     "output_type": "execute_result"
    }
   ],
   "source": [
    "#solution\n",
    "# Evaluate P(X > 0.75)\n",
    "\n",
    "Integral(f_X, (x, 0.75, 1)).doit()"
   ]
  },
  {
   "cell_type": "markdown",
   "metadata": {},
   "source": [
    "In the cell below, fill in the blanks with numbers: The event $\\vert X - 0.7 \\vert < 0.25$ is the same as the event $X \\in (\\underline{~~~~~~~~~~~}, \\underline{~~~~~~~~~~~})$."
   ]
  },
  {
   "cell_type": "markdown",
   "metadata": {},
   "source": [
    "#student\n",
    "\n",
    "**Your answer**\n",
    "\n",
    "First blank: \n",
    "\n",
    "Second blank:"
   ]
  },
  {
   "cell_type": "markdown",
   "metadata": {},
   "source": [
    "#solution\n",
    "\n",
    "0.45, 0.95"
   ]
  },
  {
   "cell_type": "markdown",
   "metadata": {},
   "source": [
    "Find $P(\\vert X - 0.7 \\vert < 0.25)$."
   ]
  },
  {
   "cell_type": "code",
   "execution_count": null,
   "metadata": {},
   "outputs": [],
   "source": [
    "#student\n",
    "# P(|X - 0.7| < 0.25)\n",
    "\n",
    "..."
   ]
  },
  {
   "cell_type": "code",
   "execution_count": 43,
   "metadata": {},
   "outputs": [
    {
     "data": {
      "image/png": "[encoded data removed]",
      "text/latex": [
       "$$0.726788125$$"
      ],
      "text/plain": [
       "0.726788125000000"
      ]
     },
     "execution_count": 43,
     "metadata": {},
     "output_type": "execute_result"
    }
   ],
   "source": [
    "#solution\n",
    "# P(|X - 0.7| < 0.25)\n",
    "\n",
    "Integral(f_X, (x, 0.45, 0.95)).doit()"
   ]
  },
  {
   "cell_type": "markdown",
   "metadata": {},
   "source": [
    "### 2c) Finding Expectations ###\n",
    "\n",
    "Read [Section 15.3](http://prob140.org/textbook/chapters/Chapter_15/03_Expectation) before you get started.\n",
    "\n",
    "Find $E(X)$."
   ]
  },
  {
   "cell_type": "code",
   "execution_count": null,
   "metadata": {},
   "outputs": [],
   "source": [
    "#student\n",
    "# E(X)\n",
    "\n",
    "expectation_X = ...\n",
    "expectation_X"
   ]
  },
  {
   "cell_type": "code",
   "execution_count": 44,
   "metadata": {},
   "outputs": [
    {
     "data": {
      "image/png": "[encoded data removed]",
      "text/latex": [
       "$$\\frac{6}{7}$$"
      ],
      "text/plain": [
       "6/7"
      ]
     },
     "execution_count": 44,
     "metadata": {},
     "output_type": "execute_result"
    }
   ],
   "source": [
    "#solution\n",
    "# E(X)\n",
    "\n",
    "expectation_X = Integral(x*f_X, (x, 0, 1)).doit()\n",
    "expectation_X"
   ]
  },
  {
   "cell_type": "markdown",
   "metadata": {},
   "source": [
    "Find $SD(X)$."
   ]
  },
  {
   "cell_type": "code",
   "execution_count": null,
   "metadata": {},
   "outputs": [],
   "source": [
    "#student\n",
    "# SD(X)\n",
    "\n",
    "..."
   ]
  },
  {
   "cell_type": "code",
   "execution_count": 45,
   "metadata": {},
   "outputs": [
    {
     "data": {
      "image/png": "[encoded data removed]",
      "text/latex": [
       "$$0.123717914826348$$"
      ],
      "text/plain": [
       "0.123717914826348"
      ]
     },
     "execution_count": 45,
     "metadata": {},
     "output_type": "execute_result"
    }
   ],
   "source": [
    "#solution\n",
    "# SD(X)\n",
    "\n",
    "(Integral((x**2)*f_X, (x, 0, 1)).doit() - (expectation_X)**2) ** 0.5"
   ]
  },
  {
   "cell_type": "markdown",
   "metadata": {},
   "source": [
    "Just because you can, find $E(\\log(X))$. `SymPy` recognizes `log`. Use the first cell below to display the appropriate integral and use the next cell to evaluate it."
   ]
  },
  {
   "cell_type": "code",
   "execution_count": null,
   "metadata": {},
   "outputs": [],
   "source": [
    "#student\n",
    "# Display the integral for E(log(X))\n",
    "\n",
    "Integral(...)"
   ]
  },
  {
   "cell_type": "code",
   "execution_count": 46,
   "metadata": {},
   "outputs": [
    {
     "data": {
      "image/png": "[encoded data removed]",
      "text/latex": [
       "$$\\int_{0}^{1} 6 x^{5} \\log{\\left (x \\right )}\\, dx$$"
      ],
      "text/plain": [
       "1               \n",
       "⌠               \n",
       "⎮    5          \n",
       "⎮ 6⋅x ⋅log(x) dx\n",
       "⌡               \n",
       "0               "
      ]
     },
     "execution_count": 46,
     "metadata": {},
     "output_type": "execute_result"
    }
   ],
   "source": [
    "#solution\n",
    "# Display the integral for E(log(X))\n",
    "\n",
    "Integral(log(x)*f_X, (x, 0, 1))"
   ]
  },
  {
   "cell_type": "markdown",
   "metadata": {},
   "source": [
    "Notice that `SymPy` writes its integrand in a different order than we do in class. That's OK; it doesn't affect the integral."
   ]
  },
  {
   "cell_type": "code",
   "execution_count": null,
   "metadata": {},
   "outputs": [],
   "source": [
    "#student\n",
    "# Numerical value of E(log(X))\n",
    "\n",
    "..."
   ]
  },
  {
   "cell_type": "code",
   "execution_count": 47,
   "metadata": {},
   "outputs": [
    {
     "data": {
      "image/png": "[encoded data removed]",
      "text/latex": [
       "$$- \\frac{1}{6}$$"
      ],
      "text/plain": [
       "-1/6"
      ]
     },
     "execution_count": 47,
     "metadata": {},
     "output_type": "execute_result"
    }
   ],
   "source": [
    "#solution\n",
    "# Numerical value of E(log(X))\n",
    "\n",
    "Integral(log(x)*f_X, (x, 0, 1)).doit()"
   ]
  },
  {
   "cell_type": "markdown",
   "metadata": {},
   "source": [
    "Why is the answer negative?"
   ]
  },
  {
   "cell_type": "markdown",
   "metadata": {},
   "source": [
    "#student\n",
    "\n",
    "**Your answer here**"
   ]
  },
  {
   "cell_type": "markdown",
   "metadata": {},
   "source": [
    "#solution\n",
    "\n",
    "The values of X are between 0 and 1, so log(X) is a negative variable."
   ]
  },
  {
   "cell_type": "markdown",
   "metadata": {},
   "source": [
    "Find $E(\\sin^2(X))$, first displaying the integral and then evaluating it. Use `sin` for sine."
   ]
  },
  {
   "cell_type": "code",
   "execution_count": null,
   "metadata": {},
   "outputs": [],
   "source": [
    "#student\n",
    "# Display the integral for E(sin_squared(X))\n",
    "\n",
    "..."
   ]
  },
  {
   "cell_type": "code",
   "execution_count": 48,
   "metadata": {},
   "outputs": [
    {
     "data": {
      "image/png": "[encoded data removed]",
      "text/latex": [
       "$$\\int_{0}^{1} 6 x^{5} \\sin^{2}{\\left (x \\right )}\\, dx$$"
      ],
      "text/plain": [
       "1                \n",
       "⌠                \n",
       "⎮    5    2      \n",
       "⎮ 6⋅x ⋅sin (x) dx\n",
       "⌡                \n",
       "0                "
      ]
     },
     "execution_count": 48,
     "metadata": {},
     "output_type": "execute_result"
    }
   ],
   "source": [
    "#solution\n",
    "# Display the integral for E(sin_squared(X))\n",
    "\n",
    "Integral((sin(x)**2)*f_X, (x, 0, 1))"
   ]
  },
  {
   "cell_type": "code",
   "execution_count": null,
   "metadata": {},
   "outputs": [],
   "source": [
    "#student\n",
    "\n",
    "value_of_integral = ...\n",
    "value_of_integral"
   ]
  },
  {
   "cell_type": "code",
   "execution_count": 49,
   "metadata": {},
   "outputs": [
    {
     "data": {
      "image/png": "[encoded data removed]",
      "text/latex": [
       "$$- 7 \\sin^{2}{\\left (1 \\right )} - \\frac{21}{2} \\sin{\\left (1 \\right )} \\cos{\\left (1 \\right )} - \\frac{13}{4} \\cos^{2}{\\left (1 \\right )} + \\frac{45}{4}$$"
      ],
      "text/plain": [
       "                                       2        \n",
       "       2      21⋅sin(1)⋅cos(1)   13⋅cos (1)   45\n",
       "- 7⋅sin (1) - ──────────────── - ────────── + ──\n",
       "                     2               4        4 "
      ]
     },
     "execution_count": 49,
     "metadata": {},
     "output_type": "execute_result"
    }
   ],
   "source": [
    "#solution\n",
    "\n",
    "value_of_integral = Integral((sin(x)**2)*f_X, (x, 0, 1)).doit()\n",
    "value_of_integral"
   ]
  },
  {
   "cell_type": "markdown",
   "metadata": {},
   "source": [
    "Sometimes `SymPy` can collect terms and simplify its answers. If you are good at half-angle formulae in trigonometry, you can check by hand that the simplification below is correct. But you don't need to do that for the lab."
   ]
  },
  {
   "cell_type": "code",
   "execution_count": 50,
   "metadata": {},
   "outputs": [
    {
     "data": {
      "image/png": "[encoded data removed]",
      "text/latex": [
       "$$- \\frac{21}{4} \\sin{\\left (2 \\right )} + \\frac{15}{8} \\cos{\\left (2 \\right )} + \\frac{49}{8}$$"
      ],
      "text/plain": [
       "  21⋅sin(2)   15⋅cos(2)   49\n",
       "- ───────── + ───────── + ──\n",
       "      4           8       8 "
      ]
     },
     "execution_count": 50,
     "metadata": {},
     "output_type": "execute_result"
    }
   ],
   "source": [
    "simplify(value_of_integral)"
   ]
  },
  {
   "cell_type": "markdown",
   "metadata": {},
   "source": [
    "### 2d) Change of Variable ###\n",
    "Let $g$ be a monotone differentiable function and let $V = g(X)$. The change of variable formula for densities says that the density of $V$ is given by\n",
    "\n",
    "$$\n",
    "f_V(v) = \\frac{f_X(x)}{\\big{|} \\frac{d}{dx} g(x) \\big{|}} ~~~~~ \\text{evaluated at } x = g^{-1}(v)\n",
    "$$\n",
    "\n",
    "See [Section 16.2](http://prob140.org/textbook/chapters/Chapter_16/02_Monotone_Functions) of the textbook for the derivation and examples. Each time you use the formula, the main steps to find the density are:\n",
    "\n",
    "- Find the possible values of $V = g(X)$.\n",
    "- Find the inverse of $g$.\n",
    "- Find the derivative of $g$.\n",
    "- Divide the density of $X$ by the derivative of $g$ (if the derivative is negative, use its absolute value instead).\n",
    "- Evaluate this quotient at the inverse of $g$.\n",
    "\n",
    "Use the formula to find the density of the area of a disc that has radius $X$. That is, find the density of $V = \\pi X^2$.\n",
    "\n",
    "Start by constructing a `SymPy` expression `g` defined by $g(x) = \\pi x^2$. `SymPy` recognizes `pi` as $\\pi$. Remember that you have already declared `x`."
   ]
  },
  {
   "cell_type": "code",
   "execution_count": null,
   "metadata": {},
   "outputs": [],
   "source": [
    "#student\n",
    "\n",
    "g = ...\n",
    "g"
   ]
  },
  {
   "cell_type": "code",
   "execution_count": 51,
   "metadata": {},
   "outputs": [
    {
     "data": {
      "image/png": "[encoded data removed]",
      "text/latex": [
       "$$\\pi x^{2}$$"
      ],
      "text/plain": [
       "   2\n",
       "π⋅x "
      ]
     },
     "execution_count": 51,
     "metadata": {},
     "output_type": "execute_result"
    }
   ],
   "source": [
    "#solution\n",
    "\n",
    "g = pi * (x ** 2)\n",
    "g"
   ]
  },
  {
   "cell_type": "markdown",
   "metadata": {},
   "source": [
    "It is worth keeping in mind that you now have two representations of $\\pi$: \n",
    "\n",
    "- `pi` produces the symbol $\\pi$, using `SymPy`\n",
    "- `np.pi` produces a numerical approximation to $\\pi$, using `NumPy` "
   ]
  },
  {
   "cell_type": "code",
   "execution_count": 52,
   "metadata": {},
   "outputs": [
    {
     "data": {
      "image/png": "[encoded data removed]",
      "text/latex": [
       "$$\\left ( \\pi, \\quad 3.141592653589793\\right )$$"
      ],
      "text/plain": [
       "(π, 3.141592653589793)"
      ]
     },
     "execution_count": 52,
     "metadata": {},
     "output_type": "execute_result"
    }
   ],
   "source": [
    "pi, np.pi"
   ]
  },
  {
   "cell_type": "markdown",
   "metadata": {},
   "source": [
    "As always, when you are specifying a distribution, start with the possible values. What are the possible values of the random area $V$? "
   ]
  },
  {
   "cell_type": "markdown",
   "metadata": {},
   "source": [
    "#student\n",
    "\n",
    "**Your answer here**"
   ]
  },
  {
   "cell_type": "markdown",
   "metadata": {},
   "source": [
    "#solution\n",
    "\n",
    "From 0 to pi"
   ]
  },
  {
   "cell_type": "markdown",
   "metadata": {},
   "source": [
    "Now find all the elements of the right hand side of the change of variable formula, one by one.\n",
    "\n",
    "First find the function $g^{-1}$ by using the equation $g(x) = v$ to write $x$ in terms of $v$. That is, solve for $x$ in the equation $g(x) = v$, or, equivalently, in the equation $g(x)-v = 0$. \n",
    "\n",
    "Review Parts **1f** and **1g** carefully before you proceed."
   ]
  },
  {
   "cell_type": "code",
   "execution_count": null,
   "metadata": {},
   "outputs": [],
   "source": [
    "#student\n",
    "\n",
    "v = Symbol('v', positive=True)\n",
    "g_inverse = solve(...)\n",
    "g_inverse"
   ]
  },
  {
   "cell_type": "code",
   "execution_count": 53,
   "metadata": {},
   "outputs": [
    {
     "data": {
      "image/png": "[encoded data removed]",
      "text/latex": [
       "$$\\left [ \\frac{\\sqrt{v}}{\\sqrt{\\pi}}\\right ]$$"
      ],
      "text/plain": [
       "⎡√v⎤\n",
       "⎢──⎥\n",
       "⎣√π⎦"
      ]
     },
     "execution_count": 53,
     "metadata": {},
     "output_type": "execute_result"
    }
   ],
   "source": [
    "#solution\n",
    "\n",
    "v = Symbol('v', positive=True)\n",
    "g_inverse = solve(g-v, x)\n",
    "g_inverse"
   ]
  },
  {
   "cell_type": "markdown",
   "metadata": {},
   "source": [
    "Notice that `SymPy` lists just one inverse – the positive one – because you specified that $x$ is positive. The other inverse is $-\\frac{\\sqrt{v}}{\\sqrt{\\pi}}$ but it is not a permitted value of $x$ because it is negative."
   ]
  },
  {
   "cell_type": "markdown",
   "metadata": {},
   "source": [
    "Run the cell below to extract the inverse from the list."
   ]
  },
  {
   "cell_type": "code",
   "execution_count": 54,
   "metadata": {},
   "outputs": [
    {
     "data": {
      "image/png": "[encoded data removed]",
      "text/latex": [
       "$$\\frac{\\sqrt{v}}{\\sqrt{\\pi}}$$"
      ],
      "text/plain": [
       "√v\n",
       "──\n",
       "√π"
      ]
     },
     "execution_count": 54,
     "metadata": {},
     "output_type": "execute_result"
    }
   ],
   "source": [
    "g_inverse = g_inverse[0]\n",
    "g_inverse"
   ]
  },
  {
   "cell_type": "markdown",
   "metadata": {},
   "source": [
    "The change of variable formula has another factor: the derivative in the denominator. Because $g$ is an increasing function, its derivative is positive and you won't need the absolute value in the formula.\n",
    "\n",
    "Find the derivative of $g$, so that the expression `deriv_g` is equal to $\\frac{d}{dx}g(x)$."
   ]
  },
  {
   "cell_type": "code",
   "execution_count": null,
   "metadata": {},
   "outputs": [],
   "source": [
    "#student\n",
    "\n",
    "deriv_g = ...\n",
    "deriv_g"
   ]
  },
  {
   "cell_type": "code",
   "execution_count": 55,
   "metadata": {},
   "outputs": [
    {
     "data": {
      "image/png": "[encoded data removed]",
      "text/latex": [
       "$$2 \\pi x$$"
      ],
      "text/plain": [
       "2⋅π⋅x"
      ]
     },
     "execution_count": 55,
     "metadata": {},
     "output_type": "execute_result"
    }
   ],
   "source": [
    "#solution\n",
    "\n",
    "deriv_g = diff(g)\n",
    "deriv_g"
   ]
  },
  {
   "cell_type": "markdown",
   "metadata": {},
   "source": [
    "Now apply the change of variable formula to find $f_V$, the density of $V$. **In the comment line, enter the possible values of $V$.**"
   ]
  },
  {
   "cell_type": "code",
   "execution_count": null,
   "metadata": {},
   "outputs": [],
   "source": [
    "#student\n",
    "\n",
    "\"\"\"For v in the interval ..., the density of V at the point v is:\"\"\"\n",
    "\n",
    "f_V = (... / ...).subs(...)\n",
    "f_V"
   ]
  },
  {
   "cell_type": "code",
   "execution_count": 56,
   "metadata": {},
   "outputs": [
    {
     "data": {
      "image/png": "[encoded data removed]",
      "text/latex": [
       "$$\\frac{3 v^{2}}{\\pi^{3}}$$"
      ],
      "text/plain": [
       "   2\n",
       "3⋅v \n",
       "────\n",
       "  3 \n",
       " π  "
      ]
     },
     "execution_count": 56,
     "metadata": {},
     "output_type": "execute_result"
    }
   ],
   "source": [
    "#solution\n",
    "\n",
    "\"\"\"For v in the interval 0 to pi, the density of V at the point v is:\"\"\"\n",
    "\n",
    "f_V = (f_X / deriv_g).subs(x, g_inverse)\n",
    "f_V"
   ]
  },
  {
   "cell_type": "markdown",
   "metadata": {},
   "source": [
    "Check that the function `f_V` is a density."
   ]
  },
  {
   "cell_type": "code",
   "execution_count": null,
   "metadata": {},
   "outputs": [],
   "source": [
    "#student\n",
    "\n",
    "..."
   ]
  },
  {
   "cell_type": "code",
   "execution_count": 57,
   "metadata": {},
   "outputs": [
    {
     "data": {
      "image/png": "[encoded data removed]",
      "text/latex": [
       "$$1$$"
      ],
      "text/plain": [
       "1"
      ]
     },
     "execution_count": 57,
     "metadata": {},
     "output_type": "execute_result"
    }
   ],
   "source": [
    "#solution\n",
    "\n",
    "Integral(f_V, (v, 0, pi)).doit()"
   ]
  },
  {
   "cell_type": "markdown",
   "metadata": {},
   "source": [
    "Plot the graph of the density of $V$. Recall from Part **a** that the first argument of `Plot_continuous` is a list of two elements: the left and right ends of the interval over which to plot the graph. They must be numbers, not symbols."
   ]
  },
  {
   "cell_type": "code",
   "execution_count": null,
   "metadata": {},
   "outputs": [],
   "source": [
    "#student\n",
    "\n",
    "Plot_continuous(...)"
   ]
  },
  {
   "cell_type": "code",
   "execution_count": 58,
   "metadata": {},
   "outputs": [
    {
     "data": {
      "image/png": "[encoded data removed]",
      "text/plain": [
       "<Figure size 432x288 with 1 Axes>"
      ]
     },
     "metadata": {},
     "output_type": "display_data"
    }
   ],
   "source": [
    "#solution\n",
    "\n",
    "Plot_continuous([0, np.pi], f_V)"
   ]
  },
  {
   "cell_type": "markdown",
   "metadata": {},
   "source": [
    "#newpage\n",
    "\n",
    "\n",
    "## Part 3: Transforming an $F$ Distribution ##\n",
    "The density you worked with in Part 2 was deliberately chosen to be simple. The real value of `SymPy` is that without much difficulty you can use essentially the same code to handle more complicated density functions.\n",
    "\n",
    "In this part of the lab you will start with one of the famous distributions of statistical inference, confusingly named the $F$ distribution. It's not named for our old friend the cdf. It is named for our other old friend Sir Ronald Fisher, the extraordinary scientist whose contributions include what is now the standard method of testing statistical hypotheses. You might recall from Data 8 that it was Fisher who found 5% to be a \"convenient\" cutoff for the P-value, which then became set in stone as the cutoff for statistical significance.\n",
    "\n",
    "The $F$ distribution arises as the distribution of the ratio of two independent gamma variables (apart from a constant multiplier). The ratio arises in tests of whether three or more random samples come from the same underlying distribution.\n",
    "\n",
    "For the purposes of this lab, the $F$ distribution is just an ordinary distribution on the positive numbers. It has two parameters, which we will call $n$ for \"numerator\" and $d$ for \"denominator\". And its density has a rather intimidating formula."
   ]
  },
  {
   "cell_type": "markdown",
   "metadata": {},
   "source": [
    "### The $F_{n,d}$ Density ###\n",
    "The gamma function of mathematics is denoted $\\Gamma$ (that's the upper case Greek letter gamma) and is defined as an integral. Both its domain and range are the positive numbers. In your current Homework assignment you will examine the definition and properties of the gamma function. In this lab, you will only need one of those results:\n",
    "\n",
    "For positive integer $n$, $\\Gamma(n) = (n-1)!$.\n",
    "\n",
    "Now for the definition of the $F$ density.\n",
    "\n",
    "Let $n$ and $d$ be positive integers. The random variable $X$ has the $F_{n,d}$ distribution if the density of $X$ is\n",
    "\n",
    "$$\n",
    "f_X(x) ~ = ~ \\frac{\\Gamma\\big{(}\\frac{n}{2} + \\frac{d}{2}\\big{)}}{\\Gamma\\big{(}\\frac{n}{2}\\big{)}\\Gamma\\big{(}\\frac{d}{2}\\big{)}} \\big{(} \\frac{n}{d} \\big{)}^{\\frac{n}{2}} x^{\\frac{n}{2} -1}\\big{(}1 + \\frac{n}{d}x \\big{)}^{-\\frac{n+d}{2}} ~, ~~~~~~~ x > 0\n",
    "$$\n",
    "\n",
    "That looks awful. But it isn't, really. Let's see why."
   ]
  },
  {
   "cell_type": "markdown",
   "metadata": {},
   "source": [
    "### 3a) The Constant ###\n",
    "As with many densities, the part of the formula that looks most impressive is actually the least interesting as far as the shape of the density is concerned. It's just the constant of integration: the numerical factor that makes the density integrate to 1. \n",
    "\n",
    "To evaluate the constant you will need to evaluate the gamma function. The `SymPy` function `gamma` can be used in two ways, though in this exercise you will only need the numerical version."
   ]
  },
  {
   "cell_type": "code",
   "execution_count": 18,
   "metadata": {},
   "outputs": [
    {
     "data": {
      "image/png": "[encoded data removed]",
      "text/latex": [
       "$$6$$"
      ],
      "text/plain": [
       "6"
      ]
     },
     "execution_count": 18,
     "metadata": {},
     "output_type": "execute_result"
    }
   ],
   "source": [
    "gamma(4)"
   ]
  },
  {
   "cell_type": "code",
   "execution_count": 17,
   "metadata": {},
   "outputs": [
    {
     "data": {
      "image/png": "[encoded data removed]",
      "text/latex": [
       "$$11.6317283965674$$"
      ],
      "text/plain": [
       "11.6317283965674"
      ]
     },
     "execution_count": 17,
     "metadata": {},
     "output_type": "execute_result"
    }
   ],
   "source": [
    "gamma(4.5)"
   ]
  },
  {
   "cell_type": "code",
   "execution_count": 19,
   "metadata": {},
   "outputs": [
    {
     "data": {
      "image/png": "[encoded data removed]",
      "text/latex": [
       "$$24$$"
      ],
      "text/plain": [
       "24"
      ]
     },
     "execution_count": 19,
     "metadata": {},
     "output_type": "execute_result"
    }
   ],
   "source": [
    "gamma(5)"
   ]
  },
  {
   "cell_type": "code",
   "execution_count": 3,
   "metadata": {},
   "outputs": [
    {
     "data": {
      "image/png": "[encoded data removed]",
      "text/latex": [
       "$$\\Gamma{\\left(r \\right)}$$"
      ],
      "text/plain": [
       "Γ(r)"
      ]
     },
     "execution_count": 3,
     "metadata": {},
     "output_type": "execute_result"
    }
   ],
   "source": [
    "r = Symbol('r', positive=True)\n",
    "gamma(r)"
   ]
  },
  {
   "cell_type": "markdown",
   "metadata": {},
   "source": [
    "Start out by evaluating the constant in the $F_{n,d}$ density. Define a Python function `constant_F` that takes $n$ and $d$ as its arguments and returns the normalizing constant in the density above. "
   ]
  },
  {
   "cell_type": "code",
   "execution_count": null,
   "metadata": {},
   "outputs": [],
   "source": [
    "#student\n",
    "\n",
    "def constant_F(n, d):\n",
    "    return ..."
   ]
  },
  {
   "cell_type": "code",
   "execution_count": 4,
   "metadata": {},
   "outputs": [],
   "source": [
    "#solution\n",
    "\n",
    "def constant_F(n, d):\n",
    "    return (gamma((n+d)/2)/(gamma(n/2)*gamma(d/2)))*((n/d)**(n/2))"
   ]
  },
  {
   "cell_type": "markdown",
   "metadata": {},
   "source": [
    "Work out (by hand or by mental math) the constant when $n = d = 4$, and check that your function returns the right value."
   ]
  },
  {
   "cell_type": "code",
   "execution_count": 62,
   "metadata": {},
   "outputs": [
    {
     "data": {
      "image/png": "[encoded data removed]",
      "text/latex": [
       "$$6.0$$"
      ],
      "text/plain": [
       "6.00000000000000"
      ]
     },
     "execution_count": 62,
     "metadata": {},
     "output_type": "execute_result"
    }
   ],
   "source": [
    "constant_F(4, 4)"
   ]
  },
  {
   "cell_type": "markdown",
   "metadata": {},
   "source": [
    "As another check, work out the constant when $n = 2$ and $d = 4$, and check that your function returns the right value."
   ]
  },
  {
   "cell_type": "code",
   "execution_count": 63,
   "metadata": {},
   "outputs": [
    {
     "data": {
      "image/png": "[encoded data removed]",
      "text/latex": [
       "$$1.0$$"
      ],
      "text/plain": [
       "1.00000000000000"
      ]
     },
     "execution_count": 63,
     "metadata": {},
     "output_type": "execute_result"
    }
   ],
   "source": [
    "constant_F(2, 4)"
   ]
  },
  {
   "cell_type": "markdown",
   "metadata": {},
   "source": [
    "### 3b) The $F_{6, 4}$ Density ###\n",
    "\n",
    "As a numerical example, let $X$ have the $F_{6, 4}$ density, which we will call $f_X$. Construct a `SymPy` expression `f_X` that is equal to $f_X(x)$."
   ]
  },
  {
   "cell_type": "code",
   "execution_count": null,
   "metadata": {},
   "outputs": [],
   "source": [
    "#student\n",
    "\n",
    "x = Symbol('x', positive=True)\n",
    "f_X = constant_F...\n",
    "f_X"
   ]
  },
  {
   "cell_type": "code",
   "execution_count": 5,
   "metadata": {},
   "outputs": [
    {
     "data": {
      "image/png": "[encoded data removed]",
      "text/latex": [
       "$$\\frac{40.5 x^{2}}{\\left(1.5 x + 1\\right)^{5}}$$"
      ],
      "text/plain": [
       "        2   \n",
       "  40.5⋅x    \n",
       "────────────\n",
       "           5\n",
       "(1.5⋅x + 1) "
      ]
     },
     "execution_count": 5,
     "metadata": {},
     "output_type": "execute_result"
    }
   ],
   "source": [
    "#solution\n",
    "\n",
    "x = Symbol('x', positive=True)\n",
    "f_X = constant_F(6, 4) * (x**2) * ((1 + 1.5*x) ** -5)\n",
    "f_X"
   ]
  },
  {
   "cell_type": "markdown",
   "metadata": {},
   "source": [
    "That's not very scary at all. It's just a ratio of two polynomials, because $n=6$ and $d=4$ are both even. \n",
    "\n",
    "Check that $f_X$ is a density. Here you get to use something cute: \n",
    "\n",
    "- As the symbol for infinity, `SymPy` uses two lower case letter o's side by side, because oo looks like $\\infty$."
   ]
  },
  {
   "cell_type": "code",
   "execution_count": null,
   "metadata": {},
   "outputs": [],
   "source": [
    "#student\n",
    "\n",
    "Integral(f_X, (x, ...)).doit()"
   ]
  },
  {
   "cell_type": "code",
   "execution_count": 65,
   "metadata": {},
   "outputs": [
    {
     "data": {
      "image/png": "[encoded data removed]",
      "text/latex": [
       "$$1.0$$"
      ],
      "text/plain": [
       "1.00000000000000"
      ]
     },
     "execution_count": 65,
     "metadata": {},
     "output_type": "execute_result"
    }
   ],
   "source": [
    "#solution\n",
    "\n",
    "Integral(f_X, (x, 0, oo)).doit()"
   ]
  },
  {
   "cell_type": "markdown",
   "metadata": {},
   "source": [
    "Run the cell below to plot the density."
   ]
  },
  {
   "cell_type": "code",
   "execution_count": 66,
   "metadata": {},
   "outputs": [
    {
     "data": {
      "image/png": "[encoded data removed]",
      "text/plain": [
       "<Figure size 432x288 with 1 Axes>"
      ]
     },
     "metadata": {},
     "output_type": "display_data"
    }
   ],
   "source": [
    "Plot_continuous([0, 10], f_X)"
   ]
  },
  {
   "cell_type": "markdown",
   "metadata": {},
   "source": [
    "### 3c) A Transformation and its Inverse ###\n",
    "In the rest of this part of the lab, you will find the density of a function of $X$. Review Part **2d** very carefully first.\n",
    "\n",
    "Define a new random variable $V$ by applying the following function $g$ to the random variable $X$:\n",
    "\n",
    "$$\n",
    "g(x) ~ = ~ \\frac{\\frac{n}{d}x}{1 + \\frac{n}{d}x}\n",
    "$$\n",
    "Then\n",
    "$$\n",
    "V ~ = ~ g(X) ~ = ~ \\frac{\\frac{n}{d}X}{1 + \\frac{n}{d}X}\n",
    "$$\n",
    "\n",
    "With the help of `SymPy`, you are going to find the density of $V$.\n",
    "\n",
    "As always, start with the possible values. What are the possible values of V?"
   ]
  },
  {
   "cell_type": "markdown",
   "metadata": {},
   "source": [
    "#student\n",
    "\n",
    "**Your answer here**"
   ]
  },
  {
   "cell_type": "markdown",
   "metadata": {},
   "source": [
    "#solution\n",
    "\n",
    "Between 0 and 1. Both numerator and denominator are positive and the denominator is always greater."
   ]
  },
  {
   "cell_type": "markdown",
   "metadata": {},
   "source": [
    "For $n = 6$ and $d = 4$, construct an expression `g` that is equal to $g(x)$ as defined above."
   ]
  },
  {
   "cell_type": "code",
   "execution_count": null,
   "metadata": {},
   "outputs": [],
   "source": [
    "#student\n",
    "\n",
    "g = ...\n",
    "g"
   ]
  },
  {
   "cell_type": "code",
   "execution_count": 6,
   "metadata": {},
   "outputs": [
    {
     "data": {
      "image/png": "[encoded data removed]",
      "text/latex": [
       "$$\\frac{1.5 x}{1.5 x + 1}$$"
      ],
      "text/plain": [
       "  1.5⋅x  \n",
       "─────────\n",
       "1.5⋅x + 1"
      ]
     },
     "execution_count": 6,
     "metadata": {},
     "output_type": "execute_result"
    }
   ],
   "source": [
    "#solution\n",
    "\n",
    "g = 1.5*x / (1 + 1.5*x)\n",
    "g"
   ]
  },
  {
   "cell_type": "markdown",
   "metadata": {},
   "source": [
    "Is the function $g$ increasing or decreasing? Explain your answer."
   ]
  },
  {
   "cell_type": "markdown",
   "metadata": {},
   "source": [
    "#student\n",
    "\n",
    "**Your answer here**"
   ]
  },
  {
   "cell_type": "markdown",
   "metadata": {},
   "source": [
    "#solution\n",
    "\n",
    "Increasing. \n",
    "\n",
    "g(x) = 1 - 1/(1.5x + 1). Since 1/(1.5x + 1) is decreasing, -1/(1.5x + 1) is increasing."
   ]
  },
  {
   "cell_type": "markdown",
   "metadata": {},
   "source": [
    "To find the density of $V = g(X)$, you will need the inverse of $g$.\n",
    "\n",
    "The function $g$ has a unique inverse. Let $v = g(x)$. Find the function $g^{-1}$ by completing the cell below. "
   ]
  },
  {
   "cell_type": "code",
   "execution_count": null,
   "metadata": {},
   "outputs": [],
   "source": [
    "#student\n",
    "\n",
    "v = Symbol('v', positive=True)\n",
    "g_inverse = ...[...]\n",
    "g_inverse"
   ]
  },
  {
   "cell_type": "code",
   "execution_count": 10,
   "metadata": {},
   "outputs": [
    {
     "data": {
      "image/png": "[encoded data removed]",
      "text/latex": [
       "$$- \\frac{2.0 v}{3.0 v - 3.0}$$"
      ],
      "text/plain": [
       "  -2.0⋅v   \n",
       "───────────\n",
       "3.0⋅v - 3.0"
      ]
     },
     "execution_count": 10,
     "metadata": {},
     "output_type": "execute_result"
    }
   ],
   "source": [
    "#solution\n",
    "\n",
    "v = Symbol('v', positive=True)\n",
    "g_inverse = solve(g-v, x)[0]\n",
    "g_inverse"
   ]
  },
  {
   "cell_type": "markdown",
   "metadata": {},
   "source": [
    "Remember that for each $v$, $g^{-1}(v)$ is a value of $x$. Since $x$ is positive, the inverse you just found better not be negative. Show by algebra (without using `SymPy`) that the inverse calculated above is positive for each possible value $v$ of $V$."
   ]
  },
  {
   "cell_type": "markdown",
   "metadata": {},
   "source": [
    "#student\n",
    "\n",
    "**Your answer here**"
   ]
  },
  {
   "cell_type": "markdown",
   "metadata": {},
   "source": [
    "#solution\n",
    "\n",
    "v is between 0 and 1, so 2v is positive and 3v-3 is negative. The negative sign outside the fraction makes the end result positive."
   ]
  },
  {
   "cell_type": "markdown",
   "metadata": {},
   "source": [
    "### 3d) A Derivative ###\n",
    "\n",
    "Complete the cell below so that `deriv_g` equals $\\frac{d}{dx}g(x)$."
   ]
  },
  {
   "cell_type": "code",
   "execution_count": null,
   "metadata": {},
   "outputs": [],
   "source": [
    "#solution\n",
    "\n",
    "deriv_g = ...\n",
    "deriv_g"
   ]
  },
  {
   "cell_type": "code",
   "execution_count": 13,
   "metadata": {},
   "outputs": [
    {
     "data": {
      "image/png": "[encoded data removed]",
      "text/latex": [
       "$$- \\frac{2.25 x}{\\left(1.5 x + 1\\right)^{2}} + \\frac{1.5}{1.5 x + 1}$$"
      ],
      "text/plain": [
       "     2.25⋅x         1.5   \n",
       "- ──────────── + ─────────\n",
       "             2   1.5⋅x + 1\n",
       "  (1.5⋅x + 1)             "
      ]
     },
     "execution_count": 13,
     "metadata": {},
     "output_type": "execute_result"
    }
   ],
   "source": [
    "#solution\n",
    "\n",
    "deriv_g = diff(g)\n",
    "deriv_g"
   ]
  },
  {
   "cell_type": "markdown",
   "metadata": {},
   "source": [
    "Explain why this derivative is positive for all positive $x$."
   ]
  },
  {
   "cell_type": "markdown",
   "metadata": {},
   "source": [
    "#student\n",
    "\n",
    "**Your answer here**"
   ]
  },
  {
   "cell_type": "markdown",
   "metadata": {},
   "source": [
    "#solution\n",
    "\n",
    "We showed in 3c that g is an increasing function. So its derivative is positive."
   ]
  },
  {
   "cell_type": "markdown",
   "metadata": {},
   "source": [
    "### 3e) The Density of the Transformation ###\n",
    "Use the change of variable formula in **2d** to find $f_V$, the density of $V$. Start by filling in the possible values of $V$ in the comment line."
   ]
  },
  {
   "cell_type": "code",
   "execution_count": null,
   "metadata": {},
   "outputs": [],
   "source": [
    "#student\n",
    "\n",
    "# Density of V:\n",
    "\n",
    "\"\"\"For v in the interval ..., the density of V at the point v is:\"\"\"\n",
    "\n",
    "f_V = ...\n",
    "f_V"
   ]
  },
  {
   "cell_type": "code",
   "execution_count": 14,
   "metadata": {},
   "outputs": [
    {
     "data": {
      "image/png": "[encoded data removed]",
      "text/latex": [
       "$$\\frac{162.0 v^{2}}{\\left(3.0 v - 3.0\\right)^{2} \\left(- \\frac{3.0 v}{3.0 v - 3.0} + 1\\right)^{5} \\left(\\frac{4.5 v}{\\left(3.0 v - 3.0\\right) \\left(- \\frac{3.0 v}{3.0 v - 3.0} + 1\\right)^{2}} + \\frac{1.5}{- \\frac{3.0 v}{3.0 v - 3.0} + 1}\\right)}$$"
      ],
      "text/plain": [
       "                                                 2                            \n",
       "                                          162.0⋅v                             \n",
       "──────────────────────────────────────────────────────────────────────────────\n",
       "                                  5                                           \n",
       "             2 ⎛     3.0⋅v       ⎞  ⎛              4.5⋅v                      \n",
       "(3.0⋅v - 3.0) ⋅⎜- ─────────── + 1⎟ ⋅⎜────────────────────────────────── + ────\n",
       "               ⎝  3.0⋅v - 3.0    ⎠  ⎜                                 2       \n",
       "                                    ⎜              ⎛     3.0⋅v       ⎞    - ──\n",
       "                                    ⎜(3.0⋅v - 3.0)⋅⎜- ─────────── + 1⎟      3.\n",
       "                                    ⎝              ⎝  3.0⋅v - 3.0    ⎠        \n",
       "\n",
       "              \n",
       "              \n",
       "──────────────\n",
       "              \n",
       "   1.5       ⎞\n",
       "─────────────⎟\n",
       " 3.0⋅v       ⎟\n",
       "───────── + 1⎟\n",
       "0⋅v - 3.0    ⎟\n",
       "             ⎠"
      ]
     },
     "execution_count": 14,
     "metadata": {},
     "output_type": "execute_result"
    }
   ],
   "source": [
    "#solution\n",
    "\n",
    "# Density of V:\n",
    "\n",
    "\"\"\"For v in the interval 0 to 1, the density of V at the point v is:\"\"\"\n",
    "\n",
    "f_V = (f_X / deriv_g).subs(x, g_inverse)\n",
    "f_V"
   ]
  },
  {
   "cell_type": "markdown",
   "metadata": {},
   "source": [
    "Yikes! That looks like a horrible mess. \n",
    "\n",
    "Does it simplify at all? Run the next cell and see."
   ]
  },
  {
   "cell_type": "code",
   "execution_count": 15,
   "metadata": {},
   "outputs": [
    {
     "data": {
      "image/png": "[encoded data removed]",
      "text/latex": [
       "$$12.0 v^{2} \\left(- v + 1\\right)$$"
      ],
      "text/plain": [
       "      2         \n",
       "12.0⋅v ⋅(-v + 1)"
      ]
     },
     "execution_count": 15,
     "metadata": {},
     "output_type": "execute_result"
    }
   ],
   "source": [
    "f_V = simplify(f_V)\n",
    "f_V"
   ]
  },
  {
   "cell_type": "markdown",
   "metadata": {},
   "source": [
    "Algebra is truly wonderful. Especially when `SymPy` does it for you.\n",
    "\n",
    "Recognize the density of $V$ as one of the famous ones and state its name and parameters."
   ]
  },
  {
   "cell_type": "markdown",
   "metadata": {},
   "source": [
    "#student\n",
    "\n",
    "**Your answer here**"
   ]
  },
  {
   "cell_type": "markdown",
   "metadata": {},
   "source": [
    "#solution\n",
    "\n",
    "beta(3, 2)"
   ]
  },
  {
   "cell_type": "markdown",
   "metadata": {},
   "source": [
    "Plot the density of $V$ over all the possible values of $V$."
   ]
  },
  {
   "cell_type": "code",
   "execution_count": null,
   "metadata": {},
   "outputs": [],
   "source": [
    "#student\n",
    "\n",
    "Plot_continuous(...)"
   ]
  },
  {
   "cell_type": "code",
   "execution_count": 72,
   "metadata": {},
   "outputs": [
    {
     "data": {
      "image/png": "[encoded data removed]",
      "text/plain": [
       "<Figure size 432x288 with 1 Axes>"
      ]
     },
     "metadata": {},
     "output_type": "display_data"
    }
   ],
   "source": [
    "#solution\n",
    "\n",
    "Plot_continuous([0, 1], f_V)"
   ]
  },
  {
   "cell_type": "markdown",
   "metadata": {},
   "source": [
    "**Note:** There is nothing special about the choices $n=6$ and $d=4$ as far as this result is concerned. If you had started out with a different $(n, d)$ pair, you would have ended up with a density in the same family but with different parameters. Based on your answer in the case $(6, 4)$, you might be able to guess what the parameters would be in general."
   ]
  },
  {
   "cell_type": "markdown",
   "metadata": {},
   "source": [
    "#newpage\n",
    "\n",
    "## Part 4: Working with Joint Densities ##\n",
    "A joint density is a function of two variables. This part of the lab shows you how to work with such functions in `SymPy`.\n",
    "\n",
    "Before you get started, please read [Section 17.1](http://prob140.org/textbook/chapters/Chapter_17/01_Probabilities_and_Expectations) of the textbook. The rest of the lab will go faster that way.\n",
    "\n",
    "Let $X$ and $Y$ have joint density given by\n",
    "$$\n",
    "f(x, y) ~ = ~ x+y, ~~~~ 0 < x, y < 1\n",
    "$$\n",
    "\n",
    "In order to find probabilities, densities, or expectations of functions of $X$ and $Y$, you have to create two symbols, which we will assign to the names `x` and `y`. Since both have values in $(0, 1)$, we will use the `positive=True` option."
   ]
  },
  {
   "cell_type": "code",
   "execution_count": 76,
   "metadata": {},
   "outputs": [],
   "source": [
    "x = Symbol('x', positive=True)\n",
    "y = Symbol('y', positive=True)"
   ]
  },
  {
   "cell_type": "code",
   "execution_count": 77,
   "metadata": {},
   "outputs": [
    {
     "data": {
      "image/png": "[encoded data removed]",
      "text/latex": [
       "$$x + y$$"
      ],
      "text/plain": [
       "x + y"
      ]
     },
     "execution_count": 77,
     "metadata": {},
     "output_type": "execute_result"
    }
   ],
   "source": [
    "f = x+y\n",
    "f"
   ]
  },
  {
   "cell_type": "markdown",
   "metadata": {},
   "source": [
    "You know that the integral of $f$ over the entire unit square has to be 1. To calculate this using `SymPy`, you have to specify a double integral. The general expression used to display a definite double integral is `Integral` with three arguments:\n",
    "\n",
    "- the name of the function to integrate\n",
    "- (inner_integral_variable, lower_limit, upper_limit)\n",
    "- (outer_integral_variable, lower_limit, upper_limit)\n",
    "\n",
    "Read each of the three cells below carefully before you run them. You will need the syntax later."
   ]
  },
  {
   "cell_type": "code",
   "execution_count": 78,
   "metadata": {},
   "outputs": [
    {
     "data": {
      "image/png": "[encoded data removed]",
      "text/latex": [
       "$$\\int_{0}^{1}\\int_{0}^{1} \\left(x + y\\right)\\, dx\\, dy$$"
      ],
      "text/plain": [
       "1 1              \n",
       "⌠ ⌠              \n",
       "⎮ ⎮ (x + y) dx dy\n",
       "⌡ ⌡              \n",
       "0 0              "
      ]
     },
     "execution_count": 78,
     "metadata": {},
     "output_type": "execute_result"
    }
   ],
   "source": [
    "# Integral of f over the unit square,\n",
    "# integrating x first and then y\n",
    "\n",
    "Integral(f, (x, 0, 1), (y, 0, 1))"
   ]
  },
  {
   "cell_type": "code",
   "execution_count": 79,
   "metadata": {},
   "outputs": [
    {
     "data": {
      "image/png": "[encoded data removed]",
      "text/latex": [
       "$$\\int_{0}^{1}\\int_{0}^{1} \\left(x + y\\right)\\, dy\\, dx$$"
      ],
      "text/plain": [
       "1 1              \n",
       "⌠ ⌠              \n",
       "⎮ ⎮ (x + y) dy dx\n",
       "⌡ ⌡              \n",
       "0 0              "
      ]
     },
     "execution_count": 79,
     "metadata": {},
     "output_type": "execute_result"
    }
   ],
   "source": [
    "# Integral of f over the unit square,\n",
    "# integrating y first and then x\n",
    "\n",
    "Integral(f, (y, 0, 1), (x, 0, 1))"
   ]
  },
  {
   "cell_type": "code",
   "execution_count": 80,
   "metadata": {},
   "outputs": [
    {
     "data": {
      "image/png": "[encoded data removed]",
      "text/latex": [
       "$$\\left ( 1, \\quad 1\\right )$$"
      ],
      "text/plain": [
       "(1, 1)"
      ]
     },
     "execution_count": 80,
     "metadata": {},
     "output_type": "execute_result"
    }
   ],
   "source": [
    "# Evaluating both integrals\n",
    "\n",
    "Integral(f, (x, 0, 1), (y, 0, 1)).doit(), Integral(f, (y, 0, 1), (x, 0, 1)).doit()"
   ]
  },
  {
   "cell_type": "markdown",
   "metadata": {},
   "source": [
    "### 4a) [ON PAPER] ###\n",
    "On a sketch of the unit square, shade the region corresponding to the event $Y > 2X$. Then write $P(Y > 2X)$ as a double integral, in two ways:\n",
    "\n",
    "- by integrating $y$ first and then $x$\n",
    "- by integrating $x$ first and then $y$\n",
    "\n",
    "The region isn't a rectangle, so pay attention to the limits of integration."
   ]
  },
  {
   "cell_type": "markdown",
   "metadata": {},
   "source": [
    "### 4b) ###\n",
    "In the two cells below, display your answers to Part **a**. Do not evaluate the integrals."
   ]
  },
  {
   "cell_type": "code",
   "execution_count": null,
   "metadata": {},
   "outputs": [],
   "source": [
    "#student\n",
    "# P(Y > 2X) by integrating y first and then x\n",
    "\n",
    "Integral(f, (y, ...), (x, ...))"
   ]
  },
  {
   "cell_type": "code",
   "execution_count": 81,
   "metadata": {},
   "outputs": [
    {
     "data": {
      "image/png": "[encoded data removed]",
      "text/latex": [
       "$$\\int_{0}^{0.5}\\int_{2 x}^{1} \\left(x + y\\right)\\, dy\\, dx$$"
      ],
      "text/plain": [
       "0.5  1               \n",
       " ⌠   ⌠               \n",
       " ⎮   ⎮  (x + y) dy dx\n",
       " ⌡   ⌡               \n",
       " 0  2⋅x              "
      ]
     },
     "execution_count": 81,
     "metadata": {},
     "output_type": "execute_result"
    }
   ],
   "source": [
    "#solution\n",
    "# P(Y > 2X) by integrating y first and then x\n",
    "\n",
    "Integral(f, (y, 2*x, 1), (x, 0, 1/2))"
   ]
  },
  {
   "cell_type": "code",
   "execution_count": null,
   "metadata": {},
   "outputs": [],
   "source": [
    "#student\n",
    "# P(Y > 2X) by integrating x first and then y\n",
    "\n",
    "Integral(f, (x, ...), (y, ...))"
   ]
  },
  {
   "cell_type": "code",
   "execution_count": 82,
   "metadata": {},
   "outputs": [
    {
     "data": {
      "image/png": "[encoded data removed]",
      "text/latex": [
       "$$\\int_{0}^{1}\\int_{0}^{\\frac{y}{2}} \\left(x + y\\right)\\, dx\\, dy$$"
      ],
      "text/plain": [
       "  y              \n",
       "  ─              \n",
       "1 2              \n",
       "⌠ ⌠              \n",
       "⎮ ⎮ (x + y) dx dy\n",
       "⌡ ⌡              \n",
       "0 0              "
      ]
     },
     "execution_count": 82,
     "metadata": {},
     "output_type": "execute_result"
    }
   ],
   "source": [
    "#solution\n",
    "# P(Y > 2X) by integrating x first and then y\n",
    "\n",
    "Integral(f, (x, 0, y/2), (y, 0, 1))"
   ]
  },
  {
   "cell_type": "markdown",
   "metadata": {},
   "source": [
    "Check that the numerical values of the two double integrals are the same. Notice that `SymPy` makes choices about how to represent numbers; you might need another cell to do some arithmetic."
   ]
  },
  {
   "cell_type": "code",
   "execution_count": null,
   "metadata": {},
   "outputs": [],
   "source": [
    "#student\n",
    "# numerical value of P(Y > 2X)\n",
    "\n",
    "Integral(f, (y, ...), (x, ...)).doit(), Integral(f, (x, ...), (y, ...)).doit()"
   ]
  },
  {
   "cell_type": "code",
   "execution_count": 83,
   "metadata": {},
   "outputs": [
    {
     "data": {
      "image/png": "[encoded data removed]",
      "text/latex": [
       "$$\\left ( 0.208333333333333, \\quad \\frac{5}{24}\\right )$$"
      ],
      "text/plain": [
       "(0.208333333333333, 5/24)"
      ]
     },
     "execution_count": 83,
     "metadata": {},
     "output_type": "execute_result"
    }
   ],
   "source": [
    "#solution\n",
    "\n",
    "Integral(f, (y, 2*x, 1), (x, 0, 1/2)).doit(), Integral(f, (x, 0, y/2), (y, 0, 1)).doit()"
   ]
  },
  {
   "cell_type": "code",
   "execution_count": null,
   "metadata": {},
   "outputs": [],
   "source": [
    "#student\n",
    "\n",
    "..."
   ]
  },
  {
   "cell_type": "code",
   "execution_count": null,
   "metadata": {},
   "outputs": [],
   "source": [
    "#solution\n",
    "\n",
    "5/24"
   ]
  },
  {
   "cell_type": "markdown",
   "metadata": {},
   "source": [
    "### 4c) Marginals ###\n",
    "\n",
    "Find the marginal density of $X$. See [Section 17.3](http://prob140.org/textbook/chapters/Chapter_17/03_Marginal_and_Conditional_Densities)."
   ]
  },
  {
   "cell_type": "code",
   "execution_count": null,
   "metadata": {},
   "outputs": [],
   "source": [
    "#student\n",
    "\n",
    "# For x in the interval 0 to 1, the marginal density of X at the point x is:\n",
    "\n",
    "f_X = ...\n",
    "f_X"
   ]
  },
  {
   "cell_type": "code",
   "execution_count": 84,
   "metadata": {},
   "outputs": [
    {
     "data": {
      "image/png": "[encoded data removed]",
      "text/latex": [
       "$$x + \\frac{1}{2}$$"
      ],
      "text/plain": [
       "x + 1/2"
      ]
     },
     "execution_count": 84,
     "metadata": {},
     "output_type": "execute_result"
    }
   ],
   "source": [
    "#solution\n",
    "\n",
    "# For x in the interval 0 to 1, the marginal density of X at the point x is:\n",
    "\n",
    "f_X = Integral(f, (y, 0, 1)).doit()\n",
    "f_X"
   ]
  },
  {
   "cell_type": "markdown",
   "metadata": {},
   "source": [
    "Without calculation, say what the marginal density of $Y$ is. Explain your answer."
   ]
  },
  {
   "cell_type": "markdown",
   "metadata": {},
   "source": [
    "#student\n",
    "\n",
    "**Your answer here**"
   ]
  },
  {
   "cell_type": "markdown",
   "metadata": {},
   "source": [
    "#solution\n",
    "\n",
    "Same as the marginal of X because the joint density is symmetric in x and y."
   ]
  },
  {
   "cell_type": "markdown",
   "metadata": {},
   "source": [
    "### 4d) Expectations ###\n",
    "What is the relation between $E(X+Y)$ and $E(X)$?"
   ]
  },
  {
   "cell_type": "markdown",
   "metadata": {},
   "source": [
    "#student\n",
    "\n",
    "**Your answer here**"
   ]
  },
  {
   "cell_type": "markdown",
   "metadata": {},
   "source": [
    "#solution\n",
    "\n",
    "E(X+Y) = E(X) + E(Y) and E(X) = E(Y) because the marginals are the same. So E(X+Y) = 2E(X)."
   ]
  },
  {
   "cell_type": "markdown",
   "metadata": {},
   "source": [
    "Use `f_X` (not `f`) to find the numerical value of $E(X+Y)$."
   ]
  },
  {
   "cell_type": "code",
   "execution_count": null,
   "metadata": {},
   "outputs": [],
   "source": [
    "#student\n",
    "\n",
    "..."
   ]
  },
  {
   "cell_type": "code",
   "execution_count": 85,
   "metadata": {},
   "outputs": [
    {
     "data": {
      "image/png": "[encoded data removed]",
      "text/latex": [
       "$$\\frac{7}{6}$$"
      ],
      "text/plain": [
       "7/6"
      ]
     },
     "execution_count": 85,
     "metadata": {},
     "output_type": "execute_result"
    }
   ],
   "source": [
    "#solution\n",
    "\n",
    "2 * Integral(x*f_X, (x, 0, 1)).doit()"
   ]
  },
  {
   "cell_type": "markdown",
   "metadata": {},
   "source": [
    "Use the first cell below to display $E(XY)$ as an integral (see [Section 17.1](http://prob140.org/textbook/chapters/Chapter_17/01_Probabilities_and_Expectations)), and use the second cell to find its numerical value."
   ]
  },
  {
   "cell_type": "code",
   "execution_count": null,
   "metadata": {},
   "outputs": [],
   "source": [
    "#student\n",
    "\n",
    "# E(XY) displayed as an integral\n",
    "\n",
    "..."
   ]
  },
  {
   "cell_type": "code",
   "execution_count": 86,
   "metadata": {},
   "outputs": [
    {
     "data": {
      "image/png": "[encoded data removed]",
      "text/latex": [
       "$$\\int_{0}^{1}\\int_{0}^{1} x y \\left(x + y\\right)\\, dx\\, dy$$"
      ],
      "text/plain": [
       "1 1                  \n",
       "⌠ ⌠                  \n",
       "⎮ ⎮ x⋅y⋅(x + y) dx dy\n",
       "⌡ ⌡                  \n",
       "0 0                  "
      ]
     },
     "execution_count": 86,
     "metadata": {},
     "output_type": "execute_result"
    }
   ],
   "source": [
    "#solution\n",
    "\n",
    "# E(XY) displayed as an integral\n",
    "\n",
    "Integral(x*y*f, (x, 0, 1), (y, 0, 1))"
   ]
  },
  {
   "cell_type": "code",
   "execution_count": null,
   "metadata": {},
   "outputs": [],
   "source": [
    "#student\n",
    "\n",
    "# Numerical value of E(XY)\n",
    "\n",
    "..."
   ]
  },
  {
   "cell_type": "code",
   "execution_count": 87,
   "metadata": {},
   "outputs": [
    {
     "data": {
      "image/png": "[encoded data removed]",
      "text/latex": [
       "$$\\frac{1}{3}$$"
      ],
      "text/plain": [
       "1/3"
      ]
     },
     "execution_count": 87,
     "metadata": {},
     "output_type": "execute_result"
    }
   ],
   "source": [
    "#solution\n",
    "\n",
    "# Numerical value of E(XY)\n",
    "\n",
    "Integral(x*y*f, (x, 0, 1), (y, 0, 1)).doit()"
   ]
  },
  {
   "cell_type": "markdown",
   "metadata": {},
   "source": [
    "#newpage\n",
    "\n",
    "## Part 5: Marginal and Conditional Densities ##"
   ]
  },
  {
   "cell_type": "markdown",
   "metadata": {},
   "source": [
    "This part of the lab is an exercise in finding and using marginal and conditional densities. The theory is in [Section 17.3](http://prob140.org/textbook/chapters/Chapter_17/03_Marginal_and_Conditional_Densities). The exercise is taken from Pitman's Exercise 5.2.8, but you will go a bit further here.\n",
    "\n",
    "For some constant $c > 0$, random variables $X$ and $Y$ have a joint density $f$ defined as follows.\n",
    "\n",
    "$$\n",
    "f(x, y) ~ = ~ \n",
    "\\begin{cases}\n",
    "c(y^2 - x^2)e^{-y}, ~~~ y > 0, ~ -y < x < y  \\\\\n",
    "0 ~~~~~~~~~~~~~~~~~~~~~~~~~ \\text{otherwise}\n",
    "\\end{cases}\n",
    "$$\n",
    "\n",
    "There are several symbols in the definition. Let's start by creating `x` and `y`. Notice that `x` can be negative."
   ]
  },
  {
   "cell_type": "code",
   "execution_count": 21,
   "metadata": {},
   "outputs": [],
   "source": [
    "x = Symbol('x')\n",
    "y = Symbol('y', positive=True)"
   ]
  },
  {
   "cell_type": "markdown",
   "metadata": {},
   "source": [
    "The normalizing constant $c$ is also a symbol."
   ]
  },
  {
   "cell_type": "code",
   "execution_count": 22,
   "metadata": {},
   "outputs": [],
   "source": [
    "c = Symbol('c', positive=True)"
   ]
  },
  {
   "cell_type": "markdown",
   "metadata": {},
   "source": [
    "### 5a) Normalizing Constant ###\n",
    "\n",
    "**[ON PAPER]** Write (but do not evaluate) the integral of $f$ over all the possible values of $X$ and $Y$. Integrate over $x$ first and then $y$, and be careful about the limits of integration. What is the numerical value of the integral? [You don't need to calculate anything to answer that.]"
   ]
  },
  {
   "cell_type": "markdown",
   "metadata": {},
   "source": [
    "**[BACK TO CODE]** Look at the integral you wrote, and then find $c$ by completing the cell below. Read all the lines in the cell before you start filling in the blanks.\n",
    "\n",
    "Note that for a symbol `w`, `SymPy` recognizes `exp(w)` as $e^w$."
   ]
  },
  {
   "cell_type": "code",
   "execution_count": null,
   "metadata": {},
   "outputs": [],
   "source": [
    "#student\n",
    "\n",
    "h = ...\n",
    "c = 1 / integrate(h, (x, ...), (y, ...))\n",
    "c"
   ]
  },
  {
   "cell_type": "code",
   "execution_count": 23,
   "metadata": {},
   "outputs": [
    {
     "data": {
      "image/png": "[encoded data removed]",
      "text/latex": [
       "$$\\frac{1}{8}$$"
      ],
      "text/plain": [
       "1/8"
      ]
     },
     "execution_count": 23,
     "metadata": {},
     "output_type": "execute_result"
    }
   ],
   "source": [
    "#solution\n",
    "\n",
    "h = (y**2 - x**2) * exp(-y)\n",
    "c = 1 / integrate(h, (x, -y, y), (y, 0, oo))\n",
    "c"
   ]
  },
  {
   "cell_type": "markdown",
   "metadata": {},
   "source": [
    "Now construct an expression `f` that equals $f(x, y)$, using the expressions `c` and `h` from the previous code cell. "
   ]
  },
  {
   "cell_type": "code",
   "execution_count": null,
   "metadata": {},
   "outputs": [],
   "source": [
    "#student\n",
    "\n",
    "f = ...\n",
    "f"
   ]
  },
  {
   "cell_type": "code",
   "execution_count": 24,
   "metadata": {},
   "outputs": [
    {
     "data": {
      "image/png": "[encoded data removed]",
      "text/latex": [
       "$$\\frac{e^{- y}}{8} \\left(- x^{2} + y^{2}\\right)$$"
      ],
      "text/plain": [
       "⎛   2    2⎞  -y\n",
       "⎝- x  + y ⎠⋅ℯ  \n",
       "───────────────\n",
       "       8       "
      ]
     },
     "execution_count": 24,
     "metadata": {},
     "output_type": "execute_result"
    }
   ],
   "source": [
    "#solution\n",
    "\n",
    "f = c * h\n",
    "f"
   ]
  },
  {
   "cell_type": "markdown",
   "metadata": {},
   "source": [
    "Confirm that `f` is a joint density function."
   ]
  },
  {
   "cell_type": "code",
   "execution_count": null,
   "metadata": {},
   "outputs": [],
   "source": [
    "#student\n",
    "\n",
    "..."
   ]
  },
  {
   "cell_type": "code",
   "execution_count": 25,
   "metadata": {},
   "outputs": [
    {
     "data": {
      "image/png": "[encoded data removed]",
      "text/latex": [
       "$$1$$"
      ],
      "text/plain": [
       "1"
      ]
     },
     "execution_count": 25,
     "metadata": {},
     "output_type": "execute_result"
    }
   ],
   "source": [
    "#solution\n",
    "\n",
    "Integral(f, (x, -y, y), (y, 0, oo)).doit()"
   ]
  },
  {
   "cell_type": "markdown",
   "metadata": {},
   "source": [
    "### 5b) Marginal Density of $Y$ ###\n",
    "Let $f_Y$ be the density of $Y$. The goal of this exercise is to find $f_Y$. \n",
    "\n",
    "For $y > 0$, display $f_Y(y)$ as an integral but don't evaluate the integral. Be careful about the limits of integration."
   ]
  },
  {
   "cell_type": "code",
   "execution_count": null,
   "metadata": {},
   "outputs": [],
   "source": [
    "#student\n",
    "\n",
    "# f_Y (y) = \n",
    "\n",
    "Integral(...)"
   ]
  },
  {
   "cell_type": "code",
   "execution_count": 26,
   "metadata": {},
   "outputs": [
    {
     "data": {
      "image/png": "[encoded data removed]",
      "text/latex": [
       "$$\\int_{- y}^{y} \\frac{e^{- y}}{8} \\left(- x^{2} + y^{2}\\right)\\, dx$$"
      ],
      "text/plain": [
       "y                    \n",
       "⌠                    \n",
       "⎮  ⎛   2    2⎞  -y   \n",
       "⎮  ⎝- x  + y ⎠⋅ℯ     \n",
       "⎮  ─────────────── dx\n",
       "⎮         8          \n",
       "⌡                    \n",
       "-y                   "
      ]
     },
     "execution_count": 26,
     "metadata": {},
     "output_type": "execute_result"
    }
   ],
   "source": [
    "#solution\n",
    "\n",
    "# For y > 0, f_Y (y) = \n",
    "\n",
    "Integral(f, (x, -y, y))"
   ]
  },
  {
   "cell_type": "markdown",
   "metadata": {},
   "source": [
    "Now evaluate the integral and assign the answer to the name `f_Y`."
   ]
  },
  {
   "cell_type": "code",
   "execution_count": null,
   "metadata": {},
   "outputs": [],
   "source": [
    "#student\n",
    "\n",
    "f_Y = ...\n",
    "f_Y"
   ]
  },
  {
   "cell_type": "code",
   "execution_count": 27,
   "metadata": {},
   "outputs": [
    {
     "data": {
      "image/png": "[encoded data removed]",
      "text/latex": [
       "$$\\frac{y^{3}}{6} e^{- y}$$"
      ],
      "text/plain": [
       " 3  -y\n",
       "y ⋅ℯ  \n",
       "──────\n",
       "  6   "
      ]
     },
     "execution_count": 27,
     "metadata": {},
     "output_type": "execute_result"
    }
   ],
   "source": [
    "#solution\n",
    "\n",
    "f_Y = Integral(f, (x, -y, y)).doit()\n",
    "f_Y"
   ]
  },
  {
   "cell_type": "markdown",
   "metadata": {},
   "source": [
    "This density is a member of a famous family of densities that you will examining in your current homework. In homework you will find a formula for the expectation of a generic member of the family, but in this particular example you can just use integration to find $E(Y)$. Do that in the cell below and notice the simple answer."
   ]
  },
  {
   "cell_type": "code",
   "execution_count": null,
   "metadata": {},
   "outputs": [],
   "source": [
    "#student\n",
    "\n",
    "# E(Y)\n",
    "\n",
    "..."
   ]
  },
  {
   "cell_type": "code",
   "execution_count": 28,
   "metadata": {},
   "outputs": [
    {
     "data": {
      "image/png": "[encoded data removed]",
      "text/latex": [
       "$$4$$"
      ],
      "text/plain": [
       "4"
      ]
     },
     "execution_count": 28,
     "metadata": {},
     "output_type": "execute_result"
    }
   ],
   "source": [
    "#solution\n",
    "\n",
    "# E(Y)\n",
    "\n",
    "Integral(y*f_Y, (y, 0, oo)).doit()"
   ]
  },
  {
   "cell_type": "markdown",
   "metadata": {},
   "source": [
    "Run the cell below to plot the density of $Y$."
   ]
  },
  {
   "cell_type": "code",
   "execution_count": 100,
   "metadata": {},
   "outputs": [
    {
     "data": {
      "image/png": "[encoded data removed]",
      "text/plain": [
       "<matplotlib.figure.Figure at 0x1a18a5fc88>"
      ]
     },
     "metadata": {},
     "output_type": "display_data"
    }
   ],
   "source": [
    "Plot_continuous([0, 15], f_Y)\n",
    "plt.xticks(np.arange(0, 15, 2));"
   ]
  },
  {
   "cell_type": "markdown",
   "metadata": {},
   "source": [
    "### 5c) Conditional Density of $X$ Given $Y=y$ ###\n",
    "The goal of this exercise is to work with the conditional density of $X$ given $Y = 2$. As in class, we will denote this density by $f_{X \\mid Y=2}$. \n",
    "\n",
    "First read \"Conditional Densities\" in [Section 17.3](http://prob140.org/textbook/chapters/Chapter_17/03_Marginal_and_Conditional_Densities) of the textbook. Most of the discussion is about conditioning $Y$ on $X$, whereas in this exercise you are conditioning $X$ on $Y$. Just switch the roles of $X$ and $Y$ in the text.\n",
    "\n",
    "Start by filling in the comment line in the cell below with the possible values of $X$ given that $Y = 2$. Then complete the rest of the cell so that the last line evaluates to $f_{X|Y=2}(x)$.\n",
    "\n",
    "The calculation involves two main moves:\n",
    "\n",
    "- Figure out how to combine the joint density of $X$ and $Y$ and the marginal density of $Y$.\n",
    "- You are conditioning on $Y=2$, so replace the generic $y$ by its given value of 2."
   ]
  },
  {
   "cell_type": "code",
   "execution_count": null,
   "metadata": {},
   "outputs": [],
   "source": [
    "#student\n",
    "\n",
    "# Conditional density of X given Y=2:\n",
    "\n",
    "\"\"\"Given Y=2, the possible values of X are ...\"\"\"\n",
    "\n",
    "f_X_given_Y_is_2 = ...\n",
    "\n",
    "f_X_given_Y_is_2"
   ]
  },
  {
   "cell_type": "code",
   "execution_count": 101,
   "metadata": {},
   "outputs": [
    {
     "data": {
      "image/png": "[encoded data removed]",
      "text/latex": [
       "$$- \\frac{3 x^{2}}{32} + \\frac{3}{8}$$"
      ],
      "text/plain": [
       "     2    \n",
       "  3⋅x    3\n",
       "- ──── + ─\n",
       "   32    8"
      ]
     },
     "execution_count": 101,
     "metadata": {},
     "output_type": "execute_result"
    }
   ],
   "source": [
    "#solution\n",
    "\n",
    "# Conditional density of X given Y=2:\n",
    "\n",
    "\"\"\"Given Y=2, the possible values of X are -2 to 2.\"\"\"\n",
    "\n",
    "f_X_given_Y_is_2 = (f / f_Y).subs(y, 2)\n",
    "\n",
    "f_X_given_Y_is_2"
   ]
  },
  {
   "cell_type": "markdown",
   "metadata": {},
   "source": [
    "Use the cell below to confirm that this is a density."
   ]
  },
  {
   "cell_type": "code",
   "execution_count": null,
   "metadata": {},
   "outputs": [],
   "source": [
    "#student\n",
    "\n",
    "..."
   ]
  },
  {
   "cell_type": "code",
   "execution_count": 102,
   "metadata": {},
   "outputs": [
    {
     "data": {
      "image/png": "[encoded data removed]",
      "text/latex": [
       "$$1$$"
      ],
      "text/plain": [
       "1"
      ]
     },
     "execution_count": 102,
     "metadata": {},
     "output_type": "execute_result"
    }
   ],
   "source": [
    "#solution\n",
    "\n",
    "Integral(f_X_given_Y_is_2, (x, -2, 2)).doit()"
   ]
  },
  {
   "cell_type": "markdown",
   "metadata": {},
   "source": [
    "Plot the graph of $f_{X \\mid Y=2}$ over all the possible values of $X$ given that $Y=2$."
   ]
  },
  {
   "cell_type": "code",
   "execution_count": null,
   "metadata": {},
   "outputs": [],
   "source": [
    "#student\n",
    "\n",
    "Plot_continuous(..., f_X_given_Y_is_2)"
   ]
  },
  {
   "cell_type": "code",
   "execution_count": 103,
   "metadata": {},
   "outputs": [
    {
     "data": {
      "image/png": "[encoded data removed]",
      "text/plain": [
       "<matplotlib.figure.Figure at 0x1a20faffd0>"
      ]
     },
     "metadata": {},
     "output_type": "display_data"
    }
   ],
   "source": [
    "#solution\n",
    "\n",
    "Plot_continuous([-2, 2], f_X_given_Y_is_2)"
   ]
  },
  {
   "cell_type": "markdown",
   "metadata": {},
   "source": [
    "### 5d) Expectation of $X$ ###\n",
    "\n",
    "**[ON PAPER]** Explain **without integration** why $E(X \\mid Y=2) = 0$. "
   ]
  },
  {
   "cell_type": "markdown",
   "metadata": {},
   "source": [
    "#solution\n",
    "\n",
    "Given Y=2, the possible values of X go from -2 to 2. The conditional density of X given Y=2 is symmetric about 0. So E(X | Y=2) = 0."
   ]
  },
  {
   "cell_type": "markdown",
   "metadata": {},
   "source": [
    "**[BACK TO CODE]** There is nothing special about the choice of 2 as the given value of $Y$. For $y > 0$, complete the cell below so that the last line evaluates to $f_{X|Y=y}(x)$."
   ]
  },
  {
   "cell_type": "code",
   "execution_count": null,
   "metadata": {},
   "outputs": [],
   "source": [
    "#student\n",
    "\n",
    "f_X_given_Y_is_y = ...\n",
    "f_X_given_Y_is_y"
   ]
  },
  {
   "cell_type": "code",
   "execution_count": 104,
   "metadata": {},
   "outputs": [
    {
     "data": {
      "image/png": "[encoded data removed]",
      "text/latex": [
       "$$\\frac{3}{4 y^{3}} \\left(- x^{2} + y^{2}\\right)$$"
      ],
      "text/plain": [
       "  ⎛   2    2⎞\n",
       "3⋅⎝- x  + y ⎠\n",
       "─────────────\n",
       "        3    \n",
       "     4⋅y     "
      ]
     },
     "execution_count": 104,
     "metadata": {},
     "output_type": "execute_result"
    }
   ],
   "source": [
    "#solution\n",
    "\n",
    "f_X_given_Y_is_y = f / f_Y\n",
    "f_X_given_Y_is_y"
   ]
  },
  {
   "cell_type": "markdown",
   "metadata": {},
   "source": [
    "**[ON PAPER]** Remember that if you are given $Y=y$, then $y$ is a constant. Use the formula for $f_{X \\mid Y=y}$ to explain (without calculation) why $E(X \\mid Y=y) = 0$ for all $y > 0$."
   ]
  },
  {
   "cell_type": "markdown",
   "metadata": {},
   "source": [
    "#solution\n",
    "\n",
    "For every possible value y of Y, the conditional density of X given Y=y is a function of x^2 and hence symmetric about 0. So E(X | Y=y) = 0."
   ]
  },
  {
   "cell_type": "markdown",
   "metadata": {},
   "source": [
    "**[ON PAPER]** Now explain why $E(X) = 0$. **Do not integrate anything.** Use the observations you have just made. "
   ]
  },
  {
   "cell_type": "markdown",
   "metadata": {},
   "source": [
    "#solution\n",
    "\n",
    "We just showed E(X | Y) = 0. By iteration, E(X) = E(E(X | Y)) = 0."
   ]
  },
  {
   "cell_type": "markdown",
   "metadata": {},
   "source": [
    "### 5e) Expectation of $\\vert X \\vert$ ###\n",
    "\n",
    "**[ON PAPER]** Pitman's text asks why $E(|X|)$ is at most 4. What's the answer?\n",
    "\n",
    "[Go back through your work in **5b**. There's a 4 in there somewhere.]"
   ]
  },
  {
   "cell_type": "markdown",
   "metadata": {},
   "source": [
    "#solution\n",
    "\n",
    "By the definition of the joint density, |X| is at most Y. So E(|X|) is at most E(Y). And $E(Y) = 4$. "
   ]
  },
  {
   "cell_type": "markdown",
   "metadata": {},
   "source": [
    "Fine, so it's at most 4. But how much is it, exactly? To find the numerical value of $E(\\vert X \\vert)$, start by finding the conditional density of $\\vert X \\vert$ given $Y = y$.\n",
    "\n",
    "All you need to use is `f_X_given_Y_is_y` and symmetry. Remember to fill in the comment cell with the possible values of $\\vert X \\vert$ given $Y=y$."
   ]
  },
  {
   "cell_type": "code",
   "execution_count": null,
   "metadata": {},
   "outputs": [],
   "source": [
    "#student\n",
    "\n",
    "# Conditional density of |X| given Y=y\n",
    "\n",
    "\"\"\"Given Y=y, the possible values of |X| are ...\"\"\"\n",
    "\n",
    "f_absX_given_Y_is_y = ...\n",
    "f_absX_given_Y_is_y"
   ]
  },
  {
   "cell_type": "code",
   "execution_count": 105,
   "metadata": {},
   "outputs": [
    {
     "data": {
      "image/png": "[encoded data removed]",
      "text/latex": [
       "$$\\frac{3}{2 y^{3}} \\left(- x^{2} + y^{2}\\right)$$"
      ],
      "text/plain": [
       "  ⎛   2    2⎞\n",
       "3⋅⎝- x  + y ⎠\n",
       "─────────────\n",
       "        3    \n",
       "     2⋅y     "
      ]
     },
     "execution_count": 105,
     "metadata": {},
     "output_type": "execute_result"
    }
   ],
   "source": [
    "#solution\n",
    "\n",
    "# Conditional density of |X| given Y=y\n",
    "\n",
    "\"\"\"Given Y=y, the possible values of |X| are 0 to y.\"\"\"\n",
    "\n",
    "f_absX_given_Y_is_y = 2 * f_X_given_Y_is_y\n",
    "f_absX_given_Y_is_y"
   ]
  },
  {
   "cell_type": "markdown",
   "metadata": {},
   "source": [
    "Use this conditional density to find $E(|X| \\mid Y=y)$. In the integral, be careful about what is variable and what is constant. Also pay attention to the limits of integration."
   ]
  },
  {
   "cell_type": "code",
   "execution_count": null,
   "metadata": {},
   "outputs": [],
   "source": [
    "#student\n",
    "\n",
    "# E(|X| | Y=y) \n",
    "\n",
    "expectation_absX_given_Y_is_y = Integral(...).doit()\n",
    "expectation_absX_given_Y_is_y"
   ]
  },
  {
   "cell_type": "code",
   "execution_count": 107,
   "metadata": {},
   "outputs": [
    {
     "data": {
      "image/png": "[encoded data removed]",
      "text/latex": [
       "$$\\frac{3 y}{8}$$"
      ],
      "text/plain": [
       "3⋅y\n",
       "───\n",
       " 8 "
      ]
     },
     "execution_count": 107,
     "metadata": {},
     "output_type": "execute_result"
    }
   ],
   "source": [
    "#solution\n",
    "\n",
    "# E(|X| | Y=y)\n",
    "\n",
    "expectation_absX_given_Y_is_y = Integral(x*f_absX_given_Y_is_y, (x, 0, y)).doit()\n",
    "expectation_absX_given_Y_is_y"
   ]
  },
  {
   "cell_type": "markdown",
   "metadata": {},
   "source": [
    "**[ON PAPER]** Now find the numerical value of $E(|X|)$. **Do not integrate anything.** Use what you just showed."
   ]
  },
  {
   "cell_type": "markdown",
   "metadata": {},
   "source": [
    "## Conclusion ##\n",
    "Congratulations! The work that you have done in this lab will help reinforce your understanding of some of the most fundamental concepts of probability theory.\n",
    "\n",
    "What you have learned:\n",
    "\n",
    "- How to do symbolic math in Python\n",
    "- How to work with densities and joint densities\n",
    "- How to find the density of a transformed random variable \n",
    "- How to use conditioning when random variables are continuous"
   ]
  },
  {
   "cell_type": "markdown",
   "metadata": {},
   "source": [
    "## Submission Instructions\n",
    "\n",
    "1. **Save your notebook using File > Save and Checkpoint.**\n",
    "2. Run the cell below to generate a pdf file.\n",
    "3. Download the pdf file and confirm that none of your work is missing or cut off.\n",
    "4. Submit the assignment to Lab09a and Lab09b on Gradescope.\n",
    "\n",
    "Your written submission (Lab09a) should include:\n",
    "* Part 4\n",
    "\n",
    "Your code submission (Lab09b) should include:\n",
    "* Part 1\n",
    "\n",
    "\n",
    "#### Logistics \n",
    "\n",
    "1. Examine the generated pdf before uploading to make sure that it contains all of your work.\n",
    "2. When submitting to Gradescope, select the pages of your upload corresponding to each question. \n",
    "3. If you encounter any difficulties when submitting or exporting your assignment, please make a private Piazza post **before the deadline**."
   ]
  },
  {
   "cell_type": "code",
   "execution_count": null,
   "metadata": {},
   "outputs": [],
   "source": [
    "import gsExport\n",
    "gsExport.generateSubmission(\"Lab09.ipynb\")"
   ]
  }
 ],
 "metadata": {
  "kernelspec": {
   "display_name": "Python [default]",
   "language": "python",
   "name": "python3"
  },
  "language_info": {
   "codemirror_mode": {
    "name": "ipython",
    "version": 3
   },
   "file_extension": ".py",
   "mimetype": "text/x-python",
   "name": "python",
   "nbconvert_exporter": "python",
   "pygments_lexer": "ipython3",
   "version": "3.5.4"
  }
 },
 "nbformat": 4,
 "nbformat_minor": 2
}
