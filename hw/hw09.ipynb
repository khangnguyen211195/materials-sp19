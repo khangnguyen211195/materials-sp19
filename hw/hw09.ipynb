{
 "cells": [
  {
   "cell_type": "markdown",
   "metadata": {},
   "source": [
    "<table align=\"left\" style=\"border-style: hidden\" class=\"table\"> <tr><td class=\"col-md-2\"><img style=\"float\" src=\"http://prob140.org/assets/icon256.png\" alt=\"Prob140 Logo\" style=\"width: 120px;\"/></td><td><div align=\"left\"><h3 style=\"margin-top: 0;\">Probability for Data Science</h3><h4 style=\"margin-top: 20px;\">UC Berkeley, Fall 2018</h4><p>Ani Adhikari and Jim Pitman</p>CC BY-NC 4.0</div></td></tr></table><!-- not in pdf -->"
   ]
  },
  {
   "cell_type": "code",
   "execution_count": null,
   "metadata": {
    "#solution": false,
    "#staff": false,
    "#student": false
   },
   "outputs": [],
   "source": [
    "# HIDDEN\n",
    "from datascience import *\n",
    "from prob140 import *\n",
    "import numpy as np\n",
    "import matplotlib.pyplot as plt\n",
    "plt.style.use('fivethirtyeight')\n",
    "%matplotlib inline\n",
    "from scipy import stats"
   ]
  },
  {
   "cell_type": "markdown",
   "metadata": {
    "#solution": false,
    "#staff": false,
    "#student": false
   },
   "source": [
    "# Homework 9 #\n",
    "\n",
    "Your homework has two components: A (written work only) and B (also involving code). Each question or subpart is labeled accordingly. Written work should be completed on paper, and coding questions should be done in the notebook. It is your responsibility to ensure that your homework is submitted completely and properly to Gradescope. Refer to the bottom of the notebook for submission instructions.\n",
    "\n",
    "#### Rules for Written Homework ####\n",
    "\n",
    "- Every answer should contain a calculation or reasoning. For example, a calculation such as $(1/3)(0.8) + (2/3)(0.7)$ is fine without further explanation or simplification. If we want you to simplify, we'll ask you to. But just ${5 \\choose 2}$ is not fine; write \"we need 2 out of the 5 frogs and they can appear in any order\" or whatever reasoning you used. Reasoning can be brief and abbreviated, e.g. \"product rule\" or \"not mut. excl.\"\n",
    "- You may consult others but you must write up your own answers using your own words, notation, and sequence of steps.\n",
    "- In the interest of saving trees, you do not need to *solve* each question on a new piece of paper. Folding the paper to show just the relevant problem will suffice. To ensure the correct page size, we recommend placing the folded part on a blank page before scanning, or adjusting the page settings on your phone scanning app.\n",
    "- You will submit a scanned PDF to Gradescope. **Each question should *start* on a new PDF page. No page should contain two questions.**\n",
    "\n",
    "#### Rules for Coding ####\n",
    "\n",
    "- Do not share, copy, or allow others to copy your code. You may discuss your approach and relevant methods or functions to use.\n",
    "- A code cell (which may contain starter code) is provided for each question or subpart that requires coding. You are free to add additional cells as needed.\n",
    "- You will submit a PDF to Gradescope. See the bottom of the notebook for more instructions.\n",
    "- Here is the Prob140 documentation [guide](https://probability.gitlab.io/prob140/index.html) for your reference."
   ]
  },
  {
   "cell_type": "markdown",
   "metadata": {
    "#solution": false,
    "#staff": false,
    "#student": false
   },
   "source": [
    "### `Plot_continuous` ###\n",
    "In this homework you will plot a number of densities using the `prob140` function `Plot_continuous` which takes as its arguments:\n",
    "\n",
    "- a list consisting of two elements: the left endpoint and right endpoint of the plotting interval on the horizontal axis\n",
    "- the name of a function that takes a numerical argument and returns the value of the density at that argument; this could be a function you have defined, or a `SciPy` function `stats.distribution_name.pdf`.\n",
    "\n",
    "`Plot_continuous` takes other arguments as well, as you can see in the brief [documentation](http://prob140.org/prob140/_autosummary/prob140.plots.Plot_continuous.html#prob140.plots.Plot_continuous), but you will not need those in the homework. "
   ]
  },
  {
   "cell_type": "markdown",
   "metadata": {
    "#solution": false,
    "#staff": false,
    "#student": false
   },
   "source": [
    "### 1. Transformations of the Normal ###\n",
    "Let $Z$ have the standard normal density.\n",
    "\n",
    "**a)** Find the density of $\\vert Z \\vert$. Don't try to use a formula. Just think about $P(\\vert Z \\vert \\in dy)$ for positive $y$.\n",
    "\n",
    "**b)** Find $E(\\vert Z \\vert)$. Calculating the integral is straightforward; you should just be able to recognize the indefinite integral.\n",
    "\n",
    "**c) [CODE]** Complete the cell below to use `Plot_continuous` to plot the density of $\\vert Z \\vert$ and mark the expectation on the horizontal axis. In Data 8 you saw distributions of this shape when you simulated statistics such as \"the absolute difference between the proportion of heads and 1/2\".\n",
    "\n",
    "Start by defining a function `abs_norm_density` that takes a number $y$ (positive or otherwise) as its argument and returns the density of $\\vert Z \\vert$ at $y$. Then plot the density over the interval $(-0.5, 4)$.\n",
    "\n",
    "Assign $E(\\vert Z \\vert)$ to the name `ev`. Use `np.pi` for $\\pi$."
   ]
  },
  {
   "cell_type": "code",
   "execution_count": null,
   "metadata": {
    "#solution": false,
    "#staff": false,
    "#student": true
   },
   "outputs": [],
   "source": [
    "#answer to 1c\n",
    "\n",
    "def abs_norm_density(y):\n",
    "    if y > 0:\n",
    "        return ...\n",
    "    ...\n",
    "    ...\n",
    "\n",
    "Plot_continuous(...)\n",
    "\n",
    "ev = ...\n",
    "plt.scatter(ev, -0.01, marker = '^', color='red', s=50)\n",
    "\n",
    "# Labels and axes; do not edit below this line\n",
    "plt.xlabel('$y$')\n",
    "plt.ylabel('Density at $y$')\n",
    "plt.title('Density of $|Z|$')\n",
    "plt.xlim(-0.1, 4)\n",
    "plt.ylim(-0.02, 0.81);"
   ]
  },
  {
   "cell_type": "markdown",
   "metadata": {
    "#solution": false,
    "#staff": false,
    "#student": false
   },
   "source": [
    "**d)** A random variable whose log is normal is said to have a lognormal density. In the previous homework you examined the special case where the log is standard normal. Now let $X$ have the normal $(\\mu, \\sigma^2)$ density and let $Y = e^X$. Use the change of variable formula for densities to find the density of $Y$."
   ]
  },
  {
   "cell_type": "markdown",
   "metadata": {
    "#solution": false,
    "#staff": false,
    "#student": false
   },
   "source": [
    "**e) [CODE]** Complete the definitions in the cell below to get a plot of the lognormal density in the case $\\mu = 0$ and $\\sigma = 1$ and also (in gold) the lognormal density in the case $\\mu = 0$, $\\sigma = 0.5$. Use `np.log(w)` for $\\log(w)$, and remember that `stats.norm.pdf(x, mu, sigma)` evaluates the normal density with mean $\\mu$ and SD $\\sigma$ at the point $x$. "
   ]
  },
  {
   "cell_type": "code",
   "execution_count": null,
   "metadata": {
    "#solution": false,
    "#staff": false,
    "#student": true
   },
   "outputs": [],
   "source": [
    "#answer to 1e\n",
    "\n",
    "# Density of e^Z where Z is standard normal\n",
    "def lognorm_density_1(y):\n",
    "    return ... * stats.norm.pdf(...)\n",
    "\n",
    "\n",
    "# Density of e^X where X is normal with mean 0 and SD 0.5\n",
    "def lognorm_density_05(y):\n",
    "    return ... * stats.norm.pdf(...)\n",
    "\n",
    "Plot_continuous([0.01, 7], lognorm_density_1)\n",
    "Plot_continuous([0.01, 7], lognorm_density_05, color='gold')\n",
    "plt.title('Lognormal Densities');"
   ]
  },
  {
   "cell_type": "markdown",
   "metadata": {
    "#solution": false,
    "#staff": false,
    "#student": false
   },
   "source": [
    "#newpage"
   ]
  },
  {
   "cell_type": "markdown",
   "metadata": {
    "#solution": false,
    "#staff": false,
    "#student": false
   },
   "source": [
    "### 2. Cauchy Density ###\n",
    "Part (a) is from Pitman's text, page 310, where you'll find a useful diagram. But note that I'm using $\\Theta$ where he uses $\\Phi$, to avoid confusion with the standard normal cdf.\n",
    "\n",
    "**a)** Suppose that a particle is fired from the origin in the $(x, y)$-plane in a straight line in a direction at a random angle $\\Theta$ to the $x$-axis. Let $Y$ be the $y$-coordinate of the point where the particle hits the line $x = 1$. Show that if $\\Theta$ has the uniform distribution on $(-\\pi/2, \\pi/2)$, then the density of $Y$ is\n",
    "\n",
    "$$\n",
    "f_Y(y) ~ = ~ \\frac{1}{\\pi(1 + y^2)}, ~~~ - \\infty < y < \\infty\n",
    "$$\n",
    "\n",
    "This is called the *Cauchy* density.\n",
    "\n",
    "**b) [CODE]** Use `Plot_continuous` twice, to plot the Cauchy density over the interval $(-5, 5)$ and overlay the standard normal curve. Use  `'gold'` for the color of the normal curve one. Refer to the description of `Plot_continuous` at the top of this homework."
   ]
  },
  {
   "cell_type": "code",
   "execution_count": null,
   "metadata": {
    "#solution": false,
    "#staff": false,
    "#student": true
   },
   "outputs": [],
   "source": [
    "#answer to 2b\n",
    "\n",
    "# Plotting interval on the horizontal axis: -5 to 5\n",
    "# The first plot should be the Cauchy.\n",
    "# The gold plot should be the standard normal curve.\n",
    "\n",
    "Plot_continuous(...)\n",
    "Plot_continuous(..., color='gold')"
   ]
  },
  {
   "cell_type": "markdown",
   "metadata": {
    "#solution": false,
    "#staff": false,
    "#student": false
   },
   "source": [
    "**c)** For $Y$ with the Cauchy density, use calculus to show that $E(\\lvert Y \\rvert ) = \\infty$. Thus $E(Y)$ is undefined even though the density of $Y$ is symmetric about 0.\n",
    "\n",
    "The Cauchy curve is called the [Witch of Agnesi](https://en.wikipedia.org/wiki/Witch_of_Agnesi). Skim the History and Applications sections of the Wikipedia article."
   ]
  },
  {
   "cell_type": "markdown",
   "metadata": {
    "#solution": false,
    "#staff": false,
    "#student": false
   },
   "source": [
    "**2d)** Explain what is being plotted by the code below, and discuss what you see in the graph in relation to the Weak Law of Large Numbers. Run the cell several times before you answer. You should also vary $N$.\n",
    "\n",
    "[`stats.cauchy.rvs(size = N)` returns an array of $N$ i.i.d. Cauchy random numbers.]"
   ]
  },
  {
   "cell_type": "code",
   "execution_count": null,
   "metadata": {
    "#solution": false,
    "#staff": false,
    "#student": false,
    "collapsed": true
   },
   "outputs": [],
   "source": [
    "#2d: run this\n",
    "N = 10000\n",
    "n = np.arange(1, N+1)\n",
    "x = stats.cauchy.rvs(size = N)\n",
    "y = np.cumsum(x)/n\n",
    "plt.plot(n, y, color='darkblue', lw=2)\n",
    "plt.plot([0, N], [0, 0], color='k', lw=2);"
   ]
  },
  {
   "cell_type": "markdown",
   "metadata": {
    "#solution": false,
    "#staff": false,
    "#student": false
   },
   "source": [
    "#newpage"
   ]
  },
  {
   "cell_type": "markdown",
   "metadata": {
    "#solution": false,
    "#staff": false,
    "#student": false
   },
   "source": [
    "### 3. Functions of Uniform Random Variables ###\n",
    "Let $X$ and $Y$ have joint density\n",
    "\n",
    "$$\n",
    "f(x, y) = \n",
    "\\begin{cases}\n",
    "90(y-x)^8, ~~~~ 0 < x < y < 1 \\\\\n",
    "0 ~~~~~~~~~~~~~~~~~~~~~ \\text{otherwise}\n",
    "\\end{cases}\n",
    "$$ \n",
    "\n",
    "In what follows, please do the calculus yourself. No `SymPy`.\n",
    "\n",
    "**a)** Find $P(Y > 2X)$.\n",
    "\n",
    "**b)** Find the marginal density of $X$.\n",
    "\n",
    "**c)** Fill in the blanks (explain briefly):\n",
    "The joint density $f$ above is the joint density of the $\\underline{~~~~~~~~~~~~~~~~}$ and $\\underline{~~~~~~~~~~~~~~~~}$ of ten independent uniform $(0, 1)$ random variables.\n"
   ]
  },
  {
   "cell_type": "markdown",
   "metadata": {
    "#solution": false,
    "#staff": false,
    "#student": false
   },
   "source": [
    "### 4. Functions of Exponential Random Variables ###\n",
    "Let $X$ and $Y$ be independent exponential random variables with rates $\\lambda$ and $\\mu$ respectively.\n",
    "\n",
    "**a)** Let $W = \\min(X, Y)$. Find the density of $W$. Start by remembering which of the following is easiest when working with minima: the density, the cdf, or the survival function.\n",
    "\n",
    "**b)** Let $c$ be a positive constant. Use the results about exponential random variables in Sections 16.1 and 17.2 of the Prob 140 textbook to find $P(X > cY)$ without integration.\n",
    "\n",
    "**c)** Use part (b) to find the cdf of $\\frac{X}{Y}$."
   ]
  },
  {
   "cell_type": "markdown",
   "metadata": {
    "#solution": false,
    "#staff": false,
    "#student": false
   },
   "source": [
    "#newpage"
   ]
  },
  {
   "cell_type": "markdown",
   "metadata": {
    "#solution": false,
    "#staff": false,
    "#student": false
   },
   "source": [
    "### 5. The Gamma Densities ###\n",
    "In this problem you will start with some calculus exercises and then develop one of the fundamental families of densities. Assume that $r > 0$ and $\\lambda > 0$ are constants.\n",
    "\n",
    "**a)** The *Gamma function* of mathematics is defined by\n",
    "$$\n",
    "\\Gamma (r) ~ = ~ \\int_0^\\infty t^{r-1} e^{-t} dt\n",
    "$$\n",
    "\n",
    "That letter is the upper case Greek letter Gamma. You can assume that the integral converges and that therefore $\\Gamma(r)$ is a positive number.\n",
    "\n",
    "Use integration by parts to show that \n",
    "$$\n",
    "\\Gamma(r+1) ~ = ~ r\\Gamma(r), ~~~ r > 0\n",
    "$$\n",
    "\n",
    "**b)** Use part (a) and induction to show that if $r$ is a positive integer then $\\Gamma(r) = (r-1)!$. Thus the Gamma function is a continuous extension of the factorial function.\n",
    "\n",
    "**c)** Let $X$ have density given by\n",
    "$$\n",
    "f_X(t) =\n",
    "\\begin{cases}\n",
    "\\frac{1}{\\Gamma(r)} t^{r-1}e^{-t}, ~~~ t > 0 \\\\\n",
    "0 ~~~~~~~~~~~~~~~~~~~~ \\text{otherwise}\n",
    "\\end{cases}\n",
    "$$\n",
    "\n",
    "Let $Y = \\frac{1}{\\lambda} X$. Show that the density of $Y$ is\n",
    "\n",
    "$$\n",
    "f_Y(t) =\n",
    "\\begin{cases}\n",
    "\\frac{\\lambda^r}{\\Gamma(r)} t^{r-1}e^{-\\lambda t}, ~~~ t > 0 \\\\\n",
    "0 ~~~~~~~~~~~~~~~~~~~~ \\text{otherwise}\n",
    "\\end{cases}\n",
    "$$\n",
    "\n",
    "This is called the gamma $(r, \\lambda)$ density.\n",
    "\n",
    "**d)** Use (c) and the formula in Section 16.3 of the Prob 140 textbook to confirm that if $Z$ has the standard normal density then $Z^2$ has the gamma $(1/2, 1/2)$ density. Hence find $\\Gamma (1/2)$, and then use (a) to find $\\Gamma (3/2)$ and $\\Gamma (5/2)$. Please don't leave any integrals in your answers.\n",
    "\n",
    "**Shapes of Gamma Densities:** Part (c) shows that the gamma $(r, \\lambda)$ density is obtained as a change of scale (units of measurement) starting with a gamma $(r, 1)$ random variable and multiplying it by $1/\\lambda$. That is why `stats` calls $1/\\lambda$ the *scale parameter* of the gamma density. \n",
    "\n",
    "The parameter $r$ determines the shape of the curve and is called the *shape parameter*. To see why, it helps to look at some plots.\n",
    "\n",
    "The method `stats.gamma.pdf` can be used with the following arguments to return the value of the density:\n",
    "- the value of $t$ (possibly an array) at which to evaluate the density\n",
    "- $r$\n",
    "- $\\lambda$ specified as `scale=1/`$\\lambda$\n",
    "\n",
    "Run the cell below to see overlaid graphs of the several gamma densities with different values of $r$ but the same $\\lambda$. You will see why $r$ is called the shape parameter."
   ]
  },
  {
   "cell_type": "code",
   "execution_count": null,
   "metadata": {
    "#solution": false,
    "#staff": false,
    "#student": false
   },
   "outputs": [],
   "source": [
    "t = np.arange(0, 25, 0.01)\n",
    "r_1 = stats.gamma.pdf(t, 1, scale=1/0.25)\n",
    "r_1_5 = stats.gamma.pdf(t, 1.5, scale=1/0.25)\n",
    "r_2 = stats.gamma.pdf(t, 2, scale=1/0.25)\n",
    "r_2_5 = stats.gamma.pdf(t, 2.5, scale=1/0.25)\n",
    "r_3 = stats.gamma.pdf(t, 3, scale=1/0.25)\n",
    "plt.plot(t, r_1, lw=2, label='gamma (1, 0.25)')\n",
    "plt.plot(t, r_1_5, lw=2, label='gamma (1.5, 0.25)')\n",
    "plt.plot(t, r_2, lw=2, label='gamma (2, 0.25)')\n",
    "plt.plot(t, r_2_5, lw=2, label='gamma (2.5, 0.25)')\n",
    "plt.plot(t, r_3, lw=2, label='gamma (3, 0.25)')\n",
    "plt.xlabel('$t$')\n",
    "plt.legend();"
   ]
  },
  {
   "cell_type": "markdown",
   "metadata": {
    "#solution": false,
    "#staff": false,
    "#student": false
   },
   "source": [
    "#newpage"
   ]
  },
  {
   "cell_type": "markdown",
   "metadata": {
    "#solution": false,
    "#staff": false,
    "#student": false
   },
   "source": [
    "### 6. Mean and Variance of the Gamma ###\n",
    "As in Question 5, let $r$ and $\\lambda$ be positive constants.\n",
    "\n",
    "**a)** Use Question 5(c) and properties of densities to evaluate\n",
    "$$\n",
    "\\int_0^\\infty t^{r-1}e^{-\\lambda t} dt\n",
    "$$\n",
    "in terms of $r$, $\\lambda$, and the Gamma function. For what follows, keep in mind that your formula is correct for all positive $r$.\n",
    "\n",
    "**b)** Let $T$ have gamma $(r, \\lambda)$ density. Use (a) and 5(a) to find a simple formula for $E(T)$ in terms of $r$ and $\\lambda$. Please don't leave any integrals in your answer.\n",
    "\n",
    "**c)** For $T$ as in (b), find $E(T^2)$ and hence $Var(T)$. Again, there should be no integrals left in your answer.\n",
    "\n",
    "**d)** Identify the gamma $(1, \\lambda)$ density as one that has another famous name, and confirm that your answers to (b) and (c) are consistent with what you already know about that density."
   ]
  },
  {
   "cell_type": "markdown",
   "metadata": {
    "#solution": false,
    "#staff": false,
    "#student": false
   },
   "source": [
    "## Checklist\n",
    "\n",
    "Your submission should have the following parts:\n",
    "\n",
    "#### Part A (Written)\n",
    "\n",
    "- 1a, 1b, 1d\n",
    "- 2a, 2c, 2d\n",
    "- 3a, 3b, 3c\n",
    "- 4a, 4b, 4c\n",
    "- 5a, 5b, 5c, 5d\n",
    "- 6a, 6b, 6c, 6d\n",
    "\n",
    "#### Part B (Code)\n",
    "\n",
    "- 1c, 1e\n",
    "- 2b"
   ]
  },
  {
   "cell_type": "markdown",
   "metadata": {
    "#solution": false,
    "#staff": false,
    "#student": false
   },
   "source": [
    "## Submission Instructions\n",
    "\n",
    "\n",
    "#### Logistics \n",
    "\n",
    "1. Use a scanner or scanning app (such as CamScanner) to digitize your written assignments. Do not take pictures using your phone's camera app.\n",
    "2. For code portions, examine the generated pdf before uploading to make sure that it contains all of your work.\n",
    "3. When submitting to Gradescope, select the pages of your upload corresponding to each question. \n",
    "4. If you encounter any difficulties when submitting or exporting your assignment, please make a private Piazza post **before the deadline**. \n",
    "\n",
    "### **We will not grade assignments which do not have pages selected for each question, are illegibly scanned, or are submitted after 8PM.** \n",
    "\n",
    "\n",
    "#### Part A (Written)\n",
    "- Make sure you have at least 6 pages of homework. Each problem should start on a new page; for example,  Problem 1 on page 1, Problem 2 on page 2, etc.\n",
    "- Scan all the pages into a PDF. **Make sure the PDF page size is 8.5 x 11 inches**. It is your responsibility to check that all the work on the scanned pages is legible. You can use any scanner or a phone using applications such as CamScanner. Save the PDF.\n",
    "- Upload the scanned PDF of your work onto Gradescope for the assignment \"HW_09A (Written)\". \n",
    "Refer to [this guide](http://gradescope-static-assets.s3-us-west-2.amazonaws.com/help/submitting_hw_guide.pdf) for detailed instructions about scanning and submitting, or consult course staff.\n",
    "\n",
    "#### Part B (Code)\n",
    "\n",
    "1. **Save your notebook using File > Save and Checkpoint.**\n",
    "2. Run the cell below to generate a pdf file.\n",
    "3. Download the pdf file and confirm that none of your work is missing or cut off.\n",
    "4. Submit the assignment to \"HW_09B (Code)\" on Gradescope."
   ]
  },
  {
   "cell_type": "code",
   "execution_count": null,
   "metadata": {
    "#solution": false,
    "#staff": false,
    "#student": false,
    "collapsed": true
   },
   "outputs": [],
   "source": [
    "import gsExport\n",
    "gsExport.generateSubmission(\"hw09.ipynb\")"
   ]
  }
 ],
 "metadata": {
  "anaconda-cloud": {},
  "checksums": [
   "41e5cd3e7433650be1eb792ff2fd6228",
   "e4165fd843ccc0629304d5b40941dac6",
   "84caf4c3e0de37cd0d86ef6d7e9ff486",
   "965857974851e2b3325a2c9341a0b64a",
   "a67445f99ce616392b57c8ffffd044a0",
   "5dfb1ff017fa45f39eb30a67b650655a",
   "244db7807311a485f00af60f4c7aee96",
   "b29216725f576b3f95ca9027ba9d2131",
   "9912ee8fc37c6bd70ff7e07cec500c57",
   "640061103a186fd26f59746dd4d6de57",
   "d5370ba0554852392ffd92660e1fc3db",
   "8212c7db5f389648426ce79a7b90a349",
   "26c5dfa61e7e02bc2eb0fcc9a5efbdea",
   "b1aa34d11cc880b97ef0556559d53766",
   "d1ed123e35d2a9e8843d78c12502a638",
   "640061103a186fd26f59746dd4d6de57",
   "c243feac20439c01df6106eee04916f0",
   "f413d37b22336c838a88fec46f3ea8ec",
   "640061103a186fd26f59746dd4d6de57",
   "16566824e0af3e2137f38689ab7088f2",
   "02f38f8d3fbfbacf6c7e1f696ca2b1fa",
   "640061103a186fd26f59746dd4d6de57",
   "2ad7344124ab793f50b491892f72ff38",
   "755ac89cc2d0a0fa4d2b2b3e8d272589",
   "e04aa5b61c309cf7a2b45f507d43d068",
   "44df4e93f43be96b82edee7466dd6ba4"
  ],
  "kernelspec": {
   "display_name": "Python [default]",
   "language": "python",
   "name": "python3"
  },
  "language_info": {
   "codemirror_mode": {
    "name": "ipython",
    "version": 3
   },
   "file_extension": ".py",
   "mimetype": "text/x-python",
   "name": "python",
   "nbconvert_exporter": "python",
   "pygments_lexer": "ipython3",
   "version": "3.5.4"
  },
  "number_of_pagebreaks": 4
 },
 "nbformat": 4,
 "nbformat_minor": 2
}
