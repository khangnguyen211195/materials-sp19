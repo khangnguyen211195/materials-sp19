{
 "cells": [
  {
   "cell_type": "markdown",
   "metadata": {},
   "source": [
    "<table align=\"left\" style=\"border-style: hidden\" class=\"table\"> <tr><td class=\"col-md-2\"><img style=\"float\" src=\"http://prob140.org/assets/icon256.png\" alt=\"Prob140 Logo\" style=\"width: 120px;\"/></td><td><div align=\"left\"><h3 style=\"margin-top: 0;\">Probability for Data Science</h3><h4 style=\"margin-top: 20px;\">UC Berkeley, Fall 2018</h4><p>Ani Adhikari and Jim Pitman</p>CC BY-NC 4.0</div></td></tr></table><!-- not in pdf -->"
   ]
  },
  {
   "cell_type": "code",
   "execution_count": null,
   "metadata": {
    "#solution": false,
    "#staff": false,
    "#student": false
   },
   "outputs": [],
   "source": [
    "# HIDDEN\n",
    "from datascience import *\n",
    "from prob140 import *\n",
    "import numpy as np\n",
    "import matplotlib.pyplot as plt\n",
    "plt.style.use('fivethirtyeight')\n",
    "%matplotlib inline\n",
    "from scipy import stats\n",
    "from scipy import misc\n",
    "from scipy import special"
   ]
  },
  {
   "cell_type": "markdown",
   "metadata": {
    "#solution": false,
    "#staff": false,
    "#student": false
   },
   "source": [
    "# Homework 11 #\n",
    "\n",
    "Your homework has two components: A (written work only) and B (also involving code). Each question or subpart is labeled accordingly. Written work should be completed on paper, and coding questions should be done in the notebook. It is your responsibility to ensure that your homework is submitted completely and properly to Gradescope. Refer to the bottom of the notebook for submission instructions.\n",
    "\n",
    "#### Rules for Written Homework ####\n",
    "\n",
    "- Every answer should contain a calculation or reasoning. For example, a calculation such as $(1/3)(0.8) + (2/3)(0.7)$ is fine without further explanation or simplification. If we want you to simplify, we'll ask you to. But just ${5 \\choose 2}$ is not fine; write \"we need 2 out of the 5 frogs and they can appear in any order\" or whatever reasoning you used. Reasoning can be brief and abbreviated, e.g. \"product rule\" or \"not mut. excl.\"\n",
    "- You may consult others but you must write up your own answers using your own words, notation, and sequence of steps.\n",
    "- In the interest of saving trees, you do not need to *solve* each question on a new piece of paper. Folding the paper to show just the relevant problem will suffice. To ensure the correct page size, we recommend placing the folded part on a blank page before scanning, or adjusting the page settings on your phone scanning app.\n",
    "- You will submit a scanned PDF to Gradescope. **Each question should *start* on a new PDF page. No page should contain two questions.**\n",
    "\n",
    "#### Rules for Coding ####\n",
    "\n",
    "- Do not share, copy, or allow others to copy your code. You may discuss your approach and relevant methods or functions to use.\n",
    "- A code cell (which may contain starter code) is provided for each question or subpart that requires coding. You are free to add additional cells as needed.\n",
    "- You will submit a PDF to Gradescope. See the bottom of the notebook for more instructions.\n",
    "- Here is the Prob140 documentation [guide](https://probability.gitlab.io/prob140/index.html) for your reference."
   ]
  },
  {
   "cell_type": "markdown",
   "metadata": {
    "#solution": false,
    "#staff": false,
    "#student": false
   },
   "source": [
    "### Preliminary: Distributions ###\n",
    "The code below will help you in some of the exercises. Please refer to it as needed.\n",
    "\n",
    "**Discrete Distribution Table Defined by a Probability Function**\n",
    "\n",
    "`Table().values(values_array).probability_function(name_of_function)` evaluates to the distribution table of a discrete random variable $X$ such that:\n",
    "\n",
    "- `values_array` is an array consisting of the possible values of $X$\n",
    "- `name_of_function` is the name of a function that takes $x$ as its argument and returns $P(X =x)$\n",
    "\n",
    "**Beta Density**\n",
    "\n",
    "For an array `x` of values in the unit interval, `stats.beta.pdf(x, r, s)` evaluates to the array f(`x`) where $f$ is the beta (`r`, `s`) density.\n",
    "\n",
    "**Simulated Exponential Random Variables**\n",
    "\n",
    "`stats.expon.rvs(scale = 1/lam, size=n)` evaluates to an array consisting of observed values of i.i.d. exponential (`lam`) random variables $X_1, X_2, \\ldots, X_n$.\n",
    "\n",
    "**Simulated Gamma Random Variables**\n",
    "\n",
    "`stats.gamma.rvs(r, scale = 1/lam, size=n)` evaluates to an array consisting of observed values of i.i.d. gamma (`r`, `lam`) random variables $X_1, X_2, \\ldots, X_n$."
   ]
  },
  {
   "cell_type": "markdown",
   "metadata": {
    "#solution": false,
    "#staff": false,
    "#student": false
   },
   "source": [
    "### Preliminary: Line Plots ###\n",
    "In Data 8 you used `Table.plot` to draw line plots, but in this class the line plots have typically been drawn using the `plot` function of `matplotlib`. Here is the syntax; you are going to need it in the exercises. It's easier than setting up tables first, especially when you want to overlay multiple plots.\n",
    "\n",
    "The `pyplot` module of `matplotlib` has been imported for you as `plt`. This is its standard abbreviation.\n",
    "\n",
    "Let `x` and `y` be two numerical arrays of the same length. Then `plt.plot(x, y)` produces a line plot with values of `x` on the horizontal axis and the corresponding values of `y` on the vertical. The plot \"joins the dots\" (`x.item(0)`, `y.item(0)`), (`x.item(1)`, `y.item(1)`), (`x.item(2)`, `y.item(2)`), and so on.\n",
    "\n",
    "The optional argument `lw=n` can be used to set a line width of `n` units. Just use `lw=2` in this homework.\n",
    "\n",
    "The semicolon at the end of the last line of code in each cell stops `matplotlib` from blurting out text that we don't need here.\n",
    "\n",
    "Run these cells to see some examples. Note the overlaid plots: they are straightforward to draw, and Python chooses a different color for each plot. "
   ]
  },
  {
   "cell_type": "code",
   "execution_count": null,
   "metadata": {
    "#solution": false,
    "#staff": false,
    "#student": false
   },
   "outputs": [],
   "source": [
    "x = np.arange(0, 1.01, 0.01)\n",
    "x_squared = x ** 2\n",
    "plt.plot(x, x_squared);"
   ]
  },
  {
   "cell_type": "code",
   "execution_count": null,
   "metadata": {
    "#solution": false,
    "#staff": false,
    "#student": false
   },
   "outputs": [],
   "source": [
    "plt.plot(x, x_squared, lw=2);"
   ]
  },
  {
   "cell_type": "code",
   "execution_count": null,
   "metadata": {
    "#solution": false,
    "#staff": false,
    "#student": false
   },
   "outputs": [],
   "source": [
    "x_cubed = x ** 3\n",
    "plt.plot(x, x_squared, lw=2)\n",
    "plt.plot(x, x_cubed, lw=2);"
   ]
  },
  {
   "cell_type": "markdown",
   "metadata": {
    "#solution": false,
    "#staff": false,
    "#student": false
   },
   "source": [
    "You can get more fancy with labels and legends, but you don't have to do that in this homework."
   ]
  },
  {
   "cell_type": "code",
   "execution_count": null,
   "metadata": {
    "#solution": false,
    "#staff": false,
    "#student": false
   },
   "outputs": [],
   "source": [
    "x_cubed = x ** 3\n",
    "plt.plot(x, x_squared, lw=2, label = 'Square')\n",
    "plt.plot(x, x_cubed, lw=2, label = 'Cube')\n",
    "plt.legend()\n",
    "plt.xlabel('x');"
   ]
  },
  {
   "cell_type": "markdown",
   "metadata": {
    "#solution": false,
    "#staff": false,
    "#student": false
   },
   "source": [
    "This is only a tiny fraction of what you can do with `matplotlib`. For more, here is a great [tutorial](https://www.labri.fr/perso/nrougier/teaching/matplotlib/matplotlib.html) by [Nicolas Rougier](https://www.labri.fr/perso/nrougier/)."
   ]
  },
  {
   "cell_type": "markdown",
   "metadata": {
    "#solution": false,
    "#staff": false,
    "#student": false
   },
   "source": [
    "### 1.  Heads in Tosses of a Random Coin ###\n",
    "Let $X$ be a random proportion with a prior distribution that is beta $(2, 3)$. Given $X = p$, let $N$ be the number of heads in 5 tosses of a $p$-coin.\n",
    "\n",
    "**a) [CODE]** Plot the prior density of $X$."
   ]
  },
  {
   "cell_type": "code",
   "execution_count": null,
   "metadata": {
    "#solution": false,
    "#staff": false,
    "#student": true
   },
   "outputs": [],
   "source": [
    "# Your answer to 1a\n",
    "\n",
    "x = np.arange(0, 1.01, 0.01)\n",
    "\n",
    "...\n",
    "\n",
    "plt.title('Beta $(2, 3)$ density');"
   ]
  },
  {
   "cell_type": "markdown",
   "metadata": {
    "#solution": false,
    "#staff": false,
    "#student": false
   },
   "source": [
    "**b) [CODE]** For each $n = 0, 1, 2, 3, 4, 5$, plot the posterior density of $X$ given $N=n$. All six plots should be on the same graph. "
   ]
  },
  {
   "cell_type": "code",
   "execution_count": null,
   "metadata": {
    "#solution": false,
    "#staff": false,
    "#student": true
   },
   "outputs": [],
   "source": [
    "# Your answer to 1b\n"
   ]
  },
  {
   "cell_type": "markdown",
   "metadata": {
    "#solution": false,
    "#staff": false,
    "#student": false
   },
   "source": [
    "**c) [CODE]** For each $n = 0, 1, 2, 3, 4, 5$, find the MAP estimate of the probability of heads given $N=n$, by completing the cell below with an appropriate expression. Here `map_estimates` is an array that contains all the MAP estimates. \n",
    "\n",
    "By eye, check that your answers are consistent with the graphs in (b)."
   ]
  },
  {
   "cell_type": "code",
   "execution_count": null,
   "metadata": {
    "#solution": false,
    "#staff": false,
    "#student": true
   },
   "outputs": [],
   "source": [
    "# Your answer to 1c\n",
    "\n",
    "r = 2\n",
    "s = 3\n",
    "n = 5\n",
    "k = np.arange(0, n+1)\n",
    "\n",
    "map_estimates = ...\n",
    "    \n",
    "map_estimates"
   ]
  },
  {
   "cell_type": "markdown",
   "metadata": {
    "#solution": false,
    "#staff": false,
    "#student": false
   },
   "source": [
    "**d) [CODE]** Complete the cell below to display the probability histogram of $N$. You can use any number of lines of code in the definition. In the blanks in the last line of the cell, enter the name of the distribution and provide the numerical parameters.\n",
    "\n",
    "If you want to, you can use `special.factorial(j)` to get the factorials of the non-negative integer array `j`. The `special` module of `SciPy` has been imported for you. But you can also write the code without computing factorials."
   ]
  },
  {
   "cell_type": "code",
   "execution_count": null,
   "metadata": {
    "#solution": false,
    "#staff": false,
    "#student": true
   },
   "outputs": [],
   "source": [
    "# Your answer to 1d\n",
    "\n",
    "def probs_N(n):\n",
    "    ...\n",
    "    ...\n",
    "    return ...\n",
    "\n",
    "dist = Table().values(...).probability_function(probs_X)\n",
    "Plot(dist)\n",
    "plt.title('... Distribution with Parameters ...');"
   ]
  },
  {
   "cell_type": "markdown",
   "metadata": {
    "#solution": false,
    "#staff": false,
    "#student": false
   },
   "source": [
    "**e)** Find the numerical value of $E(N)$ without using a code cell."
   ]
  },
  {
   "cell_type": "markdown",
   "metadata": {
    "#solution": false,
    "#staff": false,
    "#student": false
   },
   "source": [
    "#newpage"
   ]
  },
  {
   "cell_type": "markdown",
   "metadata": {
    "#solution": false,
    "#staff": false,
    "#student": false
   },
   "source": [
    "### 2. Waiting for a Random Coin to Land Heads ###\n",
    "Let $X$ be a random proportion. Given $X=p$, let $T$ be the number of tosses till a $p$-coin lands heads.\n",
    "\n",
    "**a)** Let $P(X = 1/10) = 1/4$, $P(X = 1/7) = 1/4$, and $P(X = 1/3) = 1/2$. Find $E(T)$.\n",
    "\n",
    "**b)** Find $E(T)$ if $X$ has the beta $(r, s)$ density for some $r > 1$. Simplify all integrals and Gamma functions in your answer.\n",
    "\n",
    "**c)** Let $X$ have the beta $(r, s)$ density. For fixed $k > 0$, find the posterior density of $X$ given $T = k$. Identify it as one of the famous ones and state its name and parameters."
   ]
  },
  {
   "cell_type": "markdown",
   "metadata": {
    "#solution": false,
    "#staff": false,
    "#student": false
   },
   "source": [
    "#newpage"
   ]
  },
  {
   "cell_type": "markdown",
   "metadata": {
    "#solution": false,
    "#staff": false,
    "#student": false
   },
   "source": [
    "#newpage"
   ]
  },
  {
   "cell_type": "markdown",
   "metadata": {
    "#solution": false,
    "#staff": false,
    "#student": false
   },
   "source": [
    "### 3. Chinese Restaurant Process: Long Run Proportion at Table 1 ###\n",
    "The goal of this exercise is for you to explain a density that you observed at the end of Lab 11.\n",
    "\n",
    "Parts **a** and **b** are about the \"beta binomial\" process we studied extensively in class. You can just apply the results derived in class. You'll find them in Chapter 21 of the textbook.\n",
    "\n",
    "**a)** Define the \"Beta $(1, \\theta)$ Binomial\" process as follows:\n",
    "\n",
    "- $X$ has beta $(1, \\theta)$ distribution.\n",
    "- Given $X = p$, there is a sequence of i.i.d. Bernoulli $(p)$ trials $I_1, I_2, \\ldots $.\n",
    "- $S_n = I_1 + I_2 + \\cdots + I_n$ is the number of successes in the first $n$ trials.\n",
    "\n",
    "Fill in the blank with the name of a distribution and the appropriate parameters:\n",
    "\n",
    "As $n$ gets large, with probability 1 the proportion $\\frac{S_n}{n}$ approaches a limit. The distribution of this limit is $\\underline{~~~~~~~~~~~~~~~~~~~~~~~~~~~~~~~~~~~~}$.\n",
    "\n",
    "**b)** For the Beta $(1, \\theta)$ Binomial process, find the transition probability $P(S_n = k+1 \\mid S_{n-1} = k)$.\n",
    "\n",
    "Given $S_{n-1} = k$, what are the other possible values of $S_n$ and what are their probabilities?\n",
    "\n",
    "**c)** Now refer to Labs 10 and 11 for the description of Chinese Restaurant process with parameter $\\theta$. As in Lab 11, let $W_n$ be the number of people at Table 1 at time $n$. The goal is of this part of the exercise is to figure out the transition behavior of $W_n$.\n",
    "\n",
    "Because Table 1 starts deterministically with Person 1 at time 1, we have to be a bit careful about what's random and what's constant. Let's consider $V_n = W_n - 1$, the random number of people *other than Person 1* who are at Table 1 at time $n$.\n",
    "\n",
    "Find $P(V_{n+1} = k+1 \\mid V_n = k)$. This is a straightforward application of the rules of the Chinese Restaurant process, but you have to be careful about how many people are at Table 1 when Person $n+1$ enters the system.\n",
    "\n",
    "**d)** Given $V_n = k$, what are the possible values of $V_{n+1}$? Compare the transition behavior of the following two sequences:\n",
    "\n",
    "- $V_2, V_3, \\ldots $ of the Chinese Restaurant process with parameter $\\theta$\n",
    "- $S_1, S_2, \\ldots $ of the Beta $(1, \\theta)$ Binomial process\n",
    "\n",
    "Then explain why the distribution of the long run proportion of people at Table 1 of the Chinese Restaurant process is beta $(1, \\theta)$ where $\\theta$ is the parameter of the process. That is, recall that you saw in the lab that the paths of $\\frac{W_n}{n}$ converge as $n \\to \\infty$, and explain why the limit of $\\frac{W_n}{n}$ as $n \\to \\infty$ has the beta $(1, \\theta)$ distribution."
   ]
  },
  {
   "cell_type": "markdown",
   "metadata": {
    "#solution": false,
    "#staff": false,
    "#student": false
   },
   "source": [
    "### 4. Discrete and Continuous Random Selections ###\n",
    "Fix a positive integer $n$, and let $p$ be strictly between 0 and 1.\n",
    "\n",
    "Suppose Person A picks a number uniformly in the interval $(0, n)$. Let $X$ be the number Person A picks.\n",
    "\n",
    "Suppose that independently of Person A, Person B picks an integer $Y$ according to the binomial $(n, p)$ distribution, for example by using `stats.binom.rvs(n, p, size=1)` or by tossing a $p$-coin $n$ times and recording the number of heads.\n",
    "\n",
    "Find $P(X < Y)$."
   ]
  },
  {
   "cell_type": "markdown",
   "metadata": {
    "#solution": false,
    "#staff": false,
    "#student": false
   },
   "source": [
    "#newpage"
   ]
  },
  {
   "cell_type": "markdown",
   "metadata": {
    "#solution": false,
    "#staff": false,
    "#student": false
   },
   "source": [
    "### 5. Maximum Likelihood Estimate of the Exponential Rate ###\n",
    "For $n > 1$, let $X_1, X_2, \\ldots , X_n$ be i.i.d. exponential $(\\lambda )$ variables. \n",
    "\n",
    "**a)** Let $\\hat{\\lambda}_n$ be the maximum likelihood estimate (MLE) of the parameter $\\lambda$. Find $\\hat{\\lambda}_n$ in terms of the sample mean $\\bar{X}_n = \\frac{1}{n} \\sum_{i=1}^n X_i$. The subscript $n$ in $\\bar{X}_n$ is there to remind us that we have the average of $n$ values. It doesn't refer to the $n$th sampled value $X_n$.\n",
    "\n",
    "**b) [CODE]** This part is a simulation study in which you already know $\\lambda$ and are examining how close your estimate comes to this known value. Take $\\lambda = 0.25$. We have assigned it the name `lam` because `lambda` means something else in Python.\n",
    "\n",
    "Repeat the following simulation 10,000 times.\n",
    "- Generate a sample of 400 i.i.d. exponential (`lam`) variables. Use `stats.expon.rvs(scale = 1/lam, size=400)`.\n",
    "- Calculate your MLE $\\hat{\\lambda}_{400}$ based on this sample.\n",
    "\n",
    "Then draw the histogram and find the mean of your 10,000 MLEs. "
   ]
  },
  {
   "cell_type": "code",
   "execution_count": null,
   "metadata": {
    "#solution": false,
    "#staff": false,
    "#student": true
   },
   "outputs": [],
   "source": [
    "# Your answer to 5b\n",
    "lam = 0.25\n",
    "\n",
    "mle_400 = make_array()\n",
    "...\n",
    "Table().with_column('mle', mle_400).hist(bins=20)"
   ]
  },
  {
   "cell_type": "code",
   "execution_count": null,
   "metadata": {
    "#solution": false,
    "#staff": false,
    "#student": true
   },
   "outputs": [],
   "source": [
    "# The mean of your 10000 mle's\n",
    "..."
   ]
  },
  {
   "cell_type": "markdown",
   "metadata": {
    "#solution": false,
    "#staff": false,
    "#student": false
   },
   "source": [
    "**c)** Use facts about sums and linear transformations to find the distribution of $\\bar{X}_n$ with little or no calculation. Recognize it as one of the famous ones and provide its name and parameters. Use it to find $E(\\hat{\\lambda}_n)$.\n",
    "\n",
    "**d)** Is $\\hat{\\lambda}_n$ an unbiased estimate of $\\lambda$? If it is biased, does it overestimate on average, or does it underestimate? Is it asymptotically unbiased? That is, does $E(\\hat{\\lambda}_n)$ converge to $\\lambda$ as $n \\to \\infty$?\n",
    "\n",
    "**e)** Your simulation in **b)** should show an approximately normal distribution for $\\hat{\\lambda}_n$. The Central Limit Theorem says the distribution of $\\bar{X}_n$ should be approximately normal, but is $\\hat{\\lambda}_n$ a linear function of $\\bar{X}_n$? If not, why is its distribution approximately normal?\n",
    "\n",
    "[This one needs a little thought but no calculation. Think about what a smooth function looks like over a small interval in its domain, and then think about why small intervals are relevant here.]"
   ]
  },
  {
   "cell_type": "markdown",
   "metadata": {
    "#solution": false,
    "#staff": false,
    "#student": false
   },
   "source": [
    "#newpage"
   ]
  },
  {
   "cell_type": "markdown",
   "metadata": {
    "#solution": false,
    "#staff": false,
    "#student": false
   },
   "source": [
    "### 6. Maximum Likelihood Estimates of the Gamma Shape and Rate ###\n",
    "Likelihood functions can be complicated and MLEs can't always be found analytically. This exercise is an example where the maximization has to be done numerically. \n",
    "\n",
    "Let $X_1, X_2, \\ldots, X_n$ be i.i.d., each with the gamma $(r, \\lambda)$ distribution. \n",
    "\n",
    "**a) [CODE]** Suppose that we are all-knowing, and suppose we know that the true value of $r$ is 3 and the true value of $\\lambda$ is 0.25. Run the cell below to create a sample of size $n = 625$. We are going to give this sample to some data scientists and ask them to use the maximum likelihood method to estimate $r$ and $\\lambda$.  "
   ]
  },
  {
   "cell_type": "code",
   "execution_count": null,
   "metadata": {
    "#solution": false,
    "#staff": false,
    "#student": false
   },
   "outputs": [],
   "source": [
    "true_r = 3\n",
    "true_lam = 0.25\n",
    "\n",
    "n = 625\n",
    "\n",
    "original_sample = stats.gamma.rvs(true_r, scale=1/true_lam, size=n)\n",
    "original_tbl = Table().with_column('Original Sample', original_sample)"
   ]
  },
  {
   "cell_type": "markdown",
   "metadata": {
    "#solution": false,
    "#staff": false,
    "#student": false
   },
   "source": [
    "Run the cell below to see the distribution of the sample."
   ]
  },
  {
   "cell_type": "code",
   "execution_count": null,
   "metadata": {
    "#solution": false,
    "#staff": false,
    "#student": false
   },
   "outputs": [],
   "source": [
    "original_tbl.hist(bins=20)"
   ]
  },
  {
   "cell_type": "markdown",
   "metadata": {
    "#solution": false,
    "#staff": false,
    "#student": false
   },
   "source": [
    "Let $\\bar{X}_n = \\frac{1}{n} \\sum_{i=1}^n X_i$. Find $E(\\bar{X}_n)$, and in the cell below, find the observed value of $\\bar{X}_n$ in the sample created above."
   ]
  },
  {
   "cell_type": "code",
   "execution_count": null,
   "metadata": {
    "#solution": false,
    "#staff": false,
    "#student": true
   },
   "outputs": [],
   "source": [
    "#your solution to 6a\n",
    "..."
   ]
  },
  {
   "cell_type": "markdown",
   "metadata": {
    "#solution": false,
    "#staff": false,
    "#student": false
   },
   "source": [
    "**b)** Write the log likelihood function $L(r, \\lambda)$ given an i.i.d. gamma $(r, \\lambda)$ sample $X_1, X_2, \\ldots, X_n$. For fixed $r$, find the value of $\\lambda$ that maximizes this log likelihood function. Your answer should be in terms of $r$ and the sample. Is it consistent with your answer to **5a**?"
   ]
  },
  {
   "cell_type": "markdown",
   "metadata": {
    "#solution": false,
    "#staff": false,
    "#student": false
   },
   "source": [
    "**c)** Now write the equation that has to be solved to find the maximizing value of $r$. The equation should just involve $r$ and the sample. Don't forget that $\\Gamma$ is a function of $r$. And don't even try to solve your equation."
   ]
  },
  {
   "cell_type": "markdown",
   "metadata": {
    "#solution": false,
    "#staff": false,
    "#student": false
   },
   "source": [
    "**d) [CODE]** The equation in (c) doesn't have a closed-form analytical solution. The data scientists are going to have to see if they can maximize the log likelihood function numerically. The answers might be approximations, but good optimization programs work very well with smooth function. \n",
    "\n",
    "Help the data scientists by defining the function `log_likelihood` in the cell below. It takes $r$, $\\lambda$ and the data as arguments and should return the log likelihood based on $r$, $\\lambda$, and the values of the data.\n",
    "\n",
    "Helpful code:\n",
    "- `np.log(x)` for $\\log(x)$; `x` can be an array\n",
    "- `special.gamma(x)` for $\\Gamma(x)$ where `x` is a positive number; the `special` module of `SciPy` has been imported for you\n",
    "\n",
    "You can use `n` in place of 625 as `n = 625` was assigned earlier. "
   ]
  },
  {
   "cell_type": "code",
   "execution_count": null,
   "metadata": {
    "#solution": false,
    "#staff": false,
    "#student": true
   },
   "outputs": [],
   "source": [
    "#your solution to 6d\n",
    "\n",
    "def log_likelihood(r, lam, data):\n",
    "    sample_sum = ...\n",
    "    sum_of_logs = ...\n",
    "    return ..."
   ]
  },
  {
   "cell_type": "markdown",
   "metadata": {
    "#solution": false,
    "#staff": false,
    "#student": false
   },
   "source": [
    "Most numerical optimization systems include a minimizing function because minimizing distances is a common use. The data scientists are going to use the function `minimize` from the `datascience` library. It is a version of the `minimize` function in the `optimize` module of `SciPy`. \n",
    "\n",
    "The argument of `minimize` is the name of the function being minimized. This function must only take numerical arguments (more than one is fine) and return a numercial output. \n",
    "\n",
    "`minimize` returns the minimizing argument (or arguments) of the specified function.\n",
    "\n",
    "The example below shows how to use `minimize` to find the values of $a$ and $b$ that minimize $f(a, b) = a^2 + b^2 + 2$. The math answer is $a = 0$ and $b = 0$."
   ]
  },
  {
   "cell_type": "code",
   "execution_count": null,
   "metadata": {
    "#solution": false,
    "#staff": false,
    "#student": false
   },
   "outputs": [],
   "source": [
    "def f(a, b):\n",
    "    return a**2 + b**2 + 2\n",
    "\n",
    "minimize(f)"
   ]
  },
  {
   "cell_type": "markdown",
   "metadata": {
    "#solution": false,
    "#staff": false,
    "#student": false
   },
   "source": [
    "Maximizing a function is the same as minimizing the negative of that function. In the cell below, define the function that has to be specified as the argument to `minimize` in order to find the maximum likelihood estimates of $r$ and $\\lambda$. Remember that the function should only take $r$ and $\\lambda$ as its arguments."
   ]
  },
  {
   "cell_type": "code",
   "execution_count": null,
   "metadata": {
    "#solution": false,
    "#staff": false,
    "#student": true
   },
   "outputs": [],
   "source": [
    "#your solution to 6d (continued)\n",
    "\n",
    "def function_to_minimize(r, lam):\n",
    "    return ..."
   ]
  },
  {
   "cell_type": "markdown",
   "metadata": {
    "#solution": false,
    "#staff": false,
    "#student": false
   },
   "source": [
    "Minimizing complicated functions isn't easy and the default numerical method used by `minimize` doesn't do well with the gamma log likelihood function. But `minimize` takes an optional argument that specifies the numerical method that should be used for optimization. We have specified the option `method = 'Nelder-Mead'` when you use `minimize` below. This specifies a simplex algorithm and works just fine. You don't have to worry about this detail but you're welcome to look up simplex algorithms if you are interested.\n",
    "\n",
    "Run the cell below. If you have defined your functions correctly above, you are likely to see pretty good estimates of the true values of $r$ and $\\lambda$ specified at the start of the exercise."
   ]
  },
  {
   "cell_type": "code",
   "execution_count": null,
   "metadata": {
    "#solution": false,
    "#staff": false,
    "#student": false
   },
   "outputs": [],
   "source": [
    "import warnings\n",
    "warnings.filterwarnings('ignore')\n",
    "minimize(function_to_minimize, method = 'Nelder-Mead')"
   ]
  },
  {
   "cell_type": "markdown",
   "metadata": {
    "#solution": false,
    "#staff": false,
    "#student": false
   },
   "source": [
    "These are the data scientists' estimates $\\hat{r}$ and $\\hat{\\lambda}$ based on their sample. "
   ]
  },
  {
   "cell_type": "markdown",
   "metadata": {
    "#solution": false,
    "#staff": false,
    "#student": false
   },
   "source": [
    "**e) [CODE]** No data scientist is just going to present one number as the estimate of a parameter and say that's the end of the story. They are going to construct a confidence interval for the parameter. Help the data scientists by constructing an approximate 95% confidence interval for $r$ using maximum likeihood estimates based on 2500 bootstrap replications of their sample.\n",
    "\n",
    "Helpful code, with more details in the [Data 8 reference sheet](http://data8.org/sp18/python-reference.html):\n",
    "- tbl.sample(...) samples uniformly at random (with replacement, by default) from the rows of a table\n",
    "- np.random.choice(...) samples uniformly at random (with replacement, by default) from an array\n",
    "\n",
    "Here's a blank cell for your code. All the necessary pieces are in the cells above. You have to figure out the sequence and put it together. You should expect the code to take a little while to run because of all the bootstrapping and minimizing."
   ]
  },
  {
   "cell_type": "code",
   "execution_count": null,
   "metadata": {
    "#solution": false,
    "#staff": false,
    "#student": true
   },
   "outputs": [],
   "source": [
    "#your solution to 6e\n",
    "\n",
    "..."
   ]
  },
  {
   "cell_type": "code",
   "execution_count": null,
   "metadata": {
    "#solution": false,
    "#staff": false,
    "#student": false
   },
   "outputs": [],
   "source": [
    "Table().with_column('MLE of r', r_mles).hist(bins=20)"
   ]
  },
  {
   "cell_type": "markdown",
   "metadata": {
    "#solution": false,
    "#staff": false,
    "#student": false
   },
   "source": [
    "Construct the confidence interval in the cell below. Helpful code:\n",
    "\n",
    "- `percentile(45, x)` evaluates to the 45th percentile of the array `x`"
   ]
  },
  {
   "cell_type": "code",
   "execution_count": null,
   "metadata": {
    "#solution": false,
    "#staff": false,
    "#student": true
   },
   "outputs": [],
   "source": [
    "#6e continued\n",
    "\n",
    "left_end = ...\n",
    "right_end = ...\n",
    "\n",
    "good = left_end < true_r and right_end > true_r\n",
    "\n",
    "[left_end, right_end], good"
   ]
  },
  {
   "cell_type": "markdown",
   "metadata": {
    "#solution": false,
    "#staff": false,
    "#student": false
   },
   "source": [
    "**f)** There are 199 students enrolled in Prob 140. About how many students are expected to get `True` in the answer above?"
   ]
  },
  {
   "cell_type": "markdown",
   "metadata": {
    "#solution": false,
    "#staff": false,
    "#student": false
   },
   "source": [
    "You've helped the data scientists a lot. You are done with your homework. If the data scientists want a confidence interval for $\\lambda$, they're going to have to get it themselves."
   ]
  },
  {
   "cell_type": "markdown",
   "metadata": {
    "#solution": false,
    "#staff": false,
    "#student": false
   },
   "source": [
    "## Checklist\n",
    "\n",
    "Your submission should have the following parts:\n",
    "\n",
    "#### Part A (Written)\n",
    "\n",
    "- 1e\n",
    "- 2a, 2b\n",
    "- 3a, 3b, 3c, 3d, 3e\n",
    "- 4\n",
    "- 5a, 5c, 5d, 5e\n",
    "- 6b, 6c, 6f\n",
    "\n",
    "#### Part B (Code)\n",
    "\n",
    "- 1a, 1b, 1c, 1d\n",
    "- 5b\n",
    "- 6a, 6d, 6e"
   ]
  },
  {
   "cell_type": "markdown",
   "metadata": {
    "#solution": false,
    "#staff": false,
    "#student": false,
    "collapsed": true
   },
   "source": [
    "## Submission Instructions\n",
    "\n",
    "\n",
    "#### Logistics \n",
    "\n",
    "1. Use a scanner or scanning app (such as CamScanner) to digitize your written assignments. Do not take pictures using your phone's camera app.\n",
    "2. For code portions, examine the generated pdf before uploading to make sure that it contains all of your work.\n",
    "3. When submitting to Gradescope, select the pages of your upload corresponding to each question. \n",
    "4. If you encounter any difficulties when submitting or exporting your assignment, please make a private Piazza post **before the deadline**. \n",
    "\n",
    "### **We will not grade assignments which do not have pages selected for each question, are illegibly scanned, or are submitted after 8PM.** \n",
    "\n",
    "\n",
    "#### Part A (Written)\n",
    "- Make sure you have at least 6 pages of homework. Each problem should start on a new page; for example,  Problem 1 on page 1, Problem 2 on page 2, etc.\n",
    "- Scan all the pages into a PDF. **Make sure the PDF page size is 8.5 x 11 inches**. It is your responsibility to check that all the work on the scanned pages is legible. You can use any scanner or a phone using applications such as CamScanner. Save the PDF.\n",
    "- Upload the scanned PDF of your work onto Gradescope for the assignment \"HW_11A (Written)\". \n",
    "Refer to [this guide](http://gradescope-static-assets.s3-us-west-2.amazonaws.com/help/submitting_hw_guide.pdf) for detailed instructions about scanning and submitting, or consult course staff.\n",
    "\n",
    "#### Part B (Code)\n",
    "\n",
    "1. **Save your notebook using File > Save and Checkpoint.**\n",
    "2. Run the cell below to generate a pdf file.\n",
    "3. Download the pdf file and confirm that none of your work is missing or cut off.\n",
    "4. Submit the assignment to \"HW_11B (Code)\" on Gradescope."
   ]
  },
  {
   "cell_type": "code",
   "execution_count": null,
   "metadata": {
    "#solution": false,
    "#staff": false,
    "#student": false
   },
   "outputs": [],
   "source": [
    "import gsExport\n",
    "gsExport.generateSubmission(\"hw11.ipynb\")"
   ]
  }
 ],
 "metadata": {
  "anaconda-cloud": {},
  "checksums": [
   "41e5cd3e7433650be1eb792ff2fd6228",
   "19cceb86b94a444aab851129028be9a2",
   "4b00cc64a130378278ac083586fe6b68",
   "537f76ea138d1c27908fff9d0ee666a7",
   "0fde4362e79350f2b43dc53e456c4b28",
   "90bf4cc29236d1db23546a6f89de2ab6",
   "16b87b20192049957884a89493f0647d",
   "44cf9b400d6534efa2ab19ef1ec816e4",
   "021d2fb1deadeb98cd1709b2e66240a0",
   "6da888c26fc5b44a95a8d234c28cc5ca",
   "32678855304dc7424eca94d77d3cd8d0",
   "34805eb58270add0f118c8b58761f66f",
   "48ca1df12852f4a440f20cda155786cf",
   "4b859996e764d403d25cd14ec5eb70d5",
   "1afdf8f95e1f48c189adeaab799ff54c",
   "96e522339ea0c1065763b93f86f4e5ab",
   "c9e80d0bb1caea5e8d55d1de0e2cfa94",
   "38b0cbd0a83741f7c7bd4ab091ddf877",
   "223c04f28989a8964ceac9aae7e596dc",
   "1c91fa96b2ba6f0aece6c63a26d6c354",
   "640061103a186fd26f59746dd4d6de57",
   "2ccb8608b129fc3f0f534a84156844f0",
   "640061103a186fd26f59746dd4d6de57",
   "640061103a186fd26f59746dd4d6de57",
   "8ed414bd00680246c998f4126d07aa16",
   "8eb8f3708c15f8cafa78542b16022484",
   "640061103a186fd26f59746dd4d6de57",
   "6b3986e372bbeb4a940289f46e0821b4",
   "944099ebce32c4b2d36cb6edbc31bedc",
   "0c006803fb361cab83f02d31b25aee05",
   "1a9f6fa342c4d5c85ec010d746bd2d14",
   "640061103a186fd26f59746dd4d6de57",
   "e7a561786225ce4b3686fbdbd281c35c",
   "5f470b078a9c1a3a442d020f0b260127",
   "cbaa98318af96ec20e366442bb02fd09",
   "fb451db64119409c3d0655ff591adf5d",
   "5c0d433a811e257f3c850c86fd248ca3",
   "8a8b869eb04a5970c5890813298bff5d",
   "af171d441dc8079626bb434610a8bb5a",
   "08d086216f5f53d052a8b1dbaa35dec7",
   "37de537fc9442b9be310f8f275451a2b",
   "5048c6433b6d6bd6b9480eba191a9dde",
   "ec111981f61c8e7a5dc97a91d0265474",
   "13e391e3cf93c0d1653baed663b260d6",
   "838c8101589dd6ee5d8318000bf7bdc3",
   "b8e0f98287f980261678b10c978e1468",
   "fbea3acf554f05654ae96405784fe1c3",
   "14331b957f262f2ae34456ee088116fd",
   "dcb823b1b8b164afe31e025a4e96673e",
   "79db360d5243e546f424d518c8eaea79",
   "37148b9cb3b33801712d6c3f367aab00",
   "71bd25e745d7262c7f5941adc97cb3d4",
   "11c37054089d3ca383b720c1c47c64e7",
   "6ba5c12e1027f16f1f072546a0a830ac",
   "3aecafa38788283346990c5ff3df6f47",
   "33f94888a8f00a78b53917334ad1ab4c",
   "5613fb5c730f4c7c643c554d292d1071",
   "4f12cfd7f2bc088ee31004bec3dc4afa",
   "418f70fb77ccca6fd6c98ff2102a60ef"
  ],
  "kernelspec": {
   "display_name": "Python [default]",
   "language": "python",
   "name": "python3"
  },
  "language_info": {
   "codemirror_mode": {
    "name": "ipython",
    "version": 3
   },
   "file_extension": ".py",
   "mimetype": "text/x-python",
   "name": "python",
   "nbconvert_exporter": "python",
   "pygments_lexer": "ipython3",
   "version": "3.5.4"
  },
  "number_of_pagebreaks": 5
 },
 "nbformat": 4,
 "nbformat_minor": 1
}
