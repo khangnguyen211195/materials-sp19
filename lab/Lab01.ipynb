{
 "cells": [
  {
   "cell_type": "markdown",
   "metadata": {
    "#solution": false,
    "#staff": false,
    "#student": false
   },
   "source": [
    "<table align=\"left\" style=\"border-style: hidden\" class=\"table\"> <tr><td class=\"col-md-2\"><img style=\"float\" src=\"http://prob140.org/assets/icon256.png\" alt=\"Prob140 Logo\" style=\"width: 120px;\"/></td><td><div align=\"left\"><h3 style=\"margin-top: 0;\">Probability for Data Science</h3><h4 style=\"margin-top: 20px;\">UC Berkeley, Fall 2018</h4><p>Ani Adhikari and Jim Pitman</p>CC BY-NC 4.0</div></td></tr></table><!-- not in pdf -->"
   ]
  },
  {
   "cell_type": "markdown",
   "metadata": {
    "#solution": false,
    "#staff": false,
    "#student": false
   },
   "source": [
    "## Lab Resources\n",
    "\n",
    "* [Lab 1 Slides](https://docs.google.com/presentation/d/1xpxJF2aCxelBEsV7AOumBm9O3q93CH75EDSq3g_ovG8/edit?usp=sharing)\n",
    "* [`prob 140` Library Documentation](http://prob140.org/prob140/)\n",
    "* [`datascience` Library Documentation](http://data8.org/datascience/)\n",
    "* [Prob 140 Code Reference Sheet](http://prob140.org/assets/prob140_code_reference.pdf)\n"
   ]
  },
  {
   "cell_type": "markdown",
   "metadata": {
    "#solution": false,
    "#staff": false,
    "#student": false
   },
   "source": [
    "# Lab 1: Birthday Attack #\n",
    "Welcome to lab in Prob 140! In this first lab you will get acquainted with the computing environment of the course and explore an application of the birthday problem. Specifically, you will:\n",
    "- Review the code used in class to study the birthday problem on Planet Earth\n",
    "- Study the \"birthday paradox\" on Mars (or, if you have a more practical outlook, in hashing collisions), with an exact computation as well as an approximation\n",
    "- See how the title of this lab is actually a thing, not just a cutesy way of getting your attention.\n",
    "\n",
    "**Have a notebook and pencil at hand as you do the lab. You will need it for some parts of the lab, and you will submit your written work to Gradescope.** Submission instructions are at the end of the lab.\n",
    "\n",
    "Run the Setup cell below. You can ignore its contents for now if you aren't interested. In future labs, this cell will appear before the start of each lab."
   ]
  },
  {
   "cell_type": "code",
   "execution_count": null,
   "metadata": {
    "#solution": false,
    "#staff": false,
    "#student": false
   },
   "outputs": [],
   "source": [
    "# SETUP\n",
    "\n",
    "import numpy as np\n",
    "from datascience import *\n",
    "from prob140 import *\n",
    "\n",
    "# These lines do some fancy plotting magic\n",
    "import matplotlib\n",
    "%matplotlib inline\n",
    "import matplotlib.pyplot as plt\n",
    "plt.style.use('fivethirtyeight')\n",
    "\n",
    "# These lines make warnings look nicer\n",
    "import warnings\n",
    "warnings.simplefilter('ignore', FutureWarning)"
   ]
  },
  {
   "cell_type": "markdown",
   "metadata": {
    "#solution": false,
    "#staff": false,
    "#student": false
   },
   "source": [
    "### Useful Methods ###\n",
    "Because you have only recently returned to school after the break, we are providing a list of some methods that will be useful in the lab. Please consult code guide at the top of this lab if you need help with syntax.\n",
    "\n",
    "For today's lab you will need some or all of:\n",
    "- Array operations and NumPy functions\n",
    "- Defining functions: `def`\n",
    "- Conditional statements: `if`/`else`\n",
    "- Iteration: `for` (or any other Python method for iteration)\n",
    "- `Table` methods from the `datascience` library:\n",
    "    - Creation: `with_column`\n",
    "    - Accessing rows that satisfy a condition: `where`\n",
    "    - Accessing and using values: `apply`\n",
    "    - Scatter plots: `scatter`"
   ]
  },
  {
   "cell_type": "markdown",
   "metadata": {
    "#solution": false,
    "#staff": false,
    "#student": false
   },
   "source": [
    "## Part 1: Birthday Paradox on Earth ##\n",
    "In this part you will review the code used in class to study the birthday problem on Planet Earth.\n",
    "\n",
    "As you have seen, the setting of the birthday problem is a special case of $n$ draws made at random with replacement from the set of integers $1, 2, 3, \\ldots, N$. \n",
    "\n",
    "In the context of birthdays on Earth, this corresponds to two simplifying assumptions about $n$ people:\n",
    "- Each year has 365 days; $N = 365$\n",
    "- Each person is equally likely to be born on each of the 365 days, regardless of the birthdays of all others\n",
    "\n",
    "The main question is, \"What is the chance that among the $n$ people there is at least one pair whose birthdays are the same?\" \n",
    "\n",
    "In the context of hashing, the question is, \"If you assign each of $n$ individuals one of $N$ hash values chosen at random, what is the chance of at least one collision?\" \n",
    "\n",
    "Start out by setting $N = 365$. Run the cell or it won't get set. After this, we won't keep reminding you to run cells."
   ]
  },
  {
   "cell_type": "code",
   "execution_count": null,
   "metadata": {
    "#solution": false,
    "#staff": false,
    "#student": false
   },
   "outputs": [],
   "source": [
    "N = 365"
   ]
  },
  {
   "cell_type": "markdown",
   "metadata": {
    "#solution": false,
    "#staff": false,
    "#student": false
   },
   "source": [
    "### 1a) ###\n",
    "Let $D_n$ be the event that all $n$ birthdays are different, that is, the event that there is no match. You saw in class that\n",
    "$$\n",
    "P(D_n) ~ = ~ \\prod_{i=0}^{n-1} \\frac{365 - i}{365}\n",
    "$$\n",
    "\n",
    "Notice that $P(D_1) = 1$. There is certain to be no match if there is only one birthday, because there is nothing it can be matched with.\n",
    "\n",
    "Notice also that the computation labels the $n$ people as $0, 1, 2, \\ldots, n-1$, which makes Python's 0-origin indexing rather convenient. \n",
    "\n",
    "Let's brush off any cobwebs that might have gathered on your programming skills over the summer. For each cell below, read the code in the cell and make sure you understand it, then run the cell and observe the output carefully."
   ]
  },
  {
   "cell_type": "code",
   "execution_count": null,
   "metadata": {
    "#solution": false,
    "#staff": false,
    "#student": false
   },
   "outputs": [],
   "source": [
    "n = 5\n",
    "individuals = np.arange(n)\n",
    "individuals"
   ]
  },
  {
   "cell_type": "code",
   "execution_count": null,
   "metadata": {
    "#solution": false,
    "#staff": false,
    "#student": false
   },
   "outputs": [],
   "source": [
    "N - individuals"
   ]
  },
  {
   "cell_type": "code",
   "execution_count": null,
   "metadata": {
    "#solution": false,
    "#staff": false,
    "#student": false
   },
   "outputs": [],
   "source": [
    "(N - individuals) / N"
   ]
  },
  {
   "cell_type": "code",
   "execution_count": null,
   "metadata": {
    "#solution": false,
    "#staff": false,
    "#student": false
   },
   "outputs": [],
   "source": [
    "np.prod((N - individuals) / N )"
   ]
  },
  {
   "cell_type": "markdown",
   "metadata": {
    "#solution": false,
    "#staff": false,
    "#student": false
   },
   "source": [
    "### 1b) ###\n",
    "Use the sequence of steps in 1a to define a function `p_no_match` that takes $n$ as its argument and returns $P(D_n)$, assuming the fixed value $N = 365$."
   ]
  },
  {
   "cell_type": "code",
   "execution_count": null,
   "metadata": {
    "#solution": false,
    "#staff": false,
    "#student": true
   },
   "outputs": [],
   "source": [
    "def p_no_match(n):\n",
    "    ...\n",
    "    return ..."
   ]
  },
  {
   "cell_type": "markdown",
   "metadata": {
    "#solution": false,
    "#staff": false,
    "#student": false
   },
   "source": [
    "### 1c) ###\n",
    "Based on what you saw in class about the birthdays of 23 people, $P(D_{23})$ should be\n",
    "\n",
    "(i) a bit less than 1/2 $~~~~~~~~~~$ (ii) 1/2 $~~~~~~~~~~$ (iii) a bit more than 1/2\n",
    "\n",
    "Pick the right option and explain without computation."
   ]
  },
  {
   "cell_type": "markdown",
   "metadata": {
    "#solution": false,
    "#staff": false,
    "#student": true
   },
   "source": [
    "\n",
    "**Type your answer in this cell.**"
   ]
  },
  {
   "cell_type": "markdown",
   "metadata": {
    "#solution": false,
    "#staff": false,
    "#student": false
   },
   "source": [
    "Confirm your answer in the cell below."
   ]
  },
  {
   "cell_type": "code",
   "execution_count": null,
   "metadata": {
    "#solution": false,
    "#staff": false,
    "#student": true
   },
   "outputs": [],
   "source": [
    "p_no_match(...)"
   ]
  },
  {
   "cell_type": "markdown",
   "metadata": {
    "#solution": false,
    "#staff": false,
    "#student": false
   },
   "source": [
    "### 1d) ###\n",
    "\n",
    "The birthday problem is only interesting for $1 \\le n \\le N$, because for larger $n$ it's clear that $P(D_n)$ must be 0. Use a table to display your value of $P(D_n)$ for every $n$ in the range 1 through $N$, in the following steps.\n",
    "\n",
    "The next cell sets up a table of all the possible numbers of people."
   ]
  },
  {
   "cell_type": "code",
   "execution_count": null,
   "metadata": {
    "#solution": false,
    "#staff": false,
    "#student": false
   },
   "outputs": [],
   "source": [
    "birthday_probs = Table().with_column('People', np.arange(1, N+1))\n",
    "birthday_probs"
   ]
  },
  {
   "cell_type": "markdown",
   "metadata": {
    "#solution": false,
    "#staff": false,
    "#student": false
   },
   "source": [
    "Use your function `p_no_match` to create an array called `all_different` that contains $P(D_n)$ for each $n$ in the range 1 through $N$.\n",
    "\n",
    "You will need the Table method ``apply`` that applies a function to a specified column in each row of a table."
   ]
  },
  {
   "cell_type": "code",
   "execution_count": null,
   "metadata": {
    "#solution": false,
    "#staff": false,
    "#student": true
   },
   "outputs": [],
   "source": [
    "all_different = ...apply(...)"
   ]
  },
  {
   "cell_type": "markdown",
   "metadata": {
    "#solution": false,
    "#staff": false,
    "#student": false
   },
   "source": [
    "Which item of `all_different` corresponds to 23 people (or trials)? That item of `all_different` should agree with 1c; check this!"
   ]
  },
  {
   "cell_type": "code",
   "execution_count": null,
   "metadata": {
    "#solution": false,
    "#staff": false,
    "#student": true
   },
   "outputs": [],
   "source": [
    "all_different.item(...)"
   ]
  },
  {
   "cell_type": "markdown",
   "metadata": {
    "#solution": false,
    "#staff": false,
    "#student": false
   },
   "source": [
    "Augment `birthday_probs` with two columns \n",
    "- one labeled ``P(no match)``; in the row corresponding to $n$ people, the column should contain $P(D_n)$\n",
    "- one labeled ``P(at least one match)``; in the row corresponding to $n$ people, the column should contain $P(\\mbox{at least one match among the } n \\mbox{ birthdays})$ "
   ]
  },
  {
   "cell_type": "code",
   "execution_count": null,
   "metadata": {
    "#solution": false,
    "#staff": false,
    "#student": true
   },
   "outputs": [],
   "source": [
    "birthday_probs = birthday_probs.with_column(\n",
    "    ...\n",
    ")\n",
    "\n",
    "birthday_probs"
   ]
  },
  {
   "cell_type": "markdown",
   "metadata": {
    "#solution": false,
    "#staff": false,
    "#student": false
   },
   "source": [
    "Compare with the `results` table in [Section 1.4](http://prob140.org/textbook/chapters/Chapter_01/04_Birthday_Problem) of the Prob 140 textbook. It should be the same apart from column labels. "
   ]
  },
  {
   "cell_type": "markdown",
   "metadata": {
    "#solution": false,
    "#staff": false,
    "#student": false
   },
   "source": [
    "### 1e) ###\n",
    "Now visualize the \"birthday paradox\". Draw the scatter plot of `P(at least one match)` versus `People`. \n",
    "\n",
    "In the cell below, we have restricted the values of `People` to just the range where there is visible change in the probability being plotted. And we have drawn a horizontal line at the level 1/2. The code for the graphics is briefly explained in the comments. The final semi-colon prevents some unnecessary text output from `matplotlib`."
   ]
  },
  {
   "cell_type": "code",
   "execution_count": null,
   "metadata": {
    "#solution": false,
    "#staff": false,
    "#student": true
   },
   "outputs": [],
   "source": [
    "\n",
    "...\n",
    "\n",
    "# Everything below this line is for fine-tuning the graphics.\n",
    "# There is nothing for you to enter below this line.\n",
    "\n",
    "# plt is short for matplotlib.pyplot; see the import cell at the top\n",
    "\n",
    "plt.xlim(0, 70)     # restrict trials to at most 70\n",
    "\n",
    "plt.ylim(0, 1)      # use the probability scale on the vertical axis\n",
    "\n",
    "# Draw a red horizontal line at level 1/2\n",
    "# plt.plot joins the dots between the two points (x_1, y_1) and (x_2, y_2)\n",
    "# Arguments: [x_1, x_2], [y_1, y_2], color=, and lw=\n",
    "# That last one is line width. Bigger values produce thicker lines.\n",
    "\n",
    "plt.plot([0, 70], [0.5, 0.5], color='red', lw=1);"
   ]
  },
  {
   "cell_type": "markdown",
   "metadata": {
    "#solution": false,
    "#staff": false,
    "#student": false
   },
   "source": [
    "Use the graph to indentify the smallest number of people at which $P(\\mbox{at least one match})$ exceeds 1/2."
   ]
  },
  {
   "cell_type": "markdown",
   "metadata": {
    "#solution": false,
    "#staff": false,
    "#student": true
   },
   "source": [
    "\n",
    "** Type your answer in this cell.**"
   ]
  },
  {
   "cell_type": "markdown",
   "metadata": {
    "#solution": false,
    "#staff": false,
    "#student": false
   },
   "source": [
    "#newpage"
   ]
  },
  {
   "cell_type": "markdown",
   "metadata": {
    "#solution": false,
    "#staff": false,
    "#student": false
   },
   "source": [
    "## Part 2: Birthday Paradox (Martian Edition) ##\n",
    "Now suppose you're a Martian. Then one year on your planet is 687 days long. Or in general, suppose you're from a planet whose year has $N$ days. The goal of this part is to answer the following question:\n",
    "\n",
    "For a year of length $N$, what is the smallest number of individuals so that the chance of a match among those individuals is at least half?\n",
    "\n",
    "In terms of a hash table with $N$ values, you are trying to find the smallest number of individuals so that a collision is more likely than not. \n",
    "\n",
    "We'll call this number the *tipping point* corresponding to a hash table with $N$ values.\n",
    "\n",
    "In this part you will write a function to find the tipping point as a function of $N$. To gain some efficiency in the code, the steps below avoid Table methods; those work better for display, visualization, and so on."
   ]
  },
  {
   "cell_type": "markdown",
   "metadata": {
    "#solution": false,
    "#staff": false,
    "#student": false
   },
   "source": [
    "### 2a) (On Paper)###\n",
    "Based on the tipping point for the Earth year (23, with $N = 365$), you should have the sense that the tipping point is going to be small relative to $N$. Here are a couple of observations that will help you write your function.\n",
    "\n",
    "Start by reviewing the formula for $P(D_n)$ in 1a. This is the probability of no match among $n$ people.\n",
    "\n",
    "On a sheet of paper, rewrite the formula with 365 replaced by $N$. Then (still on the paper), fill in the blank with the correct factor:\n",
    "\n",
    "For $2 \\le n \\le N$,\n",
    "$$\n",
    "P(D_n) ~ = ~ P(D_{n-1}) \\cdot \\underline{ ~~~~~~~~~~~~~~~~ }\n",
    "$$"
   ]
  },
  {
   "cell_type": "markdown",
   "metadata": {
    "#solution": false,
    "#staff": false,
    "#student": false
   },
   "source": [
    "Also, keep in mind that:\n",
    "\n",
    "- $P(D_1) = 1$\n",
    "- The smallest $n$ for which $P(\\mbox{at least one match among } n \\mbox{ birthdays}) > 1/2$ is also the smallest $n$ for which $P(D_n) < 1/2$."
   ]
  },
  {
   "cell_type": "markdown",
   "metadata": {
    "#solution": false,
    "#staff": false,
    "#student": false
   },
   "source": [
    "### 2b) ###\n",
    "Use 2a to write a function called `tipping_point` that takes $N$ as its argument and returns the tipping point.\n",
    "\n",
    "Do **not** compute $P(D_n)$ for all $n$. The vast majority of that computation will be unnecessary. Rather, set up your computation in the steps indicated by 2a:\n",
    "\n",
    "- Start with one individual and probability 1 of no match\n",
    "- As long as the probability is greater than 1/2, keep increasing the number of individuals by 1 and updating the probability of no match by the product formula you came up with in 2a\n",
    "- Once the probability is less than 1/2, return (carefully!) the number of individuals\n",
    "\n",
    "There are numerous ways to write this function. Use any efficient way. In particular, you should avoid Table here."
   ]
  },
  {
   "cell_type": "code",
   "execution_count": null,
   "metadata": {
    "#solution": false,
    "#staff": false,
    "#student": true
   },
   "outputs": [],
   "source": [
    "def tipping_point(N):\n",
    "    ...\n",
    "    return ..."
   ]
  },
  {
   "cell_type": "markdown",
   "metadata": {
    "#solution": false,
    "#staff": false,
    "#student": false
   },
   "source": [
    "Run the cell below as a check of whether your function is working correctly."
   ]
  },
  {
   "cell_type": "code",
   "execution_count": null,
   "metadata": {
    "#solution": false,
    "#staff": false,
    "#student": false
   },
   "outputs": [],
   "source": [
    "tipping_point(365)"
   ]
  },
  {
   "cell_type": "markdown",
   "metadata": {
    "#solution": false,
    "#staff": false,
    "#student": false
   },
   "source": [
    "### 2c) ###\n",
    "What's the tipping point on Mars?"
   ]
  },
  {
   "cell_type": "code",
   "execution_count": null,
   "metadata": {
    "#solution": false,
    "#staff": false,
    "#student": true
   },
   "outputs": [],
   "source": [
    "..."
   ]
  },
  {
   "cell_type": "markdown",
   "metadata": {
    "#solution": false,
    "#staff": false,
    "#student": false
   },
   "source": [
    "### 2d) ###\n",
    "If you use a 16-bit hash, there are $2^{16} = 65536$ hash values. What is the tipping point for a 16-bit hash?"
   ]
  },
  {
   "cell_type": "code",
   "execution_count": null,
   "metadata": {
    "#solution": false,
    "#staff": false,
    "#student": true
   },
   "outputs": [],
   "source": [
    "..."
   ]
  },
  {
   "cell_type": "markdown",
   "metadata": {
    "#solution": false,
    "#staff": false,
    "#student": false
   },
   "source": [
    "If you use a 32-bit hash there are $2^{32} \\approx 4.3 \\times 10^9$ hash values. If you wrote your function reasonably efficiently, it should give you the tipping point for a 32-bit hash after some chugging, without crashing your system. But please only try it after letting course staff look at your code for `tipping_point`. It's not a required element of the lab."
   ]
  },
  {
   "cell_type": "code",
   "execution_count": null,
   "metadata": {
    "#solution": false,
    "#staff": false,
    "#student": true
   },
   "outputs": [],
   "source": [
    "# OPTIONAL\n",
    "\n",
    "..."
   ]
  },
  {
   "cell_type": "markdown",
   "metadata": {
    "#solution": false,
    "#staff": false,
    "#student": false
   },
   "source": [
    "#newpage"
   ]
  },
  {
   "cell_type": "markdown",
   "metadata": {
    "#solution": false,
    "#staff": false,
    "#student": false
   },
   "source": [
    "## 3. An Exponential Approximation ##\n",
    "If you use a 64-bit hash there are approximately $1.8 \\times 10^{19}$ hash values. It might be cruel to ask a computer to crank out your `tipping_point` value for such a large $N$.\n",
    "\n",
    "But in class we derived an exponential approximation to the chance of no match, which you can now use to approximate the tipping point.\n",
    "\n",
    "Review the approximation in Step 4 of [Section 1.5](http://prob140.org/textbook/chapters/Chapter_01/05_An_Exponential_Approximation) of the Prob 140 textbook. In lecture we saw where it comes from. You should review the math that went into the approximation, but for this lab it is enough just to know the final answer:\n",
    "\n",
    "For large $n$, \n",
    "$$\n",
    "P(D_n) ~ \\approx ~ e^{-\\frac{1}{2N}n^2}\n",
    "$$"
   ]
  },
  {
   "cell_type": "markdown",
   "metadata": {
    "#solution": false,
    "#staff": false,
    "#student": false
   },
   "source": [
    "### 3a) ###\n",
    "To get a rough approximation to the tipping point, set $P(D_n)$ to $1/2$ in the approximation above and solve for $n$ in terms of $N$. Do this on scratch paper. Then write a function called `approx_tipping_point` that takes $N$ as its argument and returns the approximate tipping point.\n",
    "\n",
    "Use `np.log(x)` for $\\log(x)$ and the ceiling function `np.ceil(x)` for the smallest integer greater than or equal to $x$."
   ]
  },
  {
   "cell_type": "code",
   "execution_count": null,
   "metadata": {
    "#solution": false,
    "#staff": false,
    "#student": true
   },
   "outputs": [],
   "source": [
    "def approx_tipping_point(N):\n",
    "    return ..."
   ]
  },
  {
   "cell_type": "markdown",
   "metadata": {
    "#solution": false,
    "#staff": false,
    "#student": false
   },
   "source": [
    "## 3b) ##\n",
    "Run the cell below and compare with the exact answers you got in Part 2. Keep in mind that all the calculations might be affected by floating point accuracy issues."
   ]
  },
  {
   "cell_type": "code",
   "execution_count": null,
   "metadata": {
    "#solution": false,
    "#staff": false,
    "#student": false
   },
   "outputs": [],
   "source": [
    "approx_tipping_point(365), approx_tipping_point(687), approx_tipping_point(2**16)"
   ]
  },
  {
   "cell_type": "markdown",
   "metadata": {
    "#solution": false,
    "#staff": false,
    "#student": false
   },
   "source": [
    "### 3c) ###\n",
    "What's the approximate tipping point for a 128-bit hash?"
   ]
  },
  {
   "cell_type": "code",
   "execution_count": null,
   "metadata": {
    "#solution": false,
    "#staff": false,
    "#student": true
   },
   "outputs": [],
   "source": [
    "..."
   ]
  },
  {
   "cell_type": "markdown",
   "metadata": {
    "#solution": false,
    "#staff": false,
    "#student": false
   },
   "source": [
    "#newpage"
   ]
  },
  {
   "cell_type": "markdown",
   "metadata": {
    "#solution": false,
    "#staff": false,
    "#student": false
   },
   "source": [
    "## Part 4: The Attack ##\n",
    "Hash functions play a major role in cryptography and computer security. For example, servers verify passwords by comparing the hash value of an entered string with the hash value stored in a database. *Birthday attacks* take advantage of the birthday paradox to generate hash collisions and trick computers into accepting a malicious file in place of a previously-encountered safe file. \n",
    "\n",
    "The key idea behind birthday attacks is what you have observed in this lab: by making a relatively small number (the tipping point!) of random attempts, the attacker has a more than even chance of matching a hash value that has been assigned. \n",
    "\n",
    "Note that the attackers don't aim to collide with a *specific* hash value – they just try for a collision with any assigned value. In other words, the goal is to get any match, just as in the birthday problem. If the assigned values can be modeled by random draws and the attackers are also drawing at random, then our birthday problem approximations apply."
   ]
  },
  {
   "cell_type": "markdown",
   "metadata": {
    "#solution": false,
    "#staff": false,
    "#student": false
   },
   "source": [
    "### 4a) ###\n",
    "Take a look at the [Wikipedia page on birthday attacks](https://en.wikipedia.org/wiki/Birthday_attack). Scroll down to the table in the middle of the article. \n",
    "\n",
    "The notation H in the second column is what we are calling $N$. \n",
    "\n",
    "We have been looking for an essentially 50% chance of getting a match, so you can just focus on the 50% column under Desired Probability of a Random Collision. \n",
    "\n",
    "Are your approximations in Part 3 consistent with the entries in this column?"
   ]
  },
  {
   "cell_type": "markdown",
   "metadata": {
    "#solution": false,
    "#staff": false,
    "#student": true
   },
   "source": [
    "\n",
    "** Type your answer here. It should be short!**"
   ]
  },
  {
   "cell_type": "markdown",
   "metadata": {
    "#solution": false,
    "#staff": false,
    "#student": false
   },
   "source": [
    "### 4b) (On Paper)###\n",
    "Now scroll down the Wikipedia page and look at the section called Simple Approximation. In this exercise you will figure out what's going on in the first stated approximation\n",
    "\n",
    "$$\n",
    "p(n) ~ \\approx ~ \\frac{n^2}{2H}\n",
    "$$\n",
    "\n",
    "Here $p(n)$ is the desired chance of a match, so for our purposes it's 0.5. And H is what we're calling $N$. So the approximation is\n",
    "\n",
    "$$\n",
    "0.5 ~ \\approx ~ \\frac{n^2}{2N}\n",
    "$$\n",
    "\n",
    "That is indeed simple; simpler than the approximation you used in 3a. What's going on? Where did the $e$ go?\n",
    "\n",
    "**Show** how this approximation can be derived from the one in Part 3. Use 0.5 in place of the more general $p(n)$.\n",
    "\n",
    "Note:\n",
    "- The [Exponential Approximations section](http://prob140.org/resources/exponential_approximations/) of the [Resources page](http://prob140.org/references/) will be helpful."
   ]
  },
  {
   "cell_type": "markdown",
   "metadata": {
    "#solution": false,
    "#staff": false,
    "#student": false
   },
   "source": [
    "### 4c) (On Paper)###\n",
    "Use the formula in 4b to get a very simple approximation for the tipping point when there are $N$ values in all."
   ]
  },
  {
   "cell_type": "markdown",
   "metadata": {
    "#solution": false,
    "#staff": false,
    "#student": false
   },
   "source": [
    "### 4d) ###\n",
    "Compute this new approximation for the tipping point in the cases $N = 365$, $N = 687$, and a 16-bit hash."
   ]
  },
  {
   "cell_type": "code",
   "execution_count": null,
   "metadata": {
    "#solution": false,
    "#staff": false,
    "#student": true
   },
   "outputs": [],
   "source": [
    "..."
   ]
  },
  {
   "cell_type": "markdown",
   "metadata": {
    "#solution": false,
    "#staff": false,
    "#student": false
   },
   "source": [
    "Compare with the exact answers in Part 2 and your original approximations in Part 3. The new approximation is a bit rough. But it gives a good ballpark estimate when $N$ is very large, and it's hard to beat for simplicity."
   ]
  },
  {
   "cell_type": "markdown",
   "metadata": {
    "#solution": false,
    "#staff": false,
    "#student": false
   },
   "source": [
    "#### Further Reading #### \n",
    "To test whether their cryptographic hash functions are safe from attack, tech companies have to try to break them. Just last year, security researchers at Google generated a hash collision using SHA-1, a widely used hashing algorithm that generates 160-bit hash values. If you are interested in learning more, take a look at Google's technical report:\n",
    "https://security.googleblog.com/2017/02/announcing-first-sha1-collision.html. Their recommendation after generating the collision: \"For the tech community, our findings emphasize the necessity of sunsetting SHA-1 usage.\""
   ]
  },
  {
   "cell_type": "markdown",
   "metadata": {
    "#solution": false,
    "#staff": false,
    "#student": false
   },
   "source": [
    "### Conclusion ##\n",
    "You now know:\n",
    "- What a birthday attack is, at least in a rough sense\n",
    "- Roughly how many random attempts have to be made for a collision to be more likely than not, as a function of the number of values in the hash table\n",
    "- That problems involving artificial settings such as birthdays can have considerably wider practical applications\n",
    "- That exponential approximations can be great as approximations and also as ways to get a quick sense of how a complicated function is behaving\n",
    "\n",
    "That's a lot after just one lecture in the first week of Prob 140! Congratulations on a job well done."
   ]
  },
  {
   "cell_type": "markdown",
   "metadata": {
    "#solution": false,
    "#staff": false,
    "#student": false
   },
   "source": [
    "## Submission Instructions\n",
    "\n",
    "Many assignments throughout the course will have a written portion (Part A) and a code portion (Part B). Please follow the directions below to properly submit both portions.\n",
    "\n",
    "### Submitting Written Assignments\n",
    "\n",
    "1. Scan all the pages into a PDF. It is your responsibility to check that all the work on all the scanned pages is legible. You can use any scanner or a phone using applications such as CamScanner. **Please start a new page for each question!** If you have already written multiple questions on the same page, you can crop the image in CamScanner or fold your page over (the old-fashioned way). This helps expedite grading.\n",
    "2. Upload the scanned PDF of your work onto Gradescope for the assignment \"Lab01a\". Use the entry code \"9J3N6K\" if you haven't already joined the class. Refer to [this guide](http://gradescope-static-assets.s3-us-west-2.amazonaws.com/help/submitting_hw_guide.pdf) for detailed instructions about scanning and submitting, or consult course staff.\n",
    "3. **Make sure to assign each page of your pdf to the correct question.**\n",
    "\n",
    "Your written submission should contain the following questions:\n",
    "\n",
    "* 2a\n",
    "* 4b,c\n",
    "\n",
    "### Submitting Code\n",
    "\n",
    "1. **Save your notebook using File > Save and Checkpoint.**\n",
    "2. Run the cell below to generate a pdf file.\n",
    "3. Download the pdf file and confirm that none of your work is missing or cut off.\n",
    "4. Submit the assignment to Lab01b on Gradescope. Use the entry code \"9J3N6K\" if you haven't already joined the class.\n",
    "5. **Make sure to assign each page of your pdf to the correct question.**\n",
    "\n",
    "Your code submission should contain the following questions:\n",
    "\n",
    "* 1\n",
    "* 2b-d\n",
    "* 3\n",
    "* 4a,d"
   ]
  },
  {
   "cell_type": "code",
   "execution_count": null,
   "metadata": {
    "#solution": false,
    "#staff": false,
    "#student": false
   },
   "outputs": [],
   "source": [
    "import gsExport\n",
    "gsExport.generateSubmission(\"Lab01.ipynb\")"
   ]
  }
 ],
 "metadata": {
  "anaconda-cloud": {},
  "checksums": [
   "41e5cd3e7433650be1eb792ff2fd6228",
   "d08af91f41258ab6fa5c4ad475c11242",
   "9a23e85a18f00435d923e331a6ccd90a",
   "be80335118b3beea624b4f2e08bba6b4",
   "d7c9123d4eda1bf87b5573de8c28c371",
   "1755eab61f8ac56205ba76e2ad65f363",
   "6ec044e2d51c3286aada8768560e54e2",
   "f23a01f21e3dd575af5a7987fbe5f3fc",
   "b9fbbfa1033e8c2fa95d41124e260994",
   "bbe191baf414a656f9779abb0a961561",
   "19826cd644194409d767c5c28b446e18",
   "be4d11c96e4e8ad48e49be87b7f41f77",
   "4e24e7986faad6d846fc2804d5b8f8b6",
   "1f78886da88dd94042b3834e31b4edd4",
   "a6266e810ceaa9c786f07a85f3bcdff1",
   "6917b6a12b6818b67cd188c52bb7ef24",
   "7d8d3524a2b28dcb1feef28f491c21cd",
   "f07cbd6f44e9108db3438a5395363cb8",
   "e9112d73a20e6bd60a2f9978984bd118",
   "6937310cc31c582a6169025ea14a2fc3",
   "20769ba15d811d22c2bf64f7ef81c8bc",
   "9b4be65468c21d42b6b4faa0595cc5c6",
   "4c23b66503d2bc969ad046c450998ec7",
   "c492f20147888dce2ee6026249894c60",
   "e2f8e7372e945d2ac79790ae9636ca87",
   "02a14513f65f88eef8e963674c5e6edb",
   "2e681c6eafe031ca48ee98f3c8337ef3",
   "0276ab01ff07b7983924e7150fdd9fea",
   "6cddadf2b9edc364e3e1a67e4379f712",
   "09ab92639e34a9a2e94893e83263cebb",
   "6917b6a12b6818b67cd188c52bb7ef24",
   "640061103a186fd26f59746dd4d6de57",
   "4af4e753f8741313e751f4f1703299b6",
   "81f78af08448e4a56722158495e46d64",
   "f391c2059cb7ab61a563e07f6934c1a0",
   "176a69748efc7b9e7474a66c5e41a6f6",
   "114d55c87fb31943e7731ebf90735a97",
   "7a423d6921d2a5647775ce03c191af30",
   "92804946775534070c4b9d6a1baf1963",
   "3a50102c76834f3fd539c99abb04d4ac",
   "2f43b42fd833d1e77420a8dae7419000",
   "da71d740e635c024ccb99c31a9c51362",
   "2f43b42fd833d1e77420a8dae7419000",
   "ae302464acdb03ac05908f6b9a1b66c5",
   "890c3b1b6b08539f0287df55a8d06ebb",
   "640061103a186fd26f59746dd4d6de57",
   "3e6c00e195c25fc13ea0fcb7970c36c9",
   "8551d6b65f0f18344b88f210a47bd75e",
   "e0c7c00957265895f6208076c0c30dc0",
   "01051a1a8b6127f3c44a386c29a77155",
   "5d322ecb99d290d05974cf53ba4910f0",
   "3a78a89b7a1b9be565b79444964485d0",
   "2f43b42fd833d1e77420a8dae7419000",
   "640061103a186fd26f59746dd4d6de57",
   "958aa59a7429237b49cc63278ba73ad9",
   "fa32373ec8f9c8265fc00ff0f39e4e82",
   "7561851a18e607fac6e17c60c95e59ce",
   "26fbc42042c8dcc81e6876e43c9de9fb",
   "c2b46f93f1824a2116a764f3a793529f",
   "19b10c871af8337bfafa63616ac56190",
   "2f43b42fd833d1e77420a8dae7419000",
   "7b6cc5a1e27477f9ec1e698b4a2905e3",
   "8dfc19205863522dd21d97788bfbe50a",
   "d722659c4c81490f2bac328cb26ba5a0",
   "d8030ca3456771a6326592d1882b4457",
   "b041a45e2aeec0f03a0432d4163836b0"
  ],
  "kernelspec": {
   "display_name": "Python 3",
   "language": "python",
   "name": "python3"
  },
  "language_info": {
   "codemirror_mode": {
    "name": "ipython",
    "version": 3
   },
   "file_extension": ".py",
   "mimetype": "text/x-python",
   "name": "python",
   "nbconvert_exporter": "python",
   "pygments_lexer": "ipython3",
   "version": "3.6.3"
  },
  "number_of_pagebreaks": 3
 },
 "nbformat": 4,
 "nbformat_minor": 1
}
