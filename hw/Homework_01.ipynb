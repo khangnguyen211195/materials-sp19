{
 "cells": [
  {
   "cell_type": "markdown",
   "metadata": {},
   "source": [
    "<table align=\"left\" style=\"border-style: hidden\" class=\"table\"> <tr><td class=\"col-md-2\"><img style=\"float\" src=\"http://prob140.org/assets/icon256.png\" alt=\"Prob140 Logo\" style=\"width: 120px;\"/></td><td><div align=\"left\"><h3 style=\"margin-top: 0;\">Probability for Data Science</h3><h4 style=\"margin-top: 20px;\">UC Berkeley, Spring 2019</h4><p>Ani Adhikari and Jim Pitman</p>CC BY-NC 4.0</div></td></tr></table><!-- not in pdf -->"
   ]
  },
  {
   "cell_type": "code",
   "execution_count": null,
   "metadata": {
    "#solution": false,
    "#staff": false,
    "#student": false
   },
   "outputs": [],
   "source": [
    "from prob140 import *\n",
    "from datascience import *\n",
    "import numpy as np\n",
    "from scipy import special\n",
    "\n",
    "import matplotlib.pyplot as plt\n",
    "%matplotlib inline\n",
    "import matplotlib\n",
    "matplotlib.style.use('fivethirtyeight')"
   ]
  },
  {
   "cell_type": "markdown",
   "metadata": {
    "#solution": false,
    "#staff": false,
    "#student": false
   },
   "source": [
    "# Homework 1 #"
   ]
  },
  {
   "cell_type": "markdown",
   "metadata": {
    "#solution": false,
    "#staff": false,
    "#student": false
   },
   "source": [
    "### Instructions\n",
    "\n",
    "Your homeworks have two components: a written portion and a portion that also involves code.  Written work should be completed on paper, and coding questions should be done in the notebook.  You are welcome to LaTeX your answers to the written portions, but staff will not be able to assist you with LaTeX related issues. It is your responsibility to ensure that both components of the homework are submitted completely and properly to Gradescope. Refer to the bottom of the notebook for submission instructions."
   ]
  },
  {
   "cell_type": "markdown",
   "metadata": {
    "#solution": false,
    "#staff": false,
    "#student": false
   },
   "source": [
    "### How to Do Your Homework ###\n",
    "The point of homework is for you to try your hand at using what you've learned in class. The steps to follow:\n",
    "\n",
    "- Go to lecture and sections, and also go over the relevant text sections before starting on the homework. This will remind you what was covered in class, and the text will typically contain examples not covered in lecture. The weekly Preparation Guide will list what you should read.\n",
    "- Work on some of the practice problems before starting on the homework.\n",
    "- Attempt the homework problems by yourself with the text, section work, and practice materials all at hand. Sometimes the week's lab will help as well. The two steps above will help this step go faster and be more fruitful.\n",
    "- At this point, seek help if you need it. Don't ask how to do the problem — ask how to get started, or for a nudge to get you past where you are stuck.\n",
    "- For a good measure of your understanding, keep track of the fraction of the homework you can do by yourself or with minimal help. It's a better measure than your homework score, and only you can measure it."
   ]
  },
  {
   "cell_type": "markdown",
   "metadata": {
    "#solution": false,
    "#staff": false,
    "#student": false
   },
   "source": [
    "### Rules for Homework ###\n",
    "- Every answer should contain a calculation or reasoning. For example, a calculation such as $(1/3)(0.8) + (2/3)(0.7)$ or `sum([(1/3)*0.8, (2/3)*0.7])`is fine without further explanation or simplification. If we want you to simplify, we'll ask you to. But just ${5 \\choose 2}$ by itself is not fine; write \"we want any 2 out of the 5 frogs and they can appear in any order\" or whatever reasoning you used. Reasoning can be brief and abbreviated, e.g. \"product rule\" or \"not mutually excl.\"\n",
    "- You may consult others (see \"How to Do Your Homework\" above) but you must write up your own answers using your own words, notation, and sequence of steps.\n",
    "- We'll be using Gradescope. You must submit the homework according to the instructions in at the end of homework set."
   ]
  },
  {
   "cell_type": "markdown",
   "metadata": {
    "#solution": false,
    "#staff": false,
    "#student": false
   },
   "source": [
    "### VIPs###\n",
    "These are Very Important Problems, in the sense that they establish a general result or develop a technique that will be used repeatedly in the class. Don't seek help on these until you have made a very serious effort to solve them yourself. If you come up with the logic yourself, it will be easier for you to recognize when to apply it."
   ]
  },
  {
   "cell_type": "markdown",
   "metadata": {
    "#solution": false,
    "#staff": false,
    "#student": false
   },
   "source": [
    "### 1. Getting Started ###\n",
    "The data below are adapted from reports by Berkeley's Office of Planning and Analysis. The entries in the cells of the table are the counts of Berkeley degree recipients in 2017-2018.\n",
    "\n",
    "|Degree           |Female|  Male |\n",
    "|----------:|:----:|:-----:|\n",
    "|**Undergraduate**|4276 |3680 |\n",
    "|**Graduate**|1948 | 2291|\n",
    "\n",
    "Suppose you pick one of these 12195 degree recipients at random. Complete the code cells with numerical expressions corresponding to the chances below.\n",
    "\n",
    "**a)** P(female) $~~~~~~$ **b)** P(graduate | female) $~~~~~~$ **c)** P(female | graduate)"
   ]
  },
  {
   "cell_type": "code",
   "execution_count": null,
   "metadata": {
    "#solution": false,
    "#staff": false,
    "#student": true
   },
   "outputs": [],
   "source": [
    "\n",
    "# Answer to Part a\n",
    "a = ...\n",
    "\n",
    "# Answer to Part b\n",
    "b = ...\n",
    "\n",
    "# Answer to Part c\n",
    "c = ...\n",
    "\n",
    "\n",
    "a, b, c"
   ]
  },
  {
   "cell_type": "markdown",
   "metadata": {
    "#solution": false,
    "#staff": false,
    "#student": false
   },
   "source": [
    "**d)** Suppose you draw five of the 12195 degree recipients at random without replacement. Explain why the draws are almost independent of each other. Enter your answer in the cell below. It doesn't require a calculation."
   ]
  },
  {
   "cell_type": "markdown",
   "metadata": {
    "#solution": false,
    "#staff": false,
    "#student": true
   },
   "source": [
    "\n",
    "**Your answer to Part d here**"
   ]
  },
  {
   "cell_type": "markdown",
   "metadata": {
    "#solution": false,
    "#staff": false,
    "#student": false
   },
   "source": [
    "Now use **d** to find the following probabilities concerning the five people selected. You can use as many lines of code as you want, and you can use the quantities defined in the previous parts. The last line of the cell should evaluate to the probability.\n",
    "\n",
    "**e)** P(all five are of the same gender)"
   ]
  },
  {
   "cell_type": "code",
   "execution_count": null,
   "metadata": {
    "#solution": false,
    "#staff": false,
    "#student": true
   },
   "outputs": [],
   "source": [
    "\n",
    "# Answer to Part e\n",
    "\n",
    "..."
   ]
  },
  {
   "cell_type": "markdown",
   "metadata": {
    "#solution": false,
    "#staff": false,
    "#student": false
   },
   "source": [
    "**f)** P(at least one of the five got an undergraduate degree | all five are of the same gender)"
   ]
  },
  {
   "cell_type": "code",
   "execution_count": null,
   "metadata": {
    "#solution": false,
    "#staff": false,
    "#student": true
   },
   "outputs": [],
   "source": [
    "\n",
    "# Answer to Part f\n",
    "\n",
    "..."
   ]
  },
  {
   "cell_type": "markdown",
   "metadata": {
    "#solution": false,
    "#staff": false,
    "#student": false
   },
   "source": [
    "### 2. Heads in Coin Tossing [VIP] ###\n",
    "This is one of the fundamental models of probability theory. Note that unless otherwise specified, coins in this course are assumed to be fair and tosses are assumed to be independent of each other.\n",
    "\n",
    "This exercise is a series of quick observations. Before you start, look over some of the Combinatorics exercises in the [Math Prerequisites](http://prob140.org/assets/prereq_math_sp19.pdf) set.\n",
    "\n",
    "Suppose you toss a coin $n$ times and note down the sequence of heads (H) and tails (T). \n",
    "\n",
    "Fix an integer $k$ such that $0 \\le k \\le n$.\n",
    "\n",
    "**a)** In total, how many possible sequences are there? How many sequences have $k$ heads? \n",
    "\n",
    "[That means exactly $k$ heads, now and throughout the course. To answer the second question, it might help to imagine that there are $n$ empty spaces and you have to write the letter H in $k$ of them.]\n",
    "\n",
    "**b)** What is the chance that you get $k$ heads in your $n$ tosses? Why?\n",
    "\n",
    "**c)** Does your answer in **b** make sense in the cases $k=0$ and $k=n$? Explain.\n",
    "\n",
    "**d)** `SciPy` is a Python library for scientific computing. You will be using it a lot in this course. In particular, the `special` module of `SciPy` computes combinatorial terms and has been imported in this notebook. \n",
    "\n",
    "To calculate $\\binom{n}{k}$, use `special.comb(n, k)`."
   ]
  },
  {
   "cell_type": "code",
   "execution_count": null,
   "metadata": {
    "#solution": false,
    "#staff": false,
    "#student": false
   },
   "outputs": [],
   "source": [
    "# 10 choose 2\n",
    "special.comb(10, 2)"
   ]
  },
  {
   "cell_type": "markdown",
   "metadata": {
    "#solution": false,
    "#staff": false,
    "#student": false
   },
   "source": [
    "Define a function `chance_of_heads` that takes `n` and `k` as its arguments and returns the chance of `k` heads in `n` tosses of a fair coin. Do not use any built-in `SciPy` probability functions; just use your answer to **b**.\n",
    "\n",
    "We have started the code for you. Try to ignore the fact that we have converted the integer `n` to a `float`. It won't affect `special.comb` and it will help ensure that the calculation is accurate when `n` and `k` are large."
   ]
  },
  {
   "cell_type": "code",
   "execution_count": null,
   "metadata": {
    "#solution": false,
    "#staff": false,
    "#student": true
   },
   "outputs": [],
   "source": [
    "\n",
    "def chance_of_heads(n, k):\n",
    "    \"\"\"Returns the chance of k heads in n tosses of a fair coin\"\"\"\n",
    "    n = float(n)\n",
    "    return ..."
   ]
  },
  {
   "cell_type": "markdown",
   "metadata": {
    "#solution": false,
    "#staff": false,
    "#student": false
   },
   "source": [
    "To check whether your function is working correctly, list all possible outcomes of two tosses of a coin and hence calculate P(0 heads), P(1 head), and P(2 heads). You don't have to turn this in, but make sure it agrees with the output of the cell below."
   ]
  },
  {
   "cell_type": "code",
   "execution_count": null,
   "metadata": {
    "#solution": false,
    "#staff": false,
    "#student": false
   },
   "outputs": [],
   "source": [
    "chance_of_heads(2, 0), chance_of_heads(2, 1), chance_of_heads(2, 2)"
   ]
  },
  {
   "cell_type": "markdown",
   "metadata": {
    "#solution": false,
    "#staff": false,
    "#student": false
   },
   "source": [
    "**e)** A class has 8 GSIs. Each GSI tosses a coin 20 times and notes the number of heads. Write an expression that evaluates to the chance that none of the GSIs gets exactly 10 heads. Your expression should use your function `chance_of_heads`."
   ]
  },
  {
   "cell_type": "code",
   "execution_count": null,
   "metadata": {
    "#solution": false,
    "#staff": false,
    "#student": true
   },
   "outputs": [],
   "source": [
    "\n",
    "..."
   ]
  },
  {
   "cell_type": "markdown",
   "metadata": {
    "#solution": false,
    "#staff": false,
    "#student": false
   },
   "source": [
    "### 3. Approximation ###\n",
    "While it is great to have exact formulas for probabilities, if the formulas are complicated then it can be hard to tell how big the probabilities are. So it is useful to have good approximations that have simpler forms and can quickly give us a sense of the magnitude.\n",
    "\n",
    "You have seen one such approximation already in the birthday problem. Here are two more.\n",
    "\n",
    "**a)** There is a bet for which your chance of winning is $1/M$. The chance is small because $M$ is very large, but you are stubborn and decide to bet anyway. In fact you bet over and over again, hoping for a win. Assume that the bets are independent of each other. What is the smallest number of times you have to bet so that your chance of winning at least once is at least 1/2? Explain why the answer is roughly a linear function of $M$ (when $M$ is large).\n",
    "\n",
    "**b)** In the previous exercise you found the chance of getting $m$ heads in $2m$ tosses of a coin. The chance involves some factorials, and factorials get large very quickly. *Stirling's approximation* says that for large $n$\n",
    "\n",
    "$$\n",
    "n! ~ \\sim ~ \\sqrt{2 \\pi n} \\cdot (n/e)^n\n",
    "$$\n",
    "\n",
    "where the symbol $\\sim$ is read as \"is asymptotically equivalent to\" and means that the ratio of the two sides goes to 1 as $n$ tends to $\\infty$.\n",
    "\n",
    "Let $m$ be a positive integer. Use Stirling's formula to approximate the chance of getting exactly $m$ heads in $2m$ tosses of a fair coin, and say what the limit is as $m \\to \\infty$. Later in the course we will see why this doesn't contradict the law of averages.\n",
    "\n",
    "**c)** For the number of tosses $2m = 50, 100, 150, \\ldots, 400$, compare the approximation in **b** to the exact value, as follows. The table `chance_and_approx` starts off with just two columns:"
   ]
  },
  {
   "cell_type": "code",
   "execution_count": null,
   "metadata": {
    "#solution": false,
    "#staff": false,
    "#student": false
   },
   "outputs": [],
   "source": [
    "tosses = np.arange(50, 401, 50)\n",
    "heads = np.arange(25, 201, 25)\n",
    "chance_and_approx = Table().with_column('Tosses', tosses,\n",
    "                                       'Heads', heads)\n",
    "chance_and_approx"
   ]
  },
  {
   "cell_type": "markdown",
   "metadata": {
    "#solution": false,
    "#staff": false,
    "#student": false
   },
   "source": [
    "Augment the table with a column labeled `Exact Chance` that contains the chance of $m$ heads in $2m$ tosses, and a column labeled `Approximation` that contains the approximation you found in **b**.\n",
    "\n",
    "Code tips:\n",
    "\n",
    "- Use `np.pi` for $\\pi$\n",
    "- Use `apply` to get an array of exact chances. See for example the construction of the array `different` in [Section 1.4](http://prob140.org/textbook/chapters/Chapter_01/04_Birthday_Problem) of the textbook."
   ]
  },
  {
   "cell_type": "code",
   "execution_count": null,
   "metadata": {
    "#solution": false,
    "#staff": false,
    "#student": true
   },
   "outputs": [],
   "source": [
    "\n",
    "def exact_chance(m):\n",
    "    \"\"\"Returns P(m heads in 2m tosses)\"\"\"\n",
    "    return chance_of_heads(2*m, m)\n",
    "\n",
    "exact = ...          # array of exact chances\n",
    "approx = ...         # array of approximations\n",
    "\n",
    "chance_and_approx = chance_and_approx.with_column('Exact Chance', exact,\n",
    "                                                 'Approximation', approx)\n",
    "chance_and_approx"
   ]
  },
  {
   "cell_type": "markdown",
   "metadata": {
    "#solution": false,
    "#staff": false,
    "#student": false
   },
   "source": [
    "That's a great approximation! Run the cell below for a visual comparison."
   ]
  },
  {
   "cell_type": "code",
   "execution_count": null,
   "metadata": {
    "#solution": false,
    "#staff": false,
    "#student": false
   },
   "outputs": [],
   "source": [
    "chance_and_approx.drop('Heads').scatter('Tosses')"
   ]
  },
  {
   "cell_type": "markdown",
   "metadata": {
    "#solution": false,
    "#staff": false,
    "#student": false
   },
   "source": [
    "### 4. Extrema and Tails [VIP]###\n",
    "\n",
    "The maximum and minimum of a random sample of numbers are called the \"extrema\" of the sample. Distributions of extrema are best described using the left or right hand tail probabilities. In this exercise you will see how.\n",
    "\n",
    "Fix positive integers $n$ and $N$. Suppose $n$ draws are made at random with replacement from the numbers $\\{1, 2, 3, \\ldots, N\\}$. Let $X_i$ be the number that appears on the $i$th draw.\n",
    "\n",
    "Let $V_n = \\min\\{X_1, X_2, \\ldots, X_n\\}$ be the sample minimum and let $W_n = \\max\\{X_1, X_2, \\ldots, X_n\\}$ be the sample maximum.\n",
    "\n",
    "**a)** The event that a sample maximum is \"small\" is straightforward to describe in terms of the individual elements of the sample. To see this, fill in the blank with an appropriate mathematical symbol or English phrase. Justify your answer.\n",
    "\n",
    "Fix an integer $k$ such that $1 \\le k \\le N$. The event \"$W_n \\le k$\" is the same as the event \"each of $X_1, X_2, \\ldots, X_n$ is $\\underline{~~~~~~~~~~~~~~~~~~~~~~~~~~~~~~~~~~~~~~~~~~~~~~~~~~~~~~~} k$\".\n",
    "\n",
    "It might help to draw the number line, mark the integers 1 through $N$, and put a special mark on $k$. For the maximum to be at or to the left of $k$, where do all the $X$'s have to be?\n",
    "\n",
    "**b)** For $1 \\le k \\le N$, use Part **a** to find $P(W_n \\le k)$. \n",
    "\n",
    "**c)** Use Part **b** to find $P(W_n = k)$ for $1 \\le k \\le N$ and to show algebraically that $\\sum_{k=1}^N P(W_n = k) = 1$.\n",
    "\n",
    "**d)** Modify Part **a** for the event that the sample minimum is \"large\", by filling in the blank with an appropriate mathematical symbol or English phrase. Justify your answer.\n",
    "\n",
    "The event \"$V_n \\ge k$\" is the same as the event \"each of $X_1, X_2, \\ldots, X_n$ is $\\underline{~~~~~~~~~~~~~~~~~~~~~~~~~~~~~~~~~~~~~~~~~~~~~~~~~~~~~~~} k$\".\n",
    "\n",
    "**e)** Use Part **d** to find $P(V_n = k)$ for $1 \\le k \\le N$.\n",
    "\n",
    "**f)** Let $j$ and $k$ be integers such that $0 \\le j \\le k \\le N$. Modify Parts **a** and **d** to find $P(V_n \\ge j, W_n \\le k)$."
   ]
  },
  {
   "cell_type": "markdown",
   "metadata": {
    "#solution": false,
    "#staff": false,
    "#student": false
   },
   "source": [
    "### 5. Mirror Images ###\n",
    "Let $D_1, D_2, D_3, D_4$ represent the numbers on four rolls of a die. Let $V = \\min\\{D_1, D_2, D_3, D_4\\}$, $W = \\max\\{D_1, D_2, D_3, D_4\\}$, $S = \\sum_{i=1}^4 D_i$.\n",
    "\n",
    "**a)** If possible, use one of the symbols $\\stackrel{d}{=}$ or $=$ to fill in the blank in $D_1 \\underline{~~~~~~~~~~~~~} D_2$. Explain; and if both can be used, say why.\n",
    "\n",
    "**b)** If possible, use one of the symbols $\\stackrel{d}{=}$ or $=$ to fill in the blank in $S \\underline{~~~~~~~~~~~~~} 4D_1$. Explain; and if both can be used, say why.\n",
    "\n",
    "**c)** Use the previous exercise and the code cell below to draw the probability histogram of $W$. You will need some `prob140` methods which are used in [Section 3.2](http://prob140.org/textbook/chapters/Chapter_03/02_Distributions) of the textbook."
   ]
  },
  {
   "cell_type": "code",
   "execution_count": null,
   "metadata": {
    "#solution": false,
    "#staff": false,
    "#student": true
   },
   "outputs": [],
   "source": [
    "\n",
    "n = 4\n",
    "N = 6\n",
    "k = np.arange(1, N+1)\n",
    "\n",
    "# array consisting of P(W=k)\n",
    "probs_W = ...\n",
    "\n",
    "dist_W = ...\n",
    "Plot(...)\n",
    "plt.title('Distribution of W');"
   ]
  },
  {
   "cell_type": "markdown",
   "metadata": {
    "#solution": false,
    "#staff": false,
    "#student": false
   },
   "source": [
    "**d)** Use the code cell below to draw the probability histogram of $V$."
   ]
  },
  {
   "cell_type": "code",
   "execution_count": null,
   "metadata": {
    "#solution": false,
    "#staff": false,
    "#student": true
   },
   "outputs": [],
   "source": [
    "\n",
    "...\n",
    "plt.title('Distribution of V');"
   ]
  },
  {
   "cell_type": "markdown",
   "metadata": {
    "#solution": false,
    "#staff": false,
    "#student": false
   },
   "source": [
    "**e)** Look at the two probability histograms above, and fill in the blanks with numbers. No explanation needed.\n",
    "\n",
    "$P(V = 2) = P(W = \\underline{~~~~~~~~~}~)$ and $V \\stackrel{d}{=} \\underline{~~~~~~~~~} - W$."
   ]
  },
  {
   "cell_type": "markdown",
   "metadata": {
    "#solution": false,
    "#staff": false,
    "#student": false
   },
   "source": [
    "### 6. Two IID Random Variables [VIP] ###\n",
    "\n",
    "Let $R$ and $S$ be independent and identically distributed (i.i.d.) integer-valued random variables, with distribution given by\n",
    "\n",
    "$$\n",
    "P(R = k) ~ = ~ \n",
    "\\begin{cases} \n",
    "c \\cdot \\frac{1}{k}, ~~ 1 \\le k \\le 10 \\\\\n",
    "0 ~~~~~ \\text{otherwise}\n",
    "\\end{cases}\n",
    "$$\n",
    "\n",
    "where $c$ is a constant. \n",
    "\n",
    "**a)** Find a formula for $c$. You might want to write out all 10 probabilities in terms of $c$ first, but this isn't required.\n",
    "\n",
    "**b)** Complete the cell below to plot the probability histogram of $R$."
   ]
  },
  {
   "cell_type": "code",
   "execution_count": null,
   "metadata": {
    "#solution": false,
    "#staff": false,
    "#student": true
   },
   "outputs": [],
   "source": [
    "\n",
    "k = np.arange(1, 11)   # array of possible values of R\n",
    "p = ...                # array of probabilities of those values\n",
    "dist_R = Table().values(k).probabilities(p)\n",
    "Plot(dist_R)\n",
    "plt.title('Distribution of X');"
   ]
  },
  {
   "cell_type": "markdown",
   "metadata": {
    "#solution": false,
    "#staff": false,
    "#student": false
   },
   "source": [
    "Before you do the remaining parts it is highly recommended that you read the examples in Section 4.2 of the [textbook](http://prob140.org/textbook/chapters/README).\n",
    "\n",
    "**c)** Complete the cell below to create `joint_dist`, the joint distribution table of $R$ and $S$."
   ]
  },
  {
   "cell_type": "code",
   "execution_count": null,
   "metadata": {
    "#solution": false,
    "#staff": false,
    "#student": true
   },
   "outputs": [],
   "source": [
    "\n",
    "def joint_probability(x, y):\n",
    "    \"\"\"Returns P(R = x, S = y)\"\"\"\n",
    "    return p.item(...)...\n",
    "\n",
    "joint_dist = Table().values('R', k, 'S', k).probability_function(joint_probability)\n",
    "joint_dist"
   ]
  },
  {
   "cell_type": "markdown",
   "metadata": {
    "#solution": false,
    "#staff": false,
    "#student": false
   },
   "source": [
    "**d)** Use the `event` method to find $P(|R - S| = 2)$."
   ]
  },
  {
   "cell_type": "code",
   "execution_count": null,
   "metadata": {
    "#solution": false,
    "#staff": false,
    "#student": true
   },
   "outputs": [],
   "source": [
    "\n",
    "..."
   ]
  },
  {
   "cell_type": "markdown",
   "metadata": {
    "#solution": false,
    "#staff": false,
    "#student": false
   },
   "source": [
    "**e)** For brevity, let $r_k = P(R = k)$ and $s_k = P(S = k)$ for $1 \\le k \\le 10$. Write a formula for $P(|R - S| \\ge 2)$ in terms of $r_1, r_2, \\ldots, r_{10}$ and $s_1, s_2, \\ldots, s_{10}$. Make sure that the terms that you are adding are all positive; sums should not include any terms that are 0.\n",
    "\n",
    "Your work will go much faster if you identify a useful example in Section 4.2 of the textbook."
   ]
  },
  {
   "cell_type": "markdown",
   "metadata": {
    "#solution": false,
    "#staff": false,
    "#student": false
   },
   "source": [
    "## Submission Instructions ##\n",
    "\n",
    "Many assignments throughout the course will have a written portion and a code portion. Please follow the directions below to properly submit both portions.\n",
    "\n",
    "### Written Portion ###\n",
    "*  Scan all the pages into a PDF. You can use any scanner or a phone using applications such as CamScanner. Please **DO NOT** simply take pictures using your phone. \n",
    "* Please start a new page for each question. If you have already written multiple questions on the same page, you can crop the image in CamScanner or fold your page over (the old-fashioned way). This helps expedite grading.\n",
    "* It is your responsibility to check that all the work on all the scanned pages is legible.\n",
    "\n",
    "### Code Portion ###\n",
    "* Save your notebook using File > Save and Checkpoint.\n",
    "* Run the cell below to generate a PDF file.\n",
    "* Download the PDF file and confirm that none of your work is missing or cut off.  If the link leads you to a blank page, use [Command]+[S] or [Ctrl]+[S] to download your work.  \n",
    "\n",
    "### Submitting ###\n",
    "* Combine the PDFs from the written and code portions into one PDF.  [Here](https://smallpdf.com/merge-pdf) is a useful tool for doing so.  \n",
    "* Submit the assignment to Homework1 on Gradescope. Use the entry code **M6JPEY** if you haven't already joined the class.\n",
    "* **Make sure to assign each page of your pdf to the correct question.**\n",
    "\n"
   ]
  },
  {
   "cell_type": "code",
   "execution_count": null,
   "metadata": {
    "#solution": false,
    "#staff": false,
    "#student": false
   },
   "outputs": [],
   "source": [
    "import gsExport\n",
    "gsExport.generateSubmission(\"Homework_01.ipynb\")"
   ]
  }
 ],
 "metadata": {
  "checksums": [
   "36d6125272e38841d377985b31e7a672",
   "510b88354262c31ba9053a0c05b44859",
   "5277bdbc94775fa2252e6beb176d3807",
   "617e9d925b5fe2cd6a35fdd67bbdf752",
   "00959fffcf2cb6dc1e1fa2b9802c6ef2",
   "3c2c6e0db9f739b2332909a04242a79c",
   "f78a7a345940f25437e94b01d0ba1ba3",
   "1ace734b135b9871f8167297fb6775f3",
   "e5456e1e87ffd0e3e7dd68cac02ba986",
   "e511bf0c6b0ef25d8b5a93aa5cc65be9",
   "08c960604cf210d2dff9525bc23790da",
   "f6bab449ddec9e32cee6933e19e0abf7",
   "3c1128d5a312967ab37190f89dc635a7",
   "6d3503e90182b0af1228b3f8b0745fac",
   "0e4d3cc8cbc8a885bdd21ef0e3f59955",
   "dc2b9f0737ce4c6cac9f1a541d8a4cb8",
   "ec9d87a0bbf157dbe0ec88ef1d3e9cb0",
   "74bc9091d3553729d80fc0e07613de1d",
   "1de0debdf644f1fb936976f6c18ede20",
   "27348b414115cba89019085b41a0cf2a",
   "57e3abc26ed8f7102b233868866e84e9",
   "0dec568a6fdae687d2059225c2e61872",
   "2f43b42fd833d1e77420a8dae7419000",
   "c4679388c94e2598f97aa70db3bb6aed",
   "49ba32e373c5de141c86ece36f5d575e",
   "5efae32c029a9465ef09eace14a1368a",
   "db99dc626c60f2de4011ff9170064dfe",
   "f5e4bba0aabcf8c7bf5222b27049d272",
   "69cd0e7bda4bf1df3d7e2574e83260e6",
   "5cbb959af78f515b2d219140eb3ad60f",
   "08691b9c6e6c905675a99eb925428105",
   "672d8939521d341d61a94753d479b7e2",
   "964a7b1068f77db68d1c612f670a667a",
   "d9a8868d4643aae236f9cacd2ad1efdf",
   "74bacefb9b2db5fd0258c34521ea0666",
   "0e445a2f5f5e527814f59f75cddeb5f4",
   "df4eb07fa1bb4a66750e2e844207cbcb",
   "6006c504507dffce0c2d7fe2b7c63bcf",
   "d54cfc959a65a0a7fecb527bcede3da9",
   "92da07b564007363eb79768a83863a40",
   "2f43b42fd833d1e77420a8dae7419000",
   "a2e56baae6b9d61661d3ce67cb22fcdb",
   "972010cf53306f4b24e3b9b0f7185bb6",
   "9a508363fb26e7bc8ad1a23cd34e785e"
  ],
  "kernelspec": {
   "display_name": "Python 3",
   "language": "python",
   "name": "python3"
  },
  "language_info": {
   "codemirror_mode": {
    "name": "ipython",
    "version": 3
   },
   "file_extension": ".py",
   "mimetype": "text/x-python",
   "name": "python",
   "nbconvert_exporter": "python",
   "pygments_lexer": "ipython3",
   "version": "3.6.0"
  },
  "number_of_pagebreaks": 0
 },
 "nbformat": 4,
 "nbformat_minor": 2
}
