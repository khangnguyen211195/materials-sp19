{
 "cells": [
  {
   "cell_type": "markdown",
   "metadata": {},
   "source": [
    "<table align=\"left\" style=\"border-style: hidden\" class=\"table\"> <tr><td class=\"col-md-2\"><img style=\"float\" src=\"http://prob140.org/assets/icon256.png\" alt=\"Prob140 Logo\" style=\"width: 120px;\"/></td><td><div align=\"left\"><h3 style=\"margin-top: 0;\">Probability for Data Science</h3><h4 style=\"margin-top: 20px;\">UC Berkeley, Fall 2018</h4><p>Ani Adhikari and Jim Pitman</p>CC BY-NC 4.0</div></td></tr></table><!-- not in pdf -->"
   ]
  },
  {
   "cell_type": "markdown",
   "metadata": {
    "#solution": false,
    "#staff": false,
    "#student": false
   },
   "source": [
    "# Homework 4 #"
   ]
  },
  {
   "cell_type": "markdown",
   "metadata": {
    "#solution": false,
    "#staff": false,
    "#student": false
   },
   "source": [
    "#### Rules for Written Homework ####\n",
    "\n",
    "- Every answer should contain a calculation or reasoning. For example, a calculation such as $(1/3)(0.8) + (2/3)(0.7)$ is fine without further explanation or simplification. If we want you to simplify, we'll ask you to. But just ${5 \\choose 2}$ is not fine; write \"we need 2 out of the 5 frogs and they can appear in any order\" or whatever reasoning you used. Reasoning can be brief and abbreviated, e.g. \"product rule\" or \"not mut. excl.\"\n",
    "- Unless otherwise specified, all infinite sums have to be simplified. Finite sums may be left in summation notation.\n",
    "- You may consult others but you must write up your own answers using your own words, notation, and sequence of steps.\n",
    "- In the interest of saving trees, you do not need to *solve* each question on a new piece of paper. Folding the paper to show just the relevant problem will suffice. To ensure the correct page size, we recommend placing the folded part on a blank page before scanning, or adjusting the page settings on your phone scanning app.\n",
    "- You will submit a scanned PDF to Gradescope. **Each question should *start* on a new PDF page. No page should contain two questions.**\n",
    "\n",
    "#### Rules for Coding ####\n",
    "\n",
    "- Do not share, copy, or allow others to copy your code. You may discuss your approach and relevant methods or functions to use.\n",
    "- A code cell (which may contain starter code) is provided for each question or subpart that requires coding. You are free to add additional cells as needed.\n",
    "- You will submit a PDF to Gradescope. See the bottom of the notebook for more instructions.\n",
    "- Here are some code references:\n",
    "    - [Prob 140 Code Reference Sheet](http://prob140.org/assets/prob140_code_reference.pdf)\n",
    "    - [Data 8 Python Reference](http://data8.org/fa18/python-reference.html)\n",
    "    - [`scipy.stats` Documentation](https://docs.scipy.org/doc/scipy/reference/stats.html)"
   ]
  },
  {
   "cell_type": "code",
   "execution_count": null,
   "metadata": {
    "#solution": false,
    "#staff": false,
    "#student": false
   },
   "outputs": [],
   "source": [
    "# Run this cell to set up your notebook\n",
    "\n",
    "import numpy as np\n",
    "from scipy import stats\n",
    "from datascience import *\n",
    "from prob140 import *\n",
    "\n",
    "# These lines do some fancy plotting magic\n",
    "import matplotlib\n",
    "%matplotlib inline\n",
    "import matplotlib.pyplot as plt\n",
    "plt.style.use('fivethirtyeight')\n",
    "\n",
    "# These lines make warnings look nicer\n",
    "import warnings\n",
    "warnings.simplefilter('ignore', FutureWarning)"
   ]
  },
  {
   "cell_type": "markdown",
   "metadata": {
    "#solution": false,
    "#staff": false,
    "#student": false
   },
   "source": [
    "## 1. Aces and Face Cards ##\n",
    "A standard deck consists of 52 cards of which 4 are aces, 4 are kings, and 12 (including the four kings) are \"face cards\" (Jacks, Queens, and Kings).\n",
    "\n",
    "Cards are dealt at random without replacement from a standard deck till all the cards have been dealt. \n",
    "\n",
    "Find the expectation of the following. Each can be done with almost no calculation if you use symmetry. \n",
    "\n",
    "**a) [WRITTEN]** The number of aces among the first 5 cards\n",
    "\n",
    "**b) [WRITTEN]** The number of face cards that *do not* appear among the first 13 cards\n",
    "\n",
    "**c) [WRITTEN]** The number of aces among the first 5 cards minus the number of kings among the last 5 cards\n",
    "\n",
    "**d) [WRITTEN]** The number of cards before the first ace \n",
    "\n",
    "**e) [WRITTEN]** The number of cards strictly in between the first ace and the last ace\n",
    "\n",
    "**f) [WRITTEN]** The number of face cards before the first ace"
   ]
  },
  {
   "cell_type": "markdown",
   "metadata": {
    "#solution": false,
    "#staff": false,
    "#student": false
   },
   "source": [
    "## 2. Phone Calls ##\n",
    "In an hour, a student receives $X$ phone calls from people he knows and $Y$ phone calls from people he doesn't know. Assume that $X$ has the Poisson $(\\lambda)$ distribution and $Y$ has the Poisson $(\\mu)$ distribution. Also assume that $X$ and $Y$ are independent. Finally, assume that each call has chance 0.1 of being missed by the student, independently of all other calls.\n",
    "\n",
    "**a) [WRITTEN]** Fill in the blank with the name of a distribution and its parameter or parameters:\n",
    "\n",
    "The total number of calls that the student receives has the $\\underline{~~~~~~~~~~~~}$ distribution.\n",
    "\n",
    "**b) [WRITTEN]** Fill in the blank with the name of a distribution and its parameter or parameters:\n",
    "\n",
    "Given that the student receives a total of $k$ calls, the conditional distribution of the total number of missed calls is $\\underline{~~~~~~~~~~~~}$.\n",
    "\n",
    "**c) [WRITTEN]** Fill in the blank with the name of a distribution and its parameter or parameters:\n",
    "\n",
    "The total number of missed calls has the $\\underline{~~~~~~~~~~~~}$ distribution.\n",
    "\n",
    "**d) [WRITTEN]** For integers $k \\ge 0$, find the chance that the student misses at most $k$ calls from people he knows.\n",
    "\n",
    "**e) [WRITTEN]** Let $n$ and $m$ be non-negative integers. Find the chance that the student misses $n$ calls from people he knows and misses $m$ calls from people he doesn't know."
   ]
  },
  {
   "cell_type": "markdown",
   "metadata": {
    "#solution": false,
    "#staff": false,
    "#student": false
   },
   "source": [
    "## 3. Unbiased Estimators ##\n",
    "\n",
    "**a) [WRITTEN]** A population of known size $N$ contains an unknown number $G$ of good elements. Let $X$ be the number of good elements in a simple random sample of size $n$ drawn from this population. Use $X$ to construct an unbiased estimator of $G$.\n",
    "\n",
    "See the example in Section 8.2 for a refresher: http://prob140.org/textbook/chapters/Chapter_08/02_Additivity\n",
    "\n",
    "**b) [WRITTEN]** Would your answer to Part **a** have been different if $X$ had been the number of good elements in a random sample drawn with replacement from the population? Why or why not?\n",
    "\n",
    "**c) [WRITTEN]** A flattened die lands 1 and 6 with chance $p/2$ each, and the other faces 2, 3, 4, and 5 with chance $(1-p)/4$ each. Here $p \\in (0, 1)$ is an unknown number. Let $X_1, X_2, \\ldots, X_n$ be the results of $n$ rolls of this die. First find $E(\\vert X_1 - 3.5 \\vert)$, and use the answer to construct an unbiased estimator of $p$ based on all of $X_1, X_2, \\ldots, X_n$."
   ]
  },
  {
   "cell_type": "markdown",
   "metadata": {
    "#solution": false,
    "#staff": false,
    "#student": false
   },
   "source": [
    "## 4. Classification ##\n",
    "In a population of four classes of individuals, the proportion of individuals of Class $i$ is $p_i$ for $i = 1, 2, 3, 4$. Suppose you sample independently from this population, and suppose the sample size is a Poisson random variable with parameter $n$ for a fixed positive integer $n$. \n",
    "\n",
    "**a) [WRITTEN]** What is the probability that the sample contains at least one individual from each class?\n",
    "\n",
    "**b) [CODE]** Let $p_i = \\frac{i}{10}$ for $i = 1, 2, 3, 4$. Plot a graph of your answer as a function of $n$ for $n$ in the range 1 through 60. For an example of a calculation of probabilities accompanied by a plot, see Section 1.4 of the text.\n",
    "\n",
    "**c) [CODE]** Still assuming $p_i = \\frac{i}{10}$ for $i = 1, 2, 3, 4$, find a decimal value for the chance that you get at least two of each kind of individual if the parameter is $n = 50$."
   ]
  },
  {
   "cell_type": "code",
   "execution_count": null,
   "metadata": {
    "#solution": false,
    "#staff": false,
    "#student": true
   },
   "outputs": [],
   "source": [
    "#Answer to 4b\n",
    "\n",
    "def p_at_least_one(n):\n",
    "    ..."
   ]
  },
  {
   "cell_type": "code",
   "execution_count": null,
   "metadata": {
    "#solution": false,
    "#staff": false,
    "#student": true
   },
   "outputs": [],
   "source": [
    "#Answer for 4c\n",
    "..."
   ]
  },
  {
   "cell_type": "markdown",
   "metadata": {
    "#solution": false,
    "#staff": false,
    "#student": false
   },
   "source": [
    "## 5. Geometric Distribution ##\n",
    "Consider an infinite sequence of i.i.d. Bernoulli $(p)$ trials, where $0 < p < 1$. To make the problem more concrete, imagine rolling a die over and over again and keeping track of whether or not you see the face with six spots; but solve the problem for a general $p$.\n",
    "\n",
    "Let $T$ be the index of the first trial that results in a success. Then the possible values of $T$ are $1, 2, 3, \\ldots $. In the case of rolling a die till you see a six, if the rolls come out $2,3,3,4,6$ then the value of $T$ is 5.\n",
    "\n",
    "**a) [WRITTEN]** Let $q = 1-p$. Explain why $P(T = k) = q^{k-1}p$ for $k \\ge 1$. This is called the *geometric distribution with parameter $p$ on $\\{1, 2, 3, \\ldots \\}$*.\n",
    "\n",
    "**b) [WRITTEN]** For a positive integer $k$, let $N_k$ be the number of successes in trials 1 through $k$. Fill in the blank in the identity below and explain your choice.\n",
    "\n",
    "$$\n",
    "P(T > k) = P(N_k = \\underline{ ~~~~~~~~~~~~~ })\n",
    "$$\n",
    "\n",
    "**c) [WRITTEN]** Use **(b)** to find $P(T > k)$ with no calculation.\n",
    "\n",
    "**d) [WRITTEN]** Use **(c)** and the tail sum formula used in Lab 4 to show that $E(T) = 1/p$."
   ]
  },
  {
   "cell_type": "markdown",
   "metadata": {
    "#solution": false,
    "#staff": false,
    "#student": false
   },
   "source": [
    "## 6. Collecting Distinct Values ##\n",
    "This problem is a workout in finding expectations by using all the tools at your disposal. Some of them have been developed in this homework. If an answer doesn't appear to fit into a formula that has already been proven, it's a very good idea to try to write the variable as a sum of simpler variables.\n",
    "\n",
    "**a) [WRITTEN]** A fair die is rolled $n$ times. Find the expected number of times the face with six spots appears.\n",
    "\n",
    "**b) [WRITTEN]** A fair die is rolled $n$ times. Find the expected number of faces that *do not* appear, and say what happens to this expectation as $n$ increases.\n",
    "\n",
    "**c) [WRITTEN]** Use your answer to **(b)** to find the expected number of distinct faces that *do* appear in $n$ rolls of a die.\n",
    "\n",
    "**d) [WRITTEN]** Find the expected number of times you have to roll a die till you have seen all of the faces. This is a version of what is known as the *coupon collector's problem*.\n"
   ]
  },
  {
   "cell_type": "markdown",
   "metadata": {
    "#solution": false,
    "#staff": false,
    "#student": false
   },
   "source": [
    "## Checklist\n",
    "\n",
    "Your submission should have the following parts:\n",
    "\n",
    "#### Part A (Written)\n",
    "\n",
    "- 1a, 1b, 1c, 1d, 1e, 1f\n",
    "- 2a, 2b, 2c, 2d, 2e\n",
    "- 3a, 3b, 3c\n",
    "- 4a\n",
    "- 5a, 5b, 5c, 5d\n",
    "- 6a, 6b, 6c, 6d\n",
    "\n",
    "#### Part B (Code)\n",
    "\n",
    "- 4b, 4c\n"
   ]
  },
  {
   "cell_type": "markdown",
   "metadata": {
    "#solution": false,
    "#staff": false,
    "#student": false
   },
   "source": [
    "## Submission Instructions\n",
    "\n",
    "#### Part A (Written)\n",
    "- Make sure you have at least 6 pages of homework. Each problem should start on a new page; for example,  Problem 1 on page 1, Problem 2 on page 2, etc.\n",
    "- Scan all the pages into a PDF. It is your responsibility to check that all the work on the scanned pages is legible. You can use any scanner or a phone using applications such as CamScanner. Save the PDF.\n",
    "- Upload the scanned PDF of your work onto Gradescope for the assignment \"HW04a (Written)\". \n",
    "Refer to [this guide](http://gradescope-static-assets.s3-us-west-2.amazonaws.com/help/submitting_hw_guide.pdf) for detailed instructions about scanning and submitting, or consult course staff.\n",
    "\n",
    "#### Part B (Code)\n",
    "\n",
    "1. **Save your notebook using File > Save and Checkpoint.**\n",
    "2. Run the cell below to generate a pdf file.\n",
    "3. Download the pdf file and confirm that none of your work is missing or cut off.\n",
    "4. Submit the assignment to \"HW04b (Code)\" on Gradescope."
   ]
  },
  {
   "cell_type": "code",
   "execution_count": null,
   "metadata": {
    "#solution": false,
    "#staff": false,
    "#student": false
   },
   "outputs": [],
   "source": [
    "import gsExport\n",
    "gsExport.generateSubmission(\"hw04.ipynb\")"
   ]
  }
 ],
 "metadata": {
  "anaconda-cloud": {},
  "checksums": [
   "41e5cd3e7433650be1eb792ff2fd6228",
   "996208cdfd34f4af0d96d183afb43c47",
   "f76eca92271471a44aec23c83e07b2e3",
   "3da88da364b1e30d4f83fb0c28a12c1f",
   "00deb41bc395ae8a51b533a5fc96cf35",
   "c8ff7780583dd24d5373ccea2fd41a3f",
   "c276b54f88b348607bee3c3d5456ee90",
   "3f68b79736eae7a1ccf1c58b612d4646",
   "cf877c508224a767dbb8412a56904492",
   "4f458a8c75adbb9fc547349a20f18117",
   "bf905c4f9cb76eb74fd68cff6f45171b",
   "4cea40ab6e9d8f9dc01257e97b4c61e3",
   "108ed071be4c194b5f9bb594dd8a5417",
   "849422faec4068b013812f4839686f3c",
   "84a25c3dd2f5e1a80d349e8801d68855"
  ],
  "kernelspec": {
   "display_name": "Python 3",
   "language": "python",
   "name": "python3"
  },
  "language_info": {
   "codemirror_mode": {
    "name": "ipython",
    "version": 3
   },
   "file_extension": ".py",
   "mimetype": "text/x-python",
   "name": "python",
   "nbconvert_exporter": "python",
   "pygments_lexer": "ipython3",
   "version": "3.5.2"
  },
  "number_of_pagebreaks": 0
 },
 "nbformat": 4,
 "nbformat_minor": 1
}
