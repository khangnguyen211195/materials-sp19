{
 "cells": [
  {
   "cell_type": "markdown",
   "metadata": {},
   "source": [
    "<table align=\"left\" style=\"border-style: hidden\" class=\"table\"> <tr><td class=\"col-md-2\"><img style=\"float\" src=\"http://prob140.org/assets/icon256.png\" alt=\"Prob140 Logo\" style=\"width: 120px;\"/></td><td><div align=\"left\"><h3 style=\"margin-top: 0;\">Probability for Data Science</h3><h4 style=\"margin-top: 20px;\">UC Berkeley, Fall 2018</h4><p>Ani Adhikari and Jim Pitman</p>CC BY-NC 4.0</div></td></tr></table><!-- not in pdf -->"
   ]
  },
  {
   "cell_type": "markdown",
   "metadata": {
    "#solution": false,
    "#staff": false,
    "#student": false
   },
   "source": [
    "# Homework 6 #\n"
   ]
  },
  {
   "cell_type": "markdown",
   "metadata": {
    "#solution": false,
    "#staff": false,
    "#student": false
   },
   "source": [
    "This homework set consists of the problems from the Spring 2018 midterm. It only involves written work; there are no coding parts. It is your responsibility to ensure that your homework is submitted completely and properly to Gradescope. Refer to the bottom of the notebook for submission instructions.\n",
    "\n",
    "**Recommendation:**\n",
    "Use this homework as an opportunity to assess your preparation for the upcoming midterm. Don't start it before you have completed the bulk of your review for the exam. Do your review, set aside all the course materials, find a place where you can work on your own, and give yourself 75 minutes to do the assignment. The problems that you are not able to do in that time will give you an indication of where you need to focus the remaining portion of your review.\n",
    "\n",
    "\n",
    "\n",
    "#### Rules for Written Homework ####\n",
    "\n",
    "- Every answer should contain a calculation or reasoning. For example, a calculation such as $(1/3)(0.8) + (2/3)(0.7)$ is fine without further explanation or simplification. If we want you to simplify, we'll ask you to. But just ${5 \\choose 2}$ is not fine; write \"we need 2 out of the 5 frogs and they can appear in any order\" or whatever reasoning you used. Reasoning can be brief and abbreviated, e.g. \"product rule\" or \"not mut. excl.\"\n",
    "- Unless otherwise specified, all infinite sums have to be simplified. Finite sums may be left in summation notation.\n",
    "- You may consult others but you must write up your own answers using your own words, notation, and sequence of steps.\n",
    "- In the interest of saving trees, you do not need to *solve* each question on a new piece of paper. Folding the paper to show just the relevant problem will suffice. To ensure the correct page size, we recommend placing the folded part on a blank page before scanning, or adjusting the page settings on your phone scanning app.\n",
    "- Simplify all infinite sums\n",
    "- You will submit a scanned PDF to Gradescope. **Each question should *start* on a new PDF page. No page should contain two questions.**\n"
   ]
  },
  {
   "cell_type": "markdown",
   "metadata": {
    "#solution": false,
    "#staff": false,
    "#student": false
   },
   "source": [
    "### 1. ###\n",
    "In a large population of voters, 48% favor Proposition 140. A random sample of 200 voters is drawn. You can assume that the method of sampling is equivalent to drawing at random with replacement.\n",
    "\n",
    "**a)** Find the chance that the majority (that is, more than half) of the sampled voters favor Prop 140.\n",
    "\n",
    "**b)** Given that exactly half of the sampled voters favored Prop 140, what is the chance that the first 25 sampled voters all favored Prop 140?\n"
   ]
  },
  {
   "cell_type": "markdown",
   "metadata": {
    "#solution": false,
    "#staff": false,
    "#student": false
   },
   "source": [
    "### 2. ###\n",
    "A fair die that has 1 blue face, 2 red faces, and 3 green faces is rolled repeatedly.\n",
    "Find the expected number of rolls till two different colors have appeared.\n",
    "\n"
   ]
  },
  {
   "cell_type": "markdown",
   "metadata": {
    "#solution": false,
    "#staff": false,
    "#student": false
   },
   "source": [
    "### 3. ###\n",
    "Suppose a sample consists of random variables $X_1, X_2, \\ldots , X_n$ that are independent and identically distributed. The distribution of $X_1$ is shown below. Assume $p \\in (0, 1/6)$.\n",
    "\n",
    "| $~~~~~~~~~~~~~~~~~~ k$ | $1$ | $2$ | $~~~~~~ 3 ~~~~~~$ | $4$ | $5$ |\n",
    "|---:|:---:|:---:|:---:|:---:|:---:|\n",
    "|$P(X_1 = x)$| $p$ | $2p$ | $1-6p$ | $2p$ | p |\n",
    "\n",
    "- Let $M = \\max \\{ X_1, X_2, \\ldots , X_n \\}$ be the sample maximum.\n",
    "\n",
    "- Let $N = \\min \\{ X_1, X_2, \\ldots , X_n \\}$ be the sample minimum.\n",
    "\n",
    "- Let $R = M - N$ be the range of the sample.\n",
    "\n",
    "\n",
    "**a)** Find a function $f$ such that $M$ is equal in distribution to $f(N)$. Explain your answer briefly.\n",
    "\n",
    "**b)** Find $E(R)$.\n",
    "\n"
   ]
  },
  {
   "cell_type": "markdown",
   "metadata": {
    "#solution": false,
    "#staff": false,
    "#student": false
   },
   "source": [
    "### 4. ###\n",
    "Machine A produces 1000 items, each of which is defective with chance $1/1000$ independently of all others. Independently of Machine A, Machine B produces 3000 items, each of which is defective with chance $2/1000$ independently of all others. \n",
    "\n",
    "**a)** Pick **one** of the options (i) and (ii). Fill in the first blank of your chosen option with the name of a famous distribution and the second with its parameter or parameters. **Justify your choices.**\n",
    "\n",
    "\n",
    "Let $T$ be the total number of defective items produced by Machines A and B. The distribution of $T$ is\n",
    "\n",
    "\n",
    "(i) exactly $\\underline{~~~~~~~~~~~~~~~~~~~~~~~~~~~~~~~~~}$ with parameter (or parameters) $\\underline{~~~~~~~~~~~~~~~~~~~~~~~~~~~~~~~~~}$.\n",
    "\n",
    "\n",
    "(ii) approximately $\\underline{~~~~~~~~~~~~~~~~~~~~~~~~~~~~~~~~~}$ with parameter (or parameters) $\\underline{~~~~~~~~~~~~~~~~~~~~~~~~~~~~~~~~~}$.\n",
    "\n",
    "\n",
    "**b)** Each defective item leads to exactly one of three outcomes: no complaint, a minor complaint, or a major complaint. Suppose that for each defective item, the chance of no complaint is 0.5, the chance of a minor complaint is 0.4, and the chance of a major complaint is 0.1, independently of all other variables. Find or approximate the chance that among all the items produced there are 3 defective items with no complaint, 2 defective items with a minor complaint, and 1 defective item with a major complaint.\n"
   ]
  },
  {
   "cell_type": "markdown",
   "metadata": {
    "#solution": false,
    "#staff": false,
    "#student": false
   },
   "source": [
    "### 5. ###\n",
    "Fix a positive integer $k$ and two numbers $r$ and $s$ in the interval $(0, 1)$. Let $V$ have the binomial $(k, r)$ distribution. Let $T$ be independent of $V$ and have the distribution given by $P(T = j) = (1-s)^js$ for $j \\ge 0$.\n",
    "\n",
    "**a)** Find $P(V = T)$.\n",
    "\n",
    "**b)** For $k = 5$, $r = 2/3$, and $s = 1/2$, the answer to Part **a** is equal to $n/m$ where $n$ and $m$ are two positive integers. Fill in the blanks with their numerical values and justify your answers. No, you don't need a calculator.\n",
    "\n",
    "\n",
    "$n ~ = ~ \\underline{~~~~~~~~~~~~~~~~~~~~~~~}$ $~~~~~~~~~~~~~~~~~$\n",
    "$m ~ = ~ \\underline{~~~~~~~~~~~~~~~~~~~~~~~}$\n"
   ]
  },
  {
   "cell_type": "markdown",
   "metadata": {
    "#solution": false,
    "#staff": false,
    "#student": false
   },
   "source": [
    "### 6. ###\n",
    "For $N$ a fixed positive integer, $N$ blue particles and $N$ red particles are distributed in two containers so that there are $N$ particles in each container. A process evolves as follows.\n",
    "\n",
    "At every step, one particle is selected uniformly at random from each container, independently of the other choice; then these two particles are switched. That is, each chosen particle is taken out of its container and placed in the other one.\n",
    "\n",
    "For $n \\ge 0$, let $X_n$ be the number of blue particles in Container 1.\n",
    "\n",
    "**a)** What is the state space of the chain $\\{X_0, X_1, X_2, \\ldots \\}$? Find the one-step transition probabilities.\n",
    "\n",
    "**b)** Find the stationary distribution of the chain. Recognize this as one of the famous ones and provide its name and parameters. It might help to remember that $\\binom{n}{k} = \\binom{n}{n-k}$.\n"
   ]
  },
  {
   "cell_type": "markdown",
   "metadata": {
    "#solution": false,
    "#staff": false,
    "#student": false
   },
   "source": [
    "## Checklist\n",
    "\n",
    "Your submission should have the following parts:\n",
    "\n",
    "#### Part A (Written)\n",
    "\n",
    "- 1a, 1b\n",
    "- 2\n",
    "- 3a, 3b\n",
    "- 4a, 4b\n",
    "- 5a, 5b\n",
    "- 6a, 6b\n"
   ]
  },
  {
   "cell_type": "markdown",
   "metadata": {
    "#solution": false,
    "#staff": false,
    "#student": false
   },
   "source": [
    "## Submission Instructions\n",
    "\n",
    "#### Part A (Written)\n",
    "- Make sure you have at least 6 pages of homework. Each problem should start on a new page; for example,  Problem 1 on page 1, Problem 2 on page 2, etc.\n",
    "- Scan all the pages into a PDF. It is your responsibility to check that all the work on the scanned pages is legible. You can use any scanner or a phone using applications such as CamScanner. Save the PDF.\n",
    "- Upload the scanned PDF of your work onto Gradescope for the assignment \"HW06a (Written)\". \n",
    "Refer to [this guide](http://gradescope-static-assets.s3-us-west-2.amazonaws.com/help/submitting_hw_guide.pdf) for detailed instructions about scanning and submitting, or consult course staff.\n"
   ]
  }
 ],
 "metadata": {
  "anaconda-cloud": {},
  "checksums": [
   "41e5cd3e7433650be1eb792ff2fd6228",
   "d49f1a865cc9a516c3b9f11e3251c42d",
   "3207a6c946789ce2c705f0d7498fdd2d",
   "820d68ec566ded612e7ff8bcc95447d3",
   "9ca301cd502459143bd39bcb04254bae",
   "02ccb669e74ccb8c28d810682a8b0922",
   "1764685dbdd17eee4b8e36700f74489d",
   "8804096d2b0cfede61f16b748ffa7cae",
   "890ebbedb101442fe8449bf7833ed519",
   "e59c791de786690b107d3d8bc1123e3d",
   "611dfa50077f32ab5116bf10b7dad5a5"
  ],
  "kernelspec": {
   "display_name": "Python [default]",
   "language": "python",
   "name": "python3"
  },
  "language_info": {
   "codemirror_mode": {
    "name": "ipython",
    "version": 3
   },
   "file_extension": ".py",
   "mimetype": "text/x-python",
   "name": "python",
   "nbconvert_exporter": "python",
   "pygments_lexer": "ipython3",
   "version": "3.5.4"
  },
  "number_of_pagebreaks": 0
 },
 "nbformat": 4,
 "nbformat_minor": 2
}
