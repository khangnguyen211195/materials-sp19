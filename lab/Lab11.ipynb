{
 "cells": [
  {
   "cell_type": "markdown",
   "metadata": {},
   "source": [
    "<table align=\"left\" style=\"border-style: hidden\" class=\"table\"> <tr><td class=\"col-md-2\"><img style=\"float\" src=\"http://prob140.org/assets/icon256.png\" alt=\"Prob140 Logo\" style=\"width: 120px;\"/></td><td><div align=\"left\"><h3 style=\"margin-top: 0;\">Probability for Data Science</h3><h4 style=\"margin-top: 20px;\">UC Berkeley, Fall 2018</h4><p>Ani Adhikari and Jim Pitman</p>CC BY-NC 4.0</div></td></tr></table><!-- not in pdf -->"
   ]
  },
  {
   "cell_type": "code",
   "execution_count": null,
   "metadata": {
    "#solution": false,
    "#staff": false,
    "#student": false
   },
   "outputs": [],
   "source": [
    "from datascience import *\n",
    "from prob140 import *\n",
    "import matplotlib.pyplot as plt\n",
    "plt.style.use('fivethirtyeight')\n",
    "%matplotlib inline\n",
    "import numpy as np\n",
    "from scipy import stats\n",
    "import warnings\n",
    "warnings.simplefilter('ignore')\n",
    "from matplotlib.ticker import FormatStrFormatter"
   ]
  },
  {
   "cell_type": "code",
   "execution_count": null,
   "metadata": {
    "#solution": false,
    "#staff": false,
    "#student": false
   },
   "outputs": [],
   "source": [
    "def override_hist(*args, **kwargs):\n",
    "    \"\"\"\n",
    "    This cleans up some unfortunate floating point precision\n",
    "    bugs in the datascience library\n",
    "    \"\"\"\n",
    "    #kwargs['edgecolor'] = 'w'\n",
    "    Table.hist2(*args, **kwargs)\n",
    "    ax = plt.gca()\n",
    "    ticks = ax.get_xticks()\n",
    "    if np.any(np.array(ticks) != np.rint(ticks)):\n",
    "        ax.xaxis.set_major_formatter(FormatStrFormatter('%.2f'))\n",
    "\n",
    "if not hasattr(Table, 'hist2'):\n",
    "    Table.hist2 = Table.hist\n",
    "    \n",
    "Table.hist = override_hist"
   ]
  },
  {
   "cell_type": "markdown",
   "metadata": {
    "#solution": false,
    "#staff": false,
    "#student": false
   },
   "source": [
    "# Lab 11: Chinese Restaurant Process, Part II #\n",
    "This is a continuation of Lab 10. Please review the description of the Chinese Restaurant process provided at the beginning of that lab.\n",
    "\n",
    "In Lab 10 you studied the distribution of the number of tables formed by $N$ people in a Chinese Restaurant process with parameter $\\theta$. That is, you studied the distribution of the number of clusters.\n",
    "\n",
    "You noticed that with high probability there are not many tables compared to $N$, and you showed that the expected number of tables is roughly $\\theta \\log(N)$. You also saw by simulation that the distribution of people across tables was typically quite uneven, with a few tables proving to be more popular than others.\n",
    "\n",
    "In this lab you will study the long run behavior of the proportion of people at Table 1. This helps answer questions such as:\n",
    "\n",
    "- About what proportion of the animals are of the same species as the first one you saw?\n",
    "- What is the chance that more than half the retweets are the same as the first one?\n",
    "\n",
    "The proportion of people at the first table has some surprising and beautiful properties. You will learn:\n",
    "\n",
    "- Why the behavior of the proportion supports the idea that \"the rich get richer\"\n",
    "- The connection between the long run distribution of the proportion and the beta family"
   ]
  },
  {
   "cell_type": "markdown",
   "metadata": {
    "#solution": false,
    "#staff": false,
    "#student": false
   },
   "source": [
    "### From Lab 10: Simulating the Process ###\n",
    "For ease of reference, here is the definition of the function `cr` from Lab 10. You defined it to take `N` and `theta` as its arguments, run the Chinese Restaurant process with parameter `theta` until `N` people have been seated, and return an array of the counts of people at the tables in the order of table formation."
   ]
  },
  {
   "cell_type": "code",
   "execution_count": null,
   "metadata": {
    "#solution": false,
    "#staff": false,
    "#student": false
   },
   "outputs": [],
   "source": [
    "def cr(N, theta):\n",
    "    tables = make_array()\n",
    "    people = make_array()\n",
    "    \n",
    "    for i in range(N):\n",
    "        n = sum(people)\n",
    "        new_table = len(tables) + 1\n",
    "        \n",
    "        tbl_choices = np.append(tables, new_table)\n",
    "        tbl_probs = np.append(people, theta)/(n+theta)\n",
    "    \n",
    "        choice = int(np.random.choice(tbl_choices, p = tbl_probs))\n",
    "    \n",
    "        if choice == new_table:\n",
    "            tables = tbl_choices\n",
    "            people = np.append(people, 1)\n",
    "        else:\n",
    "            people[choice-1] = people[choice-1]+1 \n",
    "        \n",
    "    \n",
    "    return people"
   ]
  },
  {
   "cell_type": "markdown",
   "metadata": {
    "#solution": false,
    "#staff": false,
    "#student": false
   },
   "source": [
    "#newpage\n",
    "\n",
    "## Part 1. The Rich Get Richer ##\n",
    "\n",
    "In our analysis of the Chinese Restaurant stochastic process, we will say that Person $n$ enters the system at time $n$. Thus time is always equal to the total number of people in the system at that time.\n",
    "\n",
    "In this Part you will follow the **number** of people at Table 1 as the process evolves.\n",
    "\n",
    "- At time 1 the number of people at Table 1 is 1 because there is only one person and that person sits at Table 1. \n",
    "- At time 2 the number is either 2 (if Person 2 chooses Table 1) or 1 (if Person 2 starts a new table). \n",
    "- And so on."
   ]
  },
  {
   "cell_type": "markdown",
   "metadata": {
    "#solution": false,
    "#staff": false,
    "#student": false
   },
   "source": [
    "### a) ###\n",
    "\n",
    "Modify the definition of `cr` to define a function `t1_counts` that takes `N` and `theta` as arguments and does the following:\n",
    "\n",
    "- Runs the Chinese Restaurant Process with parameter `theta` till time `N`.\n",
    "- Then returns an array of length `N` such that the $i$th element of the array is the number of people at Table 1 at time $i$. \n",
    "\n",
    "Thus, the first element of the returned array should always be 1. Recall that if the second person joins Table 1, then the second element should be 2. If the third person then joins Table 2, then the third element should still be 2, and so on."
   ]
  },
  {
   "cell_type": "code",
   "execution_count": null,
   "metadata": {
    "#solution": false,
    "#staff": false,
    "#student": true
   },
   "outputs": [],
   "source": [
    "def t1_counts(N, theta):\n",
    "    \n",
    "    t1 = make_array()    # array of Table 1 counts\n",
    "    \n",
    "    ...\n",
    "    ...\n",
    "    \n",
    "    return t1"
   ]
  },
  {
   "cell_type": "markdown",
   "metadata": {
    "#solution": false,
    "#staff": false,
    "#student": false
   },
   "source": [
    "Run the following cell several times and check that the output makes sense. By now you have probably discovered that this goes much quicker if you run the cell by using Control-Return instead of Shift-Return.\n",
    "\n",
    "Change the value of $\\theta$ to 0.5 and also to 2, run the cell a few times with each $\\theta$, and make sure that the output still makes sense."
   ]
  },
  {
   "cell_type": "code",
   "execution_count": null,
   "metadata": {
    "#solution": false,
    "#staff": false,
    "#student": false
   },
   "outputs": [],
   "source": [
    "t1_counts(2, 1)"
   ]
  },
  {
   "cell_type": "markdown",
   "metadata": {
    "#solution": false,
    "#staff": false,
    "#student": false
   },
   "source": [
    "Choose from the three options below to complete the sentence:\n",
    "\n",
    "For every number of people `N` and positive parameter `theta`, the sequence of entries in the array `t1_counts(N, theta)` should be\n",
    "\n",
    "(i) non-increasing.\n",
    "\n",
    "(ii) non-decreasing.\n",
    "\n",
    "(iii) not necessarily either non-increasing or non-decreasing."
   ]
  },
  {
   "cell_type": "markdown",
   "metadata": {
    "#solution": false,
    "#staff": false,
    "#student": true
   },
   "source": [
    "\n",
    "**Your answer here**"
   ]
  },
  {
   "cell_type": "markdown",
   "metadata": {
    "#solution": false,
    "#staff": false,
    "#student": false
   },
   "source": [
    "### b) ###\n",
    "\n",
    "Now define a function `plot_t1_counts` that takes `N`, `theta`, and `repetitions` as its arguments and for each repetition does the following:\n",
    "\n",
    "- Runs the Chinese Restaurant process with parameter `theta` till time `N` and keeps track of the number of people at Table 1 at each time 1 through $N$.\n",
    "- Displays a graph of the counts at Table 1 versus time.\n",
    "\n",
    "We will call each graph a *path* of the number of people at Table 1 as people enter the system.\n",
    "\n",
    "Don't forget that we start with 1 person."
   ]
  },
  {
   "cell_type": "code",
   "execution_count": null,
   "metadata": {
    "#solution": false,
    "#staff": false,
    "#student": true
   },
   "outputs": [],
   "source": [
    "def plot_t1_counts(N, theta, repetitions):\n",
    "    n = ...\n",
    "    for i in range(repetitions):\n",
    "        plt.plot(n, ..., lw=2)  "
   ]
  },
  {
   "cell_type": "markdown",
   "metadata": {
    "#solution": false,
    "#staff": false,
    "#student": false
   },
   "source": [
    "### c) ###\n",
    "\n",
    "Run the following cell several times. Then change $N$ and $\\theta$ and run the cell again. Make sure you include $\\theta = 0.5$ and $\\theta = 2$. If you change the number of paths, keep it fairly small so that you can see the individual paths clearly."
   ]
  },
  {
   "cell_type": "code",
   "execution_count": null,
   "metadata": {
    "#solution": false,
    "#staff": false,
    "#student": false
   },
   "outputs": [],
   "source": [
    "N = 100\n",
    "theta = 1\n",
    "plot_t1_counts(N, theta, 10)\n",
    "plt.xlabel('Time')\n",
    "plt.title('Number of People at Table 1');"
   ]
  },
  {
   "cell_type": "markdown",
   "metadata": {
    "#solution": false,
    "#staff": false,
    "#student": false
   },
   "source": [
    "### d) ###\n",
    "Each path is the graph of a function of time. What kind of function do you see? Briefly summarize what the paths are likely to look like, based on your observations in (c)."
   ]
  },
  {
   "cell_type": "markdown",
   "metadata": {
    "#solution": false,
    "#staff": false,
    "#student": true
   },
   "source": [
    "\n",
    "**Your answer here**"
   ]
  },
  {
   "cell_type": "markdown",
   "metadata": {
    "#solution": false,
    "#staff": false,
    "#student": false
   },
   "source": [
    "### e) ###\n",
    "Let $W_n$ be the number of people at Table 1 at time $n$, and consider the rate of change of $W_n$ as a function of $n$. Based on your observations in (c), for paths that have a high rate of change when $n$ is small, is the rate of change typically high or typically low as $n$ gets larger? Explain why it is possible to do a pretty good job of predicting $W_n$ for a large $n$, based on observing the early stages of the process."
   ]
  },
  {
   "cell_type": "markdown",
   "metadata": {
    "#solution": false,
    "#staff": false,
    "#student": true
   },
   "source": [
    "\n",
    "**Your answer here**"
   ]
  },
  {
   "cell_type": "markdown",
   "metadata": {
    "#solution": false,
    "#staff": false,
    "#student": false
   },
   "source": [
    "### f) ###\n",
    "The Chinese Restaurant process is said to have the property that \"the rich get richer.\" Briefly explain this in light of your answer to (e). \n",
    "\n",
    "Then explain how you would describe this property to a natural scientist in a context where instead of people there are animals sitting at \"tables\", where tables are species. It might help to imagine that the data consists of video recorded by a [hidden camera](https://gizmodo.com/how-dslr-camera-traps-are-capturing-stunning-wildlife-p-1730499208) in a nature reserve. "
   ]
  },
  {
   "cell_type": "markdown",
   "metadata": {
    "#solution": false,
    "#staff": false,
    "#student": true
   },
   "source": [
    "\n",
    "**Your answer here**"
   ]
  },
  {
   "cell_type": "markdown",
   "metadata": {
    "#solution": false,
    "#staff": false,
    "#student": false
   },
   "source": [
    "#newpage\n",
    "\n",
    "## Part 2. Long Run Proportion at Table 1 ##\n",
    "Now track the **proportion** of people at Table 1, instead of the number of people at the table."
   ]
  },
  {
   "cell_type": "markdown",
   "metadata": {
    "#solution": false,
    "#staff": false,
    "#student": false
   },
   "source": [
    "### a) ###\n",
    "Define a function `plot_t1_proportions` that's just like `plot_t1_counts` except that it plots the proportions of people at Table 1 instead of the counts."
   ]
  },
  {
   "cell_type": "code",
   "execution_count": null,
   "metadata": {
    "#solution": false,
    "#staff": false,
    "#student": true
   },
   "outputs": [],
   "source": [
    "def plot_t1_proportions(N, theta, repetitions):\n",
    "    ...\n",
    "    ..."
   ]
  },
  {
   "cell_type": "markdown",
   "metadata": {
    "#solution": false,
    "#staff": false,
    "#student": false
   },
   "source": [
    "### b) ###\n",
    "Run the cell below several times, then change $N$ and $\\theta$ as in Part 2(c) and run it again several times."
   ]
  },
  {
   "cell_type": "code",
   "execution_count": null,
   "metadata": {
    "#solution": false,
    "#staff": false,
    "#student": false
   },
   "outputs": [],
   "source": [
    "N = 100\n",
    "theta = 1\n",
    "plot_t1_proportions(N, theta, 10)"
   ]
  },
  {
   "cell_type": "markdown",
   "metadata": {
    "#solution": false,
    "#staff": false,
    "#student": false
   },
   "source": [
    "### c) ###\n",
    "What feature of the paths helps confirm the following result?\n",
    "\n",
    "If $W_n$ is the number of people at Table 1 at time $n$, then the proportion $\\frac{W_n}{n}$ converges with probability 1 as $n \\to \\infty$."
   ]
  },
  {
   "cell_type": "markdown",
   "metadata": {
    "#solution": false,
    "#staff": false,
    "#student": true
   },
   "source": [
    "\n",
    "**Your answer here**"
   ]
  },
  {
   "cell_type": "markdown",
   "metadata": {
    "#solution": false,
    "#staff": false,
    "#student": false
   },
   "source": [
    "#newpage\n",
    "\n",
    "## Part 3. Limit Distribution of the Proportion ##\n",
    "\n",
    "Let $W = \\lim_{n \\to \\infty} \\frac{W_n}{n}$ be the limit of the proportion of people at Table 1.\n",
    "\n",
    "Clearly the possible values of $W$ are the interval $(0, 1)$. In this part you will use simulation to identify the distribution of $W$ over the unit interval.\n",
    "\n",
    "To do this, you will simulate the distribution of $\\frac{W_N}{N}$ for a large $N$, and compare it with a known distribution."
   ]
  },
  {
   "cell_type": "markdown",
   "metadata": {
    "#solution": false,
    "#staff": false,
    "#student": false
   },
   "source": [
    "### a) ###\n",
    "Define a function `t1_prop_at_fixed_time` that takes `N`, `theta` and `repetitions` as its arguments. In each repetition, the function runs the Chinese Restaurant process with parameter `theta` till time `N`, and computes the proportion of people at Table 1 at time `N`. The function returns an array of the simulated proportions."
   ]
  },
  {
   "cell_type": "code",
   "execution_count": null,
   "metadata": {
    "#solution": false,
    "#staff": false,
    "#student": true
   },
   "outputs": [],
   "source": [
    "def t1_prop_at_fixed_time(N, theta, repetitions):\n",
    "    \n",
    "    t1_proportion = make_array()\n",
    "    for i in np.arange(repetitions):\n",
    "    ...\n",
    "    ...\n",
    "    return t1_proportion    "
   ]
  },
  {
   "cell_type": "markdown",
   "metadata": {
    "#solution": false,
    "#staff": false,
    "#student": false
   },
   "source": [
    "Run the cell below to check that the output is an array of proportions and that the array has the correct length."
   ]
  },
  {
   "cell_type": "code",
   "execution_count": null,
   "metadata": {
    "#solution": false,
    "#staff": false,
    "#student": false
   },
   "outputs": [],
   "source": [
    "t1_prop_at_fixed_time(100, 1, 5)"
   ]
  },
  {
   "cell_type": "markdown",
   "metadata": {
    "#solution": false,
    "#staff": false,
    "#student": false
   },
   "source": [
    "### b) ###\n",
    "Complete the function definition in the cell below. The function should display the empirical histogram of $\\frac{W_N}{N}$ with the beta $(1, \\theta)$ density overlaid."
   ]
  },
  {
   "cell_type": "code",
   "execution_count": null,
   "metadata": {
    "#solution": false,
    "#staff": false,
    "#student": true
   },
   "outputs": [],
   "source": [
    "\n",
    "# Empirical distribution of W_N/N\n",
    "# with beta (1, theta) density overlaid\n",
    "\n",
    "def plot_limit_t1_proportion(N, theta, repetitions):\n",
    "    t1_props = ...\n",
    "    Table().with_column('Proportion at Table 1', t1_props).hist(bins=20)\n",
    "    x = np.arange(0, 1.01, 0.01)\n",
    "    plt.plot(x, ..., color='red', lw=2)\n",
    "    plt.title('Overlaid Density: Beta'+ r'$(1, \\theta)$');"
   ]
  },
  {
   "cell_type": "markdown",
   "metadata": {
    "#solution": false,
    "#staff": false,
    "#student": false
   },
   "source": [
    "### c) ###\n",
    "Use `plot_limit_t1_proportion` to display the empirical histogram of $\\frac{W_{100}}{100}$ based on 2000 repetitions of the following:\n",
    "\n",
    "- Run the Chinese Restaurant process with $\\theta = 1$ till time 100, and compute $\\frac{W_{100}}{100}$\n",
    "\n",
    "How does the empirical distribution compare with the overlaid beta $(1, \\theta)$ density? \n",
    "\n",
    "[Note: If you want to experiment with making $N$ larger than 100, be prepared to be patient as the code chugs along.]"
   ]
  },
  {
   "cell_type": "code",
   "execution_count": null,
   "metadata": {
    "#solution": false,
    "#staff": false,
    "#student": true
   },
   "outputs": [],
   "source": []
  },
  {
   "cell_type": "markdown",
   "metadata": {
    "#solution": false,
    "#staff": false,
    "#student": false
   },
   "source": [
    "### d) ###\n",
    "Repeat Part (c) keeping everything the same but changing $\\theta$ from 1 to 0.5."
   ]
  },
  {
   "cell_type": "code",
   "execution_count": null,
   "metadata": {
    "#solution": false,
    "#staff": false,
    "#student": true
   },
   "outputs": [],
   "source": []
  },
  {
   "cell_type": "markdown",
   "metadata": {
    "#solution": false,
    "#staff": false,
    "#student": false
   },
   "source": [
    "### d) ###\n",
    "Give a brief intuitive explanation why the long run proportion of people at Table 1 is more likely to be high than low when $\\theta = 0.5$. It will help to think about what happens when the first few people enter the system, and also to keep in mind Part 1 of this lab."
   ]
  },
  {
   "cell_type": "markdown",
   "metadata": {
    "#solution": false,
    "#staff": false,
    "#student": true
   },
   "source": [
    "\n",
    "**Your answer here**"
   ]
  },
  {
   "cell_type": "markdown",
   "metadata": {
    "#solution": false,
    "#staff": false,
    "#student": false
   },
   "source": [
    "### e) ###\n",
    "Repeat Part (c) keeping everything the same but changing $\\theta$ from 1 to 2."
   ]
  },
  {
   "cell_type": "code",
   "execution_count": null,
   "metadata": {
    "#solution": false,
    "#staff": false,
    "#student": true
   },
   "outputs": [],
   "source": []
  },
  {
   "cell_type": "markdown",
   "metadata": {
    "#solution": false,
    "#staff": false,
    "#student": false
   },
   "source": [
    "What you have observed by simulation is the distribution of the long run proportion of people at Table 1. \n",
    "\n",
    "Why is it beta $(1, \\theta)$? Do this week's homework and you'll find out. The Chinese Restaurant process is closely related to the beta-binomial process that you hav studied in class."
   ]
  },
  {
   "cell_type": "markdown",
   "metadata": {
    "#solution": false,
    "#staff": false,
    "#student": false,
    "collapsed": true
   },
   "source": [
    "## Conclusion ##\n",
    "What you have learned:\n",
    "\n",
    "- The number of people at Table 1 grows in a predictable way after some randomness in the early stages.\n",
    "- If Table 1 gets rich, then it gets richer.\n",
    "- The proportion of people at Table 1 has a limit, and the distribution of the limit is a member of the beta family.\n",
    "- There's got to be a reason why the beta density appears; the cliff-hanger is resolved in this week's homework, via the beta-binomial process.\n",
    "\n",
    "More advanced analyses of the Chinese Restaurant process include descriptions the joint distribution of the proportions at all the tables. These are related to the *Dirichlet-multinomial* process, which is the multivariate version of the beta-binomial process. \n",
    "\n",
    "It's late in the semester and we don't have time to go into all that. But you can skim [a description](https://en.wikipedia.org/wiki/Chinese_restaurant_process) of the Chinese Restaurant process, in which you will spot a lot that is familiar and a lot that isn't. For an illuminating exposition, read the first few pages of [a much-cited paper](https://cocosci.berkeley.edu/tom/papers/ncrp.pdf) by Blei, Griffiths, and Jordan. "
   ]
  },
  {
   "cell_type": "code",
   "execution_count": null,
   "metadata": {
    "#solution": false,
    "#staff": false,
    "#student": false
   },
   "outputs": [],
   "source": [
    "import gsExport\n",
    "gsExport.generateSubmission(\"Lab11.ipynb\")"
   ]
  }
 ],
 "metadata": {
  "anaconda-cloud": {},
  "checksums": [
   "41e5cd3e7433650be1eb792ff2fd6228",
   "cdf8232fe2043de806bc295a78cf4943",
   "dd3b27e0187b6198fd7f5f27bf916063",
   "a6e6d392429f53bd46e142e900dfa8ba",
   "95595fc7490349ba4a03439db738466e",
   "1c78760a86bd8e9dbd04bb2476516f70",
   "09285854f1b45cc4ba77e7c1362caee5",
   "9368d774759f1194ce0f1ffb2e96c5aa",
   "650f91734dbadac73821083c8f373225",
   "e17306fe9893101816c6a388ba7019a6",
   "5418e3fa3184a8157495e1a534be6b67",
   "9936cdd41f716020c8493f7962e91870",
   "0de20b93bb878d597e59213991465648",
   "8b8a2c2e73bab1b8b08d4fd467a9fc82",
   "c433b557c2e157d7d5dbd5fe74035001",
   "54cf0fee166955e36b1534d9b45fe925",
   "be10b0471f6d15e72876994c01c0bc57",
   "ef1269ec92cd5135e116fee5d24d5b91",
   "0de20b93bb878d597e59213991465648",
   "f8171c7cf6e18368976dbc42e76f01d3",
   "0de20b93bb878d597e59213991465648",
   "dab50e691a2e55ec082fe1c22d3af676",
   "0de20b93bb878d597e59213991465648",
   "8a713d1749fcf28cc5c1c2e4858a1187",
   "f33132670d8a9f6440839fa8ca7f0f15",
   "d1f59b4d67d1fd5db829f6baca9360a7",
   "bd0fd0694279b12fce687fddd12fa7e9",
   "a3bb185e4bed50b35372fc023e5e3872",
   "2309460c06137bfe4b209f2bc4e30d49",
   "0de20b93bb878d597e59213991465648",
   "857b44d5a1e9631d808331c746fe54c9",
   "8a70cc1d9fa9c993946bf97e09c2e7ce",
   "48ddc1736180e389a66e3da3d57a8970",
   "5ce82490280f73dbed939b21d8816f1a",
   "3707b1b3c287d95b35efe007853fedc6",
   "2b3951e521d9d5763bc89c8463a4b2dd",
   "f850b80a9b485594a1c4606c60ef0cd5",
   "5971b0ac41863a328dc3bc0ded274446",
   "d41d8cd98f00b204e9800998ecf8427e",
   "7715ba0a3be5c3c1dbbaab72b5445c1e",
   "d41d8cd98f00b204e9800998ecf8427e",
   "acc81bc3fadb5bd28da86dcf01bc1598",
   "0de20b93bb878d597e59213991465648",
   "08f7835facbf207cd4cf2532210a1a05",
   "d41d8cd98f00b204e9800998ecf8427e",
   "9d757016389bc68e5fc53035d2edbd07",
   "8beeedd5cc6d6ac90627e1d113e71ebb",
   "f50cc000d6c36282bee460fce6d63790"
  ],
  "kernelspec": {
   "display_name": "Python [default]",
   "language": "python",
   "name": "python3"
  },
  "language_info": {
   "codemirror_mode": {
    "name": "ipython",
    "version": 3
   },
   "file_extension": ".py",
   "mimetype": "text/x-python",
   "name": "python",
   "nbconvert_exporter": "python",
   "pygments_lexer": "ipython3",
   "version": "3.5.4"
  },
  "number_of_pagebreaks": 3
 },
 "nbformat": 4,
 "nbformat_minor": 1
}
